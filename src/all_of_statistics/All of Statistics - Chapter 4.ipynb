{
 "cells": [
  {
   "cell_type": "markdown",
   "id": "1ea1e8a7",
   "metadata": {},
   "source": [
    "### Excercise 1"
   ]
  },
  {
   "cell_type": "markdown",
   "id": "da201755",
   "metadata": {},
   "source": [
    "\n",
    "$$ Y = \\sum_{i=1}^{i=n} X_i \\ , \\;\\; X_i \\sim Bernoulli(1/2) $$\n",
    "$$ E(Y) = \\sum_{i=1}^{i=n} E(X_i) = n/2 $$\n",
    "\n",
    "$$ Z = c (Y - (n - Y)) = c(2Y -n) $$\n",
    "\n",
    "$$ E(Z) = c (2E(Y) -n) = 2cE(Y) - cn = cn - cn = 0$$\n",
    "\n"
   ]
  },
  {
   "cell_type": "code",
   "execution_count": 3,
   "id": "3cd8bd48",
   "metadata": {},
   "outputs": [
    {
     "name": "stdout",
     "output_type": "stream",
     "text": [
      "0.03125\n"
     ]
    }
   ],
   "source": [
    "import numpy as np\n",
    "from functools import reduce\n",
    "\n",
    "np.random.seed(42)\n",
    "# Valor inicial de de c\n",
    "c=2\n",
    "\n",
    "# Genero una muestra de tamaño n de variables de Bernoulli(0.5)\n",
    "muestra = np.random.binomial(1,0.5,1000)\n",
    "\n",
    "\n",
    "# dup_or_halve\n",
    "def dup_or_halve(c,x):\n",
    "    if (x==1):\n",
    "        return 2*c\n",
    "    else:\n",
    "        return c/2\n",
    "    \n",
    "res=reduce(dup_or_halve,muestra,c)\n",
    "print (res)"
   ]
  },
  {
   "cell_type": "markdown",
   "id": "a8021268-dfa6-4ab4-bde1-d97f97b9f3db",
   "metadata": {},
   "source": [
    "### Excercise 2"
   ]
  },
  {
   "cell_type": "markdown",
   "id": "d3779624-9ee0-4135-943b-b3f664b6fcfd",
   "metadata": {},
   "source": [
    "$(\\Rightarrow)$\n",
    "\n",
    "\n",
    "If $Var(X)=0$ then\n",
    "\n",
    "$$ E[(X - \\mu)^2] = \\int (x - \\mu)^2 dF_X(x) = 0 $$\n",
    "\n",
    "If $X$ is discrete, then \n",
    "\n",
    "$$ \\sum_x (X  - \\mu)^2 P(X=x) = 0 $$\n",
    "\n",
    "If $P(X=x) \\neq 0$ then $X=\\mu$\n",
    "\n",
    "If $X$ is continuos, then\n",
    "\n",
    "$$ \\int (x-\\mu)^2 f(x)d(x) = 0$$\n",
    "\n",
    "If $f(x)\\neq 0$ then  $(x - \\mu)^2 = 0$, so $X=\\mu$\n",
    "\n",
    "$(\\Leftarrow)$\n",
    "\n",
    "There is a constant such that $P(X=c) = 1$. \n",
    "\n",
    "$$Var(X) = E(X^2) - \\mu^2 = c^2 - c^2 = 0 $$ \n"
   ]
  },
  {
   "cell_type": "markdown",
   "id": "f8001263",
   "metadata": {},
   "source": [
    "### Excercise 3 (Media y varianza de máximo de n uniformes)\n",
    "\n",
    "Dado que cada $X_i \\sim \\text{Uniform}(0,1)$\n",
    "\n",
    "$$ F_{Y_n}(x) = P(Y_n \\leq x ) = P(X_1 \\leq x)P(X_2 \\leq x)\\ldots P(X_n \\leq x)  = x^n$$\n",
    "\n",
    "\n",
    "$$ E(Y_n) = \\int_0^1 x dF_X(x) = n \\int_0^1  xx^{n-1}dx = n \\int_0^1 x^n = \\frac{n}{n+1} $$\n",
    " "
   ]
  },
  {
   "cell_type": "code",
   "execution_count": 4,
   "id": "fac34f1c",
   "metadata": {},
   "outputs": [
    {
     "data": {
      "text/plain": [
       "0.9901329898955256"
      ]
     },
     "execution_count": 4,
     "metadata": {},
     "output_type": "execute_result"
    }
   ],
   "source": [
    "# Genero una muestra de tamaño n de variables de Uniform(0,1)\n",
    "\n",
    "s=0\n",
    "pruebas=100000\n",
    "\n",
    "for i in range(pruebas):\n",
    "    muestra = np.random.uniform(0,1,100)\n",
    "    s +=np.amax(muestra)\n",
    "\n",
    "s/pruebas\n",
    "\n"
   ]
  },
  {
   "cell_type": "markdown",
   "id": "0fe82d3d-145a-4907-b01d-896d6ca79fe2",
   "metadata": {},
   "source": [
    "### Excercise 4 (Media y varianza de un random walk)\n",
    "\n",
    "$$ E(Y_n) = E(\\sum_{i=1}^{n} X_i )= \\sum E(X_i)$$\n",
    "\n",
    "$$ E(X_i) = (1 - p) - p = 1 -2p $$\n",
    "\n",
    "$$ E(Y_n) = n(1-2p) $$\n",
    "\n",
    "$$ Var(X_i) = E(X_i^2) - \\mu^2 = 1 - \\mu^2 =  1 - (1- 2p)^2 = 4p(1 - p) $$\n",
    "\n",
    "$$ Var(Y_n) = 4np(1-p) $$\n"
   ]
  },
  {
   "cell_type": "code",
   "execution_count": 16,
   "id": "3de44be1-3d37-43c0-b82f-620bced5955a",
   "metadata": {},
   "outputs": [
    {
     "name": "stdout",
     "output_type": "stream",
     "text": [
      "La media calculada es: 4000.0\n",
      "La varianza calculada es: 8400.0\n",
      "4001.1782\n",
      "8256.18904476\n"
     ]
    }
   ],
   "source": [
    "# Muestra de n bernoulli\n",
    "\n",
    "n=10000\n",
    "p=0.3\n",
    "\n",
    "print(\"La media calculada es:\", n*(1-2*p))\n",
    "print(\"La varianza calculada es:\", 4*n*p*(1-p))\n",
    "\n",
    "# left_or_right\n",
    "def left_or_right(c,x):\n",
    "    if (x==1):\n",
    "        return c-1\n",
    "    else:\n",
    "        return c+1\n",
    "    \n",
    "\n",
    "def experimento(veces):\n",
    "    resultados = np.zeros(veces)\n",
    "    for i in range(veces): \n",
    "        muestra = np.random.binomial(1,p,10000)\n",
    "        res=reduce(left_or_right,muestra,0)\n",
    "        resultados[i]=res\n",
    "        \n",
    "    print(np.mean(resultados))\n",
    "    print(np.var(resultados))\n",
    "experimento(10000)\n",
    "        \n",
    "    "
   ]
  }
 ],
 "metadata": {
  "kernelspec": {
   "display_name": "Python 3",
   "language": "python",
   "name": "python3"
  },
  "language_info": {
   "codemirror_mode": {
    "name": "ipython",
    "version": 3
   },
   "file_extension": ".py",
   "mimetype": "text/x-python",
   "name": "python",
   "nbconvert_exporter": "python",
   "pygments_lexer": "ipython3",
   "version": "3.7.4"
  }
 },
 "nbformat": 4,
 "nbformat_minor": 5
}
