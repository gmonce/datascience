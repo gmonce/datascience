{
 "cells": [
  {
   "cell_type": "markdown",
   "metadata": {},
   "source": [
    "## Figuritas"
   ]
  },
  {
   "cell_type": "markdown",
   "metadata": {},
   "source": [
    "### Guillermo Moncecchi (@gmonce)"
   ]
  },
  {
   "cell_type": "markdown",
   "metadata": {},
   "source": [
    "Estamos muy entusiasmados en mi familia juntando el álbum del Mundial 2014, que Uruguay seguramente ganará. Hace días que me venía preguntando cómo cambiaba la probabilidad de sacar una repetida del sobre, a medida que iba llenando el álbum. No es demasiado complicado, aquí va mi razonamiento, así jugamos un poco con probabilidades y con los ipython notebooks. Empecemos por importar el ambiente:"
   ]
  },
  {
   "cell_type": "code",
   "execution_count": 112,
   "metadata": {},
   "outputs": [
    {
     "name": "stdout",
     "output_type": "stream",
     "text": [
      "Populating the interactive namespace from numpy and matplotlib\n"
     ]
    }
   ],
   "source": [
    "%pylab inline"
   ]
  },
  {
   "cell_type": "markdown",
   "metadata": {},
   "source": [
    "El álbum tiene 640 figuritas, y el sobre siempre trae 5:"
   ]
  },
  {
   "cell_type": "code",
   "execution_count": 113,
   "metadata": {},
   "outputs": [],
   "source": [
    "# Número de figuritas total en el álbum\n",
    "n_total=640.0\n",
    "\n",
    "# Figuritas en un sobre\n",
    "n_total_sobre=5"
   ]
  },
  {
   "cell_type": "markdown",
   "metadata": {},
   "source": [
    "Lo que tengo que hacer es calcular la probabilidad de que salga una repetida de un sobre. Eso, primero que nada, depende de 3 parámetros: el número total de figuritas, la cantidad que tengo, el número de figuritas que vienen en el sobre. Para sacar $k$ repetidas, necesito que haya k que ya tengo (lo cual ocurre en forma proporcional a la cantidad que ya tengo, cuantas más tenga, más posible es que salga una repetida), y 5-k que _no_ tengo. Eso puede ocurrir de varias formas, así que tengo que considerar las combinaciones de 5 figuritas, tomadas de a k. Aquí la función \"intuitiva\""
   ]
  },
  {
   "cell_type": "code",
   "execution_count": 114,
   "metadata": {},
   "outputs": [],
   "source": [
    "\n",
    "from scipy.misc import comb\n",
    "\n",
    "# Probabilidad de que en un sobre aparezcan i figuritas repetidas\n",
    "def prob_repetidas(n_total,n_tengo,n_total_sobre,i):\n",
    "        prob_i_repetidas=comb(n_total_sobre,i)*(n_tengo/n_total)**i*((n_total-n_tengo)/n_total)**(n_total_sobre-i)\n",
    "\n",
    "        return prob_i_repetidas"
   ]
  },
  {
   "cell_type": "markdown",
   "metadata": {},
   "source": [
    "Supongamos que tengo 150 figuritas, veamos la probabilidad de sacar exactamente una repetida:"
   ]
  },
  {
   "cell_type": "code",
   "execution_count": 115,
   "metadata": {},
   "outputs": [
    {
     "name": "stdout",
     "output_type": "stream",
     "text": [
      "Probablidad de una repetida: 0.40266669821\n"
     ]
    }
   ],
   "source": [
    "print \"Probablidad de una repetida:\",prob_repetidas(n_total,150,n_total_sobre,1)"
   ]
  },
  {
   "cell_type": "markdown",
   "metadata": {},
   "source": [
    "Pero a mí me interesa saber la probabilidad de que haya _alguna_ repetida, así que tengo que sumar las probabilidades de que haya entre 1 y 5 repetidas"
   ]
  },
  {
   "cell_type": "code",
   "execution_count": 116,
   "metadata": {},
   "outputs": [
    {
     "name": "stdout",
     "output_type": "stream",
     "text": [
      "Probabilidad de alguna repetida: 0.736924423836\n"
     ]
    }
   ],
   "source": [
    "# Probabilidad de que en un sobre haya por lo menos una repetida\n",
    "def prob_alguna_repetida(n_total,n_tengo,n_total_sobre):\n",
    "        a=np.array([prob_repetidas(n_total,n_tengo,n_total_sobre,x) for x in range(n_total_sobre+1)])\n",
    "        return sum(a[1:])\n",
    "    \n",
    "print \"Probabilidad de alguna repetida:\",prob_alguna_repetida(n_total,150,n_total_sobre)"
   ]
  },
  {
   "cell_type": "markdown",
   "metadata": {},
   "source": [
    "O sea que si tengo 150 figuritas, la probabilidad de sacar alguna repetida es del 73% (y eso que tengo menos de la cuarta parte de las figuritas). *Nota: tal vez el lector avispado haya notado que esto no está completamente bien, ya que la cantidad de figuritas que tengo cambia luego de sacada una nueva en caso de no ser repetida. Pero como $5<<640$ y les aseguro que incorporar esto complica mucho las cuentas, hagámonos los distraídos que no parece afectar mucho.* \n",
    "\n",
    "Ahora, grafiquemos cómo se complica nuestra vida a medida que vamos llenando el álbum:"
   ]
  },
  {
   "cell_type": "code",
   "execution_count": 117,
   "metadata": {},
   "outputs": [
    {
     "data": {
      "image/png": "[encoded data removed]",
      "text/plain": [
       "<matplotlib.figure.Figure at 0x10abfce90>"
      ]
     },
     "metadata": {},
     "output_type": "display_data"
    }
   ],
   "source": [
    "# Grafico cantidad que tengo versus la probabilidad de sacar alguna repetida\n",
    "p_repetidas=[prob_alguna_repetida(n_total,i,n_total_sobre) for i in np.arange(n_total+1)]\n",
    "\n",
    "plt.title('Probabilidad de sacar alguna repetida')\n",
    "plt.xlabel('Cantidad de figuritas que tengo')\n",
    "plt.ylabel('Probabilidad')\n",
    "pl=plt.plot(np.arange(n_total+1),p_repetidas)\n"
   ]
  },
  {
   "cell_type": "markdown",
   "metadata": {},
   "source": [
    "Siempre me pregunté por qué la insistencia en los libros o cursos de probabilidad y estadística por listar distribuciones típicas y sacar un montón de medidas. La respuesta: para no reinventar la rueda. Si pensamos un poco, sacar una figurita es como tirar una moneda: en este caso sacar cara es sacar una repetida, y número sacar una que no tengo. Y la probabilidad de la ocurrencia de uno u otro depende de la cantidad de figuritas, dividido el total de figuritas del álbum (llamemos $p$ a este número). El número de figuritas repetidas es una [distribución binominal](http://es.wikipedia.org/wiki/Distribuci%C3%B3n_binomial) $B(n,p)$, con parámetros n=5 (número de ensayos, es decir de figuritas en el sobre). Vamos a verificarlo, recalculando la probabilidad de sacar una repetida, esta vez usando la distribución:"
   ]
  },
  {
   "cell_type": "code",
   "execution_count": 118,
   "metadata": {},
   "outputs": [
    {
     "name": "stdout",
     "output_type": "stream",
     "text": [
      "Probabilidad de alguna repetida, versión distribución binomial: 0.40266669821\n"
     ]
    }
   ],
   "source": [
    "from scipy.stats import binom\n",
    "n=n_total_sobre\n",
    "p=150/n_total\n",
    "rv = binom(n, p)\n",
    "print \"Probabilidad de alguna repetida, versión distribución binomial:\",rv.pmf(1)"
   ]
  },
  {
   "cell_type": "markdown",
   "metadata": {},
   "source": [
    "Mucho más fácil (y seguro...). Y gracias a que en los libros (y en las bibliotecas...) ya tenemos calculadas ciertas estadísticas sobre ciertas distribuciones, utilizando la esperanza podemos ver la cantidad de figuritas repetidas que espero sacar cada vez que compro un sobre:"
   ]
  },
  {
   "cell_type": "code",
   "execution_count": 119,
   "metadata": {},
   "outputs": [
    {
     "name": "stdout",
     "output_type": "stream",
     "text": [
      "Esperanza del número de repetidas: 1.171875\n"
     ]
    }
   ],
   "source": [
    "print \"Esperanza del número de repetidas:\",rv.mean()"
   ]
  },
  {
   "cell_type": "markdown",
   "metadata": {},
   "source": [
    "Veamos cómo varía la esperanza dependiendo de la cantidad de figuritas que tengo en el álbum"
   ]
  },
  {
   "cell_type": "code",
   "execution_count": 120,
   "metadata": {},
   "outputs": [
    {
     "data": {
      "image/png": "[encoded data removed]",
      "text/plain": [
       "<matplotlib.figure.Figure at 0x10ae23550>"
      ]
     },
     "metadata": {},
     "output_type": "display_data"
    }
   ],
   "source": [
    "\n",
    "def esperanza_repetidas(n_total_sobre,n_tengo,n_total):\n",
    "    p=n_tengo/n_total\n",
    "    rv=binom(n_total_sobre,p)\n",
    "    return rv.mean()\n",
    "#print esperanza_repetidas(640.0,0\n",
    "p_esperanzas_repetidas=[esperanza_repetidas(n_total_sobre,i,n_total) for i in np.arange(n_total+1)]\n",
    "\n",
    "\n",
    "plt.xlabel('Cantidad de figuritas que tengo')\n",
    "plt.ylabel('Esperanza')\n",
    "pl=plt.plot(np.arange(n_total+1),p_esperanzas_repetidas)\n",
    "#plt.title('Esperanza de repetidas según las figuritas que tengo')\n"
   ]
  },
  {
   "cell_type": "markdown",
   "metadata": {},
   "source": [
    "Mirá vos. Es lineal. Y tiene sentido, porque la esperanza de una binomial es $np$, o sea que para este caso sería $5*p$."
   ]
  },
  {
   "cell_type": "markdown",
   "metadata": {},
   "source": [
    "Ahora, ¿cuál sería la distribución de probabilidad que dibujamos, equivalente a la probabilidad de tener _alguna_ repetida?. Fácil: es 1 - la probabilidad de no tener ninguna. ¿Y cuál es la probabilidad de no tener ninguna? Simplemente $p^5$. Ya me parecía que esa función tenía todo el aspecto de una exponencial."
   ]
  },
  {
   "cell_type": "markdown",
   "metadata": {},
   "source": [
    "Podemos saber a partir de qué momento ``lo más probable'' es que salga una repetida al menos: simplemente, veamos cuándo la función de esperanza es mayor a uno. Y ya que estamos, calculemos el intervalo que se lleva el 95% de la probabilidad "
   ]
  },
  {
   "cell_type": "code",
   "execution_count": 121,
   "metadata": {},
   "outputs": [
    {
     "name": "stdout",
     "output_type": "stream",
     "text": [
      "Número en el que la esperanza es 1: 128\n"
     ]
    }
   ],
   "source": [
    "print \"Número en el que la esperanza es 1:\",p_esperanzas_repetidas.index(1)"
   ]
  },
  {
   "cell_type": "code",
   "execution_count": 122,
   "metadata": {},
   "outputs": [
    {
     "name": "stdout",
     "output_type": "stream",
     "text": [
      "Intervalo que concentra el 95% de la probabilidad para ese caso: (0.0, 3.0)\n"
     ]
    }
   ],
   "source": [
    "p=p_esperanzas_repetidas.index(1)/n_total\n",
    "rv=binom(n_total_sobre,p)\n",
    "print \"Intervalo que concentra el 95% de la probabilidad para ese caso:\",rv.interval(0.95)"
   ]
  },
  {
   "cell_type": "markdown",
   "metadata": {},
   "source": [
    "Es decir que si tenemos 128 figuritas, la esperanza de sacar una repetida es mayor a uno, pero en el 95% de los casos vamos a sacar máximo tres repetidas. \n"
   ]
  }
 ],
 "metadata": {
  "kernelspec": {
   "display_name": "Python 3",
   "language": "python",
   "name": "python3"
  },
  "language_info": {
   "codemirror_mode": {
    "name": "ipython",
    "version": 3
   },
   "file_extension": ".py",
   "mimetype": "text/x-python",
   "name": "python",
   "nbconvert_exporter": "python",
   "pygments_lexer": "ipython3",
   "version": "3.6.8"
  }
 },
 "nbformat": 4,
 "nbformat_minor": 1
}
