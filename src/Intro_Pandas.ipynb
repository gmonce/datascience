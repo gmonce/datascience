{
 "cells": [
  {
   "cell_type": "markdown",
   "metadata": {},
   "source": [
    "## Módulo 2: Pandas, análisis de datos con Python"
   ]
  },
  {
   "cell_type": "markdown",
   "metadata": {},
   "source": [
    "[![Open In Colab](https://colab.research.google.com/assets/colab-badge.svg)](https://colab.research.google.com/github/gmonce/datascience/blob/master/src/Intro_Pandas.ipynb)\n",
    "\n",
    "\n",
    "En este notebook describiremos las características principales, y formas de trabajo con Pandas, la principal biblioteca de análisis de datos del ecosistema Python. Pandas está apoyado en NumPy, la biblioteca de análisis numérico básica de Python (este módulo asume que el lector conoce NumPy).\n",
    "\n",
    "Referencias:\n",
    "\n",
    "- El notebook está basado principalmente en los tutoriales disponibles en la [documentación](https://pandas.pydata.org/pandas-docs/stable/) de Pandas.\n",
    "- Para la comparación con SQL, es muy útil [esta](https://pandas.pydata.org/pandas-docs/stable/getting_started/comparison/comparison_with_sql.html) sección en particular de la documentación\n",
    "- Muy buenos [ejercicios](https://github.com/guipsamora/pandas_exercises) que cubren aspectos aquí presentados (y algunos más). \n",
    "\n"
   ]
  },
  {
   "cell_type": "code",
   "execution_count": 2,
   "metadata": {},
   "outputs": [
    {
     "data": {
      "text/plain": [
       "'0.25.1'"
      ]
     },
     "execution_count": 2,
     "metadata": {},
     "output_type": "execute_result"
    }
   ],
   "source": [
    "import numpy as np\n",
    "import pandas as pd\n",
    "\n",
    "# Este notebook fue elaborado con la versión 0.23.4 de Pandas\n",
    "pd.__version__"
   ]
  },
  {
   "cell_type": "markdown",
   "metadata": {},
   "source": [
    "## 1. Series\n",
    "\n",
    "Una de las estructuras básicas de Pandas es la serie: un array unidimensional _etiquetado_ que puede contener cualquier tipo de datos de Python. Atención: en Pandas los datos y sus etiquetas van siempre juntos, a menos que esa relación se quiebre a propósito. Las etiquetas son llamadas en general _index_. Las Series pueden crearse a partir de ndarrays, diccionarios de Python o valores escalares.\n",
    "\n",
    "Las series se comportan de forma muy similar a un ndarray, y son argumentos válidos de la mayoría de las funciones de NumPy. \n",
    "\n",
    "Creemos una serie de 5 números aleatorios, cada uno con su etiqueta asociada (el largo del índice debe ser el mismo que el del array). Si no se le indica índice, le va a poner [0, ..., len(data)-1]"
   ]
  },
  {
   "cell_type": "code",
   "execution_count": 3,
   "metadata": {},
   "outputs": [
    {
     "data": {
      "text/plain": [
       "a    0.564114\n",
       "b   -0.260814\n",
       "c   -0.442010\n",
       "d   -0.370949\n",
       "e   -1.167571\n",
       "dtype: float64"
      ]
     },
     "execution_count": 3,
     "metadata": {},
     "output_type": "execute_result"
    }
   ],
   "source": [
    "s= pd.Series(np.random.randn(5), index=['a','b','c','d','e'])\n",
    "s\n"
   ]
  },
  {
   "cell_type": "markdown",
   "metadata": {},
   "source": [
    "También podemos crear una Series a partir de un diccionario de Python. Como no le especificamos índices, se genera a partir de las primeras componentes, ordenadas en el mismo orden de inserción en el diccionario:"
   ]
  },
  {
   "cell_type": "code",
   "execution_count": 4,
   "metadata": {},
   "outputs": [
    {
     "data": {
      "text/plain": [
       "b    1\n",
       "a    0\n",
       "c    2\n",
       "dtype: int64"
      ]
     },
     "execution_count": 4,
     "metadata": {},
     "output_type": "execute_result"
    }
   ],
   "source": [
    "d = pd.Series({'b': 1, 'a': 0, 'c': 2})\n",
    "d"
   ]
  },
  {
   "cell_type": "markdown",
   "metadata": {},
   "source": [
    "Podemos especificar un índice para indicar el orden (y para meter elementos inexistentes). La forma estándar en Pandas de especificar la ausencia de datos es vía NaN.\n"
   ]
  },
  {
   "cell_type": "markdown",
   "metadata": {},
   "source": [
    "Las series se comportan de forma muy similar a un array y, de hecho, la mayoría de las operaciones con ndarrays admiten series como argumentos (y manejan apropiadamente las etiquetas, para que sigan asociadas luego de realizada la operación):"
   ]
  },
  {
   "cell_type": "code",
   "execution_count": 5,
   "metadata": {},
   "outputs": [
    {
     "data": {
      "text/plain": [
       "a    0.564114\n",
       "b   -0.260814\n",
       "dtype: float64"
      ]
     },
     "execution_count": 5,
     "metadata": {},
     "output_type": "execute_result"
    }
   ],
   "source": [
    "s[s > s.median()] # Seleccionamos los valores mayores a la mediana del array. "
   ]
  },
  {
   "cell_type": "markdown",
   "metadata": {},
   "source": [
    "Alternativamente, podemos ver a las series como un diccionario (de largo fijo) que puede accederse y cambiar valores a través de su índice:"
   ]
  },
  {
   "cell_type": "code",
   "execution_count": 6,
   "metadata": {},
   "outputs": [
    {
     "data": {
      "text/plain": [
       "0.5641144269574814"
      ]
     },
     "execution_count": 6,
     "metadata": {},
     "output_type": "execute_result"
    }
   ],
   "source": [
    "s['a']"
   ]
  },
  {
   "cell_type": "code",
   "execution_count": 7,
   "metadata": {},
   "outputs": [
    {
     "data": {
      "text/plain": [
       "a     0.564114\n",
       "b    -0.260814\n",
       "c    -0.442010\n",
       "d    -0.370949\n",
       "e    12.000000\n",
       "dtype: float64"
      ]
     },
     "execution_count": 7,
     "metadata": {},
     "output_type": "execute_result"
    }
   ],
   "source": [
    "s['e']=12\n",
    "\n",
    "s"
   ]
  },
  {
   "cell_type": "code",
   "execution_count": 8,
   "metadata": {},
   "outputs": [
    {
     "data": {
      "text/plain": [
       "True"
      ]
     },
     "execution_count": 8,
     "metadata": {},
     "output_type": "execute_result"
    }
   ],
   "source": [
    "'e' in s"
   ]
  },
  {
   "cell_type": "code",
   "execution_count": 9,
   "metadata": {},
   "outputs": [
    {
     "data": {
      "text/plain": [
       "nan"
      ]
     },
     "execution_count": 9,
     "metadata": {},
     "output_type": "execute_result"
    }
   ],
   "source": [
    "s.get(['f'],np.nan) # Si no ponemos el get, devuelve error"
   ]
  },
  {
   "cell_type": "markdown",
   "metadata": {},
   "source": [
    "Al igual que en NumPy, las series admite operaciones vectorizadas. También es interesante ver que las operaciones sobre Series alinean en base a las etiquetas automáticamente (utilizando la unión de las etiquetas de las series involucradas). Cuando una etiqueta está en una serie pero no en la otra, el resultado se marca como NaN."
   ]
  },
  {
   "cell_type": "code",
   "execution_count": 10,
   "metadata": {},
   "outputs": [
    {
     "data": {
      "text/plain": [
       "b    -0.260814\n",
       "c    -0.442010\n",
       "d    -0.370949\n",
       "e    12.000000\n",
       "dtype: float64"
      ]
     },
     "execution_count": 10,
     "metadata": {},
     "output_type": "execute_result"
    }
   ],
   "source": [
    "s[1:] # sin el primer elemento"
   ]
  },
  {
   "cell_type": "code",
   "execution_count": 11,
   "metadata": {},
   "outputs": [
    {
     "data": {
      "text/plain": [
       "a    0.564114\n",
       "b   -0.260814\n",
       "c   -0.442010\n",
       "d   -0.370949\n",
       "dtype: float64"
      ]
     },
     "execution_count": 11,
     "metadata": {},
     "output_type": "execute_result"
    }
   ],
   "source": [
    "s[:-1] # sin el último elemento"
   ]
  },
  {
   "cell_type": "code",
   "execution_count": 12,
   "metadata": {},
   "outputs": [
    {
     "data": {
      "text/plain": [
       "a         NaN\n",
       "b   -0.521627\n",
       "c   -0.884020\n",
       "d   -0.741897\n",
       "e         NaN\n",
       "dtype: float64"
      ]
     },
     "execution_count": 12,
     "metadata": {},
     "output_type": "execute_result"
    }
   ],
   "source": [
    "s[1:]+s[:-1]"
   ]
  },
  {
   "cell_type": "markdown",
   "metadata": {},
   "source": [
    "Las Series tienen un nombre, que está en el atributo name, y que puede especificarse al crearlo, o cambiarse con rename()"
   ]
  },
  {
   "cell_type": "code",
   "execution_count": 13,
   "metadata": {},
   "outputs": [
    {
     "data": {
      "text/plain": [
       "a     0.564114\n",
       "b    -0.260814\n",
       "c    -0.442010\n",
       "d    -0.370949\n",
       "e    12.000000\n",
       "Name: My_index, dtype: float64"
      ]
     },
     "execution_count": 13,
     "metadata": {},
     "output_type": "execute_result"
    }
   ],
   "source": [
    "s2=s.rename('My_index')\n",
    "s2"
   ]
  },
  {
   "cell_type": "markdown",
   "metadata": {},
   "source": [
    "La función `value_counts` es muy interesante, porque, dada una `Series`,  nos devuelve una `Series` con la cantidad de valores diferentes (en nuestro ejemplo es trivial, porque todos los valores son diferentes). "
   ]
  },
  {
   "cell_type": "code",
   "execution_count": 14,
   "metadata": {},
   "outputs": [
    {
     "data": {
      "text/plain": [
       "-0.260814     1\n",
       "-0.442010     1\n",
       "-0.370949     1\n",
       " 12.000000    1\n",
       " 0.564114     1\n",
       "dtype: int64"
      ]
     },
     "execution_count": 14,
     "metadata": {},
     "output_type": "execute_result"
    }
   ],
   "source": [
    "s.value_counts()"
   ]
  },
  {
   "cell_type": "markdown",
   "metadata": {},
   "source": [
    "## 2. DataFrames"
   ]
  },
  {
   "cell_type": "markdown",
   "metadata": {},
   "source": [
    "Los DataFrames son la estructura más comúnmente utilizada en pandas. Pueden verse como un conjunto de columnas de diferentes tipos (como una planilla Excel), o como una matriz 2D con etiquetas asociadas. Al crearlas, se pueden especificar los \"index\" (etiquetas de las filas), y/o los \"columns\" (las etiquetas de las columnas).\n",
    "\n",
    "Existen muchas formas de crear DataFrames: como un diccionario de Series o ndarrays, ndarrays de 2 dimensiones, una Serie o incluso otro DataFrame. \n",
    "\n",
    "Creemos un DataFrame a partir de un 2D-ndarray: \n"
   ]
  },
  {
   "cell_type": "code",
   "execution_count": 15,
   "metadata": {},
   "outputs": [
    {
     "data": {
      "text/html": [
       "<div>\n",
       "<style scoped>\n",
       "    .dataframe tbody tr th:only-of-type {\n",
       "        vertical-align: middle;\n",
       "    }\n",
       "\n",
       "    .dataframe tbody tr th {\n",
       "        vertical-align: top;\n",
       "    }\n",
       "\n",
       "    .dataframe thead th {\n",
       "        text-align: right;\n",
       "    }\n",
       "</style>\n",
       "<table border=\"1\" class=\"dataframe\">\n",
       "  <thead>\n",
       "    <tr style=\"text-align: right;\">\n",
       "      <th></th>\n",
       "      <th>0</th>\n",
       "      <th>1</th>\n",
       "      <th>2</th>\n",
       "      <th>3</th>\n",
       "      <th>4</th>\n",
       "    </tr>\n",
       "  </thead>\n",
       "  <tbody>\n",
       "    <tr>\n",
       "      <td>0</td>\n",
       "      <td>65</td>\n",
       "      <td>60</td>\n",
       "      <td>60</td>\n",
       "      <td>45</td>\n",
       "      <td>60</td>\n",
       "    </tr>\n",
       "    <tr>\n",
       "      <td>1</td>\n",
       "      <td>75</td>\n",
       "      <td>35</td>\n",
       "      <td>50</td>\n",
       "      <td>75</td>\n",
       "      <td>40</td>\n",
       "    </tr>\n",
       "    <tr>\n",
       "      <td>2</td>\n",
       "      <td>85</td>\n",
       "      <td>80</td>\n",
       "      <td>30</td>\n",
       "      <td>20</td>\n",
       "      <td>75</td>\n",
       "    </tr>\n",
       "    <tr>\n",
       "      <td>3</td>\n",
       "      <td>75</td>\n",
       "      <td>45</td>\n",
       "      <td>30</td>\n",
       "      <td>70</td>\n",
       "      <td>80</td>\n",
       "    </tr>\n",
       "    <tr>\n",
       "      <td>4</td>\n",
       "      <td>80</td>\n",
       "      <td>55</td>\n",
       "      <td>90</td>\n",
       "      <td>40</td>\n",
       "      <td>45</td>\n",
       "    </tr>\n",
       "    <tr>\n",
       "      <td>5</td>\n",
       "      <td>90</td>\n",
       "      <td>60</td>\n",
       "      <td>95</td>\n",
       "      <td>15</td>\n",
       "      <td>45</td>\n",
       "    </tr>\n",
       "    <tr>\n",
       "      <td>6</td>\n",
       "      <td>60</td>\n",
       "      <td>55</td>\n",
       "      <td>45</td>\n",
       "      <td>55</td>\n",
       "      <td>40</td>\n",
       "    </tr>\n",
       "  </tbody>\n",
       "</table>\n",
       "</div>"
      ],
      "text/plain": [
       "    0   1   2   3   4\n",
       "0  65  60  60  45  60\n",
       "1  75  35  50  75  40\n",
       "2  85  80  30  20  75\n",
       "3  75  45  30  70  80\n",
       "4  80  55  90  40  45\n",
       "5  90  60  95  15  45\n",
       "6  60  55  45  55  40"
      ]
     },
     "execution_count": 15,
     "metadata": {},
     "output_type": "execute_result"
    }
   ],
   "source": [
    "a = np.array([\n",
    "    [65,60,60,45,60],\n",
    "    [75,35,50,75,40],\n",
    "    [85,80,30,20,75],\n",
    "    [75,45,30,70,80],\n",
    "    [80,55,90,40,45],\n",
    "    [90,60,95,15,45],\n",
    "    [60,55,45,55,40]\n",
    "])\n",
    "df=pd.DataFrame(a)\n",
    "df"
   ]
  },
  {
   "cell_type": "markdown",
   "metadata": {},
   "source": [
    "Obsérvese que los nombres de los index y los columns son creados automáticamente, pero probablemente querramos especificarlos en la creación. En el ejemplo anterior, nos gustaría ponerle nombres a las columnas (en este caso, cada fila tiene las características de un arma en el juego Call of Duty):"
   ]
  },
  {
   "cell_type": "code",
   "execution_count": 16,
   "metadata": {},
   "outputs": [
    {
     "data": {
      "text/html": [
       "<div>\n",
       "<style scoped>\n",
       "    .dataframe tbody tr th:only-of-type {\n",
       "        vertical-align: middle;\n",
       "    }\n",
       "\n",
       "    .dataframe tbody tr th {\n",
       "        vertical-align: top;\n",
       "    }\n",
       "\n",
       "    .dataframe thead th {\n",
       "        text-align: right;\n",
       "    }\n",
       "</style>\n",
       "<table border=\"1\" class=\"dataframe\">\n",
       "  <thead>\n",
       "    <tr style=\"text-align: right;\">\n",
       "      <th></th>\n",
       "      <th>Daño</th>\n",
       "      <th>Precisión</th>\n",
       "      <th>Alcance</th>\n",
       "      <th>Cadencia</th>\n",
       "      <th>Movilidad</th>\n",
       "    </tr>\n",
       "  </thead>\n",
       "  <tbody>\n",
       "    <tr>\n",
       "      <td>0</td>\n",
       "      <td>65</td>\n",
       "      <td>60</td>\n",
       "      <td>60</td>\n",
       "      <td>45</td>\n",
       "      <td>60</td>\n",
       "    </tr>\n",
       "    <tr>\n",
       "      <td>1</td>\n",
       "      <td>75</td>\n",
       "      <td>35</td>\n",
       "      <td>50</td>\n",
       "      <td>75</td>\n",
       "      <td>40</td>\n",
       "    </tr>\n",
       "    <tr>\n",
       "      <td>2</td>\n",
       "      <td>85</td>\n",
       "      <td>80</td>\n",
       "      <td>30</td>\n",
       "      <td>20</td>\n",
       "      <td>75</td>\n",
       "    </tr>\n",
       "    <tr>\n",
       "      <td>3</td>\n",
       "      <td>75</td>\n",
       "      <td>45</td>\n",
       "      <td>30</td>\n",
       "      <td>70</td>\n",
       "      <td>80</td>\n",
       "    </tr>\n",
       "    <tr>\n",
       "      <td>4</td>\n",
       "      <td>80</td>\n",
       "      <td>55</td>\n",
       "      <td>90</td>\n",
       "      <td>40</td>\n",
       "      <td>45</td>\n",
       "    </tr>\n",
       "    <tr>\n",
       "      <td>5</td>\n",
       "      <td>90</td>\n",
       "      <td>60</td>\n",
       "      <td>95</td>\n",
       "      <td>15</td>\n",
       "      <td>45</td>\n",
       "    </tr>\n",
       "    <tr>\n",
       "      <td>6</td>\n",
       "      <td>60</td>\n",
       "      <td>55</td>\n",
       "      <td>45</td>\n",
       "      <td>55</td>\n",
       "      <td>40</td>\n",
       "    </tr>\n",
       "  </tbody>\n",
       "</table>\n",
       "</div>"
      ],
      "text/plain": [
       "   Daño  Precisión  Alcance  Cadencia  Movilidad\n",
       "0    65         60       60        45         60\n",
       "1    75         35       50        75         40\n",
       "2    85         80       30        20         75\n",
       "3    75         45       30        70         80\n",
       "4    80         55       90        40         45\n",
       "5    90         60       95        15         45\n",
       "6    60         55       45        55         40"
      ]
     },
     "execution_count": 16,
     "metadata": {},
     "output_type": "execute_result"
    }
   ],
   "source": [
    "df=pd.DataFrame(a,columns=['Daño','Precisión','Alcance','Cadencia','Movilidad'])\n",
    "df"
   ]
  },
  {
   "cell_type": "markdown",
   "metadata": {},
   "source": [
    "Podemos consultar los índices y las columnas:"
   ]
  },
  {
   "cell_type": "code",
   "execution_count": 17,
   "metadata": {},
   "outputs": [
    {
     "data": {
      "text/plain": [
       "(RangeIndex(start=0, stop=7, step=1),\n",
       " Index(['Daño', 'Precisión', 'Alcance', 'Cadencia', 'Movilidad'], dtype='object'))"
      ]
     },
     "execution_count": 17,
     "metadata": {},
     "output_type": "execute_result"
    }
   ],
   "source": [
    "df.index, df.columns\n"
   ]
  },
  {
   "cell_type": "markdown",
   "metadata": {},
   "source": [
    "Veamos otra forma de crear DataFrames: a través de una lista de Series. Obsérvese qué pasa cuando se especifica un índice que no está en el diccionario. "
   ]
  },
  {
   "cell_type": "code",
   "execution_count": 18,
   "metadata": {},
   "outputs": [
    {
     "data": {
      "text/html": [
       "<div>\n",
       "<style scoped>\n",
       "    .dataframe tbody tr th:only-of-type {\n",
       "        vertical-align: middle;\n",
       "    }\n",
       "\n",
       "    .dataframe tbody tr th {\n",
       "        vertical-align: top;\n",
       "    }\n",
       "\n",
       "    .dataframe thead th {\n",
       "        text-align: right;\n",
       "    }\n",
       "</style>\n",
       "<table border=\"1\" class=\"dataframe\">\n",
       "  <thead>\n",
       "    <tr style=\"text-align: right;\">\n",
       "      <th></th>\n",
       "      <th>one</th>\n",
       "      <th>two</th>\n",
       "    </tr>\n",
       "  </thead>\n",
       "  <tbody>\n",
       "    <tr>\n",
       "      <td>a</td>\n",
       "      <td>1.0</td>\n",
       "      <td>1.0</td>\n",
       "    </tr>\n",
       "    <tr>\n",
       "      <td>b</td>\n",
       "      <td>2.0</td>\n",
       "      <td>2.0</td>\n",
       "    </tr>\n",
       "    <tr>\n",
       "      <td>c</td>\n",
       "      <td>3.0</td>\n",
       "      <td>3.0</td>\n",
       "    </tr>\n",
       "    <tr>\n",
       "      <td>d</td>\n",
       "      <td>NaN</td>\n",
       "      <td>4.0</td>\n",
       "    </tr>\n",
       "  </tbody>\n",
       "</table>\n",
       "</div>"
      ],
      "text/plain": [
       "   one  two\n",
       "a  1.0  1.0\n",
       "b  2.0  2.0\n",
       "c  3.0  3.0\n",
       "d  NaN  4.0"
      ]
     },
     "execution_count": 18,
     "metadata": {},
     "output_type": "execute_result"
    }
   ],
   "source": [
    "d = {'one': pd.Series([1., 2., 3.], index=['a', 'b', 'c']),\n",
    "     'two': pd.Series([1., 2., 3., 4.], index=['a', 'b', 'c', 'd'])} \n",
    "# Obsérvese que en la columna 'one' no tenemos nada en la fila 'd'\n",
    "df2 = pd.DataFrame(d)\n",
    "df2"
   ]
  },
  {
   "cell_type": "code",
   "execution_count": 19,
   "metadata": {},
   "outputs": [
    {
     "data": {
      "text/html": [
       "<div>\n",
       "<style scoped>\n",
       "    .dataframe tbody tr th:only-of-type {\n",
       "        vertical-align: middle;\n",
       "    }\n",
       "\n",
       "    .dataframe tbody tr th {\n",
       "        vertical-align: top;\n",
       "    }\n",
       "\n",
       "    .dataframe thead th {\n",
       "        text-align: right;\n",
       "    }\n",
       "</style>\n",
       "<table border=\"1\" class=\"dataframe\">\n",
       "  <thead>\n",
       "    <tr style=\"text-align: right;\">\n",
       "      <th></th>\n",
       "      <th>two</th>\n",
       "      <th>three</th>\n",
       "    </tr>\n",
       "  </thead>\n",
       "  <tbody>\n",
       "    <tr>\n",
       "      <td>a</td>\n",
       "      <td>1.0</td>\n",
       "      <td>NaN</td>\n",
       "    </tr>\n",
       "    <tr>\n",
       "      <td>b</td>\n",
       "      <td>2.0</td>\n",
       "      <td>NaN</td>\n",
       "    </tr>\n",
       "    <tr>\n",
       "      <td>c</td>\n",
       "      <td>3.0</td>\n",
       "      <td>NaN</td>\n",
       "    </tr>\n",
       "    <tr>\n",
       "      <td>d</td>\n",
       "      <td>4.0</td>\n",
       "      <td>NaN</td>\n",
       "    </tr>\n",
       "  </tbody>\n",
       "</table>\n",
       "</div>"
      ],
      "text/plain": [
       "   two three\n",
       "a  1.0   NaN\n",
       "b  2.0   NaN\n",
       "c  3.0   NaN\n",
       "d  4.0   NaN"
      ]
     },
     "execution_count": 19,
     "metadata": {},
     "output_type": "execute_result"
    }
   ],
   "source": [
    "pd.DataFrame(d, columns=['two','three'])"
   ]
  },
  {
   "cell_type": "markdown",
   "metadata": {},
   "source": [
    "Los arrays son objetos, y tienen métodos asociados. Utilice el método `dtype` para conocer el tipo de los elementos de `a`"
   ]
  },
  {
   "cell_type": "markdown",
   "metadata": {},
   "source": [
    "En la [documentación](https://pandas.pydata.org/pandas-docs/stable/getting_started/dsintro.html#dsintro) pueden verse muchas formas de crear DataFrames. Si creamos un DataFrame a partir de una Series, obtendremos una sola columna, cuyo nombre es el nombre de la Series. \n",
    "\n",
    "Una forma de tener una idea general sobre nuestro DataFrame es utilizando el método `describe`"
   ]
  },
  {
   "cell_type": "code",
   "execution_count": 20,
   "metadata": {},
   "outputs": [
    {
     "data": {
      "text/html": [
       "<div>\n",
       "<style scoped>\n",
       "    .dataframe tbody tr th:only-of-type {\n",
       "        vertical-align: middle;\n",
       "    }\n",
       "\n",
       "    .dataframe tbody tr th {\n",
       "        vertical-align: top;\n",
       "    }\n",
       "\n",
       "    .dataframe thead th {\n",
       "        text-align: right;\n",
       "    }\n",
       "</style>\n",
       "<table border=\"1\" class=\"dataframe\">\n",
       "  <thead>\n",
       "    <tr style=\"text-align: right;\">\n",
       "      <th></th>\n",
       "      <th>Daño</th>\n",
       "      <th>Precisión</th>\n",
       "      <th>Alcance</th>\n",
       "      <th>Cadencia</th>\n",
       "      <th>Movilidad</th>\n",
       "    </tr>\n",
       "  </thead>\n",
       "  <tbody>\n",
       "    <tr>\n",
       "      <td>count</td>\n",
       "      <td>7.000000</td>\n",
       "      <td>7.000000</td>\n",
       "      <td>7.000000</td>\n",
       "      <td>7.000000</td>\n",
       "      <td>7.000000</td>\n",
       "    </tr>\n",
       "    <tr>\n",
       "      <td>mean</td>\n",
       "      <td>75.714286</td>\n",
       "      <td>55.714286</td>\n",
       "      <td>57.142857</td>\n",
       "      <td>45.714286</td>\n",
       "      <td>55.000000</td>\n",
       "    </tr>\n",
       "    <tr>\n",
       "      <td>std</td>\n",
       "      <td>10.578505</td>\n",
       "      <td>13.972763</td>\n",
       "      <td>26.435006</td>\n",
       "      <td>22.990681</td>\n",
       "      <td>16.832508</td>\n",
       "    </tr>\n",
       "    <tr>\n",
       "      <td>min</td>\n",
       "      <td>60.000000</td>\n",
       "      <td>35.000000</td>\n",
       "      <td>30.000000</td>\n",
       "      <td>15.000000</td>\n",
       "      <td>40.000000</td>\n",
       "    </tr>\n",
       "    <tr>\n",
       "      <td>25%</td>\n",
       "      <td>70.000000</td>\n",
       "      <td>50.000000</td>\n",
       "      <td>37.500000</td>\n",
       "      <td>30.000000</td>\n",
       "      <td>42.500000</td>\n",
       "    </tr>\n",
       "    <tr>\n",
       "      <td>50%</td>\n",
       "      <td>75.000000</td>\n",
       "      <td>55.000000</td>\n",
       "      <td>50.000000</td>\n",
       "      <td>45.000000</td>\n",
       "      <td>45.000000</td>\n",
       "    </tr>\n",
       "    <tr>\n",
       "      <td>75%</td>\n",
       "      <td>82.500000</td>\n",
       "      <td>60.000000</td>\n",
       "      <td>75.000000</td>\n",
       "      <td>62.500000</td>\n",
       "      <td>67.500000</td>\n",
       "    </tr>\n",
       "    <tr>\n",
       "      <td>max</td>\n",
       "      <td>90.000000</td>\n",
       "      <td>80.000000</td>\n",
       "      <td>95.000000</td>\n",
       "      <td>75.000000</td>\n",
       "      <td>80.000000</td>\n",
       "    </tr>\n",
       "  </tbody>\n",
       "</table>\n",
       "</div>"
      ],
      "text/plain": [
       "            Daño  Precisión    Alcance   Cadencia  Movilidad\n",
       "count   7.000000   7.000000   7.000000   7.000000   7.000000\n",
       "mean   75.714286  55.714286  57.142857  45.714286  55.000000\n",
       "std    10.578505  13.972763  26.435006  22.990681  16.832508\n",
       "min    60.000000  35.000000  30.000000  15.000000  40.000000\n",
       "25%    70.000000  50.000000  37.500000  30.000000  42.500000\n",
       "50%    75.000000  55.000000  50.000000  45.000000  45.000000\n",
       "75%    82.500000  60.000000  75.000000  62.500000  67.500000\n",
       "max    90.000000  80.000000  95.000000  75.000000  80.000000"
      ]
     },
     "execution_count": 20,
     "metadata": {},
     "output_type": "execute_result"
    }
   ],
   "source": [
    "df.describe()"
   ]
  },
  {
   "cell_type": "markdown",
   "metadata": {},
   "source": [
    "## 3.Operaciones básicas con DataFrames\n",
    "Los DataFrames pueden verse (como dijimos antes) como diccionarios de Series, indexados por los nombres de las columnas. Pueden accederse y modificarse igual que los diccionarios comunes."
   ]
  },
  {
   "cell_type": "code",
   "execution_count": 21,
   "metadata": {},
   "outputs": [
    {
     "data": {
      "text/plain": [
       "0    60\n",
       "1    35\n",
       "2    80\n",
       "3    45\n",
       "4    55\n",
       "5    60\n",
       "6    55\n",
       "Name: Precisión, dtype: int32"
      ]
     },
     "execution_count": 21,
     "metadata": {},
     "output_type": "execute_result"
    }
   ],
   "source": [
    "df['Precisión']"
   ]
  },
  {
   "cell_type": "code",
   "execution_count": 22,
   "metadata": {},
   "outputs": [
    {
     "data": {
      "text/html": [
       "<div>\n",
       "<style scoped>\n",
       "    .dataframe tbody tr th:only-of-type {\n",
       "        vertical-align: middle;\n",
       "    }\n",
       "\n",
       "    .dataframe tbody tr th {\n",
       "        vertical-align: top;\n",
       "    }\n",
       "\n",
       "    .dataframe thead th {\n",
       "        text-align: right;\n",
       "    }\n",
       "</style>\n",
       "<table border=\"1\" class=\"dataframe\">\n",
       "  <thead>\n",
       "    <tr style=\"text-align: right;\">\n",
       "      <th></th>\n",
       "      <th>Daño</th>\n",
       "      <th>Precisión</th>\n",
       "      <th>Alcance</th>\n",
       "      <th>Cadencia</th>\n",
       "      <th>Movilidad</th>\n",
       "      <th>Dummy</th>\n",
       "      <th>Es_preciso</th>\n",
       "    </tr>\n",
       "  </thead>\n",
       "  <tbody>\n",
       "    <tr>\n",
       "      <td>0</td>\n",
       "      <td>65</td>\n",
       "      <td>60</td>\n",
       "      <td>60</td>\n",
       "      <td>45</td>\n",
       "      <td>60</td>\n",
       "      <td>3900</td>\n",
       "      <td>True</td>\n",
       "    </tr>\n",
       "    <tr>\n",
       "      <td>1</td>\n",
       "      <td>75</td>\n",
       "      <td>35</td>\n",
       "      <td>50</td>\n",
       "      <td>75</td>\n",
       "      <td>40</td>\n",
       "      <td>3750</td>\n",
       "      <td>False</td>\n",
       "    </tr>\n",
       "    <tr>\n",
       "      <td>2</td>\n",
       "      <td>85</td>\n",
       "      <td>80</td>\n",
       "      <td>30</td>\n",
       "      <td>20</td>\n",
       "      <td>75</td>\n",
       "      <td>2550</td>\n",
       "      <td>True</td>\n",
       "    </tr>\n",
       "    <tr>\n",
       "      <td>3</td>\n",
       "      <td>75</td>\n",
       "      <td>45</td>\n",
       "      <td>30</td>\n",
       "      <td>70</td>\n",
       "      <td>80</td>\n",
       "      <td>2250</td>\n",
       "      <td>False</td>\n",
       "    </tr>\n",
       "    <tr>\n",
       "      <td>4</td>\n",
       "      <td>80</td>\n",
       "      <td>55</td>\n",
       "      <td>90</td>\n",
       "      <td>40</td>\n",
       "      <td>45</td>\n",
       "      <td>7200</td>\n",
       "      <td>False</td>\n",
       "    </tr>\n",
       "    <tr>\n",
       "      <td>5</td>\n",
       "      <td>90</td>\n",
       "      <td>60</td>\n",
       "      <td>95</td>\n",
       "      <td>15</td>\n",
       "      <td>45</td>\n",
       "      <td>8550</td>\n",
       "      <td>True</td>\n",
       "    </tr>\n",
       "    <tr>\n",
       "      <td>6</td>\n",
       "      <td>60</td>\n",
       "      <td>55</td>\n",
       "      <td>45</td>\n",
       "      <td>55</td>\n",
       "      <td>40</td>\n",
       "      <td>2700</td>\n",
       "      <td>False</td>\n",
       "    </tr>\n",
       "  </tbody>\n",
       "</table>\n",
       "</div>"
      ],
      "text/plain": [
       "   Daño  Precisión  Alcance  Cadencia  Movilidad  Dummy  Es_preciso\n",
       "0    65         60       60        45         60   3900        True\n",
       "1    75         35       50        75         40   3750       False\n",
       "2    85         80       30        20         75   2550        True\n",
       "3    75         45       30        70         80   2250       False\n",
       "4    80         55       90        40         45   7200       False\n",
       "5    90         60       95        15         45   8550        True\n",
       "6    60         55       45        55         40   2700       False"
      ]
     },
     "execution_count": 22,
     "metadata": {},
     "output_type": "execute_result"
    }
   ],
   "source": [
    "df['Dummy']=df['Alcance']*df['Daño']\n",
    "df['Es_preciso']=df['Precisión'] >= 60\n",
    "df"
   ]
  },
  {
   "cell_type": "markdown",
   "metadata": {},
   "source": [
    "Es posible calcular funciones numéricas sobre algunas columnas:"
   ]
  },
  {
   "cell_type": "code",
   "execution_count": 23,
   "metadata": {},
   "outputs": [
    {
     "data": {
      "text/plain": [
       "Precisión    55.714286\n",
       "Alcance      57.142857\n",
       "dtype: float64"
      ]
     },
     "execution_count": 23,
     "metadata": {},
     "output_type": "execute_result"
    }
   ],
   "source": [
    "df[['Precisión', 'Alcance']].mean()"
   ]
  },
  {
   "cell_type": "markdown",
   "metadata": {},
   "source": [
    "Para borrar una columna, usamos ```del```: "
   ]
  },
  {
   "cell_type": "code",
   "execution_count": 24,
   "metadata": {},
   "outputs": [
    {
     "data": {
      "text/html": [
       "<div>\n",
       "<style scoped>\n",
       "    .dataframe tbody tr th:only-of-type {\n",
       "        vertical-align: middle;\n",
       "    }\n",
       "\n",
       "    .dataframe tbody tr th {\n",
       "        vertical-align: top;\n",
       "    }\n",
       "\n",
       "    .dataframe thead th {\n",
       "        text-align: right;\n",
       "    }\n",
       "</style>\n",
       "<table border=\"1\" class=\"dataframe\">\n",
       "  <thead>\n",
       "    <tr style=\"text-align: right;\">\n",
       "      <th></th>\n",
       "      <th>Daño</th>\n",
       "      <th>Precisión</th>\n",
       "      <th>Alcance</th>\n",
       "      <th>Cadencia</th>\n",
       "      <th>Movilidad</th>\n",
       "      <th>Es_preciso</th>\n",
       "    </tr>\n",
       "  </thead>\n",
       "  <tbody>\n",
       "    <tr>\n",
       "      <td>0</td>\n",
       "      <td>65</td>\n",
       "      <td>60</td>\n",
       "      <td>60</td>\n",
       "      <td>45</td>\n",
       "      <td>60</td>\n",
       "      <td>True</td>\n",
       "    </tr>\n",
       "    <tr>\n",
       "      <td>1</td>\n",
       "      <td>75</td>\n",
       "      <td>35</td>\n",
       "      <td>50</td>\n",
       "      <td>75</td>\n",
       "      <td>40</td>\n",
       "      <td>False</td>\n",
       "    </tr>\n",
       "    <tr>\n",
       "      <td>2</td>\n",
       "      <td>85</td>\n",
       "      <td>80</td>\n",
       "      <td>30</td>\n",
       "      <td>20</td>\n",
       "      <td>75</td>\n",
       "      <td>True</td>\n",
       "    </tr>\n",
       "    <tr>\n",
       "      <td>3</td>\n",
       "      <td>75</td>\n",
       "      <td>45</td>\n",
       "      <td>30</td>\n",
       "      <td>70</td>\n",
       "      <td>80</td>\n",
       "      <td>False</td>\n",
       "    </tr>\n",
       "    <tr>\n",
       "      <td>4</td>\n",
       "      <td>80</td>\n",
       "      <td>55</td>\n",
       "      <td>90</td>\n",
       "      <td>40</td>\n",
       "      <td>45</td>\n",
       "      <td>False</td>\n",
       "    </tr>\n",
       "    <tr>\n",
       "      <td>5</td>\n",
       "      <td>90</td>\n",
       "      <td>60</td>\n",
       "      <td>95</td>\n",
       "      <td>15</td>\n",
       "      <td>45</td>\n",
       "      <td>True</td>\n",
       "    </tr>\n",
       "    <tr>\n",
       "      <td>6</td>\n",
       "      <td>60</td>\n",
       "      <td>55</td>\n",
       "      <td>45</td>\n",
       "      <td>55</td>\n",
       "      <td>40</td>\n",
       "      <td>False</td>\n",
       "    </tr>\n",
       "  </tbody>\n",
       "</table>\n",
       "</div>"
      ],
      "text/plain": [
       "   Daño  Precisión  Alcance  Cadencia  Movilidad  Es_preciso\n",
       "0    65         60       60        45         60        True\n",
       "1    75         35       50        75         40       False\n",
       "2    85         80       30        20         75        True\n",
       "3    75         45       30        70         80       False\n",
       "4    80         55       90        40         45       False\n",
       "5    90         60       95        15         45        True\n",
       "6    60         55       45        55         40       False"
      ]
     },
     "execution_count": 24,
     "metadata": {},
     "output_type": "execute_result"
    }
   ],
   "source": [
    "del df['Dummy']\n",
    "df"
   ]
  },
  {
   "cell_type": "markdown",
   "metadata": {},
   "source": [
    "Si los valores que se pasan para crear una columna no son suficientes, se completan con ```NaN``` "
   ]
  },
  {
   "cell_type": "code",
   "execution_count": 25,
   "metadata": {},
   "outputs": [
    {
     "data": {
      "text/html": [
       "<div>\n",
       "<style scoped>\n",
       "    .dataframe tbody tr th:only-of-type {\n",
       "        vertical-align: middle;\n",
       "    }\n",
       "\n",
       "    .dataframe tbody tr th {\n",
       "        vertical-align: top;\n",
       "    }\n",
       "\n",
       "    .dataframe thead th {\n",
       "        text-align: right;\n",
       "    }\n",
       "</style>\n",
       "<table border=\"1\" class=\"dataframe\">\n",
       "  <thead>\n",
       "    <tr style=\"text-align: right;\">\n",
       "      <th></th>\n",
       "      <th>one</th>\n",
       "      <th>two</th>\n",
       "      <th>one_trunc</th>\n",
       "    </tr>\n",
       "  </thead>\n",
       "  <tbody>\n",
       "    <tr>\n",
       "      <td>a</td>\n",
       "      <td>1.0</td>\n",
       "      <td>1.0</td>\n",
       "      <td>1.0</td>\n",
       "    </tr>\n",
       "    <tr>\n",
       "      <td>b</td>\n",
       "      <td>2.0</td>\n",
       "      <td>2.0</td>\n",
       "      <td>2.0</td>\n",
       "    </tr>\n",
       "    <tr>\n",
       "      <td>c</td>\n",
       "      <td>3.0</td>\n",
       "      <td>3.0</td>\n",
       "      <td>NaN</td>\n",
       "    </tr>\n",
       "    <tr>\n",
       "      <td>d</td>\n",
       "      <td>NaN</td>\n",
       "      <td>4.0</td>\n",
       "      <td>NaN</td>\n",
       "    </tr>\n",
       "  </tbody>\n",
       "</table>\n",
       "</div>"
      ],
      "text/plain": [
       "   one  two  one_trunc\n",
       "a  1.0  1.0        1.0\n",
       "b  2.0  2.0        2.0\n",
       "c  3.0  3.0        NaN\n",
       "d  NaN  4.0        NaN"
      ]
     },
     "execution_count": 25,
     "metadata": {},
     "output_type": "execute_result"
    }
   ],
   "source": [
    "df2['one_trunc'] = df2['one'][:2] \n",
    "df2"
   ]
  },
  {
   "cell_type": "markdown",
   "metadata": {},
   "source": [
    "Como vimos, seleccionar una columna de un DataSeries es muy parecido a seleccionar un elemento de un diccionario, siendo la clave el nombre de la columna (también es posible seleccionar por más de una columna a la vez: en ese caso, en vez de pasarle el nombre de la columna, le pasamos una lista con los nombres de las columnas seleccionadas)"
   ]
  },
  {
   "cell_type": "code",
   "execution_count": 26,
   "metadata": {},
   "outputs": [
    {
     "data": {
      "text/plain": [
       "0    60\n",
       "1    35\n",
       "2    80\n",
       "3    45\n",
       "4    55\n",
       "5    60\n",
       "6    55\n",
       "Name: Precisión, dtype: int32"
      ]
     },
     "execution_count": 26,
     "metadata": {},
     "output_type": "execute_result"
    }
   ],
   "source": [
    "df['Precisión']"
   ]
  },
  {
   "cell_type": "code",
   "execution_count": 27,
   "metadata": {},
   "outputs": [
    {
     "data": {
      "text/html": [
       "<div>\n",
       "<style scoped>\n",
       "    .dataframe tbody tr th:only-of-type {\n",
       "        vertical-align: middle;\n",
       "    }\n",
       "\n",
       "    .dataframe tbody tr th {\n",
       "        vertical-align: top;\n",
       "    }\n",
       "\n",
       "    .dataframe thead th {\n",
       "        text-align: right;\n",
       "    }\n",
       "</style>\n",
       "<table border=\"1\" class=\"dataframe\">\n",
       "  <thead>\n",
       "    <tr style=\"text-align: right;\">\n",
       "      <th></th>\n",
       "      <th>Precisión</th>\n",
       "      <th>Alcance</th>\n",
       "    </tr>\n",
       "  </thead>\n",
       "  <tbody>\n",
       "    <tr>\n",
       "      <td>0</td>\n",
       "      <td>60</td>\n",
       "      <td>60</td>\n",
       "    </tr>\n",
       "    <tr>\n",
       "      <td>1</td>\n",
       "      <td>35</td>\n",
       "      <td>50</td>\n",
       "    </tr>\n",
       "    <tr>\n",
       "      <td>2</td>\n",
       "      <td>80</td>\n",
       "      <td>30</td>\n",
       "    </tr>\n",
       "    <tr>\n",
       "      <td>3</td>\n",
       "      <td>45</td>\n",
       "      <td>30</td>\n",
       "    </tr>\n",
       "    <tr>\n",
       "      <td>4</td>\n",
       "      <td>55</td>\n",
       "      <td>90</td>\n",
       "    </tr>\n",
       "    <tr>\n",
       "      <td>5</td>\n",
       "      <td>60</td>\n",
       "      <td>95</td>\n",
       "    </tr>\n",
       "    <tr>\n",
       "      <td>6</td>\n",
       "      <td>55</td>\n",
       "      <td>45</td>\n",
       "    </tr>\n",
       "  </tbody>\n",
       "</table>\n",
       "</div>"
      ],
      "text/plain": [
       "   Precisión  Alcance\n",
       "0         60       60\n",
       "1         35       50\n",
       "2         80       30\n",
       "3         45       30\n",
       "4         55       90\n",
       "5         60       95\n",
       "6         55       45"
      ]
     },
     "execution_count": 27,
     "metadata": {},
     "output_type": "execute_result"
    }
   ],
   "source": [
    "df[['Precisión', 'Alcance']]"
   ]
  },
  {
   "cell_type": "markdown",
   "metadata": {},
   "source": [
    "Vamos a agregarle a nuestro DataFrame los nombres de las armas, y lo ponemos como índice."
   ]
  },
  {
   "cell_type": "code",
   "execution_count": 60,
   "metadata": {},
   "outputs": [
    {
     "data": {
      "text/html": [
       "<div>\n",
       "<style scoped>\n",
       "    .dataframe tbody tr th:only-of-type {\n",
       "        vertical-align: middle;\n",
       "    }\n",
       "\n",
       "    .dataframe tbody tr th {\n",
       "        vertical-align: top;\n",
       "    }\n",
       "\n",
       "    .dataframe thead th {\n",
       "        text-align: right;\n",
       "    }\n",
       "</style>\n",
       "<table border=\"1\" class=\"dataframe\">\n",
       "  <thead>\n",
       "    <tr style=\"text-align: right;\">\n",
       "      <th></th>\n",
       "      <th>Daño</th>\n",
       "      <th>Precisión</th>\n",
       "      <th>Alcance</th>\n",
       "      <th>Cadencia</th>\n",
       "      <th>Movilidad</th>\n",
       "    </tr>\n",
       "    <tr>\n",
       "      <th>Arma</th>\n",
       "      <th></th>\n",
       "      <th></th>\n",
       "      <th></th>\n",
       "      <th></th>\n",
       "      <th></th>\n",
       "    </tr>\n",
       "  </thead>\n",
       "  <tbody>\n",
       "    <tr>\n",
       "      <td>M16 Evil Clown</td>\n",
       "      <td>65</td>\n",
       "      <td>60</td>\n",
       "      <td>60</td>\n",
       "      <td>45</td>\n",
       "      <td>60</td>\n",
       "    </tr>\n",
       "    <tr>\n",
       "      <td>S36 Evil Clown</td>\n",
       "      <td>75</td>\n",
       "      <td>35</td>\n",
       "      <td>50</td>\n",
       "      <td>75</td>\n",
       "      <td>40</td>\n",
       "    </tr>\n",
       "    <tr>\n",
       "      <td>BY15 SnowFlakes</td>\n",
       "      <td>85</td>\n",
       "      <td>80</td>\n",
       "      <td>30</td>\n",
       "      <td>20</td>\n",
       "      <td>75</td>\n",
       "    </tr>\n",
       "    <tr>\n",
       "      <td>MSMC Ancient Runes</td>\n",
       "      <td>75</td>\n",
       "      <td>45</td>\n",
       "      <td>30</td>\n",
       "      <td>70</td>\n",
       "      <td>80</td>\n",
       "    </tr>\n",
       "    <tr>\n",
       "      <td>XPR-50 April's Fool</td>\n",
       "      <td>80</td>\n",
       "      <td>55</td>\n",
       "      <td>90</td>\n",
       "      <td>40</td>\n",
       "      <td>45</td>\n",
       "    </tr>\n",
       "    <tr>\n",
       "      <td>DLQ33 DeepShark</td>\n",
       "      <td>90</td>\n",
       "      <td>60</td>\n",
       "      <td>95</td>\n",
       "      <td>15</td>\n",
       "      <td>45</td>\n",
       "    </tr>\n",
       "    <tr>\n",
       "      <td>M4LMG RibbonExplosion</td>\n",
       "      <td>60</td>\n",
       "      <td>55</td>\n",
       "      <td>45</td>\n",
       "      <td>55</td>\n",
       "      <td>40</td>\n",
       "    </tr>\n",
       "  </tbody>\n",
       "</table>\n",
       "</div>"
      ],
      "text/plain": [
       "                       Daño  Precisión  Alcance  Cadencia  Movilidad\n",
       "Arma                                                                \n",
       "M16 Evil Clown           65         60       60        45         60\n",
       "S36 Evil Clown           75         35       50        75         40\n",
       "BY15 SnowFlakes          85         80       30        20         75\n",
       "MSMC Ancient Runes       75         45       30        70         80\n",
       "XPR-50 April's Fool      80         55       90        40         45\n",
       "DLQ33 DeepShark          90         60       95        15         45\n",
       "M4LMG RibbonExplosion    60         55       45        55         40"
      ]
     },
     "execution_count": 60,
     "metadata": {},
     "output_type": "execute_result"
    }
   ],
   "source": [
    "df['Arma']=['M16 Evil Clown', 'S36 Evil Clown', 'BY15 SnowFlakes', 'MSMC Ancient Runes', \n",
    "            'XPR-50 April\\'s Fool', 'DLQ33 DeepShark', 'M4LMG RibbonExplosion']\n",
    "df.set_index('Arma', inplace=True)\n",
    "df"
   ]
  },
  {
   "cell_type": "code",
   "execution_count": 29,
   "metadata": {},
   "outputs": [
    {
     "data": {
      "text/plain": [
       "Index(['M16 Evil Clown', 'S36 Evil Clown', 'BY15 SnowFlakes',\n",
       "       'MSMC Ancient Runes', 'XPR-50 April's Fool', 'DLQ33 DeepShark',\n",
       "       'M4LMG RibbonExplosion'],\n",
       "      dtype='object', name='Arma')"
      ]
     },
     "execution_count": 29,
     "metadata": {},
     "output_type": "execute_result"
    }
   ],
   "source": [
    "df.index # El índice ahora cambió"
   ]
  },
  {
   "cell_type": "markdown",
   "metadata": {},
   "source": [
    "Para seleccionar una fila, existen varias formas diferentes. Si conocemos su index, utilizamos ```loc```:"
   ]
  },
  {
   "cell_type": "code",
   "execution_count": 30,
   "metadata": {},
   "outputs": [
    {
     "data": {
      "text/plain": [
       "Daño            85\n",
       "Precisión       80\n",
       "Alcance         30\n",
       "Cadencia        20\n",
       "Movilidad       75\n",
       "Es_preciso    True\n",
       "Name: BY15 SnowFlakes, dtype: object"
      ]
     },
     "execution_count": 30,
     "metadata": {},
     "output_type": "execute_result"
    }
   ],
   "source": [
    "df.loc['BY15 SnowFlakes']"
   ]
  },
  {
   "cell_type": "markdown",
   "metadata": {},
   "source": [
    "Si conocemos el índice de su posición, utilizamos ```iloc``` "
   ]
  },
  {
   "cell_type": "code",
   "execution_count": 31,
   "metadata": {},
   "outputs": [
    {
     "data": {
      "text/plain": [
       "Daño            65\n",
       "Precisión       60\n",
       "Alcance         60\n",
       "Cadencia        45\n",
       "Movilidad       60\n",
       "Es_preciso    True\n",
       "Name: M16 Evil Clown, dtype: object"
      ]
     },
     "execution_count": 31,
     "metadata": {},
     "output_type": "execute_result"
    }
   ],
   "source": [
    "df.iloc[0]"
   ]
  },
  {
   "cell_type": "markdown",
   "metadata": {},
   "source": [
    "Podemos hacer _slicing_ de las filas igual que con los ndarrays, utilizando un rango en la selección (obsérvese que aquí se busca en las filas, no en las columnas, y que se devuelve un DataFrame):"
   ]
  },
  {
   "cell_type": "code",
   "execution_count": 32,
   "metadata": {},
   "outputs": [
    {
     "data": {
      "text/html": [
       "<div>\n",
       "<style scoped>\n",
       "    .dataframe tbody tr th:only-of-type {\n",
       "        vertical-align: middle;\n",
       "    }\n",
       "\n",
       "    .dataframe tbody tr th {\n",
       "        vertical-align: top;\n",
       "    }\n",
       "\n",
       "    .dataframe thead th {\n",
       "        text-align: right;\n",
       "    }\n",
       "</style>\n",
       "<table border=\"1\" class=\"dataframe\">\n",
       "  <thead>\n",
       "    <tr style=\"text-align: right;\">\n",
       "      <th></th>\n",
       "      <th>Daño</th>\n",
       "      <th>Precisión</th>\n",
       "      <th>Alcance</th>\n",
       "      <th>Cadencia</th>\n",
       "      <th>Movilidad</th>\n",
       "      <th>Es_preciso</th>\n",
       "    </tr>\n",
       "    <tr>\n",
       "      <th>Arma</th>\n",
       "      <th></th>\n",
       "      <th></th>\n",
       "      <th></th>\n",
       "      <th></th>\n",
       "      <th></th>\n",
       "      <th></th>\n",
       "    </tr>\n",
       "  </thead>\n",
       "  <tbody>\n",
       "    <tr>\n",
       "      <td>S36 Evil Clown</td>\n",
       "      <td>75</td>\n",
       "      <td>35</td>\n",
       "      <td>50</td>\n",
       "      <td>75</td>\n",
       "      <td>40</td>\n",
       "      <td>False</td>\n",
       "    </tr>\n",
       "    <tr>\n",
       "      <td>BY15 SnowFlakes</td>\n",
       "      <td>85</td>\n",
       "      <td>80</td>\n",
       "      <td>30</td>\n",
       "      <td>20</td>\n",
       "      <td>75</td>\n",
       "      <td>True</td>\n",
       "    </tr>\n",
       "  </tbody>\n",
       "</table>\n",
       "</div>"
      ],
      "text/plain": [
       "                 Daño  Precisión  Alcance  Cadencia  Movilidad  Es_preciso\n",
       "Arma                                                                      \n",
       "S36 Evil Clown     75         35       50        75         40       False\n",
       "BY15 SnowFlakes    85         80       30        20         75        True"
      ]
     },
     "execution_count": 32,
     "metadata": {},
     "output_type": "execute_result"
    }
   ],
   "source": [
    "df[1:3]"
   ]
  },
  {
   "cell_type": "markdown",
   "metadata": {},
   "source": [
    "Podemos seleccionar de un dataframe las celdas que cumplan cierta condición (igual que se podía hacer con los arrays), y utilizar el resultado para seleccionar celdas que cumplan la condición (aquí se marcarán con NaN las celdas que no hayan sido seleccionadas).\n"
   ]
  },
  {
   "cell_type": "code",
   "execution_count": 33,
   "metadata": {},
   "outputs": [
    {
     "data": {
      "text/html": [
       "<div>\n",
       "<style scoped>\n",
       "    .dataframe tbody tr th:only-of-type {\n",
       "        vertical-align: middle;\n",
       "    }\n",
       "\n",
       "    .dataframe tbody tr th {\n",
       "        vertical-align: top;\n",
       "    }\n",
       "\n",
       "    .dataframe thead th {\n",
       "        text-align: right;\n",
       "    }\n",
       "</style>\n",
       "<table border=\"1\" class=\"dataframe\">\n",
       "  <thead>\n",
       "    <tr style=\"text-align: right;\">\n",
       "      <th></th>\n",
       "      <th>Daño</th>\n",
       "      <th>Precisión</th>\n",
       "      <th>Alcance</th>\n",
       "      <th>Cadencia</th>\n",
       "      <th>Movilidad</th>\n",
       "      <th>Es_preciso</th>\n",
       "    </tr>\n",
       "    <tr>\n",
       "      <th>Arma</th>\n",
       "      <th></th>\n",
       "      <th></th>\n",
       "      <th></th>\n",
       "      <th></th>\n",
       "      <th></th>\n",
       "      <th></th>\n",
       "    </tr>\n",
       "  </thead>\n",
       "  <tbody>\n",
       "    <tr>\n",
       "      <td>M16 Evil Clown</td>\n",
       "      <td>True</td>\n",
       "      <td>True</td>\n",
       "      <td>True</td>\n",
       "      <td>False</td>\n",
       "      <td>True</td>\n",
       "      <td>False</td>\n",
       "    </tr>\n",
       "    <tr>\n",
       "      <td>S36 Evil Clown</td>\n",
       "      <td>True</td>\n",
       "      <td>False</td>\n",
       "      <td>False</td>\n",
       "      <td>True</td>\n",
       "      <td>False</td>\n",
       "      <td>False</td>\n",
       "    </tr>\n",
       "    <tr>\n",
       "      <td>BY15 SnowFlakes</td>\n",
       "      <td>True</td>\n",
       "      <td>True</td>\n",
       "      <td>False</td>\n",
       "      <td>False</td>\n",
       "      <td>True</td>\n",
       "      <td>False</td>\n",
       "    </tr>\n",
       "    <tr>\n",
       "      <td>MSMC Ancient Runes</td>\n",
       "      <td>True</td>\n",
       "      <td>False</td>\n",
       "      <td>False</td>\n",
       "      <td>True</td>\n",
       "      <td>True</td>\n",
       "      <td>False</td>\n",
       "    </tr>\n",
       "    <tr>\n",
       "      <td>XPR-50 April's Fool</td>\n",
       "      <td>True</td>\n",
       "      <td>True</td>\n",
       "      <td>True</td>\n",
       "      <td>False</td>\n",
       "      <td>False</td>\n",
       "      <td>False</td>\n",
       "    </tr>\n",
       "    <tr>\n",
       "      <td>DLQ33 DeepShark</td>\n",
       "      <td>True</td>\n",
       "      <td>True</td>\n",
       "      <td>True</td>\n",
       "      <td>False</td>\n",
       "      <td>False</td>\n",
       "      <td>False</td>\n",
       "    </tr>\n",
       "    <tr>\n",
       "      <td>M4LMG RibbonExplosion</td>\n",
       "      <td>True</td>\n",
       "      <td>True</td>\n",
       "      <td>False</td>\n",
       "      <td>True</td>\n",
       "      <td>False</td>\n",
       "      <td>False</td>\n",
       "    </tr>\n",
       "  </tbody>\n",
       "</table>\n",
       "</div>"
      ],
      "text/plain": [
       "                       Daño  Precisión  Alcance  Cadencia  Movilidad  \\\n",
       "Arma                                                                   \n",
       "M16 Evil Clown         True       True     True     False       True   \n",
       "S36 Evil Clown         True      False    False      True      False   \n",
       "BY15 SnowFlakes        True       True    False     False       True   \n",
       "MSMC Ancient Runes     True      False    False      True       True   \n",
       "XPR-50 April's Fool    True       True     True     False      False   \n",
       "DLQ33 DeepShark        True       True     True     False      False   \n",
       "M4LMG RibbonExplosion  True       True    False      True      False   \n",
       "\n",
       "                       Es_preciso  \n",
       "Arma                               \n",
       "M16 Evil Clown              False  \n",
       "S36 Evil Clown              False  \n",
       "BY15 SnowFlakes             False  \n",
       "MSMC Ancient Runes          False  \n",
       "XPR-50 April's Fool         False  \n",
       "DLQ33 DeepShark             False  \n",
       "M4LMG RibbonExplosion       False  "
      ]
     },
     "execution_count": 33,
     "metadata": {},
     "output_type": "execute_result"
    }
   ],
   "source": [
    "df>50"
   ]
  },
  {
   "cell_type": "code",
   "execution_count": 34,
   "metadata": {},
   "outputs": [
    {
     "data": {
      "text/html": [
       "<div>\n",
       "<style scoped>\n",
       "    .dataframe tbody tr th:only-of-type {\n",
       "        vertical-align: middle;\n",
       "    }\n",
       "\n",
       "    .dataframe tbody tr th {\n",
       "        vertical-align: top;\n",
       "    }\n",
       "\n",
       "    .dataframe thead th {\n",
       "        text-align: right;\n",
       "    }\n",
       "</style>\n",
       "<table border=\"1\" class=\"dataframe\">\n",
       "  <thead>\n",
       "    <tr style=\"text-align: right;\">\n",
       "      <th></th>\n",
       "      <th>Daño</th>\n",
       "      <th>Precisión</th>\n",
       "      <th>Alcance</th>\n",
       "      <th>Cadencia</th>\n",
       "      <th>Movilidad</th>\n",
       "      <th>Es_preciso</th>\n",
       "    </tr>\n",
       "    <tr>\n",
       "      <th>Arma</th>\n",
       "      <th></th>\n",
       "      <th></th>\n",
       "      <th></th>\n",
       "      <th></th>\n",
       "      <th></th>\n",
       "      <th></th>\n",
       "    </tr>\n",
       "  </thead>\n",
       "  <tbody>\n",
       "    <tr>\n",
       "      <td>M16 Evil Clown</td>\n",
       "      <td>65</td>\n",
       "      <td>60.0</td>\n",
       "      <td>60.0</td>\n",
       "      <td>NaN</td>\n",
       "      <td>60.0</td>\n",
       "      <td>NaN</td>\n",
       "    </tr>\n",
       "    <tr>\n",
       "      <td>S36 Evil Clown</td>\n",
       "      <td>75</td>\n",
       "      <td>NaN</td>\n",
       "      <td>NaN</td>\n",
       "      <td>75.0</td>\n",
       "      <td>NaN</td>\n",
       "      <td>NaN</td>\n",
       "    </tr>\n",
       "    <tr>\n",
       "      <td>BY15 SnowFlakes</td>\n",
       "      <td>85</td>\n",
       "      <td>80.0</td>\n",
       "      <td>NaN</td>\n",
       "      <td>NaN</td>\n",
       "      <td>75.0</td>\n",
       "      <td>NaN</td>\n",
       "    </tr>\n",
       "    <tr>\n",
       "      <td>MSMC Ancient Runes</td>\n",
       "      <td>75</td>\n",
       "      <td>NaN</td>\n",
       "      <td>NaN</td>\n",
       "      <td>70.0</td>\n",
       "      <td>80.0</td>\n",
       "      <td>NaN</td>\n",
       "    </tr>\n",
       "    <tr>\n",
       "      <td>XPR-50 April's Fool</td>\n",
       "      <td>80</td>\n",
       "      <td>55.0</td>\n",
       "      <td>90.0</td>\n",
       "      <td>NaN</td>\n",
       "      <td>NaN</td>\n",
       "      <td>NaN</td>\n",
       "    </tr>\n",
       "    <tr>\n",
       "      <td>DLQ33 DeepShark</td>\n",
       "      <td>90</td>\n",
       "      <td>60.0</td>\n",
       "      <td>95.0</td>\n",
       "      <td>NaN</td>\n",
       "      <td>NaN</td>\n",
       "      <td>NaN</td>\n",
       "    </tr>\n",
       "    <tr>\n",
       "      <td>M4LMG RibbonExplosion</td>\n",
       "      <td>60</td>\n",
       "      <td>55.0</td>\n",
       "      <td>NaN</td>\n",
       "      <td>55.0</td>\n",
       "      <td>NaN</td>\n",
       "      <td>NaN</td>\n",
       "    </tr>\n",
       "  </tbody>\n",
       "</table>\n",
       "</div>"
      ],
      "text/plain": [
       "                       Daño  Precisión  Alcance  Cadencia  Movilidad  \\\n",
       "Arma                                                                   \n",
       "M16 Evil Clown           65       60.0     60.0       NaN       60.0   \n",
       "S36 Evil Clown           75        NaN      NaN      75.0        NaN   \n",
       "BY15 SnowFlakes          85       80.0      NaN       NaN       75.0   \n",
       "MSMC Ancient Runes       75        NaN      NaN      70.0       80.0   \n",
       "XPR-50 April's Fool      80       55.0     90.0       NaN        NaN   \n",
       "DLQ33 DeepShark          90       60.0     95.0       NaN        NaN   \n",
       "M4LMG RibbonExplosion    60       55.0      NaN      55.0        NaN   \n",
       "\n",
       "                       Es_preciso  \n",
       "Arma                               \n",
       "M16 Evil Clown                NaN  \n",
       "S36 Evil Clown                NaN  \n",
       "BY15 SnowFlakes               NaN  \n",
       "MSMC Ancient Runes            NaN  \n",
       "XPR-50 April's Fool           NaN  \n",
       "DLQ33 DeepShark               NaN  \n",
       "M4LMG RibbonExplosion         NaN  "
      ]
     },
     "execution_count": 34,
     "metadata": {},
     "output_type": "execute_result"
    }
   ],
   "source": [
    "df[df>50] "
   ]
  },
  {
   "cell_type": "code",
   "execution_count": 35,
   "metadata": {},
   "outputs": [],
   "source": [
    "del df['Es_preciso']"
   ]
  },
  {
   "cell_type": "markdown",
   "metadata": {},
   "source": [
    "Cuando se realizan operaciones entre DataFrames, al igual que con Series, se alinean tanto las indexes como las columns, devolviéndose siempre la unión de los indexes/columns de los DataFrames involucrados.\n",
    "\n",
    "Por ejemplo, agreguemos algunas armas más a nuestra base de datos, utilizando el método `append` (creamos primero un nuevo DataFrame, y luego lo concatenamos al original, para obtener el nuevo DataFrame). En el nuevo DataFrame, agregaremos una columna Dummy para ver qué sucede en la concatenación."
   ]
  },
  {
   "cell_type": "code",
   "execution_count": 36,
   "metadata": {},
   "outputs": [
    {
     "data": {
      "text/html": [
       "<div>\n",
       "<style scoped>\n",
       "    .dataframe tbody tr th:only-of-type {\n",
       "        vertical-align: middle;\n",
       "    }\n",
       "\n",
       "    .dataframe tbody tr th {\n",
       "        vertical-align: top;\n",
       "    }\n",
       "\n",
       "    .dataframe thead th {\n",
       "        text-align: right;\n",
       "    }\n",
       "</style>\n",
       "<table border=\"1\" class=\"dataframe\">\n",
       "  <thead>\n",
       "    <tr style=\"text-align: right;\">\n",
       "      <th></th>\n",
       "      <th>Daño</th>\n",
       "      <th>Precisión</th>\n",
       "      <th>Alcance</th>\n",
       "      <th>Cadencia</th>\n",
       "      <th>Movilidad</th>\n",
       "      <th>Dummy</th>\n",
       "    </tr>\n",
       "  </thead>\n",
       "  <tbody>\n",
       "    <tr>\n",
       "      <td>M16 Evil Clown</td>\n",
       "      <td>65</td>\n",
       "      <td>60</td>\n",
       "      <td>60</td>\n",
       "      <td>45</td>\n",
       "      <td>60</td>\n",
       "      <td>NaN</td>\n",
       "    </tr>\n",
       "    <tr>\n",
       "      <td>S36 Evil Clown</td>\n",
       "      <td>75</td>\n",
       "      <td>35</td>\n",
       "      <td>50</td>\n",
       "      <td>75</td>\n",
       "      <td>40</td>\n",
       "      <td>NaN</td>\n",
       "    </tr>\n",
       "    <tr>\n",
       "      <td>BY15 SnowFlakes</td>\n",
       "      <td>85</td>\n",
       "      <td>80</td>\n",
       "      <td>30</td>\n",
       "      <td>20</td>\n",
       "      <td>75</td>\n",
       "      <td>NaN</td>\n",
       "    </tr>\n",
       "    <tr>\n",
       "      <td>MSMC Ancient Runes</td>\n",
       "      <td>75</td>\n",
       "      <td>45</td>\n",
       "      <td>30</td>\n",
       "      <td>70</td>\n",
       "      <td>80</td>\n",
       "      <td>NaN</td>\n",
       "    </tr>\n",
       "    <tr>\n",
       "      <td>XPR-50 April's Fool</td>\n",
       "      <td>80</td>\n",
       "      <td>55</td>\n",
       "      <td>90</td>\n",
       "      <td>40</td>\n",
       "      <td>45</td>\n",
       "      <td>NaN</td>\n",
       "    </tr>\n",
       "    <tr>\n",
       "      <td>DLQ33 DeepShark</td>\n",
       "      <td>90</td>\n",
       "      <td>60</td>\n",
       "      <td>95</td>\n",
       "      <td>15</td>\n",
       "      <td>45</td>\n",
       "      <td>NaN</td>\n",
       "    </tr>\n",
       "    <tr>\n",
       "      <td>M4LMG RibbonExplosion</td>\n",
       "      <td>60</td>\n",
       "      <td>55</td>\n",
       "      <td>45</td>\n",
       "      <td>55</td>\n",
       "      <td>40</td>\n",
       "      <td>NaN</td>\n",
       "    </tr>\n",
       "    <tr>\n",
       "      <td>Arctic.50 Bats</td>\n",
       "      <td>85</td>\n",
       "      <td>52</td>\n",
       "      <td>95</td>\n",
       "      <td>30</td>\n",
       "      <td>50</td>\n",
       "      <td>-1.0</td>\n",
       "    </tr>\n",
       "    <tr>\n",
       "      <td>XPR-50 RedTriangle</td>\n",
       "      <td>80</td>\n",
       "      <td>55</td>\n",
       "      <td>90</td>\n",
       "      <td>40</td>\n",
       "      <td>45</td>\n",
       "      <td>-1.0</td>\n",
       "    </tr>\n",
       "    <tr>\n",
       "      <td>M16 NeonTiger</td>\n",
       "      <td>65</td>\n",
       "      <td>60</td>\n",
       "      <td>60</td>\n",
       "      <td>45</td>\n",
       "      <td>60</td>\n",
       "      <td>-1.0</td>\n",
       "    </tr>\n",
       "    <tr>\n",
       "      <td>Arctic.50 RedTriangle</td>\n",
       "      <td>85</td>\n",
       "      <td>52</td>\n",
       "      <td>95</td>\n",
       "      <td>30</td>\n",
       "      <td>50</td>\n",
       "      <td>-1.0</td>\n",
       "    </tr>\n",
       "    <tr>\n",
       "      <td>BK57 JackFrost</td>\n",
       "      <td>48</td>\n",
       "      <td>65</td>\n",
       "      <td>90</td>\n",
       "      <td>63</td>\n",
       "      <td>60</td>\n",
       "      <td>-1.0</td>\n",
       "    </tr>\n",
       "    <tr>\n",
       "      <td>M4MLG RedTriangle</td>\n",
       "      <td>60</td>\n",
       "      <td>55</td>\n",
       "      <td>45</td>\n",
       "      <td>55</td>\n",
       "      <td>40</td>\n",
       "      <td>-1.0</td>\n",
       "    </tr>\n",
       "    <tr>\n",
       "      <td>AKS-74U NeonTiger</td>\n",
       "      <td>78</td>\n",
       "      <td>55</td>\n",
       "      <td>32</td>\n",
       "      <td>60</td>\n",
       "      <td>75</td>\n",
       "      <td>-1.0</td>\n",
       "    </tr>\n",
       "    <tr>\n",
       "      <td>PDW-57 ZombieGene</td>\n",
       "      <td>90</td>\n",
       "      <td>40</td>\n",
       "      <td>25</td>\n",
       "      <td>60</td>\n",
       "      <td>75</td>\n",
       "      <td>-1.0</td>\n",
       "    </tr>\n",
       "  </tbody>\n",
       "</table>\n",
       "</div>"
      ],
      "text/plain": [
       "                       Daño  Precisión  Alcance  Cadencia  Movilidad  Dummy\n",
       "M16 Evil Clown           65         60       60        45         60    NaN\n",
       "S36 Evil Clown           75         35       50        75         40    NaN\n",
       "BY15 SnowFlakes          85         80       30        20         75    NaN\n",
       "MSMC Ancient Runes       75         45       30        70         80    NaN\n",
       "XPR-50 April's Fool      80         55       90        40         45    NaN\n",
       "DLQ33 DeepShark          90         60       95        15         45    NaN\n",
       "M4LMG RibbonExplosion    60         55       45        55         40    NaN\n",
       "Arctic.50 Bats           85         52       95        30         50   -1.0\n",
       "XPR-50 RedTriangle       80         55       90        40         45   -1.0\n",
       "M16 NeonTiger            65         60       60        45         60   -1.0\n",
       "Arctic.50 RedTriangle    85         52       95        30         50   -1.0\n",
       "BK57 JackFrost           48         65       90        63         60   -1.0\n",
       "M4MLG RedTriangle        60         55       45        55         40   -1.0\n",
       "AKS-74U NeonTiger        78         55       32        60         75   -1.0\n",
       "PDW-57 ZombieGene        90         40       25        60         75   -1.0"
      ]
     },
     "execution_count": 36,
     "metadata": {},
     "output_type": "execute_result"
    }
   ],
   "source": [
    "d = np.array([[85,52,95,30,50,-1],[80,55,90,40,45,-1],[65,60,60,45,60,-1],[85,52,95,30,50,-1],[48,65,90,63,60,-1],\n",
    "              [60,55,45,55,40,-1]\n",
    "             ,[78,55,32,60,75,-1],[90,40,25,60,75,-1]])\n",
    "arm_names=['Arctic.50 Bats','XPR-50 RedTriangle','M16 NeonTiger', 'Arctic.50 RedTriangle','BK57 JackFrost',\n",
    "                           'M4MLG RedTriangle', 'AKS-74U NeonTiger','PDW-57 ZombieGene']\n",
    "df2= pd.DataFrame(d,index=arm_names, columns=['Daño','Precisión','Alcance','Cadencia','Movilidad','Dummy'])\n",
    "df3= df.append(df2, sort=False)\n",
    "df3"
   ]
  },
  {
   "cell_type": "code",
   "execution_count": 37,
   "metadata": {},
   "outputs": [],
   "source": [
    "del df3['Dummy']"
   ]
  },
  {
   "cell_type": "markdown",
   "metadata": {},
   "source": [
    "En la siguiente operaciones, vamos a restarle una Series al DataFrame. En ese caso, pandas alinea las columnas con los ìndices de la Series, y eso hace que se resten todos los elementos de la fila."
   ]
  },
  {
   "cell_type": "code",
   "execution_count": 38,
   "metadata": {},
   "outputs": [
    {
     "data": {
      "text/plain": [
       "Daño         65\n",
       "Precisión    60\n",
       "Alcance      60\n",
       "Cadencia     45\n",
       "Movilidad    60\n",
       "Name: M16 Evil Clown, dtype: int32"
      ]
     },
     "execution_count": 38,
     "metadata": {},
     "output_type": "execute_result"
    }
   ],
   "source": [
    "df3.iloc[0]"
   ]
  },
  {
   "cell_type": "code",
   "execution_count": 39,
   "metadata": {},
   "outputs": [
    {
     "data": {
      "text/html": [
       "<div>\n",
       "<style scoped>\n",
       "    .dataframe tbody tr th:only-of-type {\n",
       "        vertical-align: middle;\n",
       "    }\n",
       "\n",
       "    .dataframe tbody tr th {\n",
       "        vertical-align: top;\n",
       "    }\n",
       "\n",
       "    .dataframe thead th {\n",
       "        text-align: right;\n",
       "    }\n",
       "</style>\n",
       "<table border=\"1\" class=\"dataframe\">\n",
       "  <thead>\n",
       "    <tr style=\"text-align: right;\">\n",
       "      <th></th>\n",
       "      <th>Daño</th>\n",
       "      <th>Precisión</th>\n",
       "      <th>Alcance</th>\n",
       "      <th>Cadencia</th>\n",
       "      <th>Movilidad</th>\n",
       "    </tr>\n",
       "  </thead>\n",
       "  <tbody>\n",
       "    <tr>\n",
       "      <td>M16 Evil Clown</td>\n",
       "      <td>0</td>\n",
       "      <td>0</td>\n",
       "      <td>0</td>\n",
       "      <td>0</td>\n",
       "      <td>0</td>\n",
       "    </tr>\n",
       "    <tr>\n",
       "      <td>S36 Evil Clown</td>\n",
       "      <td>10</td>\n",
       "      <td>-25</td>\n",
       "      <td>-10</td>\n",
       "      <td>30</td>\n",
       "      <td>-20</td>\n",
       "    </tr>\n",
       "    <tr>\n",
       "      <td>BY15 SnowFlakes</td>\n",
       "      <td>20</td>\n",
       "      <td>20</td>\n",
       "      <td>-30</td>\n",
       "      <td>-25</td>\n",
       "      <td>15</td>\n",
       "    </tr>\n",
       "    <tr>\n",
       "      <td>MSMC Ancient Runes</td>\n",
       "      <td>10</td>\n",
       "      <td>-15</td>\n",
       "      <td>-30</td>\n",
       "      <td>25</td>\n",
       "      <td>20</td>\n",
       "    </tr>\n",
       "    <tr>\n",
       "      <td>XPR-50 April's Fool</td>\n",
       "      <td>15</td>\n",
       "      <td>-5</td>\n",
       "      <td>30</td>\n",
       "      <td>-5</td>\n",
       "      <td>-15</td>\n",
       "    </tr>\n",
       "    <tr>\n",
       "      <td>DLQ33 DeepShark</td>\n",
       "      <td>25</td>\n",
       "      <td>0</td>\n",
       "      <td>35</td>\n",
       "      <td>-30</td>\n",
       "      <td>-15</td>\n",
       "    </tr>\n",
       "    <tr>\n",
       "      <td>M4LMG RibbonExplosion</td>\n",
       "      <td>-5</td>\n",
       "      <td>-5</td>\n",
       "      <td>-15</td>\n",
       "      <td>10</td>\n",
       "      <td>-20</td>\n",
       "    </tr>\n",
       "    <tr>\n",
       "      <td>Arctic.50 Bats</td>\n",
       "      <td>20</td>\n",
       "      <td>-8</td>\n",
       "      <td>35</td>\n",
       "      <td>-15</td>\n",
       "      <td>-10</td>\n",
       "    </tr>\n",
       "    <tr>\n",
       "      <td>XPR-50 RedTriangle</td>\n",
       "      <td>15</td>\n",
       "      <td>-5</td>\n",
       "      <td>30</td>\n",
       "      <td>-5</td>\n",
       "      <td>-15</td>\n",
       "    </tr>\n",
       "    <tr>\n",
       "      <td>M16 NeonTiger</td>\n",
       "      <td>0</td>\n",
       "      <td>0</td>\n",
       "      <td>0</td>\n",
       "      <td>0</td>\n",
       "      <td>0</td>\n",
       "    </tr>\n",
       "    <tr>\n",
       "      <td>Arctic.50 RedTriangle</td>\n",
       "      <td>20</td>\n",
       "      <td>-8</td>\n",
       "      <td>35</td>\n",
       "      <td>-15</td>\n",
       "      <td>-10</td>\n",
       "    </tr>\n",
       "    <tr>\n",
       "      <td>BK57 JackFrost</td>\n",
       "      <td>-17</td>\n",
       "      <td>5</td>\n",
       "      <td>30</td>\n",
       "      <td>18</td>\n",
       "      <td>0</td>\n",
       "    </tr>\n",
       "    <tr>\n",
       "      <td>M4MLG RedTriangle</td>\n",
       "      <td>-5</td>\n",
       "      <td>-5</td>\n",
       "      <td>-15</td>\n",
       "      <td>10</td>\n",
       "      <td>-20</td>\n",
       "    </tr>\n",
       "    <tr>\n",
       "      <td>AKS-74U NeonTiger</td>\n",
       "      <td>13</td>\n",
       "      <td>-5</td>\n",
       "      <td>-28</td>\n",
       "      <td>15</td>\n",
       "      <td>15</td>\n",
       "    </tr>\n",
       "    <tr>\n",
       "      <td>PDW-57 ZombieGene</td>\n",
       "      <td>25</td>\n",
       "      <td>-20</td>\n",
       "      <td>-35</td>\n",
       "      <td>15</td>\n",
       "      <td>15</td>\n",
       "    </tr>\n",
       "  </tbody>\n",
       "</table>\n",
       "</div>"
      ],
      "text/plain": [
       "                       Daño  Precisión  Alcance  Cadencia  Movilidad\n",
       "M16 Evil Clown            0          0        0         0          0\n",
       "S36 Evil Clown           10        -25      -10        30        -20\n",
       "BY15 SnowFlakes          20         20      -30       -25         15\n",
       "MSMC Ancient Runes       10        -15      -30        25         20\n",
       "XPR-50 April's Fool      15         -5       30        -5        -15\n",
       "DLQ33 DeepShark          25          0       35       -30        -15\n",
       "M4LMG RibbonExplosion    -5         -5      -15        10        -20\n",
       "Arctic.50 Bats           20         -8       35       -15        -10\n",
       "XPR-50 RedTriangle       15         -5       30        -5        -15\n",
       "M16 NeonTiger             0          0        0         0          0\n",
       "Arctic.50 RedTriangle    20         -8       35       -15        -10\n",
       "BK57 JackFrost          -17          5       30        18          0\n",
       "M4MLG RedTriangle        -5         -5      -15        10        -20\n",
       "AKS-74U NeonTiger        13         -5      -28        15         15\n",
       "PDW-57 ZombieGene        25        -20      -35        15         15"
      ]
     },
     "execution_count": 39,
     "metadata": {},
     "output_type": "execute_result"
    }
   ],
   "source": [
    "df3 - df3.iloc[0]"
   ]
  },
  {
   "cell_type": "markdown",
   "metadata": {},
   "source": [
    "Los DF se pueden multiplicar por escalares, y se pueden aplicar operadores booleanos, exactamente igual que a los ndarrays.\n"
   ]
  },
  {
   "cell_type": "code",
   "execution_count": 40,
   "metadata": {},
   "outputs": [
    {
     "data": {
      "text/plain": [
       "M16 Evil Clown            90.0\n",
       "S36 Evil Clown            60.0\n",
       "BY15 SnowFlakes          112.5\n",
       "MSMC Ancient Runes       120.0\n",
       "XPR-50 April's Fool       67.5\n",
       "DLQ33 DeepShark           67.5\n",
       "M4LMG RibbonExplosion     60.0\n",
       "Arctic.50 Bats            75.0\n",
       "XPR-50 RedTriangle        67.5\n",
       "M16 NeonTiger             90.0\n",
       "Arctic.50 RedTriangle     75.0\n",
       "BK57 JackFrost            90.0\n",
       "M4MLG RedTriangle         60.0\n",
       "AKS-74U NeonTiger        112.5\n",
       "PDW-57 ZombieGene        112.5\n",
       "Name: Movilidad, dtype: float64"
      ]
     },
     "execution_count": 40,
     "metadata": {},
     "output_type": "execute_result"
    }
   ],
   "source": [
    "df3['Movilidad']*1.5"
   ]
  },
  {
   "cell_type": "markdown",
   "metadata": {},
   "source": [
    "### 4. Operaciones de selección avanzada.\n",
    "\n",
    "En esta sección veremos formas de seleccionar columnas y filas de acuerdo a diferentes condiciones, e incluso a agruparlas (de forma similar a lo que se hace con SQL).\n",
    "\n"
   ]
  },
  {
   "cell_type": "markdown",
   "metadata": {},
   "source": [
    "#### 4.1 Selección de columnas\n",
    "\n",
    "Es posible seleccionar todos los elementos de una o más columnas utilizando una lista de columnas como argumento. (El método `head` simplemente selecciona las primeras filas del resultado)."
   ]
  },
  {
   "cell_type": "code",
   "execution_count": 41,
   "metadata": {},
   "outputs": [
    {
     "data": {
      "text/html": [
       "<div>\n",
       "<style scoped>\n",
       "    .dataframe tbody tr th:only-of-type {\n",
       "        vertical-align: middle;\n",
       "    }\n",
       "\n",
       "    .dataframe tbody tr th {\n",
       "        vertical-align: top;\n",
       "    }\n",
       "\n",
       "    .dataframe thead th {\n",
       "        text-align: right;\n",
       "    }\n",
       "</style>\n",
       "<table border=\"1\" class=\"dataframe\">\n",
       "  <thead>\n",
       "    <tr style=\"text-align: right;\">\n",
       "      <th></th>\n",
       "      <th>Daño</th>\n",
       "      <th>Precisión</th>\n",
       "    </tr>\n",
       "  </thead>\n",
       "  <tbody>\n",
       "    <tr>\n",
       "      <td>M16 Evil Clown</td>\n",
       "      <td>65</td>\n",
       "      <td>60</td>\n",
       "    </tr>\n",
       "    <tr>\n",
       "      <td>S36 Evil Clown</td>\n",
       "      <td>75</td>\n",
       "      <td>35</td>\n",
       "    </tr>\n",
       "    <tr>\n",
       "      <td>BY15 SnowFlakes</td>\n",
       "      <td>85</td>\n",
       "      <td>80</td>\n",
       "    </tr>\n",
       "    <tr>\n",
       "      <td>MSMC Ancient Runes</td>\n",
       "      <td>75</td>\n",
       "      <td>45</td>\n",
       "    </tr>\n",
       "    <tr>\n",
       "      <td>XPR-50 April's Fool</td>\n",
       "      <td>80</td>\n",
       "      <td>55</td>\n",
       "    </tr>\n",
       "  </tbody>\n",
       "</table>\n",
       "</div>"
      ],
      "text/plain": [
       "                     Daño  Precisión\n",
       "M16 Evil Clown         65         60\n",
       "S36 Evil Clown         75         35\n",
       "BY15 SnowFlakes        85         80\n",
       "MSMC Ancient Runes     75         45\n",
       "XPR-50 April's Fool    80         55"
      ]
     },
     "execution_count": 41,
     "metadata": {},
     "output_type": "execute_result"
    }
   ],
   "source": [
    "df3[['Daño','Precisión']].head(5)"
   ]
  },
  {
   "cell_type": "markdown",
   "metadata": {},
   "source": [
    "#### 4.2 Selección de filas por condición booleana\n",
    "\n",
    "Si queremos poner una condición (como en la cláusula WHERE de SQL), utilizaremos la selección por valores Booleanos, que surgirán de una condición. Por ejemplo, para obtener todas las columnas de las armas con precisión mayor a 50:"
   ]
  },
  {
   "cell_type": "code",
   "execution_count": 42,
   "metadata": {},
   "outputs": [
    {
     "data": {
      "text/html": [
       "<div>\n",
       "<style scoped>\n",
       "    .dataframe tbody tr th:only-of-type {\n",
       "        vertical-align: middle;\n",
       "    }\n",
       "\n",
       "    .dataframe tbody tr th {\n",
       "        vertical-align: top;\n",
       "    }\n",
       "\n",
       "    .dataframe thead th {\n",
       "        text-align: right;\n",
       "    }\n",
       "</style>\n",
       "<table border=\"1\" class=\"dataframe\">\n",
       "  <thead>\n",
       "    <tr style=\"text-align: right;\">\n",
       "      <th></th>\n",
       "      <th>Daño</th>\n",
       "      <th>Precisión</th>\n",
       "      <th>Alcance</th>\n",
       "      <th>Cadencia</th>\n",
       "      <th>Movilidad</th>\n",
       "    </tr>\n",
       "  </thead>\n",
       "  <tbody>\n",
       "    <tr>\n",
       "      <td>M16 Evil Clown</td>\n",
       "      <td>65</td>\n",
       "      <td>60</td>\n",
       "      <td>60</td>\n",
       "      <td>45</td>\n",
       "      <td>60</td>\n",
       "    </tr>\n",
       "    <tr>\n",
       "      <td>BY15 SnowFlakes</td>\n",
       "      <td>85</td>\n",
       "      <td>80</td>\n",
       "      <td>30</td>\n",
       "      <td>20</td>\n",
       "      <td>75</td>\n",
       "    </tr>\n",
       "    <tr>\n",
       "      <td>XPR-50 April's Fool</td>\n",
       "      <td>80</td>\n",
       "      <td>55</td>\n",
       "      <td>90</td>\n",
       "      <td>40</td>\n",
       "      <td>45</td>\n",
       "    </tr>\n",
       "    <tr>\n",
       "      <td>DLQ33 DeepShark</td>\n",
       "      <td>90</td>\n",
       "      <td>60</td>\n",
       "      <td>95</td>\n",
       "      <td>15</td>\n",
       "      <td>45</td>\n",
       "    </tr>\n",
       "    <tr>\n",
       "      <td>M4LMG RibbonExplosion</td>\n",
       "      <td>60</td>\n",
       "      <td>55</td>\n",
       "      <td>45</td>\n",
       "      <td>55</td>\n",
       "      <td>40</td>\n",
       "    </tr>\n",
       "    <tr>\n",
       "      <td>Arctic.50 Bats</td>\n",
       "      <td>85</td>\n",
       "      <td>52</td>\n",
       "      <td>95</td>\n",
       "      <td>30</td>\n",
       "      <td>50</td>\n",
       "    </tr>\n",
       "    <tr>\n",
       "      <td>XPR-50 RedTriangle</td>\n",
       "      <td>80</td>\n",
       "      <td>55</td>\n",
       "      <td>90</td>\n",
       "      <td>40</td>\n",
       "      <td>45</td>\n",
       "    </tr>\n",
       "    <tr>\n",
       "      <td>M16 NeonTiger</td>\n",
       "      <td>65</td>\n",
       "      <td>60</td>\n",
       "      <td>60</td>\n",
       "      <td>45</td>\n",
       "      <td>60</td>\n",
       "    </tr>\n",
       "    <tr>\n",
       "      <td>Arctic.50 RedTriangle</td>\n",
       "      <td>85</td>\n",
       "      <td>52</td>\n",
       "      <td>95</td>\n",
       "      <td>30</td>\n",
       "      <td>50</td>\n",
       "    </tr>\n",
       "    <tr>\n",
       "      <td>BK57 JackFrost</td>\n",
       "      <td>48</td>\n",
       "      <td>65</td>\n",
       "      <td>90</td>\n",
       "      <td>63</td>\n",
       "      <td>60</td>\n",
       "    </tr>\n",
       "    <tr>\n",
       "      <td>M4MLG RedTriangle</td>\n",
       "      <td>60</td>\n",
       "      <td>55</td>\n",
       "      <td>45</td>\n",
       "      <td>55</td>\n",
       "      <td>40</td>\n",
       "    </tr>\n",
       "    <tr>\n",
       "      <td>AKS-74U NeonTiger</td>\n",
       "      <td>78</td>\n",
       "      <td>55</td>\n",
       "      <td>32</td>\n",
       "      <td>60</td>\n",
       "      <td>75</td>\n",
       "    </tr>\n",
       "  </tbody>\n",
       "</table>\n",
       "</div>"
      ],
      "text/plain": [
       "                       Daño  Precisión  Alcance  Cadencia  Movilidad\n",
       "M16 Evil Clown           65         60       60        45         60\n",
       "BY15 SnowFlakes          85         80       30        20         75\n",
       "XPR-50 April's Fool      80         55       90        40         45\n",
       "DLQ33 DeepShark          90         60       95        15         45\n",
       "M4LMG RibbonExplosion    60         55       45        55         40\n",
       "Arctic.50 Bats           85         52       95        30         50\n",
       "XPR-50 RedTriangle       80         55       90        40         45\n",
       "M16 NeonTiger            65         60       60        45         60\n",
       "Arctic.50 RedTriangle    85         52       95        30         50\n",
       "BK57 JackFrost           48         65       90        63         60\n",
       "M4MLG RedTriangle        60         55       45        55         40\n",
       "AKS-74U NeonTiger        78         55       32        60         75"
      ]
     },
     "execution_count": 42,
     "metadata": {},
     "output_type": "execute_result"
    }
   ],
   "source": [
    "df3[df3['Precisión']>50]"
   ]
  },
  {
   "cell_type": "markdown",
   "metadata": {},
   "source": [
    "Lo que estamos haciendo es construir una Series de valores booleanos, para que me devuelva todas las filas que tienen True:"
   ]
  },
  {
   "cell_type": "code",
   "execution_count": 43,
   "metadata": {},
   "outputs": [
    {
     "data": {
      "text/plain": [
       "M16 Evil Clown            True\n",
       "S36 Evil Clown           False\n",
       "BY15 SnowFlakes           True\n",
       "MSMC Ancient Runes       False\n",
       "XPR-50 April's Fool       True\n",
       "DLQ33 DeepShark           True\n",
       "M4LMG RibbonExplosion     True\n",
       "Arctic.50 Bats            True\n",
       "XPR-50 RedTriangle        True\n",
       "M16 NeonTiger             True\n",
       "Arctic.50 RedTriangle     True\n",
       "BK57 JackFrost            True\n",
       "M4MLG RedTriangle         True\n",
       "AKS-74U NeonTiger         True\n",
       "PDW-57 ZombieGene        False\n",
       "Name: Precisión, dtype: bool"
      ]
     },
     "execution_count": 43,
     "metadata": {},
     "output_type": "execute_result"
    }
   ],
   "source": [
    "df3['Precisión']>50"
   ]
  },
  {
   "cell_type": "markdown",
   "metadata": {},
   "source": [
    "... y luego pasamos esta Series como argumento para seleccionar aquellas filas que valen True.\n",
    "\n",
    "Para agregar más condiciones, podemos utilizar los operadores booleanos & (AND) y | (OR). Seleccionemos todas las armas que tienen precisión o daño mayores que 80:"
   ]
  },
  {
   "cell_type": "code",
   "execution_count": 44,
   "metadata": {},
   "outputs": [
    {
     "data": {
      "text/html": [
       "<div>\n",
       "<style scoped>\n",
       "    .dataframe tbody tr th:only-of-type {\n",
       "        vertical-align: middle;\n",
       "    }\n",
       "\n",
       "    .dataframe tbody tr th {\n",
       "        vertical-align: top;\n",
       "    }\n",
       "\n",
       "    .dataframe thead th {\n",
       "        text-align: right;\n",
       "    }\n",
       "</style>\n",
       "<table border=\"1\" class=\"dataframe\">\n",
       "  <thead>\n",
       "    <tr style=\"text-align: right;\">\n",
       "      <th></th>\n",
       "      <th>Daño</th>\n",
       "      <th>Precisión</th>\n",
       "      <th>Alcance</th>\n",
       "      <th>Cadencia</th>\n",
       "      <th>Movilidad</th>\n",
       "    </tr>\n",
       "  </thead>\n",
       "  <tbody>\n",
       "    <tr>\n",
       "      <td>BY15 SnowFlakes</td>\n",
       "      <td>85</td>\n",
       "      <td>80</td>\n",
       "      <td>30</td>\n",
       "      <td>20</td>\n",
       "      <td>75</td>\n",
       "    </tr>\n",
       "    <tr>\n",
       "      <td>XPR-50 April's Fool</td>\n",
       "      <td>80</td>\n",
       "      <td>55</td>\n",
       "      <td>90</td>\n",
       "      <td>40</td>\n",
       "      <td>45</td>\n",
       "    </tr>\n",
       "    <tr>\n",
       "      <td>DLQ33 DeepShark</td>\n",
       "      <td>90</td>\n",
       "      <td>60</td>\n",
       "      <td>95</td>\n",
       "      <td>15</td>\n",
       "      <td>45</td>\n",
       "    </tr>\n",
       "    <tr>\n",
       "      <td>Arctic.50 Bats</td>\n",
       "      <td>85</td>\n",
       "      <td>52</td>\n",
       "      <td>95</td>\n",
       "      <td>30</td>\n",
       "      <td>50</td>\n",
       "    </tr>\n",
       "    <tr>\n",
       "      <td>XPR-50 RedTriangle</td>\n",
       "      <td>80</td>\n",
       "      <td>55</td>\n",
       "      <td>90</td>\n",
       "      <td>40</td>\n",
       "      <td>45</td>\n",
       "    </tr>\n",
       "    <tr>\n",
       "      <td>Arctic.50 RedTriangle</td>\n",
       "      <td>85</td>\n",
       "      <td>52</td>\n",
       "      <td>95</td>\n",
       "      <td>30</td>\n",
       "      <td>50</td>\n",
       "    </tr>\n",
       "    <tr>\n",
       "      <td>PDW-57 ZombieGene</td>\n",
       "      <td>90</td>\n",
       "      <td>40</td>\n",
       "      <td>25</td>\n",
       "      <td>60</td>\n",
       "      <td>75</td>\n",
       "    </tr>\n",
       "  </tbody>\n",
       "</table>\n",
       "</div>"
      ],
      "text/plain": [
       "                       Daño  Precisión  Alcance  Cadencia  Movilidad\n",
       "BY15 SnowFlakes          85         80       30        20         75\n",
       "XPR-50 April's Fool      80         55       90        40         45\n",
       "DLQ33 DeepShark          90         60       95        15         45\n",
       "Arctic.50 Bats           85         52       95        30         50\n",
       "XPR-50 RedTriangle       80         55       90        40         45\n",
       "Arctic.50 RedTriangle    85         52       95        30         50\n",
       "PDW-57 ZombieGene        90         40       25        60         75"
      ]
     },
     "execution_count": 44,
     "metadata": {},
     "output_type": "execute_result"
    }
   ],
   "source": [
    "df3[ (df3['Precisión']>=80) | (df3['Daño']>=80) ]"
   ]
  },
  {
   "cell_type": "markdown",
   "metadata": {},
   "source": [
    "Si queremos seleccionar solamente alguna de las columnas Y algunas de las filas, podemos especificarlas en el DataFrame resultado de la operación anterior."
   ]
  },
  {
   "cell_type": "code",
   "execution_count": 45,
   "metadata": {},
   "outputs": [
    {
     "data": {
      "text/html": [
       "<div>\n",
       "<style scoped>\n",
       "    .dataframe tbody tr th:only-of-type {\n",
       "        vertical-align: middle;\n",
       "    }\n",
       "\n",
       "    .dataframe tbody tr th {\n",
       "        vertical-align: top;\n",
       "    }\n",
       "\n",
       "    .dataframe thead th {\n",
       "        text-align: right;\n",
       "    }\n",
       "</style>\n",
       "<table border=\"1\" class=\"dataframe\">\n",
       "  <thead>\n",
       "    <tr style=\"text-align: right;\">\n",
       "      <th></th>\n",
       "      <th>Alcance</th>\n",
       "      <th>Cadencia</th>\n",
       "    </tr>\n",
       "  </thead>\n",
       "  <tbody>\n",
       "    <tr>\n",
       "      <td>M16 Evil Clown</td>\n",
       "      <td>60</td>\n",
       "      <td>45</td>\n",
       "    </tr>\n",
       "    <tr>\n",
       "      <td>BY15 SnowFlakes</td>\n",
       "      <td>30</td>\n",
       "      <td>20</td>\n",
       "    </tr>\n",
       "    <tr>\n",
       "      <td>XPR-50 April's Fool</td>\n",
       "      <td>90</td>\n",
       "      <td>40</td>\n",
       "    </tr>\n",
       "    <tr>\n",
       "      <td>DLQ33 DeepShark</td>\n",
       "      <td>95</td>\n",
       "      <td>15</td>\n",
       "    </tr>\n",
       "    <tr>\n",
       "      <td>M4LMG RibbonExplosion</td>\n",
       "      <td>45</td>\n",
       "      <td>55</td>\n",
       "    </tr>\n",
       "    <tr>\n",
       "      <td>Arctic.50 Bats</td>\n",
       "      <td>95</td>\n",
       "      <td>30</td>\n",
       "    </tr>\n",
       "    <tr>\n",
       "      <td>XPR-50 RedTriangle</td>\n",
       "      <td>90</td>\n",
       "      <td>40</td>\n",
       "    </tr>\n",
       "    <tr>\n",
       "      <td>M16 NeonTiger</td>\n",
       "      <td>60</td>\n",
       "      <td>45</td>\n",
       "    </tr>\n",
       "    <tr>\n",
       "      <td>Arctic.50 RedTriangle</td>\n",
       "      <td>95</td>\n",
       "      <td>30</td>\n",
       "    </tr>\n",
       "    <tr>\n",
       "      <td>BK57 JackFrost</td>\n",
       "      <td>90</td>\n",
       "      <td>63</td>\n",
       "    </tr>\n",
       "    <tr>\n",
       "      <td>M4MLG RedTriangle</td>\n",
       "      <td>45</td>\n",
       "      <td>55</td>\n",
       "    </tr>\n",
       "    <tr>\n",
       "      <td>AKS-74U NeonTiger</td>\n",
       "      <td>32</td>\n",
       "      <td>60</td>\n",
       "    </tr>\n",
       "  </tbody>\n",
       "</table>\n",
       "</div>"
      ],
      "text/plain": [
       "                       Alcance  Cadencia\n",
       "M16 Evil Clown              60        45\n",
       "BY15 SnowFlakes             30        20\n",
       "XPR-50 April's Fool         90        40\n",
       "DLQ33 DeepShark             95        15\n",
       "M4LMG RibbonExplosion       45        55\n",
       "Arctic.50 Bats              95        30\n",
       "XPR-50 RedTriangle          90        40\n",
       "M16 NeonTiger               60        45\n",
       "Arctic.50 RedTriangle       95        30\n",
       "BK57 JackFrost              90        63\n",
       "M4MLG RedTriangle           45        55\n",
       "AKS-74U NeonTiger           32        60"
      ]
     },
     "execution_count": 45,
     "metadata": {},
     "output_type": "execute_result"
    }
   ],
   "source": [
    "df3[df3['Precisión']>50][['Alcance', 'Cadencia']]"
   ]
  },
  {
   "cell_type": "code",
   "execution_count": 46,
   "metadata": {},
   "outputs": [
    {
     "data": {
      "text/html": [
       "<div>\n",
       "<style scoped>\n",
       "    .dataframe tbody tr th:only-of-type {\n",
       "        vertical-align: middle;\n",
       "    }\n",
       "\n",
       "    .dataframe tbody tr th {\n",
       "        vertical-align: top;\n",
       "    }\n",
       "\n",
       "    .dataframe thead th {\n",
       "        text-align: right;\n",
       "    }\n",
       "</style>\n",
       "<table border=\"1\" class=\"dataframe\">\n",
       "  <thead>\n",
       "    <tr style=\"text-align: right;\">\n",
       "      <th></th>\n",
       "      <th>Daño</th>\n",
       "      <th>Precisión</th>\n",
       "      <th>Alcance</th>\n",
       "      <th>Cadencia</th>\n",
       "      <th>Movilidad</th>\n",
       "    </tr>\n",
       "  </thead>\n",
       "  <tbody>\n",
       "    <tr>\n",
       "      <td>M16 Evil Clown</td>\n",
       "      <td>65</td>\n",
       "      <td>60</td>\n",
       "      <td>60</td>\n",
       "      <td>45</td>\n",
       "      <td>60</td>\n",
       "    </tr>\n",
       "    <tr>\n",
       "      <td>S36 Evil Clown</td>\n",
       "      <td>75</td>\n",
       "      <td>35</td>\n",
       "      <td>50</td>\n",
       "      <td>75</td>\n",
       "      <td>40</td>\n",
       "    </tr>\n",
       "    <tr>\n",
       "      <td>BY15 SnowFlakes</td>\n",
       "      <td>85</td>\n",
       "      <td>80</td>\n",
       "      <td>30</td>\n",
       "      <td>20</td>\n",
       "      <td>75</td>\n",
       "    </tr>\n",
       "    <tr>\n",
       "      <td>MSMC Ancient Runes</td>\n",
       "      <td>75</td>\n",
       "      <td>45</td>\n",
       "      <td>30</td>\n",
       "      <td>70</td>\n",
       "      <td>80</td>\n",
       "    </tr>\n",
       "    <tr>\n",
       "      <td>XPR-50 April's Fool</td>\n",
       "      <td>80</td>\n",
       "      <td>55</td>\n",
       "      <td>90</td>\n",
       "      <td>40</td>\n",
       "      <td>45</td>\n",
       "    </tr>\n",
       "    <tr>\n",
       "      <td>DLQ33 DeepShark</td>\n",
       "      <td>90</td>\n",
       "      <td>60</td>\n",
       "      <td>95</td>\n",
       "      <td>15</td>\n",
       "      <td>45</td>\n",
       "    </tr>\n",
       "    <tr>\n",
       "      <td>M4LMG RibbonExplosion</td>\n",
       "      <td>60</td>\n",
       "      <td>55</td>\n",
       "      <td>45</td>\n",
       "      <td>55</td>\n",
       "      <td>40</td>\n",
       "    </tr>\n",
       "    <tr>\n",
       "      <td>Arctic.50 Bats</td>\n",
       "      <td>85</td>\n",
       "      <td>52</td>\n",
       "      <td>95</td>\n",
       "      <td>30</td>\n",
       "      <td>50</td>\n",
       "    </tr>\n",
       "    <tr>\n",
       "      <td>XPR-50 RedTriangle</td>\n",
       "      <td>80</td>\n",
       "      <td>55</td>\n",
       "      <td>90</td>\n",
       "      <td>40</td>\n",
       "      <td>45</td>\n",
       "    </tr>\n",
       "    <tr>\n",
       "      <td>M16 NeonTiger</td>\n",
       "      <td>65</td>\n",
       "      <td>60</td>\n",
       "      <td>60</td>\n",
       "      <td>45</td>\n",
       "      <td>60</td>\n",
       "    </tr>\n",
       "    <tr>\n",
       "      <td>Arctic.50 RedTriangle</td>\n",
       "      <td>85</td>\n",
       "      <td>52</td>\n",
       "      <td>95</td>\n",
       "      <td>30</td>\n",
       "      <td>50</td>\n",
       "    </tr>\n",
       "    <tr>\n",
       "      <td>BK57 JackFrost</td>\n",
       "      <td>48</td>\n",
       "      <td>65</td>\n",
       "      <td>90</td>\n",
       "      <td>63</td>\n",
       "      <td>60</td>\n",
       "    </tr>\n",
       "    <tr>\n",
       "      <td>M4MLG RedTriangle</td>\n",
       "      <td>60</td>\n",
       "      <td>55</td>\n",
       "      <td>45</td>\n",
       "      <td>55</td>\n",
       "      <td>40</td>\n",
       "    </tr>\n",
       "    <tr>\n",
       "      <td>AKS-74U NeonTiger</td>\n",
       "      <td>78</td>\n",
       "      <td>55</td>\n",
       "      <td>32</td>\n",
       "      <td>60</td>\n",
       "      <td>75</td>\n",
       "    </tr>\n",
       "    <tr>\n",
       "      <td>PDW-57 ZombieGene</td>\n",
       "      <td>90</td>\n",
       "      <td>40</td>\n",
       "      <td>25</td>\n",
       "      <td>60</td>\n",
       "      <td>75</td>\n",
       "    </tr>\n",
       "  </tbody>\n",
       "</table>\n",
       "</div>"
      ],
      "text/plain": [
       "                       Daño  Precisión  Alcance  Cadencia  Movilidad\n",
       "M16 Evil Clown           65         60       60        45         60\n",
       "S36 Evil Clown           75         35       50        75         40\n",
       "BY15 SnowFlakes          85         80       30        20         75\n",
       "MSMC Ancient Runes       75         45       30        70         80\n",
       "XPR-50 April's Fool      80         55       90        40         45\n",
       "DLQ33 DeepShark          90         60       95        15         45\n",
       "M4LMG RibbonExplosion    60         55       45        55         40\n",
       "Arctic.50 Bats           85         52       95        30         50\n",
       "XPR-50 RedTriangle       80         55       90        40         45\n",
       "M16 NeonTiger            65         60       60        45         60\n",
       "Arctic.50 RedTriangle    85         52       95        30         50\n",
       "BK57 JackFrost           48         65       90        63         60\n",
       "M4MLG RedTriangle        60         55       45        55         40\n",
       "AKS-74U NeonTiger        78         55       32        60         75\n",
       "PDW-57 ZombieGene        90         40       25        60         75"
      ]
     },
     "execution_count": 46,
     "metadata": {},
     "output_type": "execute_result"
    }
   ],
   "source": [
    "df3"
   ]
  },
  {
   "cell_type": "markdown",
   "metadata": {},
   "source": [
    "Creemos un nuevo DataFrame que tenga, para cada arma, su tipo. Para eso, construimos una Series a partir de un diccionario (donde los índices coincidan con los que tenemos), y simplemente lo asignamos a nueva nueva columna del DataFrame ya construido."
   ]
  },
  {
   "cell_type": "code",
   "execution_count": 47,
   "metadata": {},
   "outputs": [
    {
     "data": {
      "text/html": [
       "<div>\n",
       "<style scoped>\n",
       "    .dataframe tbody tr th:only-of-type {\n",
       "        vertical-align: middle;\n",
       "    }\n",
       "\n",
       "    .dataframe tbody tr th {\n",
       "        vertical-align: top;\n",
       "    }\n",
       "\n",
       "    .dataframe thead th {\n",
       "        text-align: right;\n",
       "    }\n",
       "</style>\n",
       "<table border=\"1\" class=\"dataframe\">\n",
       "  <thead>\n",
       "    <tr style=\"text-align: right;\">\n",
       "      <th></th>\n",
       "      <th>Daño</th>\n",
       "      <th>Precisión</th>\n",
       "      <th>Alcance</th>\n",
       "      <th>Cadencia</th>\n",
       "      <th>Movilidad</th>\n",
       "      <th>Tipo</th>\n",
       "    </tr>\n",
       "  </thead>\n",
       "  <tbody>\n",
       "    <tr>\n",
       "      <td>M16 Evil Clown</td>\n",
       "      <td>65</td>\n",
       "      <td>60</td>\n",
       "      <td>60</td>\n",
       "      <td>45</td>\n",
       "      <td>60</td>\n",
       "      <td>Fusil de Asalto</td>\n",
       "    </tr>\n",
       "    <tr>\n",
       "      <td>S36 Evil Clown</td>\n",
       "      <td>75</td>\n",
       "      <td>35</td>\n",
       "      <td>50</td>\n",
       "      <td>75</td>\n",
       "      <td>40</td>\n",
       "      <td>Ametralladora</td>\n",
       "    </tr>\n",
       "    <tr>\n",
       "      <td>BY15 SnowFlakes</td>\n",
       "      <td>85</td>\n",
       "      <td>80</td>\n",
       "      <td>30</td>\n",
       "      <td>20</td>\n",
       "      <td>75</td>\n",
       "      <td>Escopeta</td>\n",
       "    </tr>\n",
       "    <tr>\n",
       "      <td>MSMC Ancient Runes</td>\n",
       "      <td>75</td>\n",
       "      <td>45</td>\n",
       "      <td>30</td>\n",
       "      <td>70</td>\n",
       "      <td>80</td>\n",
       "      <td>Ametralladora Ligera</td>\n",
       "    </tr>\n",
       "    <tr>\n",
       "      <td>XPR-50 April's Fool</td>\n",
       "      <td>80</td>\n",
       "      <td>55</td>\n",
       "      <td>90</td>\n",
       "      <td>40</td>\n",
       "      <td>45</td>\n",
       "      <td>Fusil de Precisión</td>\n",
       "    </tr>\n",
       "    <tr>\n",
       "      <td>DLQ33 DeepShark</td>\n",
       "      <td>90</td>\n",
       "      <td>60</td>\n",
       "      <td>95</td>\n",
       "      <td>15</td>\n",
       "      <td>45</td>\n",
       "      <td>Fusil de Precisión</td>\n",
       "    </tr>\n",
       "    <tr>\n",
       "      <td>M4LMG RibbonExplosion</td>\n",
       "      <td>60</td>\n",
       "      <td>55</td>\n",
       "      <td>45</td>\n",
       "      <td>55</td>\n",
       "      <td>40</td>\n",
       "      <td>Ametralladora</td>\n",
       "    </tr>\n",
       "    <tr>\n",
       "      <td>Arctic.50 Bats</td>\n",
       "      <td>85</td>\n",
       "      <td>52</td>\n",
       "      <td>95</td>\n",
       "      <td>30</td>\n",
       "      <td>50</td>\n",
       "      <td>Fusil de Precisión</td>\n",
       "    </tr>\n",
       "    <tr>\n",
       "      <td>XPR-50 RedTriangle</td>\n",
       "      <td>80</td>\n",
       "      <td>55</td>\n",
       "      <td>90</td>\n",
       "      <td>40</td>\n",
       "      <td>45</td>\n",
       "      <td>Fusil de Precisión</td>\n",
       "    </tr>\n",
       "    <tr>\n",
       "      <td>M16 NeonTiger</td>\n",
       "      <td>65</td>\n",
       "      <td>60</td>\n",
       "      <td>60</td>\n",
       "      <td>45</td>\n",
       "      <td>60</td>\n",
       "      <td>Fusil de Asalto</td>\n",
       "    </tr>\n",
       "    <tr>\n",
       "      <td>Arctic.50 RedTriangle</td>\n",
       "      <td>85</td>\n",
       "      <td>52</td>\n",
       "      <td>95</td>\n",
       "      <td>30</td>\n",
       "      <td>50</td>\n",
       "      <td>Fusil de Precisión</td>\n",
       "    </tr>\n",
       "    <tr>\n",
       "      <td>BK57 JackFrost</td>\n",
       "      <td>48</td>\n",
       "      <td>65</td>\n",
       "      <td>90</td>\n",
       "      <td>63</td>\n",
       "      <td>60</td>\n",
       "      <td>Fusil de Asalto</td>\n",
       "    </tr>\n",
       "    <tr>\n",
       "      <td>M4MLG RedTriangle</td>\n",
       "      <td>60</td>\n",
       "      <td>55</td>\n",
       "      <td>45</td>\n",
       "      <td>55</td>\n",
       "      <td>40</td>\n",
       "      <td>Ametralladora Ligera</td>\n",
       "    </tr>\n",
       "    <tr>\n",
       "      <td>AKS-74U NeonTiger</td>\n",
       "      <td>78</td>\n",
       "      <td>55</td>\n",
       "      <td>32</td>\n",
       "      <td>60</td>\n",
       "      <td>75</td>\n",
       "      <td>Subfusil</td>\n",
       "    </tr>\n",
       "    <tr>\n",
       "      <td>PDW-57 ZombieGene</td>\n",
       "      <td>90</td>\n",
       "      <td>40</td>\n",
       "      <td>25</td>\n",
       "      <td>60</td>\n",
       "      <td>75</td>\n",
       "      <td>Subfusil</td>\n",
       "    </tr>\n",
       "  </tbody>\n",
       "</table>\n",
       "</div>"
      ],
      "text/plain": [
       "                       Daño  Precisión  Alcance  Cadencia  Movilidad  \\\n",
       "M16 Evil Clown           65         60       60        45         60   \n",
       "S36 Evil Clown           75         35       50        75         40   \n",
       "BY15 SnowFlakes          85         80       30        20         75   \n",
       "MSMC Ancient Runes       75         45       30        70         80   \n",
       "XPR-50 April's Fool      80         55       90        40         45   \n",
       "DLQ33 DeepShark          90         60       95        15         45   \n",
       "M4LMG RibbonExplosion    60         55       45        55         40   \n",
       "Arctic.50 Bats           85         52       95        30         50   \n",
       "XPR-50 RedTriangle       80         55       90        40         45   \n",
       "M16 NeonTiger            65         60       60        45         60   \n",
       "Arctic.50 RedTriangle    85         52       95        30         50   \n",
       "BK57 JackFrost           48         65       90        63         60   \n",
       "M4MLG RedTriangle        60         55       45        55         40   \n",
       "AKS-74U NeonTiger        78         55       32        60         75   \n",
       "PDW-57 ZombieGene        90         40       25        60         75   \n",
       "\n",
       "                                       Tipo  \n",
       "M16 Evil Clown              Fusil de Asalto  \n",
       "S36 Evil Clown                Ametralladora  \n",
       "BY15 SnowFlakes                    Escopeta  \n",
       "MSMC Ancient Runes     Ametralladora Ligera  \n",
       "XPR-50 April's Fool      Fusil de Precisión  \n",
       "DLQ33 DeepShark          Fusil de Precisión  \n",
       "M4LMG RibbonExplosion         Ametralladora  \n",
       "Arctic.50 Bats           Fusil de Precisión  \n",
       "XPR-50 RedTriangle       Fusil de Precisión  \n",
       "M16 NeonTiger               Fusil de Asalto  \n",
       "Arctic.50 RedTriangle    Fusil de Precisión  \n",
       "BK57 JackFrost              Fusil de Asalto  \n",
       "M4MLG RedTriangle      Ametralladora Ligera  \n",
       "AKS-74U NeonTiger                  Subfusil  \n",
       "PDW-57 ZombieGene                  Subfusil  "
      ]
     },
     "execution_count": 47,
     "metadata": {},
     "output_type": "execute_result"
    }
   ],
   "source": [
    "d={ 'M16 Evil Clown':'Fusil de Asalto', \n",
    "    'S36 Evil Clown':'Ametralladora', \n",
    "    'BY15 SnowFlakes':'Escopeta',\n",
    "    'MSMC Ancient Runes':'Ametralladora Ligera', \n",
    "    'XPR-50 April\\'s Fool':'Fusil de Precisión',\n",
    "    'DLQ33 DeepShark':'Fusil de Precisión',\n",
    "    'M4LMG RibbonExplosion':'Ametralladora',\n",
    "    'Arctic.50 Bats':'Fusil de Precisión',\n",
    "    'XPR-50 RedTriangle':'Fusil de Precisión',\n",
    "    'M16 NeonTiger':'Fusil de Asalto', \n",
    "    'Arctic.50 RedTriangle':'Fusil de Precisión',\n",
    "    'BK57 JackFrost':'Fusil de Asalto',\n",
    "    'M4MLG RedTriangle':'Ametralladora Ligera', \n",
    "    'AKS-74U NeonTiger':'Subfusil',\n",
    "    'PDW-57 ZombieGene':'Subfusil'}\n",
    "\n",
    "df3['Tipo']=pd.Series(d)\n",
    "df3"
   ]
  },
  {
   "cell_type": "markdown",
   "metadata": {},
   "source": [
    "Listemos solamente los Fusiles de Precisión"
   ]
  },
  {
   "cell_type": "code",
   "execution_count": 48,
   "metadata": {},
   "outputs": [
    {
     "data": {
      "text/html": [
       "<div>\n",
       "<style scoped>\n",
       "    .dataframe tbody tr th:only-of-type {\n",
       "        vertical-align: middle;\n",
       "    }\n",
       "\n",
       "    .dataframe tbody tr th {\n",
       "        vertical-align: top;\n",
       "    }\n",
       "\n",
       "    .dataframe thead th {\n",
       "        text-align: right;\n",
       "    }\n",
       "</style>\n",
       "<table border=\"1\" class=\"dataframe\">\n",
       "  <thead>\n",
       "    <tr style=\"text-align: right;\">\n",
       "      <th></th>\n",
       "      <th>Daño</th>\n",
       "      <th>Precisión</th>\n",
       "      <th>Alcance</th>\n",
       "      <th>Cadencia</th>\n",
       "      <th>Movilidad</th>\n",
       "      <th>Tipo</th>\n",
       "    </tr>\n",
       "  </thead>\n",
       "  <tbody>\n",
       "    <tr>\n",
       "      <td>XPR-50 April's Fool</td>\n",
       "      <td>80</td>\n",
       "      <td>55</td>\n",
       "      <td>90</td>\n",
       "      <td>40</td>\n",
       "      <td>45</td>\n",
       "      <td>Fusil de Precisión</td>\n",
       "    </tr>\n",
       "    <tr>\n",
       "      <td>DLQ33 DeepShark</td>\n",
       "      <td>90</td>\n",
       "      <td>60</td>\n",
       "      <td>95</td>\n",
       "      <td>15</td>\n",
       "      <td>45</td>\n",
       "      <td>Fusil de Precisión</td>\n",
       "    </tr>\n",
       "    <tr>\n",
       "      <td>Arctic.50 Bats</td>\n",
       "      <td>85</td>\n",
       "      <td>52</td>\n",
       "      <td>95</td>\n",
       "      <td>30</td>\n",
       "      <td>50</td>\n",
       "      <td>Fusil de Precisión</td>\n",
       "    </tr>\n",
       "    <tr>\n",
       "      <td>XPR-50 RedTriangle</td>\n",
       "      <td>80</td>\n",
       "      <td>55</td>\n",
       "      <td>90</td>\n",
       "      <td>40</td>\n",
       "      <td>45</td>\n",
       "      <td>Fusil de Precisión</td>\n",
       "    </tr>\n",
       "    <tr>\n",
       "      <td>Arctic.50 RedTriangle</td>\n",
       "      <td>85</td>\n",
       "      <td>52</td>\n",
       "      <td>95</td>\n",
       "      <td>30</td>\n",
       "      <td>50</td>\n",
       "      <td>Fusil de Precisión</td>\n",
       "    </tr>\n",
       "  </tbody>\n",
       "</table>\n",
       "</div>"
      ],
      "text/plain": [
       "                       Daño  Precisión  Alcance  Cadencia  Movilidad  \\\n",
       "XPR-50 April's Fool      80         55       90        40         45   \n",
       "DLQ33 DeepShark          90         60       95        15         45   \n",
       "Arctic.50 Bats           85         52       95        30         50   \n",
       "XPR-50 RedTriangle       80         55       90        40         45   \n",
       "Arctic.50 RedTriangle    85         52       95        30         50   \n",
       "\n",
       "                                     Tipo  \n",
       "XPR-50 April's Fool    Fusil de Precisión  \n",
       "DLQ33 DeepShark        Fusil de Precisión  \n",
       "Arctic.50 Bats         Fusil de Precisión  \n",
       "XPR-50 RedTriangle     Fusil de Precisión  \n",
       "Arctic.50 RedTriangle  Fusil de Precisión  "
      ]
     },
     "execution_count": 48,
     "metadata": {},
     "output_type": "execute_result"
    }
   ],
   "source": [
    "df3[df3['Tipo']=='Fusil de Precisión']"
   ]
  },
  {
   "cell_type": "markdown",
   "metadata": {},
   "source": [
    "Es posible ordenar los resultados de una consulta (que es siempre un DataFrame):"
   ]
  },
  {
   "cell_type": "code",
   "execution_count": 49,
   "metadata": {},
   "outputs": [
    {
     "data": {
      "text/html": [
       "<div>\n",
       "<style scoped>\n",
       "    .dataframe tbody tr th:only-of-type {\n",
       "        vertical-align: middle;\n",
       "    }\n",
       "\n",
       "    .dataframe tbody tr th {\n",
       "        vertical-align: top;\n",
       "    }\n",
       "\n",
       "    .dataframe thead th {\n",
       "        text-align: right;\n",
       "    }\n",
       "</style>\n",
       "<table border=\"1\" class=\"dataframe\">\n",
       "  <thead>\n",
       "    <tr style=\"text-align: right;\">\n",
       "      <th></th>\n",
       "      <th>Daño</th>\n",
       "      <th>Precisión</th>\n",
       "      <th>Alcance</th>\n",
       "      <th>Cadencia</th>\n",
       "      <th>Movilidad</th>\n",
       "      <th>Tipo</th>\n",
       "    </tr>\n",
       "  </thead>\n",
       "  <tbody>\n",
       "    <tr>\n",
       "      <td>XPR-50 April's Fool</td>\n",
       "      <td>80</td>\n",
       "      <td>55</td>\n",
       "      <td>90</td>\n",
       "      <td>40</td>\n",
       "      <td>45</td>\n",
       "      <td>Fusil de Precisión</td>\n",
       "    </tr>\n",
       "    <tr>\n",
       "      <td>XPR-50 RedTriangle</td>\n",
       "      <td>80</td>\n",
       "      <td>55</td>\n",
       "      <td>90</td>\n",
       "      <td>40</td>\n",
       "      <td>45</td>\n",
       "      <td>Fusil de Precisión</td>\n",
       "    </tr>\n",
       "    <tr>\n",
       "      <td>Arctic.50 Bats</td>\n",
       "      <td>85</td>\n",
       "      <td>52</td>\n",
       "      <td>95</td>\n",
       "      <td>30</td>\n",
       "      <td>50</td>\n",
       "      <td>Fusil de Precisión</td>\n",
       "    </tr>\n",
       "    <tr>\n",
       "      <td>Arctic.50 RedTriangle</td>\n",
       "      <td>85</td>\n",
       "      <td>52</td>\n",
       "      <td>95</td>\n",
       "      <td>30</td>\n",
       "      <td>50</td>\n",
       "      <td>Fusil de Precisión</td>\n",
       "    </tr>\n",
       "    <tr>\n",
       "      <td>DLQ33 DeepShark</td>\n",
       "      <td>90</td>\n",
       "      <td>60</td>\n",
       "      <td>95</td>\n",
       "      <td>15</td>\n",
       "      <td>45</td>\n",
       "      <td>Fusil de Precisión</td>\n",
       "    </tr>\n",
       "  </tbody>\n",
       "</table>\n",
       "</div>"
      ],
      "text/plain": [
       "                       Daño  Precisión  Alcance  Cadencia  Movilidad  \\\n",
       "XPR-50 April's Fool      80         55       90        40         45   \n",
       "XPR-50 RedTriangle       80         55       90        40         45   \n",
       "Arctic.50 Bats           85         52       95        30         50   \n",
       "Arctic.50 RedTriangle    85         52       95        30         50   \n",
       "DLQ33 DeepShark          90         60       95        15         45   \n",
       "\n",
       "                                     Tipo  \n",
       "XPR-50 April's Fool    Fusil de Precisión  \n",
       "XPR-50 RedTriangle     Fusil de Precisión  \n",
       "Arctic.50 Bats         Fusil de Precisión  \n",
       "Arctic.50 RedTriangle  Fusil de Precisión  \n",
       "DLQ33 DeepShark        Fusil de Precisión  "
      ]
     },
     "execution_count": 49,
     "metadata": {},
     "output_type": "execute_result"
    }
   ],
   "source": [
    "df3[df3['Tipo']=='Fusil de Precisión'].sort_values(['Daño', 'Precisión'])"
   ]
  },
  {
   "cell_type": "markdown",
   "metadata": {},
   "source": [
    "#### 4.3 Operaciones sobre conjuntos de filas\n",
    "\n",
    "Si lo que queremos es agrupar las filas de acuerdo al valor de una o más columnas (u otro criterio), en forma similar a la operación GROUP BY de SQL, podemos utilizar el método `groupby`. Por ejemplo, si queremos conocer la precisión promedio según el tipo de arma, primero agrupamos por tipo, luego seleccionamos la Series que nos interesa, y finalmente le aplicamos la operación `mean`"
   ]
  },
  {
   "cell_type": "code",
   "execution_count": 50,
   "metadata": {},
   "outputs": [
    {
     "data": {
      "text/plain": [
       "Tipo\n",
       "Ametralladora           45.000000\n",
       "Ametralladora Ligera    50.000000\n",
       "Escopeta                80.000000\n",
       "Fusil de Asalto         61.666667\n",
       "Fusil de Precisión      54.800000\n",
       "Subfusil                47.500000\n",
       "Name: Precisión, dtype: float64"
      ]
     },
     "execution_count": 50,
     "metadata": {},
     "output_type": "execute_result"
    }
   ],
   "source": [
    "df3.groupby('Tipo')['Precisión'].mean()"
   ]
  },
  {
   "cell_type": "markdown",
   "metadata": {},
   "source": [
    "Si queremos obtener la medida de todas las columnas, usamos `agg` para indicarle que aplique el método `np.mean` a todas las columnas (el método permite más de una función, así que calcularemos también la desviación estándar). En nuestro ejemplo, estamos agrupando según el valor de una sola columna, pero puede agruparse por más de una."
   ]
  },
  {
   "cell_type": "code",
   "execution_count": 51,
   "metadata": {},
   "outputs": [
    {
     "data": {
      "text/html": [
       "<div>\n",
       "<style scoped>\n",
       "    .dataframe tbody tr th:only-of-type {\n",
       "        vertical-align: middle;\n",
       "    }\n",
       "\n",
       "    .dataframe tbody tr th {\n",
       "        vertical-align: top;\n",
       "    }\n",
       "\n",
       "    .dataframe thead tr th {\n",
       "        text-align: left;\n",
       "    }\n",
       "\n",
       "    .dataframe thead tr:last-of-type th {\n",
       "        text-align: right;\n",
       "    }\n",
       "</style>\n",
       "<table border=\"1\" class=\"dataframe\">\n",
       "  <thead>\n",
       "    <tr>\n",
       "      <th></th>\n",
       "      <th colspan=\"2\" halign=\"left\">Daño</th>\n",
       "      <th colspan=\"2\" halign=\"left\">Precisión</th>\n",
       "      <th colspan=\"2\" halign=\"left\">Alcance</th>\n",
       "      <th colspan=\"2\" halign=\"left\">Cadencia</th>\n",
       "      <th colspan=\"2\" halign=\"left\">Movilidad</th>\n",
       "    </tr>\n",
       "    <tr>\n",
       "      <th></th>\n",
       "      <th>mean</th>\n",
       "      <th>std</th>\n",
       "      <th>mean</th>\n",
       "      <th>std</th>\n",
       "      <th>mean</th>\n",
       "      <th>std</th>\n",
       "      <th>mean</th>\n",
       "      <th>std</th>\n",
       "      <th>mean</th>\n",
       "      <th>std</th>\n",
       "    </tr>\n",
       "    <tr>\n",
       "      <th>Tipo</th>\n",
       "      <th></th>\n",
       "      <th></th>\n",
       "      <th></th>\n",
       "      <th></th>\n",
       "      <th></th>\n",
       "      <th></th>\n",
       "      <th></th>\n",
       "      <th></th>\n",
       "      <th></th>\n",
       "      <th></th>\n",
       "    </tr>\n",
       "  </thead>\n",
       "  <tbody>\n",
       "    <tr>\n",
       "      <td>Ametralladora</td>\n",
       "      <td>67.500000</td>\n",
       "      <td>10.606602</td>\n",
       "      <td>45.000000</td>\n",
       "      <td>14.142136</td>\n",
       "      <td>47.5</td>\n",
       "      <td>3.535534</td>\n",
       "      <td>65.0</td>\n",
       "      <td>14.142136</td>\n",
       "      <td>40</td>\n",
       "      <td>0.000000</td>\n",
       "    </tr>\n",
       "    <tr>\n",
       "      <td>Ametralladora Ligera</td>\n",
       "      <td>67.500000</td>\n",
       "      <td>10.606602</td>\n",
       "      <td>50.000000</td>\n",
       "      <td>7.071068</td>\n",
       "      <td>37.5</td>\n",
       "      <td>10.606602</td>\n",
       "      <td>62.5</td>\n",
       "      <td>10.606602</td>\n",
       "      <td>60</td>\n",
       "      <td>28.284271</td>\n",
       "    </tr>\n",
       "    <tr>\n",
       "      <td>Escopeta</td>\n",
       "      <td>85.000000</td>\n",
       "      <td>NaN</td>\n",
       "      <td>80.000000</td>\n",
       "      <td>NaN</td>\n",
       "      <td>30.0</td>\n",
       "      <td>NaN</td>\n",
       "      <td>20.0</td>\n",
       "      <td>NaN</td>\n",
       "      <td>75</td>\n",
       "      <td>NaN</td>\n",
       "    </tr>\n",
       "    <tr>\n",
       "      <td>Fusil de Asalto</td>\n",
       "      <td>59.333333</td>\n",
       "      <td>9.814955</td>\n",
       "      <td>61.666667</td>\n",
       "      <td>2.886751</td>\n",
       "      <td>70.0</td>\n",
       "      <td>17.320508</td>\n",
       "      <td>51.0</td>\n",
       "      <td>10.392305</td>\n",
       "      <td>60</td>\n",
       "      <td>0.000000</td>\n",
       "    </tr>\n",
       "    <tr>\n",
       "      <td>Fusil de Precisión</td>\n",
       "      <td>84.000000</td>\n",
       "      <td>4.183300</td>\n",
       "      <td>54.800000</td>\n",
       "      <td>3.271085</td>\n",
       "      <td>93.0</td>\n",
       "      <td>2.738613</td>\n",
       "      <td>31.0</td>\n",
       "      <td>10.246951</td>\n",
       "      <td>47</td>\n",
       "      <td>2.738613</td>\n",
       "    </tr>\n",
       "    <tr>\n",
       "      <td>Subfusil</td>\n",
       "      <td>84.000000</td>\n",
       "      <td>8.485281</td>\n",
       "      <td>47.500000</td>\n",
       "      <td>10.606602</td>\n",
       "      <td>28.5</td>\n",
       "      <td>4.949747</td>\n",
       "      <td>60.0</td>\n",
       "      <td>0.000000</td>\n",
       "      <td>75</td>\n",
       "      <td>0.000000</td>\n",
       "    </tr>\n",
       "  </tbody>\n",
       "</table>\n",
       "</div>"
      ],
      "text/plain": [
       "                           Daño             Precisión            Alcance  \\\n",
       "                           mean        std       mean        std    mean   \n",
       "Tipo                                                                       \n",
       "Ametralladora         67.500000  10.606602  45.000000  14.142136    47.5   \n",
       "Ametralladora Ligera  67.500000  10.606602  50.000000   7.071068    37.5   \n",
       "Escopeta              85.000000        NaN  80.000000        NaN    30.0   \n",
       "Fusil de Asalto       59.333333   9.814955  61.666667   2.886751    70.0   \n",
       "Fusil de Precisión    84.000000   4.183300  54.800000   3.271085    93.0   \n",
       "Subfusil              84.000000   8.485281  47.500000  10.606602    28.5   \n",
       "\n",
       "                                Cadencia            Movilidad             \n",
       "                            std     mean        std      mean        std  \n",
       "Tipo                                                                      \n",
       "Ametralladora          3.535534     65.0  14.142136        40   0.000000  \n",
       "Ametralladora Ligera  10.606602     62.5  10.606602        60  28.284271  \n",
       "Escopeta                    NaN     20.0        NaN        75        NaN  \n",
       "Fusil de Asalto       17.320508     51.0  10.392305        60   0.000000  \n",
       "Fusil de Precisión     2.738613     31.0  10.246951        47   2.738613  \n",
       "Subfusil               4.949747     60.0   0.000000        75   0.000000  "
      ]
     },
     "execution_count": 51,
     "metadata": {},
     "output_type": "execute_result"
    }
   ],
   "source": [
    "df3.groupby('Tipo').agg([np.mean, np.std])"
   ]
  },
  {
   "cell_type": "markdown",
   "metadata": {},
   "source": [
    "Podemos aplicar diferentes funciones a diferentes columnas..."
   ]
  },
  {
   "cell_type": "code",
   "execution_count": 52,
   "metadata": {},
   "outputs": [
    {
     "data": {
      "text/html": [
       "<div>\n",
       "<style scoped>\n",
       "    .dataframe tbody tr th:only-of-type {\n",
       "        vertical-align: middle;\n",
       "    }\n",
       "\n",
       "    .dataframe tbody tr th {\n",
       "        vertical-align: top;\n",
       "    }\n",
       "\n",
       "    .dataframe thead tr th {\n",
       "        text-align: left;\n",
       "    }\n",
       "\n",
       "    .dataframe thead tr:last-of-type th {\n",
       "        text-align: right;\n",
       "    }\n",
       "</style>\n",
       "<table border=\"1\" class=\"dataframe\">\n",
       "  <thead>\n",
       "    <tr>\n",
       "      <th></th>\n",
       "      <th colspan=\"2\" halign=\"left\">Daño</th>\n",
       "      <th>Alcance</th>\n",
       "    </tr>\n",
       "    <tr>\n",
       "      <th></th>\n",
       "      <th>mean</th>\n",
       "      <th>std</th>\n",
       "      <th>mean</th>\n",
       "    </tr>\n",
       "    <tr>\n",
       "      <th>Tipo</th>\n",
       "      <th></th>\n",
       "      <th></th>\n",
       "      <th></th>\n",
       "    </tr>\n",
       "  </thead>\n",
       "  <tbody>\n",
       "    <tr>\n",
       "      <td>Ametralladora</td>\n",
       "      <td>67.500000</td>\n",
       "      <td>10.606602</td>\n",
       "      <td>47.5</td>\n",
       "    </tr>\n",
       "    <tr>\n",
       "      <td>Ametralladora Ligera</td>\n",
       "      <td>67.500000</td>\n",
       "      <td>10.606602</td>\n",
       "      <td>37.5</td>\n",
       "    </tr>\n",
       "    <tr>\n",
       "      <td>Escopeta</td>\n",
       "      <td>85.000000</td>\n",
       "      <td>NaN</td>\n",
       "      <td>30.0</td>\n",
       "    </tr>\n",
       "    <tr>\n",
       "      <td>Fusil de Asalto</td>\n",
       "      <td>59.333333</td>\n",
       "      <td>9.814955</td>\n",
       "      <td>70.0</td>\n",
       "    </tr>\n",
       "    <tr>\n",
       "      <td>Fusil de Precisión</td>\n",
       "      <td>84.000000</td>\n",
       "      <td>4.183300</td>\n",
       "      <td>93.0</td>\n",
       "    </tr>\n",
       "    <tr>\n",
       "      <td>Subfusil</td>\n",
       "      <td>84.000000</td>\n",
       "      <td>8.485281</td>\n",
       "      <td>28.5</td>\n",
       "    </tr>\n",
       "  </tbody>\n",
       "</table>\n",
       "</div>"
      ],
      "text/plain": [
       "                           Daño            Alcance\n",
       "                           mean        std    mean\n",
       "Tipo                                              \n",
       "Ametralladora         67.500000  10.606602    47.5\n",
       "Ametralladora Ligera  67.500000  10.606602    37.5\n",
       "Escopeta              85.000000        NaN    30.0\n",
       "Fusil de Asalto       59.333333   9.814955    70.0\n",
       "Fusil de Precisión    84.000000   4.183300    93.0\n",
       "Subfusil              84.000000   8.485281    28.5"
      ]
     },
     "execution_count": 52,
     "metadata": {},
     "output_type": "execute_result"
    }
   ],
   "source": [
    "df3.groupby('Tipo').agg({'Daño':[np.mean, np.std], 'Alcance':[np.mean]})"
   ]
  },
  {
   "cell_type": "markdown",
   "metadata": {},
   "source": [
    "Y podemos también aplicarlo a todas las filas de nuestro DataFrame:"
   ]
  },
  {
   "cell_type": "code",
   "execution_count": 53,
   "metadata": {},
   "outputs": [
    {
     "data": {
      "text/html": [
       "<div>\n",
       "<style scoped>\n",
       "    .dataframe tbody tr th:only-of-type {\n",
       "        vertical-align: middle;\n",
       "    }\n",
       "\n",
       "    .dataframe tbody tr th {\n",
       "        vertical-align: top;\n",
       "    }\n",
       "\n",
       "    .dataframe thead th {\n",
       "        text-align: right;\n",
       "    }\n",
       "</style>\n",
       "<table border=\"1\" class=\"dataframe\">\n",
       "  <thead>\n",
       "    <tr style=\"text-align: right;\">\n",
       "      <th></th>\n",
       "      <th>Daño</th>\n",
       "      <th>Precisión</th>\n",
       "      <th>Alcance</th>\n",
       "      <th>Cadencia</th>\n",
       "      <th>Movilidad</th>\n",
       "    </tr>\n",
       "  </thead>\n",
       "  <tbody>\n",
       "    <tr>\n",
       "      <td>mean</td>\n",
       "      <td>74.733333</td>\n",
       "      <td>54.933333</td>\n",
       "      <td>62.133333</td>\n",
       "      <td>46.866667</td>\n",
       "      <td>56.000000</td>\n",
       "    </tr>\n",
       "    <tr>\n",
       "      <td>std</td>\n",
       "      <td>12.498381</td>\n",
       "      <td>10.498072</td>\n",
       "      <td>27.601415</td>\n",
       "      <td>17.872032</td>\n",
       "      <td>14.417252</td>\n",
       "    </tr>\n",
       "  </tbody>\n",
       "</table>\n",
       "</div>"
      ],
      "text/plain": [
       "           Daño  Precisión    Alcance   Cadencia  Movilidad\n",
       "mean  74.733333  54.933333  62.133333  46.866667  56.000000\n",
       "std   12.498381  10.498072  27.601415  17.872032  14.417252"
      ]
     },
     "execution_count": 53,
     "metadata": {},
     "output_type": "execute_result"
    }
   ],
   "source": [
    "df3.agg([np.mean, np.std])"
   ]
  },
  {
   "cell_type": "code",
   "execution_count": 54,
   "metadata": {},
   "outputs": [
    {
     "data": {
      "text/plain": [
       "54.93333333333333"
      ]
     },
     "execution_count": 54,
     "metadata": {},
     "output_type": "execute_result"
    }
   ],
   "source": [
    "df3['Precisión'].agg('mean')"
   ]
  },
  {
   "cell_type": "markdown",
   "metadata": {},
   "source": [
    "#### 4.4 Más selección de elementos:  `loc` e `iloc` revisados"
   ]
  },
  {
   "cell_type": "markdown",
   "metadata": {},
   "source": [
    "El atributo `loc` (observar que no es un método!) permite seleccionar partes (slices) de un DataFrame, utilizando los indexes o las columnas. \n",
    "\n",
    "Por ejemplo, como vimos antes, podemos utilizarlo para seleccionar un arma (fila) si tenemos su nombre, y nos devuelve una Series con todos los valores de cada columna de esa fila."
   ]
  },
  {
   "cell_type": "code",
   "execution_count": 55,
   "metadata": {},
   "outputs": [
    {
     "data": {
      "text/plain": [
       "Daño               90\n",
       "Precisión          40\n",
       "Alcance            25\n",
       "Cadencia           60\n",
       "Movilidad          75\n",
       "Tipo         Subfusil\n",
       "Name: PDW-57 ZombieGene, dtype: object"
      ]
     },
     "execution_count": 55,
     "metadata": {},
     "output_type": "execute_result"
    }
   ],
   "source": [
    "df3.loc['PDW-57 ZombieGene']\n"
   ]
  },
  {
   "cell_type": "markdown",
   "metadata": {},
   "source": [
    "También podemos especificar más de una fila, utilizando una lista (nótese que es una lista dentro de otra)"
   ]
  },
  {
   "cell_type": "code",
   "execution_count": 56,
   "metadata": {},
   "outputs": [
    {
     "data": {
      "text/html": [
       "<div>\n",
       "<style scoped>\n",
       "    .dataframe tbody tr th:only-of-type {\n",
       "        vertical-align: middle;\n",
       "    }\n",
       "\n",
       "    .dataframe tbody tr th {\n",
       "        vertical-align: top;\n",
       "    }\n",
       "\n",
       "    .dataframe thead th {\n",
       "        text-align: right;\n",
       "    }\n",
       "</style>\n",
       "<table border=\"1\" class=\"dataframe\">\n",
       "  <thead>\n",
       "    <tr style=\"text-align: right;\">\n",
       "      <th></th>\n",
       "      <th>Daño</th>\n",
       "      <th>Precisión</th>\n",
       "      <th>Alcance</th>\n",
       "      <th>Cadencia</th>\n",
       "      <th>Movilidad</th>\n",
       "      <th>Tipo</th>\n",
       "    </tr>\n",
       "  </thead>\n",
       "  <tbody>\n",
       "    <tr>\n",
       "      <td>XPR-50 RedTriangle</td>\n",
       "      <td>80</td>\n",
       "      <td>55</td>\n",
       "      <td>90</td>\n",
       "      <td>40</td>\n",
       "      <td>45</td>\n",
       "      <td>Fusil de Precisión</td>\n",
       "    </tr>\n",
       "    <tr>\n",
       "      <td>PDW-57 ZombieGene</td>\n",
       "      <td>90</td>\n",
       "      <td>40</td>\n",
       "      <td>25</td>\n",
       "      <td>60</td>\n",
       "      <td>75</td>\n",
       "      <td>Subfusil</td>\n",
       "    </tr>\n",
       "  </tbody>\n",
       "</table>\n",
       "</div>"
      ],
      "text/plain": [
       "                    Daño  Precisión  Alcance  Cadencia  Movilidad  \\\n",
       "XPR-50 RedTriangle    80         55       90        40         45   \n",
       "PDW-57 ZombieGene     90         40       25        60         75   \n",
       "\n",
       "                                  Tipo  \n",
       "XPR-50 RedTriangle  Fusil de Precisión  \n",
       "PDW-57 ZombieGene             Subfusil  "
      ]
     },
     "execution_count": 56,
     "metadata": {},
     "output_type": "execute_result"
    }
   ],
   "source": [
    "df3.loc[['XPR-50 RedTriangle', 'PDW-57 ZombieGene']]\n",
    "\n"
   ]
  },
  {
   "cell_type": "markdown",
   "metadata": {},
   "source": [
    "Si queremos obtener una celda, el primer elemento de loc nos selecciona la fila, y el segundo la columna:"
   ]
  },
  {
   "cell_type": "code",
   "execution_count": 57,
   "metadata": {},
   "outputs": [
    {
     "data": {
      "text/plain": [
       "90"
      ]
     },
     "execution_count": 57,
     "metadata": {},
     "output_type": "execute_result"
    }
   ],
   "source": [
    "df3.loc['XPR-50 RedTriangle', 'Alcance']\n"
   ]
  },
  {
   "cell_type": "markdown",
   "metadata": {},
   "source": [
    "Podemos setear el valor de una celda utilizando `loc`"
   ]
  },
  {
   "cell_type": "code",
   "execution_count": 58,
   "metadata": {},
   "outputs": [
    {
     "data": {
      "text/html": [
       "<div>\n",
       "<style scoped>\n",
       "    .dataframe tbody tr th:only-of-type {\n",
       "        vertical-align: middle;\n",
       "    }\n",
       "\n",
       "    .dataframe tbody tr th {\n",
       "        vertical-align: top;\n",
       "    }\n",
       "\n",
       "    .dataframe thead th {\n",
       "        text-align: right;\n",
       "    }\n",
       "</style>\n",
       "<table border=\"1\" class=\"dataframe\">\n",
       "  <thead>\n",
       "    <tr style=\"text-align: right;\">\n",
       "      <th></th>\n",
       "      <th>Daño</th>\n",
       "      <th>Precisión</th>\n",
       "      <th>Alcance</th>\n",
       "      <th>Cadencia</th>\n",
       "      <th>Movilidad</th>\n",
       "      <th>Tipo</th>\n",
       "    </tr>\n",
       "  </thead>\n",
       "  <tbody>\n",
       "    <tr>\n",
       "      <td>XPR-50 RedTriangle</td>\n",
       "      <td>80</td>\n",
       "      <td>55</td>\n",
       "      <td>180</td>\n",
       "      <td>40</td>\n",
       "      <td>45</td>\n",
       "      <td>Fusil de Precisión</td>\n",
       "    </tr>\n",
       "    <tr>\n",
       "      <td>PDW-57 ZombieGene</td>\n",
       "      <td>90</td>\n",
       "      <td>40</td>\n",
       "      <td>25</td>\n",
       "      <td>60</td>\n",
       "      <td>75</td>\n",
       "      <td>Subfusil</td>\n",
       "    </tr>\n",
       "  </tbody>\n",
       "</table>\n",
       "</div>"
      ],
      "text/plain": [
       "                    Daño  Precisión  Alcance  Cadencia  Movilidad  \\\n",
       "XPR-50 RedTriangle    80         55      180        40         45   \n",
       "PDW-57 ZombieGene     90         40       25        60         75   \n",
       "\n",
       "                                  Tipo  \n",
       "XPR-50 RedTriangle  Fusil de Precisión  \n",
       "PDW-57 ZombieGene             Subfusil  "
      ]
     },
     "execution_count": 58,
     "metadata": {},
     "output_type": "execute_result"
    }
   ],
   "source": [
    "df3.loc['XPR-50 RedTriangle', 'Alcance'] *=2\n",
    "df3.loc[['XPR-50 RedTriangle', 'PDW-57 ZombieGene']]\n"
   ]
  },
  {
   "cell_type": "markdown",
   "metadata": {},
   "source": [
    "Finalmente, podemos especificar slices, indicando, en cada axis, el primer y último elemento (que estarán incluidos). "
   ]
  },
  {
   "cell_type": "code",
   "execution_count": 59,
   "metadata": {},
   "outputs": [
    {
     "data": {
      "text/html": [
       "<div>\n",
       "<style scoped>\n",
       "    .dataframe tbody tr th:only-of-type {\n",
       "        vertical-align: middle;\n",
       "    }\n",
       "\n",
       "    .dataframe tbody tr th {\n",
       "        vertical-align: top;\n",
       "    }\n",
       "\n",
       "    .dataframe thead th {\n",
       "        text-align: right;\n",
       "    }\n",
       "</style>\n",
       "<table border=\"1\" class=\"dataframe\">\n",
       "  <thead>\n",
       "    <tr style=\"text-align: right;\">\n",
       "      <th></th>\n",
       "      <th>Daño</th>\n",
       "      <th>Precisión</th>\n",
       "      <th>Alcance</th>\n",
       "    </tr>\n",
       "  </thead>\n",
       "  <tbody>\n",
       "    <tr>\n",
       "      <td>XPR-50 RedTriangle</td>\n",
       "      <td>80</td>\n",
       "      <td>55</td>\n",
       "      <td>180</td>\n",
       "    </tr>\n",
       "    <tr>\n",
       "      <td>PDW-57 ZombieGene</td>\n",
       "      <td>90</td>\n",
       "      <td>40</td>\n",
       "      <td>25</td>\n",
       "    </tr>\n",
       "  </tbody>\n",
       "</table>\n",
       "</div>"
      ],
      "text/plain": [
       "                    Daño  Precisión  Alcance\n",
       "XPR-50 RedTriangle    80         55      180\n",
       "PDW-57 ZombieGene     90         40       25"
      ]
     },
     "execution_count": 59,
     "metadata": {},
     "output_type": "execute_result"
    }
   ],
   "source": [
    "df3.loc[['XPR-50 RedTriangle', 'PDW-57 ZombieGene'], 'Daño':'Alcance']\n"
   ]
  },
  {
   "cell_type": "markdown",
   "metadata": {},
   "source": [
    "Alternativamente, el método `iloc` permite hacer lo mismo, pero especifiando posiciones enteras, en lugar de labels (de forma similar a como lo hace NumPy)"
   ]
  }
 ],
 "metadata": {
  "kernelspec": {
   "display_name": "Python 3",
   "language": "python",
   "name": "python3"
  },
  "language_info": {
   "codemirror_mode": {
    "name": "ipython",
    "version": 3
   },
   "file_extension": ".py",
   "mimetype": "text/x-python",
   "name": "python",
   "nbconvert_exporter": "python",
   "pygments_lexer": "ipython3",
   "version": "3.6.9"
  }
 },
 "nbformat": 4,
 "nbformat_minor": 4
}
