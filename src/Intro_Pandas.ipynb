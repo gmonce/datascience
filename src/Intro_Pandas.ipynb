{
  "nbformat": 4,
  "nbformat_minor": 0,
  "metadata": {
    "kernelspec": {
      "display_name": "Python 3",
      "language": "python",
      "name": "python3"
    },
    "language_info": {
      "codemirror_mode": {
        "name": "ipython",
        "version": 3
      },
      "file_extension": ".py",
      "mimetype": "text/x-python",
      "name": "python",
      "nbconvert_exporter": "python",
      "pygments_lexer": "ipython3",
      "version": "3.6.9"
    },
    "colab": {
      "name": "Intro_Pandas.ipynb",
      "provenance": []
    }
  },
  "cells": [
    {
      "cell_type": "markdown",
      "metadata": {
        "id": "ZbzGZ5nx93iY",
        "colab_type": "text"
      },
      "source": [
        "## Módulo 2: Pandas, análisis de datos con Python"
      ]
    },
    {
      "cell_type": "markdown",
      "metadata": {
        "id": "qrgAvcoi93io",
        "colab_type": "text"
      },
      "source": [
        "[![Open In Colab](https://colab.research.google.com/assets/colab-badge.svg)](https://colab.research.google.com/github/gmonce/datascience/blob/master/src/Intro_Pandas.ipynb)\n",
        "\n",
        "\n",
        "En este notebook describiremos las características principales, y formas de trabajo con Pandas, la principal biblioteca de análisis de datos del ecosistema Python. Pandas está apoyado en NumPy, la biblioteca de análisis numérico básica de Python (este módulo asume que el lector conoce NumPy).\n",
        "\n",
        "Referencias:\n",
        "\n",
        "- El notebook está basado principalmente en los tutoriales disponibles en la [documentación](https://pandas.pydata.org/pandas-docs/stable/) de Pandas.\n",
        "- Para la comparación con SQL, es muy útil [esta](https://pandas.pydata.org/pandas-docs/stable/getting_started/comparison/comparison_with_sql.html) sección en particular de la documentación\n",
        "- Muy buenos [ejercicios](https://github.com/guipsamora/pandas_exercises) que cubren aspectos aquí presentados (y algunos más). \n",
        "\n"
      ]
    },
    {
      "cell_type": "code",
      "metadata": {
        "id": "xzp0A71393iw",
        "colab_type": "code",
        "colab": {
          "base_uri": "https://localhost:8080/",
          "height": 34
        },
        "outputId": "ffef87cd-75fa-43dc-ae5e-886d519cc31a"
      },
      "source": [
        "import numpy as np\n",
        "import pandas as pd\n",
        "\n",
        "# Este notebook fue elaborado con la versión 0.23.4 de Pandas\n",
        "pd.__version__"
      ],
      "execution_count": 8,
      "outputs": [
        {
          "output_type": "execute_result",
          "data": {
            "text/plain": [
              "'0.25.3'"
            ]
          },
          "metadata": {
            "tags": []
          },
          "execution_count": 8
        }
      ]
    },
    {
      "cell_type": "markdown",
      "metadata": {
        "id": "zk1gZeXk93jY",
        "colab_type": "text"
      },
      "source": [
        "## 1. Series\n",
        "\n",
        "Una de las estructuras básicas de Pandas es la serie: un array unidimensional _etiquetado_ que puede contener cualquier tipo de datos de Python. Atención: en Pandas los datos y sus etiquetas van siempre juntos, a menos que esa relación se quiebre a propósito. Las etiquetas son llamadas en general _index_. Las Series pueden crearse a partir de ndarrays, diccionarios de Python o valores escalares.\n",
        "\n",
        "Las series se comportan de forma muy similar a un ndarray, y son argumentos válidos de la mayoría de las funciones de NumPy. \n",
        "\n",
        "Creemos una serie de 5 números aleatorios, cada uno con su etiqueta asociada (el largo del índice debe ser el mismo que el del array). Si no se le indica índice, le va a poner [0, ..., len(data)-1]"
      ]
    },
    {
      "cell_type": "code",
      "metadata": {
        "id": "0BQB2u8y93jr",
        "colab_type": "code",
        "colab": {
          "base_uri": "https://localhost:8080/",
          "height": 121
        },
        "outputId": "5b64bf87-571e-4e00-db06-676687d6badb"
      },
      "source": [
        "s= pd.Series(np.random.randn(5), index=['a','b','c','d','e'])\n",
        "s\n"
      ],
      "execution_count": 9,
      "outputs": [
        {
          "output_type": "execute_result",
          "data": {
            "text/plain": [
              "a    0.682555\n",
              "b    0.410991\n",
              "c   -0.940965\n",
              "d    2.032562\n",
              "e   -0.017147\n",
              "dtype: float64"
            ]
          },
          "metadata": {
            "tags": []
          },
          "execution_count": 9
        }
      ]
    },
    {
      "cell_type": "markdown",
      "metadata": {
        "id": "fcoXZS0P93kC",
        "colab_type": "text"
      },
      "source": [
        "También podemos crear una Series a partir de un diccionario de Python. Como no le especificamos índices, se genera a partir de las primeras componentes, ordenadas en el mismo orden de inserción en el diccionario:"
      ]
    },
    {
      "cell_type": "code",
      "metadata": {
        "id": "odvdgu0x93kP",
        "colab_type": "code",
        "colab": {
          "base_uri": "https://localhost:8080/",
          "height": 86
        },
        "outputId": "a05fa81a-c258-40cb-c9fe-98ebcd4086df"
      },
      "source": [
        "d = pd.Series({'b': 1, 'a': 0, 'c': 2})\n",
        "d"
      ],
      "execution_count": 10,
      "outputs": [
        {
          "output_type": "execute_result",
          "data": {
            "text/plain": [
              "b    1\n",
              "a    0\n",
              "c    2\n",
              "dtype: int64"
            ]
          },
          "metadata": {
            "tags": []
          },
          "execution_count": 10
        }
      ]
    },
    {
      "cell_type": "markdown",
      "metadata": {
        "id": "q6epKr3X93k2",
        "colab_type": "text"
      },
      "source": [
        "Podemos especificar un índice para indicar el orden (y para meter elementos inexistentes). La forma estándar en Pandas de especificar la ausencia de datos es vía NaN.\n"
      ]
    },
    {
      "cell_type": "markdown",
      "metadata": {
        "id": "Fb9wdodB93lB",
        "colab_type": "text"
      },
      "source": [
        "Las series se comportan de forma muy similar a un array y, de hecho, la mayoría de las operaciones con ndarrays admiten series como argumentos (y manejan apropiadamente las etiquetas, para que sigan asociadas luego de realizada la operación):"
      ]
    },
    {
      "cell_type": "code",
      "metadata": {
        "id": "GBG7SrBt93lM",
        "colab_type": "code",
        "colab": {
          "base_uri": "https://localhost:8080/",
          "height": 69
        },
        "outputId": "e2595f28-51a4-455a-ca49-49178e8a5da1"
      },
      "source": [
        "s[s > s.median()] # Seleccionamos los valores mayores a la mediana del array. "
      ],
      "execution_count": 11,
      "outputs": [
        {
          "output_type": "execute_result",
          "data": {
            "text/plain": [
              "a    0.682555\n",
              "d    2.032562\n",
              "dtype: float64"
            ]
          },
          "metadata": {
            "tags": []
          },
          "execution_count": 11
        }
      ]
    },
    {
      "cell_type": "markdown",
      "metadata": {
        "id": "jjMhR2oW93lb",
        "colab_type": "text"
      },
      "source": [
        "Alternativamente, podemos ver a las series como un diccionario (de largo fijo) que puede accederse y cambiar valores a través de su índice:"
      ]
    },
    {
      "cell_type": "code",
      "metadata": {
        "id": "Jrdt2aZ293lh",
        "colab_type": "code",
        "colab": {
          "base_uri": "https://localhost:8080/",
          "height": 34
        },
        "outputId": "404fc4ed-0e83-4d51-effa-a620774a465a"
      },
      "source": [
        "s['a']"
      ],
      "execution_count": 12,
      "outputs": [
        {
          "output_type": "execute_result",
          "data": {
            "text/plain": [
              "0.6825546509190483"
            ]
          },
          "metadata": {
            "tags": []
          },
          "execution_count": 12
        }
      ]
    },
    {
      "cell_type": "code",
      "metadata": {
        "id": "NtVJmYpt93lv",
        "colab_type": "code",
        "colab": {
          "base_uri": "https://localhost:8080/",
          "height": 121
        },
        "outputId": "26c858fa-f912-45f9-84e7-3f421ce50483"
      },
      "source": [
        "s['e']=12\n",
        "\n",
        "s"
      ],
      "execution_count": 13,
      "outputs": [
        {
          "output_type": "execute_result",
          "data": {
            "text/plain": [
              "a     0.682555\n",
              "b     0.410991\n",
              "c    -0.940965\n",
              "d     2.032562\n",
              "e    12.000000\n",
              "dtype: float64"
            ]
          },
          "metadata": {
            "tags": []
          },
          "execution_count": 13
        }
      ]
    },
    {
      "cell_type": "code",
      "metadata": {
        "id": "S5JtwS0F93l_",
        "colab_type": "code",
        "colab": {
          "base_uri": "https://localhost:8080/",
          "height": 34
        },
        "outputId": "f3d262ac-6e68-46af-e89e-f24136981afe"
      },
      "source": [
        "'e' in s"
      ],
      "execution_count": 14,
      "outputs": [
        {
          "output_type": "execute_result",
          "data": {
            "text/plain": [
              "True"
            ]
          },
          "metadata": {
            "tags": []
          },
          "execution_count": 14
        }
      ]
    },
    {
      "cell_type": "code",
      "metadata": {
        "id": "RuB16o1A93mN",
        "colab_type": "code",
        "colab": {
          "base_uri": "https://localhost:8080/",
          "height": 34
        },
        "outputId": "fcde409c-dcf6-404c-cded-a521859fd8ff"
      },
      "source": [
        "s.get(['f'],np.nan) # Si no ponemos el get, devuelve error"
      ],
      "execution_count": 15,
      "outputs": [
        {
          "output_type": "execute_result",
          "data": {
            "text/plain": [
              "nan"
            ]
          },
          "metadata": {
            "tags": []
          },
          "execution_count": 15
        }
      ]
    },
    {
      "cell_type": "markdown",
      "metadata": {
        "id": "yvywbn5T93mc",
        "colab_type": "text"
      },
      "source": [
        "Al igual que en NumPy, las series admite operaciones vectorizadas. También es interesante ver que las operaciones sobre Series alinean en base a las etiquetas automáticamente (utilizando la unión de las etiquetas de las series involucradas). Cuando una etiqueta está en una serie pero no en la otra, el resultado se marca como NaN."
      ]
    },
    {
      "cell_type": "code",
      "metadata": {
        "id": "RQ80wmWR93mj",
        "colab_type": "code",
        "colab": {
          "base_uri": "https://localhost:8080/",
          "height": 104
        },
        "outputId": "3d34ea2d-8d85-4457-98e3-722d72c9ffe7"
      },
      "source": [
        "s[1:] # sin el primer elemento"
      ],
      "execution_count": 16,
      "outputs": [
        {
          "output_type": "execute_result",
          "data": {
            "text/plain": [
              "b     0.410991\n",
              "c    -0.940965\n",
              "d     2.032562\n",
              "e    12.000000\n",
              "dtype: float64"
            ]
          },
          "metadata": {
            "tags": []
          },
          "execution_count": 16
        }
      ]
    },
    {
      "cell_type": "code",
      "metadata": {
        "id": "t7r_LSwe93m4",
        "colab_type": "code",
        "colab": {
          "base_uri": "https://localhost:8080/",
          "height": 104
        },
        "outputId": "1b6a67b9-fb94-4545-9657-3d16b2cc4526"
      },
      "source": [
        "s[:-1] # sin el último elemento"
      ],
      "execution_count": 17,
      "outputs": [
        {
          "output_type": "execute_result",
          "data": {
            "text/plain": [
              "a    0.682555\n",
              "b    0.410991\n",
              "c   -0.940965\n",
              "d    2.032562\n",
              "dtype: float64"
            ]
          },
          "metadata": {
            "tags": []
          },
          "execution_count": 17
        }
      ]
    },
    {
      "cell_type": "code",
      "metadata": {
        "id": "Wiq7Qn9C93nR",
        "colab_type": "code",
        "colab": {
          "base_uri": "https://localhost:8080/",
          "height": 121
        },
        "outputId": "b0cb4e7f-528d-414f-b469-f1a840b9c328"
      },
      "source": [
        "s[1:]+s[:-1]"
      ],
      "execution_count": 18,
      "outputs": [
        {
          "output_type": "execute_result",
          "data": {
            "text/plain": [
              "a         NaN\n",
              "b    0.821983\n",
              "c   -1.881930\n",
              "d    4.065125\n",
              "e         NaN\n",
              "dtype: float64"
            ]
          },
          "metadata": {
            "tags": []
          },
          "execution_count": 18
        }
      ]
    },
    {
      "cell_type": "markdown",
      "metadata": {
        "id": "rbyXEay_93nw",
        "colab_type": "text"
      },
      "source": [
        "Las Series tienen un nombre, que está en el atributo name, y que puede especificarse al crearlo, o cambiarse con rename()"
      ]
    },
    {
      "cell_type": "code",
      "metadata": {
        "id": "IGoWIv3993n5",
        "colab_type": "code",
        "colab": {
          "base_uri": "https://localhost:8080/",
          "height": 121
        },
        "outputId": "cbf31464-14a7-4b9e-db09-c4e85ca40fcd"
      },
      "source": [
        "s2=s.rename('My_index')\n",
        "s2"
      ],
      "execution_count": 19,
      "outputs": [
        {
          "output_type": "execute_result",
          "data": {
            "text/plain": [
              "a     0.682555\n",
              "b     0.410991\n",
              "c    -0.940965\n",
              "d     2.032562\n",
              "e    12.000000\n",
              "Name: My_index, dtype: float64"
            ]
          },
          "metadata": {
            "tags": []
          },
          "execution_count": 19
        }
      ]
    },
    {
      "cell_type": "markdown",
      "metadata": {
        "id": "gy_uyyEr93oT",
        "colab_type": "text"
      },
      "source": [
        "La función `value_counts` es muy interesante, porque, dada una `Series`,  nos devuelve una `Series` con la cantidad de valores diferentes (en nuestro ejemplo es trivial, porque todos los valores son diferentes). "
      ]
    },
    {
      "cell_type": "code",
      "metadata": {
        "id": "Gve4dTgf93oY",
        "colab_type": "code",
        "colab": {
          "base_uri": "https://localhost:8080/",
          "height": 121
        },
        "outputId": "577ff0fc-beb1-4302-dceb-72c117590743"
      },
      "source": [
        "s.value_counts()"
      ],
      "execution_count": 20,
      "outputs": [
        {
          "output_type": "execute_result",
          "data": {
            "text/plain": [
              "-0.940965     1\n",
              " 0.682555     1\n",
              " 2.032562     1\n",
              " 0.410991     1\n",
              " 12.000000    1\n",
              "dtype: int64"
            ]
          },
          "metadata": {
            "tags": []
          },
          "execution_count": 20
        }
      ]
    },
    {
      "cell_type": "markdown",
      "metadata": {
        "id": "L7cEYQHt93os",
        "colab_type": "text"
      },
      "source": [
        "## 2. DataFrames"
      ]
    },
    {
      "cell_type": "markdown",
      "metadata": {
        "id": "XXeT_HJv93pA",
        "colab_type": "text"
      },
      "source": [
        "Los DataFrames son la estructura más comúnmente utilizada en pandas. Pueden verse como un conjunto de columnas de diferentes tipos (como una planilla Excel), o como una matriz 2D con etiquetas asociadas. Al crearlas, se pueden especificar los \"index\" (etiquetas de las filas), y/o los \"columns\" (las etiquetas de las columnas).\n",
        "\n",
        "Existen muchas formas de crear DataFrames: como un diccionario de Series o ndarrays, ndarrays de 2 dimensiones, una Serie o incluso otro DataFrame. \n",
        "\n",
        "Creemos un DataFrame a partir de un 2D-ndarray: \n"
      ]
    },
    {
      "cell_type": "code",
      "metadata": {
        "id": "gig-b1Kr93pH",
        "colab_type": "code",
        "colab": {
          "base_uri": "https://localhost:8080/",
          "height": 269
        },
        "outputId": "68dda03c-51ea-4f72-e525-a1e5c7228b98"
      },
      "source": [
        "a = np.array([\n",
        "    [65,60,60,45,60],\n",
        "    [75,35,50,75,40],\n",
        "    [85,80,30,20,75],\n",
        "    [75,45,30,70,80],\n",
        "    [80,55,90,40,45],\n",
        "    [90,60,95,15,45],\n",
        "    [60,55,45,55,40]\n",
        "])\n",
        "df=pd.DataFrame(a)\n",
        "df"
      ],
      "execution_count": 21,
      "outputs": [
        {
          "output_type": "execute_result",
          "data": {
            "text/html": [
              "<div>\n",
              "<style scoped>\n",
              "    .dataframe tbody tr th:only-of-type {\n",
              "        vertical-align: middle;\n",
              "    }\n",
              "\n",
              "    .dataframe tbody tr th {\n",
              "        vertical-align: top;\n",
              "    }\n",
              "\n",
              "    .dataframe thead th {\n",
              "        text-align: right;\n",
              "    }\n",
              "</style>\n",
              "<table border=\"1\" class=\"dataframe\">\n",
              "  <thead>\n",
              "    <tr style=\"text-align: right;\">\n",
              "      <th></th>\n",
              "      <th>0</th>\n",
              "      <th>1</th>\n",
              "      <th>2</th>\n",
              "      <th>3</th>\n",
              "      <th>4</th>\n",
              "    </tr>\n",
              "  </thead>\n",
              "  <tbody>\n",
              "    <tr>\n",
              "      <th>0</th>\n",
              "      <td>65</td>\n",
              "      <td>60</td>\n",
              "      <td>60</td>\n",
              "      <td>45</td>\n",
              "      <td>60</td>\n",
              "    </tr>\n",
              "    <tr>\n",
              "      <th>1</th>\n",
              "      <td>75</td>\n",
              "      <td>35</td>\n",
              "      <td>50</td>\n",
              "      <td>75</td>\n",
              "      <td>40</td>\n",
              "    </tr>\n",
              "    <tr>\n",
              "      <th>2</th>\n",
              "      <td>85</td>\n",
              "      <td>80</td>\n",
              "      <td>30</td>\n",
              "      <td>20</td>\n",
              "      <td>75</td>\n",
              "    </tr>\n",
              "    <tr>\n",
              "      <th>3</th>\n",
              "      <td>75</td>\n",
              "      <td>45</td>\n",
              "      <td>30</td>\n",
              "      <td>70</td>\n",
              "      <td>80</td>\n",
              "    </tr>\n",
              "    <tr>\n",
              "      <th>4</th>\n",
              "      <td>80</td>\n",
              "      <td>55</td>\n",
              "      <td>90</td>\n",
              "      <td>40</td>\n",
              "      <td>45</td>\n",
              "    </tr>\n",
              "    <tr>\n",
              "      <th>5</th>\n",
              "      <td>90</td>\n",
              "      <td>60</td>\n",
              "      <td>95</td>\n",
              "      <td>15</td>\n",
              "      <td>45</td>\n",
              "    </tr>\n",
              "    <tr>\n",
              "      <th>6</th>\n",
              "      <td>60</td>\n",
              "      <td>55</td>\n",
              "      <td>45</td>\n",
              "      <td>55</td>\n",
              "      <td>40</td>\n",
              "    </tr>\n",
              "  </tbody>\n",
              "</table>\n",
              "</div>"
            ],
            "text/plain": [
              "    0   1   2   3   4\n",
              "0  65  60  60  45  60\n",
              "1  75  35  50  75  40\n",
              "2  85  80  30  20  75\n",
              "3  75  45  30  70  80\n",
              "4  80  55  90  40  45\n",
              "5  90  60  95  15  45\n",
              "6  60  55  45  55  40"
            ]
          },
          "metadata": {
            "tags": []
          },
          "execution_count": 21
        }
      ]
    },
    {
      "cell_type": "markdown",
      "metadata": {
        "id": "yQMBeEjQ93pk",
        "colab_type": "text"
      },
      "source": [
        "Obsérvese que los nombres de los index y los columns son creados automáticamente, pero probablemente querramos especificarlos en la creación. En el ejemplo anterior, nos gustaría ponerle nombres a las columnas (en este caso, cada fila tiene las características de un arma en el juego Call of Duty):"
      ]
    },
    {
      "cell_type": "code",
      "metadata": {
        "id": "rGxJ4i4G93pm",
        "colab_type": "code",
        "colab": {
          "base_uri": "https://localhost:8080/",
          "height": 269
        },
        "outputId": "2ab06b4c-038f-44e3-9042-438b9f6efe6f"
      },
      "source": [
        "df=pd.DataFrame(a,columns=['Daño','Precisión','Alcance','Cadencia','Movilidad'])\n",
        "df"
      ],
      "execution_count": 22,
      "outputs": [
        {
          "output_type": "execute_result",
          "data": {
            "text/html": [
              "<div>\n",
              "<style scoped>\n",
              "    .dataframe tbody tr th:only-of-type {\n",
              "        vertical-align: middle;\n",
              "    }\n",
              "\n",
              "    .dataframe tbody tr th {\n",
              "        vertical-align: top;\n",
              "    }\n",
              "\n",
              "    .dataframe thead th {\n",
              "        text-align: right;\n",
              "    }\n",
              "</style>\n",
              "<table border=\"1\" class=\"dataframe\">\n",
              "  <thead>\n",
              "    <tr style=\"text-align: right;\">\n",
              "      <th></th>\n",
              "      <th>Daño</th>\n",
              "      <th>Precisión</th>\n",
              "      <th>Alcance</th>\n",
              "      <th>Cadencia</th>\n",
              "      <th>Movilidad</th>\n",
              "    </tr>\n",
              "  </thead>\n",
              "  <tbody>\n",
              "    <tr>\n",
              "      <th>0</th>\n",
              "      <td>65</td>\n",
              "      <td>60</td>\n",
              "      <td>60</td>\n",
              "      <td>45</td>\n",
              "      <td>60</td>\n",
              "    </tr>\n",
              "    <tr>\n",
              "      <th>1</th>\n",
              "      <td>75</td>\n",
              "      <td>35</td>\n",
              "      <td>50</td>\n",
              "      <td>75</td>\n",
              "      <td>40</td>\n",
              "    </tr>\n",
              "    <tr>\n",
              "      <th>2</th>\n",
              "      <td>85</td>\n",
              "      <td>80</td>\n",
              "      <td>30</td>\n",
              "      <td>20</td>\n",
              "      <td>75</td>\n",
              "    </tr>\n",
              "    <tr>\n",
              "      <th>3</th>\n",
              "      <td>75</td>\n",
              "      <td>45</td>\n",
              "      <td>30</td>\n",
              "      <td>70</td>\n",
              "      <td>80</td>\n",
              "    </tr>\n",
              "    <tr>\n",
              "      <th>4</th>\n",
              "      <td>80</td>\n",
              "      <td>55</td>\n",
              "      <td>90</td>\n",
              "      <td>40</td>\n",
              "      <td>45</td>\n",
              "    </tr>\n",
              "    <tr>\n",
              "      <th>5</th>\n",
              "      <td>90</td>\n",
              "      <td>60</td>\n",
              "      <td>95</td>\n",
              "      <td>15</td>\n",
              "      <td>45</td>\n",
              "    </tr>\n",
              "    <tr>\n",
              "      <th>6</th>\n",
              "      <td>60</td>\n",
              "      <td>55</td>\n",
              "      <td>45</td>\n",
              "      <td>55</td>\n",
              "      <td>40</td>\n",
              "    </tr>\n",
              "  </tbody>\n",
              "</table>\n",
              "</div>"
            ],
            "text/plain": [
              "   Daño  Precisión  Alcance  Cadencia  Movilidad\n",
              "0    65         60       60        45         60\n",
              "1    75         35       50        75         40\n",
              "2    85         80       30        20         75\n",
              "3    75         45       30        70         80\n",
              "4    80         55       90        40         45\n",
              "5    90         60       95        15         45\n",
              "6    60         55       45        55         40"
            ]
          },
          "metadata": {
            "tags": []
          },
          "execution_count": 22
        }
      ]
    },
    {
      "cell_type": "markdown",
      "metadata": {
        "id": "djpoAnCc93qA",
        "colab_type": "text"
      },
      "source": [
        "Podemos consultar los índices y las columnas:"
      ]
    },
    {
      "cell_type": "code",
      "metadata": {
        "id": "VfN9QhmU93qJ",
        "colab_type": "code",
        "colab": {
          "base_uri": "https://localhost:8080/",
          "height": 52
        },
        "outputId": "f24df9ed-f284-40b9-e78e-a7ebc8544a49"
      },
      "source": [
        "df.index, df.columns\n"
      ],
      "execution_count": 23,
      "outputs": [
        {
          "output_type": "execute_result",
          "data": {
            "text/plain": [
              "(RangeIndex(start=0, stop=7, step=1),\n",
              " Index(['Daño', 'Precisión', 'Alcance', 'Cadencia', 'Movilidad'], dtype='object'))"
            ]
          },
          "metadata": {
            "tags": []
          },
          "execution_count": 23
        }
      ]
    },
    {
      "cell_type": "markdown",
      "metadata": {
        "id": "pEFMAqDt93qY",
        "colab_type": "text"
      },
      "source": [
        "Veamos otra forma de crear DataFrames: a través de una lista de Series. Obsérvese qué pasa cuando se especifica un índice que no está en el diccionario. "
      ]
    },
    {
      "cell_type": "code",
      "metadata": {
        "id": "HBdSAdwf93qa",
        "colab_type": "code",
        "colab": {
          "base_uri": "https://localhost:8080/",
          "height": 175
        },
        "outputId": "4359e615-dc50-45f0-ed4d-11cb5e42b318"
      },
      "source": [
        "d = {'one': pd.Series([1., 2., 3.], index=['a', 'b', 'c']),\n",
        "     'two': pd.Series([1., 2., 3., 4.], index=['a', 'b', 'c', 'd'])} \n",
        "# Obsérvese que en la columna 'one' no tenemos nada en la fila 'd'\n",
        "df2 = pd.DataFrame(d)\n",
        "df2"
      ],
      "execution_count": 24,
      "outputs": [
        {
          "output_type": "execute_result",
          "data": {
            "text/html": [
              "<div>\n",
              "<style scoped>\n",
              "    .dataframe tbody tr th:only-of-type {\n",
              "        vertical-align: middle;\n",
              "    }\n",
              "\n",
              "    .dataframe tbody tr th {\n",
              "        vertical-align: top;\n",
              "    }\n",
              "\n",
              "    .dataframe thead th {\n",
              "        text-align: right;\n",
              "    }\n",
              "</style>\n",
              "<table border=\"1\" class=\"dataframe\">\n",
              "  <thead>\n",
              "    <tr style=\"text-align: right;\">\n",
              "      <th></th>\n",
              "      <th>one</th>\n",
              "      <th>two</th>\n",
              "    </tr>\n",
              "  </thead>\n",
              "  <tbody>\n",
              "    <tr>\n",
              "      <th>a</th>\n",
              "      <td>1.0</td>\n",
              "      <td>1.0</td>\n",
              "    </tr>\n",
              "    <tr>\n",
              "      <th>b</th>\n",
              "      <td>2.0</td>\n",
              "      <td>2.0</td>\n",
              "    </tr>\n",
              "    <tr>\n",
              "      <th>c</th>\n",
              "      <td>3.0</td>\n",
              "      <td>3.0</td>\n",
              "    </tr>\n",
              "    <tr>\n",
              "      <th>d</th>\n",
              "      <td>NaN</td>\n",
              "      <td>4.0</td>\n",
              "    </tr>\n",
              "  </tbody>\n",
              "</table>\n",
              "</div>"
            ],
            "text/plain": [
              "   one  two\n",
              "a  1.0  1.0\n",
              "b  2.0  2.0\n",
              "c  3.0  3.0\n",
              "d  NaN  4.0"
            ]
          },
          "metadata": {
            "tags": []
          },
          "execution_count": 24
        }
      ]
    },
    {
      "cell_type": "code",
      "metadata": {
        "id": "A0SsW8Ex93rJ",
        "colab_type": "code",
        "colab": {
          "base_uri": "https://localhost:8080/",
          "height": 175
        },
        "outputId": "c300a296-a6c8-428e-f0df-698ff011e631"
      },
      "source": [
        "pd.DataFrame(d, columns=['two','three'])"
      ],
      "execution_count": 25,
      "outputs": [
        {
          "output_type": "execute_result",
          "data": {
            "text/html": [
              "<div>\n",
              "<style scoped>\n",
              "    .dataframe tbody tr th:only-of-type {\n",
              "        vertical-align: middle;\n",
              "    }\n",
              "\n",
              "    .dataframe tbody tr th {\n",
              "        vertical-align: top;\n",
              "    }\n",
              "\n",
              "    .dataframe thead th {\n",
              "        text-align: right;\n",
              "    }\n",
              "</style>\n",
              "<table border=\"1\" class=\"dataframe\">\n",
              "  <thead>\n",
              "    <tr style=\"text-align: right;\">\n",
              "      <th></th>\n",
              "      <th>two</th>\n",
              "      <th>three</th>\n",
              "    </tr>\n",
              "  </thead>\n",
              "  <tbody>\n",
              "    <tr>\n",
              "      <th>a</th>\n",
              "      <td>1.0</td>\n",
              "      <td>NaN</td>\n",
              "    </tr>\n",
              "    <tr>\n",
              "      <th>b</th>\n",
              "      <td>2.0</td>\n",
              "      <td>NaN</td>\n",
              "    </tr>\n",
              "    <tr>\n",
              "      <th>c</th>\n",
              "      <td>3.0</td>\n",
              "      <td>NaN</td>\n",
              "    </tr>\n",
              "    <tr>\n",
              "      <th>d</th>\n",
              "      <td>4.0</td>\n",
              "      <td>NaN</td>\n",
              "    </tr>\n",
              "  </tbody>\n",
              "</table>\n",
              "</div>"
            ],
            "text/plain": [
              "   two three\n",
              "a  1.0   NaN\n",
              "b  2.0   NaN\n",
              "c  3.0   NaN\n",
              "d  4.0   NaN"
            ]
          },
          "metadata": {
            "tags": []
          },
          "execution_count": 25
        }
      ]
    },
    {
      "cell_type": "markdown",
      "metadata": {
        "id": "SGXcHaeD93rU",
        "colab_type": "text"
      },
      "source": [
        "Los arrays son objetos, y tienen métodos asociados. Utilice el método `dtype` para conocer el tipo de los elementos de `a`"
      ]
    },
    {
      "cell_type": "markdown",
      "metadata": {
        "id": "HNaVRix-93rX",
        "colab_type": "text"
      },
      "source": [
        "En la [documentación](https://pandas.pydata.org/pandas-docs/stable/getting_started/dsintro.html#dsintro) pueden verse muchas formas de crear DataFrames. Si creamos un DataFrame a partir de una Series, obtendremos una sola columna, cuyo nombre es el nombre de la Series. \n",
        "\n",
        "Una forma de tener una idea general sobre nuestro DataFrame es utilizando el método `describe`"
      ]
    },
    {
      "cell_type": "code",
      "metadata": {
        "id": "vx5fdWmM93rc",
        "colab_type": "code",
        "colab": {
          "base_uri": "https://localhost:8080/",
          "height": 300
        },
        "outputId": "ddc71ff7-1a80-4ede-a767-6405682edf35"
      },
      "source": [
        "df.describe()"
      ],
      "execution_count": 26,
      "outputs": [
        {
          "output_type": "execute_result",
          "data": {
            "text/html": [
              "<div>\n",
              "<style scoped>\n",
              "    .dataframe tbody tr th:only-of-type {\n",
              "        vertical-align: middle;\n",
              "    }\n",
              "\n",
              "    .dataframe tbody tr th {\n",
              "        vertical-align: top;\n",
              "    }\n",
              "\n",
              "    .dataframe thead th {\n",
              "        text-align: right;\n",
              "    }\n",
              "</style>\n",
              "<table border=\"1\" class=\"dataframe\">\n",
              "  <thead>\n",
              "    <tr style=\"text-align: right;\">\n",
              "      <th></th>\n",
              "      <th>Daño</th>\n",
              "      <th>Precisión</th>\n",
              "      <th>Alcance</th>\n",
              "      <th>Cadencia</th>\n",
              "      <th>Movilidad</th>\n",
              "    </tr>\n",
              "  </thead>\n",
              "  <tbody>\n",
              "    <tr>\n",
              "      <th>count</th>\n",
              "      <td>7.000000</td>\n",
              "      <td>7.000000</td>\n",
              "      <td>7.000000</td>\n",
              "      <td>7.000000</td>\n",
              "      <td>7.000000</td>\n",
              "    </tr>\n",
              "    <tr>\n",
              "      <th>mean</th>\n",
              "      <td>75.714286</td>\n",
              "      <td>55.714286</td>\n",
              "      <td>57.142857</td>\n",
              "      <td>45.714286</td>\n",
              "      <td>55.000000</td>\n",
              "    </tr>\n",
              "    <tr>\n",
              "      <th>std</th>\n",
              "      <td>10.578505</td>\n",
              "      <td>13.972763</td>\n",
              "      <td>26.435006</td>\n",
              "      <td>22.990681</td>\n",
              "      <td>16.832508</td>\n",
              "    </tr>\n",
              "    <tr>\n",
              "      <th>min</th>\n",
              "      <td>60.000000</td>\n",
              "      <td>35.000000</td>\n",
              "      <td>30.000000</td>\n",
              "      <td>15.000000</td>\n",
              "      <td>40.000000</td>\n",
              "    </tr>\n",
              "    <tr>\n",
              "      <th>25%</th>\n",
              "      <td>70.000000</td>\n",
              "      <td>50.000000</td>\n",
              "      <td>37.500000</td>\n",
              "      <td>30.000000</td>\n",
              "      <td>42.500000</td>\n",
              "    </tr>\n",
              "    <tr>\n",
              "      <th>50%</th>\n",
              "      <td>75.000000</td>\n",
              "      <td>55.000000</td>\n",
              "      <td>50.000000</td>\n",
              "      <td>45.000000</td>\n",
              "      <td>45.000000</td>\n",
              "    </tr>\n",
              "    <tr>\n",
              "      <th>75%</th>\n",
              "      <td>82.500000</td>\n",
              "      <td>60.000000</td>\n",
              "      <td>75.000000</td>\n",
              "      <td>62.500000</td>\n",
              "      <td>67.500000</td>\n",
              "    </tr>\n",
              "    <tr>\n",
              "      <th>max</th>\n",
              "      <td>90.000000</td>\n",
              "      <td>80.000000</td>\n",
              "      <td>95.000000</td>\n",
              "      <td>75.000000</td>\n",
              "      <td>80.000000</td>\n",
              "    </tr>\n",
              "  </tbody>\n",
              "</table>\n",
              "</div>"
            ],
            "text/plain": [
              "            Daño  Precisión    Alcance   Cadencia  Movilidad\n",
              "count   7.000000   7.000000   7.000000   7.000000   7.000000\n",
              "mean   75.714286  55.714286  57.142857  45.714286  55.000000\n",
              "std    10.578505  13.972763  26.435006  22.990681  16.832508\n",
              "min    60.000000  35.000000  30.000000  15.000000  40.000000\n",
              "25%    70.000000  50.000000  37.500000  30.000000  42.500000\n",
              "50%    75.000000  55.000000  50.000000  45.000000  45.000000\n",
              "75%    82.500000  60.000000  75.000000  62.500000  67.500000\n",
              "max    90.000000  80.000000  95.000000  75.000000  80.000000"
            ]
          },
          "metadata": {
            "tags": []
          },
          "execution_count": 26
        }
      ]
    },
    {
      "cell_type": "markdown",
      "metadata": {
        "id": "KixeIVLb93rl",
        "colab_type": "text"
      },
      "source": [
        "## 3.Operaciones básicas con DataFrames\n",
        "Los DataFrames pueden verse (como dijimos antes) como diccionarios de Series, indexados por los nombres de las columnas. Pueden accederse y modificarse igual que los diccionarios comunes."
      ]
    },
    {
      "cell_type": "code",
      "metadata": {
        "id": "twoX58Vf93rn",
        "colab_type": "code",
        "colab": {
          "base_uri": "https://localhost:8080/",
          "height": 156
        },
        "outputId": "cd312077-cec9-4782-b0a0-7e57ad879c46"
      },
      "source": [
        "df['Precisión']"
      ],
      "execution_count": 27,
      "outputs": [
        {
          "output_type": "execute_result",
          "data": {
            "text/plain": [
              "0    60\n",
              "1    35\n",
              "2    80\n",
              "3    45\n",
              "4    55\n",
              "5    60\n",
              "6    55\n",
              "Name: Precisión, dtype: int64"
            ]
          },
          "metadata": {
            "tags": []
          },
          "execution_count": 27
        }
      ]
    },
    {
      "cell_type": "code",
      "metadata": {
        "id": "cxgUfGPB93rw",
        "colab_type": "code",
        "colab": {
          "base_uri": "https://localhost:8080/",
          "height": 269
        },
        "outputId": "06ffa48d-e1ec-4e40-83a2-1974a82a392b"
      },
      "source": [
        "df['Dummy']=df['Alcance']*df['Daño']\n",
        "df['Es_preciso']=df['Precisión'] >= 60\n",
        "df"
      ],
      "execution_count": 28,
      "outputs": [
        {
          "output_type": "execute_result",
          "data": {
            "text/html": [
              "<div>\n",
              "<style scoped>\n",
              "    .dataframe tbody tr th:only-of-type {\n",
              "        vertical-align: middle;\n",
              "    }\n",
              "\n",
              "    .dataframe tbody tr th {\n",
              "        vertical-align: top;\n",
              "    }\n",
              "\n",
              "    .dataframe thead th {\n",
              "        text-align: right;\n",
              "    }\n",
              "</style>\n",
              "<table border=\"1\" class=\"dataframe\">\n",
              "  <thead>\n",
              "    <tr style=\"text-align: right;\">\n",
              "      <th></th>\n",
              "      <th>Daño</th>\n",
              "      <th>Precisión</th>\n",
              "      <th>Alcance</th>\n",
              "      <th>Cadencia</th>\n",
              "      <th>Movilidad</th>\n",
              "      <th>Dummy</th>\n",
              "      <th>Es_preciso</th>\n",
              "    </tr>\n",
              "  </thead>\n",
              "  <tbody>\n",
              "    <tr>\n",
              "      <th>0</th>\n",
              "      <td>65</td>\n",
              "      <td>60</td>\n",
              "      <td>60</td>\n",
              "      <td>45</td>\n",
              "      <td>60</td>\n",
              "      <td>3900</td>\n",
              "      <td>True</td>\n",
              "    </tr>\n",
              "    <tr>\n",
              "      <th>1</th>\n",
              "      <td>75</td>\n",
              "      <td>35</td>\n",
              "      <td>50</td>\n",
              "      <td>75</td>\n",
              "      <td>40</td>\n",
              "      <td>3750</td>\n",
              "      <td>False</td>\n",
              "    </tr>\n",
              "    <tr>\n",
              "      <th>2</th>\n",
              "      <td>85</td>\n",
              "      <td>80</td>\n",
              "      <td>30</td>\n",
              "      <td>20</td>\n",
              "      <td>75</td>\n",
              "      <td>2550</td>\n",
              "      <td>True</td>\n",
              "    </tr>\n",
              "    <tr>\n",
              "      <th>3</th>\n",
              "      <td>75</td>\n",
              "      <td>45</td>\n",
              "      <td>30</td>\n",
              "      <td>70</td>\n",
              "      <td>80</td>\n",
              "      <td>2250</td>\n",
              "      <td>False</td>\n",
              "    </tr>\n",
              "    <tr>\n",
              "      <th>4</th>\n",
              "      <td>80</td>\n",
              "      <td>55</td>\n",
              "      <td>90</td>\n",
              "      <td>40</td>\n",
              "      <td>45</td>\n",
              "      <td>7200</td>\n",
              "      <td>False</td>\n",
              "    </tr>\n",
              "    <tr>\n",
              "      <th>5</th>\n",
              "      <td>90</td>\n",
              "      <td>60</td>\n",
              "      <td>95</td>\n",
              "      <td>15</td>\n",
              "      <td>45</td>\n",
              "      <td>8550</td>\n",
              "      <td>True</td>\n",
              "    </tr>\n",
              "    <tr>\n",
              "      <th>6</th>\n",
              "      <td>60</td>\n",
              "      <td>55</td>\n",
              "      <td>45</td>\n",
              "      <td>55</td>\n",
              "      <td>40</td>\n",
              "      <td>2700</td>\n",
              "      <td>False</td>\n",
              "    </tr>\n",
              "  </tbody>\n",
              "</table>\n",
              "</div>"
            ],
            "text/plain": [
              "   Daño  Precisión  Alcance  Cadencia  Movilidad  Dummy  Es_preciso\n",
              "0    65         60       60        45         60   3900        True\n",
              "1    75         35       50        75         40   3750       False\n",
              "2    85         80       30        20         75   2550        True\n",
              "3    75         45       30        70         80   2250       False\n",
              "4    80         55       90        40         45   7200       False\n",
              "5    90         60       95        15         45   8550        True\n",
              "6    60         55       45        55         40   2700       False"
            ]
          },
          "metadata": {
            "tags": []
          },
          "execution_count": 28
        }
      ]
    },
    {
      "cell_type": "markdown",
      "metadata": {
        "id": "8K7tcv_R93r7",
        "colab_type": "text"
      },
      "source": [
        "Es posible calcular funciones numéricas sobre algunas columnas:"
      ]
    },
    {
      "cell_type": "code",
      "metadata": {
        "id": "UlO1mwl293r-",
        "colab_type": "code",
        "colab": {
          "base_uri": "https://localhost:8080/",
          "height": 69
        },
        "outputId": "3fbad118-2ae2-4285-dd13-1aa91b46debd"
      },
      "source": [
        "df[['Precisión', 'Alcance']].mean()"
      ],
      "execution_count": 29,
      "outputs": [
        {
          "output_type": "execute_result",
          "data": {
            "text/plain": [
              "Precisión    55.714286\n",
              "Alcance      57.142857\n",
              "dtype: float64"
            ]
          },
          "metadata": {
            "tags": []
          },
          "execution_count": 29
        }
      ]
    },
    {
      "cell_type": "markdown",
      "metadata": {
        "id": "IEhZnB_t93sM",
        "colab_type": "text"
      },
      "source": [
        "Para borrar una columna, usamos ```del```: "
      ]
    },
    {
      "cell_type": "code",
      "metadata": {
        "id": "_qNXlhhi93sP",
        "colab_type": "code",
        "colab": {
          "base_uri": "https://localhost:8080/",
          "height": 269
        },
        "outputId": "f4eeffcd-1e0f-4a91-be75-1913eb79fc97"
      },
      "source": [
        "del df['Dummy']\n",
        "df"
      ],
      "execution_count": 30,
      "outputs": [
        {
          "output_type": "execute_result",
          "data": {
            "text/html": [
              "<div>\n",
              "<style scoped>\n",
              "    .dataframe tbody tr th:only-of-type {\n",
              "        vertical-align: middle;\n",
              "    }\n",
              "\n",
              "    .dataframe tbody tr th {\n",
              "        vertical-align: top;\n",
              "    }\n",
              "\n",
              "    .dataframe thead th {\n",
              "        text-align: right;\n",
              "    }\n",
              "</style>\n",
              "<table border=\"1\" class=\"dataframe\">\n",
              "  <thead>\n",
              "    <tr style=\"text-align: right;\">\n",
              "      <th></th>\n",
              "      <th>Daño</th>\n",
              "      <th>Precisión</th>\n",
              "      <th>Alcance</th>\n",
              "      <th>Cadencia</th>\n",
              "      <th>Movilidad</th>\n",
              "      <th>Es_preciso</th>\n",
              "    </tr>\n",
              "  </thead>\n",
              "  <tbody>\n",
              "    <tr>\n",
              "      <th>0</th>\n",
              "      <td>65</td>\n",
              "      <td>60</td>\n",
              "      <td>60</td>\n",
              "      <td>45</td>\n",
              "      <td>60</td>\n",
              "      <td>True</td>\n",
              "    </tr>\n",
              "    <tr>\n",
              "      <th>1</th>\n",
              "      <td>75</td>\n",
              "      <td>35</td>\n",
              "      <td>50</td>\n",
              "      <td>75</td>\n",
              "      <td>40</td>\n",
              "      <td>False</td>\n",
              "    </tr>\n",
              "    <tr>\n",
              "      <th>2</th>\n",
              "      <td>85</td>\n",
              "      <td>80</td>\n",
              "      <td>30</td>\n",
              "      <td>20</td>\n",
              "      <td>75</td>\n",
              "      <td>True</td>\n",
              "    </tr>\n",
              "    <tr>\n",
              "      <th>3</th>\n",
              "      <td>75</td>\n",
              "      <td>45</td>\n",
              "      <td>30</td>\n",
              "      <td>70</td>\n",
              "      <td>80</td>\n",
              "      <td>False</td>\n",
              "    </tr>\n",
              "    <tr>\n",
              "      <th>4</th>\n",
              "      <td>80</td>\n",
              "      <td>55</td>\n",
              "      <td>90</td>\n",
              "      <td>40</td>\n",
              "      <td>45</td>\n",
              "      <td>False</td>\n",
              "    </tr>\n",
              "    <tr>\n",
              "      <th>5</th>\n",
              "      <td>90</td>\n",
              "      <td>60</td>\n",
              "      <td>95</td>\n",
              "      <td>15</td>\n",
              "      <td>45</td>\n",
              "      <td>True</td>\n",
              "    </tr>\n",
              "    <tr>\n",
              "      <th>6</th>\n",
              "      <td>60</td>\n",
              "      <td>55</td>\n",
              "      <td>45</td>\n",
              "      <td>55</td>\n",
              "      <td>40</td>\n",
              "      <td>False</td>\n",
              "    </tr>\n",
              "  </tbody>\n",
              "</table>\n",
              "</div>"
            ],
            "text/plain": [
              "   Daño  Precisión  Alcance  Cadencia  Movilidad  Es_preciso\n",
              "0    65         60       60        45         60        True\n",
              "1    75         35       50        75         40       False\n",
              "2    85         80       30        20         75        True\n",
              "3    75         45       30        70         80       False\n",
              "4    80         55       90        40         45       False\n",
              "5    90         60       95        15         45        True\n",
              "6    60         55       45        55         40       False"
            ]
          },
          "metadata": {
            "tags": []
          },
          "execution_count": 30
        }
      ]
    },
    {
      "cell_type": "markdown",
      "metadata": {
        "id": "ufkReg-A93sg",
        "colab_type": "text"
      },
      "source": [
        "Si los valores que se pasan para crear una columna no son suficientes, se completan con ```NaN``` "
      ]
    },
    {
      "cell_type": "code",
      "metadata": {
        "id": "SmvgvLTa93sk",
        "colab_type": "code",
        "colab": {
          "base_uri": "https://localhost:8080/",
          "height": 175
        },
        "outputId": "0e8e2ea7-1c39-43d0-a02a-d2b14d1ec7b8"
      },
      "source": [
        "df2['one_trunc'] = df2['one'][:2] \n",
        "df2"
      ],
      "execution_count": 31,
      "outputs": [
        {
          "output_type": "execute_result",
          "data": {
            "text/html": [
              "<div>\n",
              "<style scoped>\n",
              "    .dataframe tbody tr th:only-of-type {\n",
              "        vertical-align: middle;\n",
              "    }\n",
              "\n",
              "    .dataframe tbody tr th {\n",
              "        vertical-align: top;\n",
              "    }\n",
              "\n",
              "    .dataframe thead th {\n",
              "        text-align: right;\n",
              "    }\n",
              "</style>\n",
              "<table border=\"1\" class=\"dataframe\">\n",
              "  <thead>\n",
              "    <tr style=\"text-align: right;\">\n",
              "      <th></th>\n",
              "      <th>one</th>\n",
              "      <th>two</th>\n",
              "      <th>one_trunc</th>\n",
              "    </tr>\n",
              "  </thead>\n",
              "  <tbody>\n",
              "    <tr>\n",
              "      <th>a</th>\n",
              "      <td>1.0</td>\n",
              "      <td>1.0</td>\n",
              "      <td>1.0</td>\n",
              "    </tr>\n",
              "    <tr>\n",
              "      <th>b</th>\n",
              "      <td>2.0</td>\n",
              "      <td>2.0</td>\n",
              "      <td>2.0</td>\n",
              "    </tr>\n",
              "    <tr>\n",
              "      <th>c</th>\n",
              "      <td>3.0</td>\n",
              "      <td>3.0</td>\n",
              "      <td>NaN</td>\n",
              "    </tr>\n",
              "    <tr>\n",
              "      <th>d</th>\n",
              "      <td>NaN</td>\n",
              "      <td>4.0</td>\n",
              "      <td>NaN</td>\n",
              "    </tr>\n",
              "  </tbody>\n",
              "</table>\n",
              "</div>"
            ],
            "text/plain": [
              "   one  two  one_trunc\n",
              "a  1.0  1.0        1.0\n",
              "b  2.0  2.0        2.0\n",
              "c  3.0  3.0        NaN\n",
              "d  NaN  4.0        NaN"
            ]
          },
          "metadata": {
            "tags": []
          },
          "execution_count": 31
        }
      ]
    },
    {
      "cell_type": "markdown",
      "metadata": {
        "id": "w4s6lxw193sx",
        "colab_type": "text"
      },
      "source": [
        "Como vimos, seleccionar una columna de un DataSeries es muy parecido a seleccionar un elemento de un diccionario, siendo la clave el nombre de la columna (también es posible seleccionar por más de una columna a la vez: en ese caso, en vez de pasarle el nombre de la columna, le pasamos una lista con los nombres de las columnas seleccionadas)"
      ]
    },
    {
      "cell_type": "code",
      "metadata": {
        "id": "EoJBJ-kn93s0",
        "colab_type": "code",
        "colab": {
          "base_uri": "https://localhost:8080/",
          "height": 156
        },
        "outputId": "9a4566b3-a426-45ff-fcb8-a8fd75581c0a"
      },
      "source": [
        "df['Precisión']"
      ],
      "execution_count": 32,
      "outputs": [
        {
          "output_type": "execute_result",
          "data": {
            "text/plain": [
              "0    60\n",
              "1    35\n",
              "2    80\n",
              "3    45\n",
              "4    55\n",
              "5    60\n",
              "6    55\n",
              "Name: Precisión, dtype: int64"
            ]
          },
          "metadata": {
            "tags": []
          },
          "execution_count": 32
        }
      ]
    },
    {
      "cell_type": "code",
      "metadata": {
        "id": "vWz3-lwR93s_",
        "colab_type": "code",
        "colab": {
          "base_uri": "https://localhost:8080/",
          "height": 269
        },
        "outputId": "dda2a915-5d75-43ea-8f6a-d6bc64ee7983"
      },
      "source": [
        "df[['Precisión', 'Alcance']]"
      ],
      "execution_count": 33,
      "outputs": [
        {
          "output_type": "execute_result",
          "data": {
            "text/html": [
              "<div>\n",
              "<style scoped>\n",
              "    .dataframe tbody tr th:only-of-type {\n",
              "        vertical-align: middle;\n",
              "    }\n",
              "\n",
              "    .dataframe tbody tr th {\n",
              "        vertical-align: top;\n",
              "    }\n",
              "\n",
              "    .dataframe thead th {\n",
              "        text-align: right;\n",
              "    }\n",
              "</style>\n",
              "<table border=\"1\" class=\"dataframe\">\n",
              "  <thead>\n",
              "    <tr style=\"text-align: right;\">\n",
              "      <th></th>\n",
              "      <th>Precisión</th>\n",
              "      <th>Alcance</th>\n",
              "    </tr>\n",
              "  </thead>\n",
              "  <tbody>\n",
              "    <tr>\n",
              "      <th>0</th>\n",
              "      <td>60</td>\n",
              "      <td>60</td>\n",
              "    </tr>\n",
              "    <tr>\n",
              "      <th>1</th>\n",
              "      <td>35</td>\n",
              "      <td>50</td>\n",
              "    </tr>\n",
              "    <tr>\n",
              "      <th>2</th>\n",
              "      <td>80</td>\n",
              "      <td>30</td>\n",
              "    </tr>\n",
              "    <tr>\n",
              "      <th>3</th>\n",
              "      <td>45</td>\n",
              "      <td>30</td>\n",
              "    </tr>\n",
              "    <tr>\n",
              "      <th>4</th>\n",
              "      <td>55</td>\n",
              "      <td>90</td>\n",
              "    </tr>\n",
              "    <tr>\n",
              "      <th>5</th>\n",
              "      <td>60</td>\n",
              "      <td>95</td>\n",
              "    </tr>\n",
              "    <tr>\n",
              "      <th>6</th>\n",
              "      <td>55</td>\n",
              "      <td>45</td>\n",
              "    </tr>\n",
              "  </tbody>\n",
              "</table>\n",
              "</div>"
            ],
            "text/plain": [
              "   Precisión  Alcance\n",
              "0         60       60\n",
              "1         35       50\n",
              "2         80       30\n",
              "3         45       30\n",
              "4         55       90\n",
              "5         60       95\n",
              "6         55       45"
            ]
          },
          "metadata": {
            "tags": []
          },
          "execution_count": 33
        }
      ]
    },
    {
      "cell_type": "markdown",
      "metadata": {
        "id": "lelLNOTq93tL",
        "colab_type": "text"
      },
      "source": [
        "Vamos a agregarle a nuestro DataFrame los nombres de las armas, y lo ponemos como índice."
      ]
    },
    {
      "cell_type": "code",
      "metadata": {
        "id": "6FAjPqvA93tP",
        "colab_type": "code",
        "colab": {
          "base_uri": "https://localhost:8080/",
          "height": 300
        },
        "outputId": "68c2564c-75a2-4a8c-bd94-ff8ef49cccb1"
      },
      "source": [
        "df['Arma']=['M16 Evil Clown', 'S36 Evil Clown', 'BY15 SnowFlakes', 'MSMC Ancient Runes', \n",
        "            'XPR-50 April\\'s Fool', 'DLQ33 DeepShark', 'M4LMG RibbonExplosion']\n",
        "df.set_index('Arma', inplace=True)\n",
        "df"
      ],
      "execution_count": 34,
      "outputs": [
        {
          "output_type": "execute_result",
          "data": {
            "text/html": [
              "<div>\n",
              "<style scoped>\n",
              "    .dataframe tbody tr th:only-of-type {\n",
              "        vertical-align: middle;\n",
              "    }\n",
              "\n",
              "    .dataframe tbody tr th {\n",
              "        vertical-align: top;\n",
              "    }\n",
              "\n",
              "    .dataframe thead th {\n",
              "        text-align: right;\n",
              "    }\n",
              "</style>\n",
              "<table border=\"1\" class=\"dataframe\">\n",
              "  <thead>\n",
              "    <tr style=\"text-align: right;\">\n",
              "      <th></th>\n",
              "      <th>Daño</th>\n",
              "      <th>Precisión</th>\n",
              "      <th>Alcance</th>\n",
              "      <th>Cadencia</th>\n",
              "      <th>Movilidad</th>\n",
              "      <th>Es_preciso</th>\n",
              "    </tr>\n",
              "    <tr>\n",
              "      <th>Arma</th>\n",
              "      <th></th>\n",
              "      <th></th>\n",
              "      <th></th>\n",
              "      <th></th>\n",
              "      <th></th>\n",
              "      <th></th>\n",
              "    </tr>\n",
              "  </thead>\n",
              "  <tbody>\n",
              "    <tr>\n",
              "      <th>M16 Evil Clown</th>\n",
              "      <td>65</td>\n",
              "      <td>60</td>\n",
              "      <td>60</td>\n",
              "      <td>45</td>\n",
              "      <td>60</td>\n",
              "      <td>True</td>\n",
              "    </tr>\n",
              "    <tr>\n",
              "      <th>S36 Evil Clown</th>\n",
              "      <td>75</td>\n",
              "      <td>35</td>\n",
              "      <td>50</td>\n",
              "      <td>75</td>\n",
              "      <td>40</td>\n",
              "      <td>False</td>\n",
              "    </tr>\n",
              "    <tr>\n",
              "      <th>BY15 SnowFlakes</th>\n",
              "      <td>85</td>\n",
              "      <td>80</td>\n",
              "      <td>30</td>\n",
              "      <td>20</td>\n",
              "      <td>75</td>\n",
              "      <td>True</td>\n",
              "    </tr>\n",
              "    <tr>\n",
              "      <th>MSMC Ancient Runes</th>\n",
              "      <td>75</td>\n",
              "      <td>45</td>\n",
              "      <td>30</td>\n",
              "      <td>70</td>\n",
              "      <td>80</td>\n",
              "      <td>False</td>\n",
              "    </tr>\n",
              "    <tr>\n",
              "      <th>XPR-50 April's Fool</th>\n",
              "      <td>80</td>\n",
              "      <td>55</td>\n",
              "      <td>90</td>\n",
              "      <td>40</td>\n",
              "      <td>45</td>\n",
              "      <td>False</td>\n",
              "    </tr>\n",
              "    <tr>\n",
              "      <th>DLQ33 DeepShark</th>\n",
              "      <td>90</td>\n",
              "      <td>60</td>\n",
              "      <td>95</td>\n",
              "      <td>15</td>\n",
              "      <td>45</td>\n",
              "      <td>True</td>\n",
              "    </tr>\n",
              "    <tr>\n",
              "      <th>M4LMG RibbonExplosion</th>\n",
              "      <td>60</td>\n",
              "      <td>55</td>\n",
              "      <td>45</td>\n",
              "      <td>55</td>\n",
              "      <td>40</td>\n",
              "      <td>False</td>\n",
              "    </tr>\n",
              "  </tbody>\n",
              "</table>\n",
              "</div>"
            ],
            "text/plain": [
              "                       Daño  Precisión  ...  Movilidad  Es_preciso\n",
              "Arma                                    ...                       \n",
              "M16 Evil Clown           65         60  ...         60        True\n",
              "S36 Evil Clown           75         35  ...         40       False\n",
              "BY15 SnowFlakes          85         80  ...         75        True\n",
              "MSMC Ancient Runes       75         45  ...         80       False\n",
              "XPR-50 April's Fool      80         55  ...         45       False\n",
              "DLQ33 DeepShark          90         60  ...         45        True\n",
              "M4LMG RibbonExplosion    60         55  ...         40       False\n",
              "\n",
              "[7 rows x 6 columns]"
            ]
          },
          "metadata": {
            "tags": []
          },
          "execution_count": 34
        }
      ]
    },
    {
      "cell_type": "code",
      "metadata": {
        "id": "ye_vzcCC93tZ",
        "colab_type": "code",
        "colab": {
          "base_uri": "https://localhost:8080/",
          "height": 86
        },
        "outputId": "3b9b1b8b-e732-487e-f57e-f0751e3cb02c"
      },
      "source": [
        "df.index # El índice ahora cambió"
      ],
      "execution_count": 35,
      "outputs": [
        {
          "output_type": "execute_result",
          "data": {
            "text/plain": [
              "Index(['M16 Evil Clown', 'S36 Evil Clown', 'BY15 SnowFlakes',\n",
              "       'MSMC Ancient Runes', 'XPR-50 April's Fool', 'DLQ33 DeepShark',\n",
              "       'M4LMG RibbonExplosion'],\n",
              "      dtype='object', name='Arma')"
            ]
          },
          "metadata": {
            "tags": []
          },
          "execution_count": 35
        }
      ]
    },
    {
      "cell_type": "markdown",
      "metadata": {
        "id": "YM3ToI2X93tl",
        "colab_type": "text"
      },
      "source": [
        "Para seleccionar una fila, existen varias formas diferentes. Si conocemos su index, utilizamos ```loc```:"
      ]
    },
    {
      "cell_type": "code",
      "metadata": {
        "id": "9PbD75tD93tn",
        "colab_type": "code",
        "colab": {
          "base_uri": "https://localhost:8080/",
          "height": 139
        },
        "outputId": "602a2308-2b61-47d7-8362-212f16e62ccc"
      },
      "source": [
        "df.loc['BY15 SnowFlakes']"
      ],
      "execution_count": 36,
      "outputs": [
        {
          "output_type": "execute_result",
          "data": {
            "text/plain": [
              "Daño            85\n",
              "Precisión       80\n",
              "Alcance         30\n",
              "Cadencia        20\n",
              "Movilidad       75\n",
              "Es_preciso    True\n",
              "Name: BY15 SnowFlakes, dtype: object"
            ]
          },
          "metadata": {
            "tags": []
          },
          "execution_count": 36
        }
      ]
    },
    {
      "cell_type": "markdown",
      "metadata": {
        "id": "IShlCtUd93t0",
        "colab_type": "text"
      },
      "source": [
        "Si conocemos el índice de su posición, utilizamos ```iloc``` "
      ]
    },
    {
      "cell_type": "code",
      "metadata": {
        "id": "ypCunthx93t3",
        "colab_type": "code",
        "colab": {
          "base_uri": "https://localhost:8080/",
          "height": 139
        },
        "outputId": "7969b8d6-e315-4b3e-fdaa-ec015a0938be"
      },
      "source": [
        "df.iloc[0]"
      ],
      "execution_count": 37,
      "outputs": [
        {
          "output_type": "execute_result",
          "data": {
            "text/plain": [
              "Daño            65\n",
              "Precisión       60\n",
              "Alcance         60\n",
              "Cadencia        45\n",
              "Movilidad       60\n",
              "Es_preciso    True\n",
              "Name: M16 Evil Clown, dtype: object"
            ]
          },
          "metadata": {
            "tags": []
          },
          "execution_count": 37
        }
      ]
    },
    {
      "cell_type": "markdown",
      "metadata": {
        "id": "_K1CTB6h93uB",
        "colab_type": "text"
      },
      "source": [
        "Podemos hacer _slicing_ de las filas igual que con los ndarrays, utilizando un rango en la selección (obsérvese que aquí se busca en las filas, no en las columnas, y que se devuelve un DataFrame):"
      ]
    },
    {
      "cell_type": "code",
      "metadata": {
        "id": "RafzhBZi93uE",
        "colab_type": "code",
        "colab": {
          "base_uri": "https://localhost:8080/",
          "height": 143
        },
        "outputId": "e88b0184-8e38-428d-d370-02c8a8ed7682"
      },
      "source": [
        "df[1:3]"
      ],
      "execution_count": 38,
      "outputs": [
        {
          "output_type": "execute_result",
          "data": {
            "text/html": [
              "<div>\n",
              "<style scoped>\n",
              "    .dataframe tbody tr th:only-of-type {\n",
              "        vertical-align: middle;\n",
              "    }\n",
              "\n",
              "    .dataframe tbody tr th {\n",
              "        vertical-align: top;\n",
              "    }\n",
              "\n",
              "    .dataframe thead th {\n",
              "        text-align: right;\n",
              "    }\n",
              "</style>\n",
              "<table border=\"1\" class=\"dataframe\">\n",
              "  <thead>\n",
              "    <tr style=\"text-align: right;\">\n",
              "      <th></th>\n",
              "      <th>Daño</th>\n",
              "      <th>Precisión</th>\n",
              "      <th>Alcance</th>\n",
              "      <th>Cadencia</th>\n",
              "      <th>Movilidad</th>\n",
              "      <th>Es_preciso</th>\n",
              "    </tr>\n",
              "    <tr>\n",
              "      <th>Arma</th>\n",
              "      <th></th>\n",
              "      <th></th>\n",
              "      <th></th>\n",
              "      <th></th>\n",
              "      <th></th>\n",
              "      <th></th>\n",
              "    </tr>\n",
              "  </thead>\n",
              "  <tbody>\n",
              "    <tr>\n",
              "      <th>S36 Evil Clown</th>\n",
              "      <td>75</td>\n",
              "      <td>35</td>\n",
              "      <td>50</td>\n",
              "      <td>75</td>\n",
              "      <td>40</td>\n",
              "      <td>False</td>\n",
              "    </tr>\n",
              "    <tr>\n",
              "      <th>BY15 SnowFlakes</th>\n",
              "      <td>85</td>\n",
              "      <td>80</td>\n",
              "      <td>30</td>\n",
              "      <td>20</td>\n",
              "      <td>75</td>\n",
              "      <td>True</td>\n",
              "    </tr>\n",
              "  </tbody>\n",
              "</table>\n",
              "</div>"
            ],
            "text/plain": [
              "                 Daño  Precisión  Alcance  Cadencia  Movilidad  Es_preciso\n",
              "Arma                                                                      \n",
              "S36 Evil Clown     75         35       50        75         40       False\n",
              "BY15 SnowFlakes    85         80       30        20         75        True"
            ]
          },
          "metadata": {
            "tags": []
          },
          "execution_count": 38
        }
      ]
    },
    {
      "cell_type": "markdown",
      "metadata": {
        "id": "bA11Iu3O93uN",
        "colab_type": "text"
      },
      "source": [
        "Podemos seleccionar de un dataframe las celdas que cumplan cierta condición (igual que se podía hacer con los arrays), y utilizar el resultado para seleccionar celdas que cumplan la condición (aquí se marcarán con NaN las celdas que no hayan sido seleccionadas).\n"
      ]
    },
    {
      "cell_type": "code",
      "metadata": {
        "id": "8xiM4cRs93uP",
        "colab_type": "code",
        "colab": {
          "base_uri": "https://localhost:8080/",
          "height": 300
        },
        "outputId": "72c35cc5-ac6f-45c5-bf24-1a05b5b44cee"
      },
      "source": [
        "df>50"
      ],
      "execution_count": 39,
      "outputs": [
        {
          "output_type": "execute_result",
          "data": {
            "text/html": [
              "<div>\n",
              "<style scoped>\n",
              "    .dataframe tbody tr th:only-of-type {\n",
              "        vertical-align: middle;\n",
              "    }\n",
              "\n",
              "    .dataframe tbody tr th {\n",
              "        vertical-align: top;\n",
              "    }\n",
              "\n",
              "    .dataframe thead th {\n",
              "        text-align: right;\n",
              "    }\n",
              "</style>\n",
              "<table border=\"1\" class=\"dataframe\">\n",
              "  <thead>\n",
              "    <tr style=\"text-align: right;\">\n",
              "      <th></th>\n",
              "      <th>Daño</th>\n",
              "      <th>Precisión</th>\n",
              "      <th>Alcance</th>\n",
              "      <th>Cadencia</th>\n",
              "      <th>Movilidad</th>\n",
              "      <th>Es_preciso</th>\n",
              "    </tr>\n",
              "    <tr>\n",
              "      <th>Arma</th>\n",
              "      <th></th>\n",
              "      <th></th>\n",
              "      <th></th>\n",
              "      <th></th>\n",
              "      <th></th>\n",
              "      <th></th>\n",
              "    </tr>\n",
              "  </thead>\n",
              "  <tbody>\n",
              "    <tr>\n",
              "      <th>M16 Evil Clown</th>\n",
              "      <td>True</td>\n",
              "      <td>True</td>\n",
              "      <td>True</td>\n",
              "      <td>False</td>\n",
              "      <td>True</td>\n",
              "      <td>False</td>\n",
              "    </tr>\n",
              "    <tr>\n",
              "      <th>S36 Evil Clown</th>\n",
              "      <td>True</td>\n",
              "      <td>False</td>\n",
              "      <td>False</td>\n",
              "      <td>True</td>\n",
              "      <td>False</td>\n",
              "      <td>False</td>\n",
              "    </tr>\n",
              "    <tr>\n",
              "      <th>BY15 SnowFlakes</th>\n",
              "      <td>True</td>\n",
              "      <td>True</td>\n",
              "      <td>False</td>\n",
              "      <td>False</td>\n",
              "      <td>True</td>\n",
              "      <td>False</td>\n",
              "    </tr>\n",
              "    <tr>\n",
              "      <th>MSMC Ancient Runes</th>\n",
              "      <td>True</td>\n",
              "      <td>False</td>\n",
              "      <td>False</td>\n",
              "      <td>True</td>\n",
              "      <td>True</td>\n",
              "      <td>False</td>\n",
              "    </tr>\n",
              "    <tr>\n",
              "      <th>XPR-50 April's Fool</th>\n",
              "      <td>True</td>\n",
              "      <td>True</td>\n",
              "      <td>True</td>\n",
              "      <td>False</td>\n",
              "      <td>False</td>\n",
              "      <td>False</td>\n",
              "    </tr>\n",
              "    <tr>\n",
              "      <th>DLQ33 DeepShark</th>\n",
              "      <td>True</td>\n",
              "      <td>True</td>\n",
              "      <td>True</td>\n",
              "      <td>False</td>\n",
              "      <td>False</td>\n",
              "      <td>False</td>\n",
              "    </tr>\n",
              "    <tr>\n",
              "      <th>M4LMG RibbonExplosion</th>\n",
              "      <td>True</td>\n",
              "      <td>True</td>\n",
              "      <td>False</td>\n",
              "      <td>True</td>\n",
              "      <td>False</td>\n",
              "      <td>False</td>\n",
              "    </tr>\n",
              "  </tbody>\n",
              "</table>\n",
              "</div>"
            ],
            "text/plain": [
              "                       Daño  Precisión  ...  Movilidad  Es_preciso\n",
              "Arma                                    ...                       \n",
              "M16 Evil Clown         True       True  ...       True       False\n",
              "S36 Evil Clown         True      False  ...      False       False\n",
              "BY15 SnowFlakes        True       True  ...       True       False\n",
              "MSMC Ancient Runes     True      False  ...       True       False\n",
              "XPR-50 April's Fool    True       True  ...      False       False\n",
              "DLQ33 DeepShark        True       True  ...      False       False\n",
              "M4LMG RibbonExplosion  True       True  ...      False       False\n",
              "\n",
              "[7 rows x 6 columns]"
            ]
          },
          "metadata": {
            "tags": []
          },
          "execution_count": 39
        }
      ]
    },
    {
      "cell_type": "code",
      "metadata": {
        "id": "Miq6plp_93ua",
        "colab_type": "code",
        "colab": {
          "base_uri": "https://localhost:8080/",
          "height": 300
        },
        "outputId": "265a017c-644c-4ea9-9074-1269bedee032"
      },
      "source": [
        "df[df>50] "
      ],
      "execution_count": 40,
      "outputs": [
        {
          "output_type": "execute_result",
          "data": {
            "text/html": [
              "<div>\n",
              "<style scoped>\n",
              "    .dataframe tbody tr th:only-of-type {\n",
              "        vertical-align: middle;\n",
              "    }\n",
              "\n",
              "    .dataframe tbody tr th {\n",
              "        vertical-align: top;\n",
              "    }\n",
              "\n",
              "    .dataframe thead th {\n",
              "        text-align: right;\n",
              "    }\n",
              "</style>\n",
              "<table border=\"1\" class=\"dataframe\">\n",
              "  <thead>\n",
              "    <tr style=\"text-align: right;\">\n",
              "      <th></th>\n",
              "      <th>Daño</th>\n",
              "      <th>Precisión</th>\n",
              "      <th>Alcance</th>\n",
              "      <th>Cadencia</th>\n",
              "      <th>Movilidad</th>\n",
              "      <th>Es_preciso</th>\n",
              "    </tr>\n",
              "    <tr>\n",
              "      <th>Arma</th>\n",
              "      <th></th>\n",
              "      <th></th>\n",
              "      <th></th>\n",
              "      <th></th>\n",
              "      <th></th>\n",
              "      <th></th>\n",
              "    </tr>\n",
              "  </thead>\n",
              "  <tbody>\n",
              "    <tr>\n",
              "      <th>M16 Evil Clown</th>\n",
              "      <td>65</td>\n",
              "      <td>60.0</td>\n",
              "      <td>60.0</td>\n",
              "      <td>NaN</td>\n",
              "      <td>60.0</td>\n",
              "      <td>NaN</td>\n",
              "    </tr>\n",
              "    <tr>\n",
              "      <th>S36 Evil Clown</th>\n",
              "      <td>75</td>\n",
              "      <td>NaN</td>\n",
              "      <td>NaN</td>\n",
              "      <td>75.0</td>\n",
              "      <td>NaN</td>\n",
              "      <td>NaN</td>\n",
              "    </tr>\n",
              "    <tr>\n",
              "      <th>BY15 SnowFlakes</th>\n",
              "      <td>85</td>\n",
              "      <td>80.0</td>\n",
              "      <td>NaN</td>\n",
              "      <td>NaN</td>\n",
              "      <td>75.0</td>\n",
              "      <td>NaN</td>\n",
              "    </tr>\n",
              "    <tr>\n",
              "      <th>MSMC Ancient Runes</th>\n",
              "      <td>75</td>\n",
              "      <td>NaN</td>\n",
              "      <td>NaN</td>\n",
              "      <td>70.0</td>\n",
              "      <td>80.0</td>\n",
              "      <td>NaN</td>\n",
              "    </tr>\n",
              "    <tr>\n",
              "      <th>XPR-50 April's Fool</th>\n",
              "      <td>80</td>\n",
              "      <td>55.0</td>\n",
              "      <td>90.0</td>\n",
              "      <td>NaN</td>\n",
              "      <td>NaN</td>\n",
              "      <td>NaN</td>\n",
              "    </tr>\n",
              "    <tr>\n",
              "      <th>DLQ33 DeepShark</th>\n",
              "      <td>90</td>\n",
              "      <td>60.0</td>\n",
              "      <td>95.0</td>\n",
              "      <td>NaN</td>\n",
              "      <td>NaN</td>\n",
              "      <td>NaN</td>\n",
              "    </tr>\n",
              "    <tr>\n",
              "      <th>M4LMG RibbonExplosion</th>\n",
              "      <td>60</td>\n",
              "      <td>55.0</td>\n",
              "      <td>NaN</td>\n",
              "      <td>55.0</td>\n",
              "      <td>NaN</td>\n",
              "      <td>NaN</td>\n",
              "    </tr>\n",
              "  </tbody>\n",
              "</table>\n",
              "</div>"
            ],
            "text/plain": [
              "                       Daño  Precisión  ...  Movilidad  Es_preciso\n",
              "Arma                                    ...                       \n",
              "M16 Evil Clown           65       60.0  ...       60.0         NaN\n",
              "S36 Evil Clown           75        NaN  ...        NaN         NaN\n",
              "BY15 SnowFlakes          85       80.0  ...       75.0         NaN\n",
              "MSMC Ancient Runes       75        NaN  ...       80.0         NaN\n",
              "XPR-50 April's Fool      80       55.0  ...        NaN         NaN\n",
              "DLQ33 DeepShark          90       60.0  ...        NaN         NaN\n",
              "M4LMG RibbonExplosion    60       55.0  ...        NaN         NaN\n",
              "\n",
              "[7 rows x 6 columns]"
            ]
          },
          "metadata": {
            "tags": []
          },
          "execution_count": 40
        }
      ]
    },
    {
      "cell_type": "code",
      "metadata": {
        "id": "gkVk3IWo93up",
        "colab_type": "code",
        "colab": {}
      },
      "source": [
        "del df['Es_preciso']"
      ],
      "execution_count": 0,
      "outputs": []
    },
    {
      "cell_type": "markdown",
      "metadata": {
        "id": "uC6pgF-F93uy",
        "colab_type": "text"
      },
      "source": [
        "Cuando se realizan operaciones entre DataFrames, al igual que con Series, se alinean tanto las indexes como las columns, devolviéndose siempre la unión de los indexes/columns de los DataFrames involucrados.\n",
        "\n",
        "Por ejemplo, agreguemos algunas armas más a nuestra base de datos, utilizando el método `append` (creamos primero un nuevo DataFrame, y luego lo concatenamos al original, para obtener el nuevo DataFrame). En el nuevo DataFrame, agregaremos una columna Dummy para ver qué sucede en la concatenación."
      ]
    },
    {
      "cell_type": "code",
      "metadata": {
        "id": "kroLFsTC93uz",
        "colab_type": "code",
        "colab": {
          "base_uri": "https://localhost:8080/",
          "height": 520
        },
        "outputId": "5a3df9a4-1876-4125-e13e-7a2b1f7d7d89"
      },
      "source": [
        "d = np.array([[85,52,95,30,50,-1],[80,55,90,40,45,-1],[65,60,60,45,60,-1],[85,52,95,30,50,-1],[48,65,90,63,60,-1],\n",
        "              [60,55,45,55,40,-1]\n",
        "             ,[78,55,32,60,75,-1],[90,40,25,60,75,-1]])\n",
        "arm_names=['Arctic.50 Bats','XPR-50 RedTriangle','M16 NeonTiger', 'Arctic.50 RedTriangle','BK57 JackFrost',\n",
        "                           'M4MLG RedTriangle', 'AKS-74U NeonTiger','PDW-57 ZombieGene']\n",
        "df2= pd.DataFrame(d,index=arm_names, columns=['Daño','Precisión','Alcance','Cadencia','Movilidad','Dummy'])\n",
        "df3= df.append(df2, sort=False)\n",
        "df3"
      ],
      "execution_count": 42,
      "outputs": [
        {
          "output_type": "execute_result",
          "data": {
            "text/html": [
              "<div>\n",
              "<style scoped>\n",
              "    .dataframe tbody tr th:only-of-type {\n",
              "        vertical-align: middle;\n",
              "    }\n",
              "\n",
              "    .dataframe tbody tr th {\n",
              "        vertical-align: top;\n",
              "    }\n",
              "\n",
              "    .dataframe thead th {\n",
              "        text-align: right;\n",
              "    }\n",
              "</style>\n",
              "<table border=\"1\" class=\"dataframe\">\n",
              "  <thead>\n",
              "    <tr style=\"text-align: right;\">\n",
              "      <th></th>\n",
              "      <th>Daño</th>\n",
              "      <th>Precisión</th>\n",
              "      <th>Alcance</th>\n",
              "      <th>Cadencia</th>\n",
              "      <th>Movilidad</th>\n",
              "      <th>Dummy</th>\n",
              "    </tr>\n",
              "  </thead>\n",
              "  <tbody>\n",
              "    <tr>\n",
              "      <th>M16 Evil Clown</th>\n",
              "      <td>65</td>\n",
              "      <td>60</td>\n",
              "      <td>60</td>\n",
              "      <td>45</td>\n",
              "      <td>60</td>\n",
              "      <td>NaN</td>\n",
              "    </tr>\n",
              "    <tr>\n",
              "      <th>S36 Evil Clown</th>\n",
              "      <td>75</td>\n",
              "      <td>35</td>\n",
              "      <td>50</td>\n",
              "      <td>75</td>\n",
              "      <td>40</td>\n",
              "      <td>NaN</td>\n",
              "    </tr>\n",
              "    <tr>\n",
              "      <th>BY15 SnowFlakes</th>\n",
              "      <td>85</td>\n",
              "      <td>80</td>\n",
              "      <td>30</td>\n",
              "      <td>20</td>\n",
              "      <td>75</td>\n",
              "      <td>NaN</td>\n",
              "    </tr>\n",
              "    <tr>\n",
              "      <th>MSMC Ancient Runes</th>\n",
              "      <td>75</td>\n",
              "      <td>45</td>\n",
              "      <td>30</td>\n",
              "      <td>70</td>\n",
              "      <td>80</td>\n",
              "      <td>NaN</td>\n",
              "    </tr>\n",
              "    <tr>\n",
              "      <th>XPR-50 April's Fool</th>\n",
              "      <td>80</td>\n",
              "      <td>55</td>\n",
              "      <td>90</td>\n",
              "      <td>40</td>\n",
              "      <td>45</td>\n",
              "      <td>NaN</td>\n",
              "    </tr>\n",
              "    <tr>\n",
              "      <th>DLQ33 DeepShark</th>\n",
              "      <td>90</td>\n",
              "      <td>60</td>\n",
              "      <td>95</td>\n",
              "      <td>15</td>\n",
              "      <td>45</td>\n",
              "      <td>NaN</td>\n",
              "    </tr>\n",
              "    <tr>\n",
              "      <th>M4LMG RibbonExplosion</th>\n",
              "      <td>60</td>\n",
              "      <td>55</td>\n",
              "      <td>45</td>\n",
              "      <td>55</td>\n",
              "      <td>40</td>\n",
              "      <td>NaN</td>\n",
              "    </tr>\n",
              "    <tr>\n",
              "      <th>Arctic.50 Bats</th>\n",
              "      <td>85</td>\n",
              "      <td>52</td>\n",
              "      <td>95</td>\n",
              "      <td>30</td>\n",
              "      <td>50</td>\n",
              "      <td>-1.0</td>\n",
              "    </tr>\n",
              "    <tr>\n",
              "      <th>XPR-50 RedTriangle</th>\n",
              "      <td>80</td>\n",
              "      <td>55</td>\n",
              "      <td>90</td>\n",
              "      <td>40</td>\n",
              "      <td>45</td>\n",
              "      <td>-1.0</td>\n",
              "    </tr>\n",
              "    <tr>\n",
              "      <th>M16 NeonTiger</th>\n",
              "      <td>65</td>\n",
              "      <td>60</td>\n",
              "      <td>60</td>\n",
              "      <td>45</td>\n",
              "      <td>60</td>\n",
              "      <td>-1.0</td>\n",
              "    </tr>\n",
              "    <tr>\n",
              "      <th>Arctic.50 RedTriangle</th>\n",
              "      <td>85</td>\n",
              "      <td>52</td>\n",
              "      <td>95</td>\n",
              "      <td>30</td>\n",
              "      <td>50</td>\n",
              "      <td>-1.0</td>\n",
              "    </tr>\n",
              "    <tr>\n",
              "      <th>BK57 JackFrost</th>\n",
              "      <td>48</td>\n",
              "      <td>65</td>\n",
              "      <td>90</td>\n",
              "      <td>63</td>\n",
              "      <td>60</td>\n",
              "      <td>-1.0</td>\n",
              "    </tr>\n",
              "    <tr>\n",
              "      <th>M4MLG RedTriangle</th>\n",
              "      <td>60</td>\n",
              "      <td>55</td>\n",
              "      <td>45</td>\n",
              "      <td>55</td>\n",
              "      <td>40</td>\n",
              "      <td>-1.0</td>\n",
              "    </tr>\n",
              "    <tr>\n",
              "      <th>AKS-74U NeonTiger</th>\n",
              "      <td>78</td>\n",
              "      <td>55</td>\n",
              "      <td>32</td>\n",
              "      <td>60</td>\n",
              "      <td>75</td>\n",
              "      <td>-1.0</td>\n",
              "    </tr>\n",
              "    <tr>\n",
              "      <th>PDW-57 ZombieGene</th>\n",
              "      <td>90</td>\n",
              "      <td>40</td>\n",
              "      <td>25</td>\n",
              "      <td>60</td>\n",
              "      <td>75</td>\n",
              "      <td>-1.0</td>\n",
              "    </tr>\n",
              "  </tbody>\n",
              "</table>\n",
              "</div>"
            ],
            "text/plain": [
              "                       Daño  Precisión  Alcance  Cadencia  Movilidad  Dummy\n",
              "M16 Evil Clown           65         60       60        45         60    NaN\n",
              "S36 Evil Clown           75         35       50        75         40    NaN\n",
              "BY15 SnowFlakes          85         80       30        20         75    NaN\n",
              "MSMC Ancient Runes       75         45       30        70         80    NaN\n",
              "XPR-50 April's Fool      80         55       90        40         45    NaN\n",
              "DLQ33 DeepShark          90         60       95        15         45    NaN\n",
              "M4LMG RibbonExplosion    60         55       45        55         40    NaN\n",
              "Arctic.50 Bats           85         52       95        30         50   -1.0\n",
              "XPR-50 RedTriangle       80         55       90        40         45   -1.0\n",
              "M16 NeonTiger            65         60       60        45         60   -1.0\n",
              "Arctic.50 RedTriangle    85         52       95        30         50   -1.0\n",
              "BK57 JackFrost           48         65       90        63         60   -1.0\n",
              "M4MLG RedTriangle        60         55       45        55         40   -1.0\n",
              "AKS-74U NeonTiger        78         55       32        60         75   -1.0\n",
              "PDW-57 ZombieGene        90         40       25        60         75   -1.0"
            ]
          },
          "metadata": {
            "tags": []
          },
          "execution_count": 42
        }
      ]
    },
    {
      "cell_type": "code",
      "metadata": {
        "id": "eN3AxddG93vI",
        "colab_type": "code",
        "colab": {}
      },
      "source": [
        "del df3['Dummy']"
      ],
      "execution_count": 0,
      "outputs": []
    },
    {
      "cell_type": "markdown",
      "metadata": {
        "id": "wrhv1A-U93vb",
        "colab_type": "text"
      },
      "source": [
        "En la siguiente operaciones, vamos a restarle una Series al DataFrame. En ese caso, pandas alinea las columnas con los ìndices de la Series, y eso hace que se resten todos los elementos de la fila."
      ]
    },
    {
      "cell_type": "code",
      "metadata": {
        "id": "9aWJ1tr993vd",
        "colab_type": "code",
        "colab": {
          "base_uri": "https://localhost:8080/",
          "height": 121
        },
        "outputId": "a75fd94e-1302-4820-9e34-bf8bdc0f19dc"
      },
      "source": [
        "df3.iloc[0]"
      ],
      "execution_count": 44,
      "outputs": [
        {
          "output_type": "execute_result",
          "data": {
            "text/plain": [
              "Daño         65\n",
              "Precisión    60\n",
              "Alcance      60\n",
              "Cadencia     45\n",
              "Movilidad    60\n",
              "Name: M16 Evil Clown, dtype: int64"
            ]
          },
          "metadata": {
            "tags": []
          },
          "execution_count": 44
        }
      ]
    },
    {
      "cell_type": "code",
      "metadata": {
        "id": "G-RXOZFd93vl",
        "colab_type": "code",
        "colab": {
          "base_uri": "https://localhost:8080/",
          "height": 520
        },
        "outputId": "ef5ce3fe-433d-477e-bccb-cc1c2f785807"
      },
      "source": [
        "df3 - df3.iloc[0]"
      ],
      "execution_count": 45,
      "outputs": [
        {
          "output_type": "execute_result",
          "data": {
            "text/html": [
              "<div>\n",
              "<style scoped>\n",
              "    .dataframe tbody tr th:only-of-type {\n",
              "        vertical-align: middle;\n",
              "    }\n",
              "\n",
              "    .dataframe tbody tr th {\n",
              "        vertical-align: top;\n",
              "    }\n",
              "\n",
              "    .dataframe thead th {\n",
              "        text-align: right;\n",
              "    }\n",
              "</style>\n",
              "<table border=\"1\" class=\"dataframe\">\n",
              "  <thead>\n",
              "    <tr style=\"text-align: right;\">\n",
              "      <th></th>\n",
              "      <th>Daño</th>\n",
              "      <th>Precisión</th>\n",
              "      <th>Alcance</th>\n",
              "      <th>Cadencia</th>\n",
              "      <th>Movilidad</th>\n",
              "    </tr>\n",
              "  </thead>\n",
              "  <tbody>\n",
              "    <tr>\n",
              "      <th>M16 Evil Clown</th>\n",
              "      <td>0</td>\n",
              "      <td>0</td>\n",
              "      <td>0</td>\n",
              "      <td>0</td>\n",
              "      <td>0</td>\n",
              "    </tr>\n",
              "    <tr>\n",
              "      <th>S36 Evil Clown</th>\n",
              "      <td>10</td>\n",
              "      <td>-25</td>\n",
              "      <td>-10</td>\n",
              "      <td>30</td>\n",
              "      <td>-20</td>\n",
              "    </tr>\n",
              "    <tr>\n",
              "      <th>BY15 SnowFlakes</th>\n",
              "      <td>20</td>\n",
              "      <td>20</td>\n",
              "      <td>-30</td>\n",
              "      <td>-25</td>\n",
              "      <td>15</td>\n",
              "    </tr>\n",
              "    <tr>\n",
              "      <th>MSMC Ancient Runes</th>\n",
              "      <td>10</td>\n",
              "      <td>-15</td>\n",
              "      <td>-30</td>\n",
              "      <td>25</td>\n",
              "      <td>20</td>\n",
              "    </tr>\n",
              "    <tr>\n",
              "      <th>XPR-50 April's Fool</th>\n",
              "      <td>15</td>\n",
              "      <td>-5</td>\n",
              "      <td>30</td>\n",
              "      <td>-5</td>\n",
              "      <td>-15</td>\n",
              "    </tr>\n",
              "    <tr>\n",
              "      <th>DLQ33 DeepShark</th>\n",
              "      <td>25</td>\n",
              "      <td>0</td>\n",
              "      <td>35</td>\n",
              "      <td>-30</td>\n",
              "      <td>-15</td>\n",
              "    </tr>\n",
              "    <tr>\n",
              "      <th>M4LMG RibbonExplosion</th>\n",
              "      <td>-5</td>\n",
              "      <td>-5</td>\n",
              "      <td>-15</td>\n",
              "      <td>10</td>\n",
              "      <td>-20</td>\n",
              "    </tr>\n",
              "    <tr>\n",
              "      <th>Arctic.50 Bats</th>\n",
              "      <td>20</td>\n",
              "      <td>-8</td>\n",
              "      <td>35</td>\n",
              "      <td>-15</td>\n",
              "      <td>-10</td>\n",
              "    </tr>\n",
              "    <tr>\n",
              "      <th>XPR-50 RedTriangle</th>\n",
              "      <td>15</td>\n",
              "      <td>-5</td>\n",
              "      <td>30</td>\n",
              "      <td>-5</td>\n",
              "      <td>-15</td>\n",
              "    </tr>\n",
              "    <tr>\n",
              "      <th>M16 NeonTiger</th>\n",
              "      <td>0</td>\n",
              "      <td>0</td>\n",
              "      <td>0</td>\n",
              "      <td>0</td>\n",
              "      <td>0</td>\n",
              "    </tr>\n",
              "    <tr>\n",
              "      <th>Arctic.50 RedTriangle</th>\n",
              "      <td>20</td>\n",
              "      <td>-8</td>\n",
              "      <td>35</td>\n",
              "      <td>-15</td>\n",
              "      <td>-10</td>\n",
              "    </tr>\n",
              "    <tr>\n",
              "      <th>BK57 JackFrost</th>\n",
              "      <td>-17</td>\n",
              "      <td>5</td>\n",
              "      <td>30</td>\n",
              "      <td>18</td>\n",
              "      <td>0</td>\n",
              "    </tr>\n",
              "    <tr>\n",
              "      <th>M4MLG RedTriangle</th>\n",
              "      <td>-5</td>\n",
              "      <td>-5</td>\n",
              "      <td>-15</td>\n",
              "      <td>10</td>\n",
              "      <td>-20</td>\n",
              "    </tr>\n",
              "    <tr>\n",
              "      <th>AKS-74U NeonTiger</th>\n",
              "      <td>13</td>\n",
              "      <td>-5</td>\n",
              "      <td>-28</td>\n",
              "      <td>15</td>\n",
              "      <td>15</td>\n",
              "    </tr>\n",
              "    <tr>\n",
              "      <th>PDW-57 ZombieGene</th>\n",
              "      <td>25</td>\n",
              "      <td>-20</td>\n",
              "      <td>-35</td>\n",
              "      <td>15</td>\n",
              "      <td>15</td>\n",
              "    </tr>\n",
              "  </tbody>\n",
              "</table>\n",
              "</div>"
            ],
            "text/plain": [
              "                       Daño  Precisión  Alcance  Cadencia  Movilidad\n",
              "M16 Evil Clown            0          0        0         0          0\n",
              "S36 Evil Clown           10        -25      -10        30        -20\n",
              "BY15 SnowFlakes          20         20      -30       -25         15\n",
              "MSMC Ancient Runes       10        -15      -30        25         20\n",
              "XPR-50 April's Fool      15         -5       30        -5        -15\n",
              "DLQ33 DeepShark          25          0       35       -30        -15\n",
              "M4LMG RibbonExplosion    -5         -5      -15        10        -20\n",
              "Arctic.50 Bats           20         -8       35       -15        -10\n",
              "XPR-50 RedTriangle       15         -5       30        -5        -15\n",
              "M16 NeonTiger             0          0        0         0          0\n",
              "Arctic.50 RedTriangle    20         -8       35       -15        -10\n",
              "BK57 JackFrost          -17          5       30        18          0\n",
              "M4MLG RedTriangle        -5         -5      -15        10        -20\n",
              "AKS-74U NeonTiger        13         -5      -28        15         15\n",
              "PDW-57 ZombieGene        25        -20      -35        15         15"
            ]
          },
          "metadata": {
            "tags": []
          },
          "execution_count": 45
        }
      ]
    },
    {
      "cell_type": "markdown",
      "metadata": {
        "id": "4tHQxJx393vu",
        "colab_type": "text"
      },
      "source": [
        "Los DF se pueden multiplicar por escalares, y se pueden aplicar operadores booleanos, exactamente igual que a los ndarrays.\n"
      ]
    },
    {
      "cell_type": "code",
      "metadata": {
        "id": "_3YOGHrK93vw",
        "colab_type": "code",
        "colab": {
          "base_uri": "https://localhost:8080/",
          "height": 295
        },
        "outputId": "d788332c-1e00-44fb-bda6-b80ed59030c4"
      },
      "source": [
        "df3['Movilidad']*1.5"
      ],
      "execution_count": 46,
      "outputs": [
        {
          "output_type": "execute_result",
          "data": {
            "text/plain": [
              "M16 Evil Clown            90.0\n",
              "S36 Evil Clown            60.0\n",
              "BY15 SnowFlakes          112.5\n",
              "MSMC Ancient Runes       120.0\n",
              "XPR-50 April's Fool       67.5\n",
              "DLQ33 DeepShark           67.5\n",
              "M4LMG RibbonExplosion     60.0\n",
              "Arctic.50 Bats            75.0\n",
              "XPR-50 RedTriangle        67.5\n",
              "M16 NeonTiger             90.0\n",
              "Arctic.50 RedTriangle     75.0\n",
              "BK57 JackFrost            90.0\n",
              "M4MLG RedTriangle         60.0\n",
              "AKS-74U NeonTiger        112.5\n",
              "PDW-57 ZombieGene        112.5\n",
              "Name: Movilidad, dtype: float64"
            ]
          },
          "metadata": {
            "tags": []
          },
          "execution_count": 46
        }
      ]
    },
    {
      "cell_type": "markdown",
      "metadata": {
        "id": "HqC99QWg93v7",
        "colab_type": "text"
      },
      "source": [
        "### 4. Operaciones de selección avanzada.\n",
        "\n",
        "En esta sección veremos formas de seleccionar columnas y filas de acuerdo a diferentes condiciones, e incluso a agruparlas (de forma similar a lo que se hace con SQL).\n",
        "\n"
      ]
    },
    {
      "cell_type": "markdown",
      "metadata": {
        "id": "GsRs9xSw93v-",
        "colab_type": "text"
      },
      "source": [
        "#### 4.1 Selección de columnas\n",
        "\n",
        "Es posible seleccionar todos los elementos de una o más columnas utilizando una lista de columnas como argumento. (El método `head` simplemente selecciona las primeras filas del resultado)."
      ]
    },
    {
      "cell_type": "code",
      "metadata": {
        "id": "OGIDK0jC93wA",
        "colab_type": "code",
        "colab": {
          "base_uri": "https://localhost:8080/",
          "height": 206
        },
        "outputId": "75326520-51cb-41ef-90bf-e2f46ff7dda1"
      },
      "source": [
        "df3[['Daño','Precisión']].head(5)"
      ],
      "execution_count": 47,
      "outputs": [
        {
          "output_type": "execute_result",
          "data": {
            "text/html": [
              "<div>\n",
              "<style scoped>\n",
              "    .dataframe tbody tr th:only-of-type {\n",
              "        vertical-align: middle;\n",
              "    }\n",
              "\n",
              "    .dataframe tbody tr th {\n",
              "        vertical-align: top;\n",
              "    }\n",
              "\n",
              "    .dataframe thead th {\n",
              "        text-align: right;\n",
              "    }\n",
              "</style>\n",
              "<table border=\"1\" class=\"dataframe\">\n",
              "  <thead>\n",
              "    <tr style=\"text-align: right;\">\n",
              "      <th></th>\n",
              "      <th>Daño</th>\n",
              "      <th>Precisión</th>\n",
              "    </tr>\n",
              "  </thead>\n",
              "  <tbody>\n",
              "    <tr>\n",
              "      <th>M16 Evil Clown</th>\n",
              "      <td>65</td>\n",
              "      <td>60</td>\n",
              "    </tr>\n",
              "    <tr>\n",
              "      <th>S36 Evil Clown</th>\n",
              "      <td>75</td>\n",
              "      <td>35</td>\n",
              "    </tr>\n",
              "    <tr>\n",
              "      <th>BY15 SnowFlakes</th>\n",
              "      <td>85</td>\n",
              "      <td>80</td>\n",
              "    </tr>\n",
              "    <tr>\n",
              "      <th>MSMC Ancient Runes</th>\n",
              "      <td>75</td>\n",
              "      <td>45</td>\n",
              "    </tr>\n",
              "    <tr>\n",
              "      <th>XPR-50 April's Fool</th>\n",
              "      <td>80</td>\n",
              "      <td>55</td>\n",
              "    </tr>\n",
              "  </tbody>\n",
              "</table>\n",
              "</div>"
            ],
            "text/plain": [
              "                     Daño  Precisión\n",
              "M16 Evil Clown         65         60\n",
              "S36 Evil Clown         75         35\n",
              "BY15 SnowFlakes        85         80\n",
              "MSMC Ancient Runes     75         45\n",
              "XPR-50 April's Fool    80         55"
            ]
          },
          "metadata": {
            "tags": []
          },
          "execution_count": 47
        }
      ]
    },
    {
      "cell_type": "markdown",
      "metadata": {
        "id": "acdYIEPL93wJ",
        "colab_type": "text"
      },
      "source": [
        "#### 4.2 Selección de filas por condición booleana\n",
        "\n",
        "Si queremos poner una condición (como en la cláusula WHERE de SQL), utilizaremos la selección por valores Booleanos, que surgirán de una condición. Por ejemplo, para obtener todas las columnas de las armas con precisión mayor a 50:"
      ]
    },
    {
      "cell_type": "code",
      "metadata": {
        "id": "oTxJXghf93wi",
        "colab_type": "code",
        "colab": {
          "base_uri": "https://localhost:8080/",
          "height": 426
        },
        "outputId": "0c1362ed-6b11-4c4e-9437-6895a84a03df"
      },
      "source": [
        "df3[df3['Precisión']>50]"
      ],
      "execution_count": 48,
      "outputs": [
        {
          "output_type": "execute_result",
          "data": {
            "text/html": [
              "<div>\n",
              "<style scoped>\n",
              "    .dataframe tbody tr th:only-of-type {\n",
              "        vertical-align: middle;\n",
              "    }\n",
              "\n",
              "    .dataframe tbody tr th {\n",
              "        vertical-align: top;\n",
              "    }\n",
              "\n",
              "    .dataframe thead th {\n",
              "        text-align: right;\n",
              "    }\n",
              "</style>\n",
              "<table border=\"1\" class=\"dataframe\">\n",
              "  <thead>\n",
              "    <tr style=\"text-align: right;\">\n",
              "      <th></th>\n",
              "      <th>Daño</th>\n",
              "      <th>Precisión</th>\n",
              "      <th>Alcance</th>\n",
              "      <th>Cadencia</th>\n",
              "      <th>Movilidad</th>\n",
              "    </tr>\n",
              "  </thead>\n",
              "  <tbody>\n",
              "    <tr>\n",
              "      <th>M16 Evil Clown</th>\n",
              "      <td>65</td>\n",
              "      <td>60</td>\n",
              "      <td>60</td>\n",
              "      <td>45</td>\n",
              "      <td>60</td>\n",
              "    </tr>\n",
              "    <tr>\n",
              "      <th>BY15 SnowFlakes</th>\n",
              "      <td>85</td>\n",
              "      <td>80</td>\n",
              "      <td>30</td>\n",
              "      <td>20</td>\n",
              "      <td>75</td>\n",
              "    </tr>\n",
              "    <tr>\n",
              "      <th>XPR-50 April's Fool</th>\n",
              "      <td>80</td>\n",
              "      <td>55</td>\n",
              "      <td>90</td>\n",
              "      <td>40</td>\n",
              "      <td>45</td>\n",
              "    </tr>\n",
              "    <tr>\n",
              "      <th>DLQ33 DeepShark</th>\n",
              "      <td>90</td>\n",
              "      <td>60</td>\n",
              "      <td>95</td>\n",
              "      <td>15</td>\n",
              "      <td>45</td>\n",
              "    </tr>\n",
              "    <tr>\n",
              "      <th>M4LMG RibbonExplosion</th>\n",
              "      <td>60</td>\n",
              "      <td>55</td>\n",
              "      <td>45</td>\n",
              "      <td>55</td>\n",
              "      <td>40</td>\n",
              "    </tr>\n",
              "    <tr>\n",
              "      <th>Arctic.50 Bats</th>\n",
              "      <td>85</td>\n",
              "      <td>52</td>\n",
              "      <td>95</td>\n",
              "      <td>30</td>\n",
              "      <td>50</td>\n",
              "    </tr>\n",
              "    <tr>\n",
              "      <th>XPR-50 RedTriangle</th>\n",
              "      <td>80</td>\n",
              "      <td>55</td>\n",
              "      <td>90</td>\n",
              "      <td>40</td>\n",
              "      <td>45</td>\n",
              "    </tr>\n",
              "    <tr>\n",
              "      <th>M16 NeonTiger</th>\n",
              "      <td>65</td>\n",
              "      <td>60</td>\n",
              "      <td>60</td>\n",
              "      <td>45</td>\n",
              "      <td>60</td>\n",
              "    </tr>\n",
              "    <tr>\n",
              "      <th>Arctic.50 RedTriangle</th>\n",
              "      <td>85</td>\n",
              "      <td>52</td>\n",
              "      <td>95</td>\n",
              "      <td>30</td>\n",
              "      <td>50</td>\n",
              "    </tr>\n",
              "    <tr>\n",
              "      <th>BK57 JackFrost</th>\n",
              "      <td>48</td>\n",
              "      <td>65</td>\n",
              "      <td>90</td>\n",
              "      <td>63</td>\n",
              "      <td>60</td>\n",
              "    </tr>\n",
              "    <tr>\n",
              "      <th>M4MLG RedTriangle</th>\n",
              "      <td>60</td>\n",
              "      <td>55</td>\n",
              "      <td>45</td>\n",
              "      <td>55</td>\n",
              "      <td>40</td>\n",
              "    </tr>\n",
              "    <tr>\n",
              "      <th>AKS-74U NeonTiger</th>\n",
              "      <td>78</td>\n",
              "      <td>55</td>\n",
              "      <td>32</td>\n",
              "      <td>60</td>\n",
              "      <td>75</td>\n",
              "    </tr>\n",
              "  </tbody>\n",
              "</table>\n",
              "</div>"
            ],
            "text/plain": [
              "                       Daño  Precisión  Alcance  Cadencia  Movilidad\n",
              "M16 Evil Clown           65         60       60        45         60\n",
              "BY15 SnowFlakes          85         80       30        20         75\n",
              "XPR-50 April's Fool      80         55       90        40         45\n",
              "DLQ33 DeepShark          90         60       95        15         45\n",
              "M4LMG RibbonExplosion    60         55       45        55         40\n",
              "Arctic.50 Bats           85         52       95        30         50\n",
              "XPR-50 RedTriangle       80         55       90        40         45\n",
              "M16 NeonTiger            65         60       60        45         60\n",
              "Arctic.50 RedTriangle    85         52       95        30         50\n",
              "BK57 JackFrost           48         65       90        63         60\n",
              "M4MLG RedTriangle        60         55       45        55         40\n",
              "AKS-74U NeonTiger        78         55       32        60         75"
            ]
          },
          "metadata": {
            "tags": []
          },
          "execution_count": 48
        }
      ]
    },
    {
      "cell_type": "markdown",
      "metadata": {
        "id": "-B8kd2Yl93wr",
        "colab_type": "text"
      },
      "source": [
        "Lo que estamos haciendo es construir una Series de valores booleanos, para que me devuelva todas las filas que tienen True:"
      ]
    },
    {
      "cell_type": "code",
      "metadata": {
        "id": "XiLZ8Vq493wv",
        "colab_type": "code",
        "colab": {
          "base_uri": "https://localhost:8080/",
          "height": 295
        },
        "outputId": "37980a7d-6527-4f20-cf9e-e9792b50cf99"
      },
      "source": [
        "df3['Precisión']>50"
      ],
      "execution_count": 49,
      "outputs": [
        {
          "output_type": "execute_result",
          "data": {
            "text/plain": [
              "M16 Evil Clown            True\n",
              "S36 Evil Clown           False\n",
              "BY15 SnowFlakes           True\n",
              "MSMC Ancient Runes       False\n",
              "XPR-50 April's Fool       True\n",
              "DLQ33 DeepShark           True\n",
              "M4LMG RibbonExplosion     True\n",
              "Arctic.50 Bats            True\n",
              "XPR-50 RedTriangle        True\n",
              "M16 NeonTiger             True\n",
              "Arctic.50 RedTriangle     True\n",
              "BK57 JackFrost            True\n",
              "M4MLG RedTriangle         True\n",
              "AKS-74U NeonTiger         True\n",
              "PDW-57 ZombieGene        False\n",
              "Name: Precisión, dtype: bool"
            ]
          },
          "metadata": {
            "tags": []
          },
          "execution_count": 49
        }
      ]
    },
    {
      "cell_type": "markdown",
      "metadata": {
        "id": "APImBaPl93w5",
        "colab_type": "text"
      },
      "source": [
        "... y luego pasamos esta Series como argumento para seleccionar aquellas filas que valen True.\n",
        "\n",
        "Para agregar más condiciones, podemos utilizar los operadores booleanos & (AND) y | (OR). Seleccionemos todas las armas que tienen precisión o daño mayores que 80:"
      ]
    },
    {
      "cell_type": "code",
      "metadata": {
        "id": "kiNfNAP593w-",
        "colab_type": "code",
        "colab": {
          "base_uri": "https://localhost:8080/",
          "height": 269
        },
        "outputId": "b72e2b0a-433e-4e32-e3f7-aba0510d3100"
      },
      "source": [
        "df3[ (df3['Precisión']>=80) | (df3['Daño']>=80) ]"
      ],
      "execution_count": 50,
      "outputs": [
        {
          "output_type": "execute_result",
          "data": {
            "text/html": [
              "<div>\n",
              "<style scoped>\n",
              "    .dataframe tbody tr th:only-of-type {\n",
              "        vertical-align: middle;\n",
              "    }\n",
              "\n",
              "    .dataframe tbody tr th {\n",
              "        vertical-align: top;\n",
              "    }\n",
              "\n",
              "    .dataframe thead th {\n",
              "        text-align: right;\n",
              "    }\n",
              "</style>\n",
              "<table border=\"1\" class=\"dataframe\">\n",
              "  <thead>\n",
              "    <tr style=\"text-align: right;\">\n",
              "      <th></th>\n",
              "      <th>Daño</th>\n",
              "      <th>Precisión</th>\n",
              "      <th>Alcance</th>\n",
              "      <th>Cadencia</th>\n",
              "      <th>Movilidad</th>\n",
              "    </tr>\n",
              "  </thead>\n",
              "  <tbody>\n",
              "    <tr>\n",
              "      <th>BY15 SnowFlakes</th>\n",
              "      <td>85</td>\n",
              "      <td>80</td>\n",
              "      <td>30</td>\n",
              "      <td>20</td>\n",
              "      <td>75</td>\n",
              "    </tr>\n",
              "    <tr>\n",
              "      <th>XPR-50 April's Fool</th>\n",
              "      <td>80</td>\n",
              "      <td>55</td>\n",
              "      <td>90</td>\n",
              "      <td>40</td>\n",
              "      <td>45</td>\n",
              "    </tr>\n",
              "    <tr>\n",
              "      <th>DLQ33 DeepShark</th>\n",
              "      <td>90</td>\n",
              "      <td>60</td>\n",
              "      <td>95</td>\n",
              "      <td>15</td>\n",
              "      <td>45</td>\n",
              "    </tr>\n",
              "    <tr>\n",
              "      <th>Arctic.50 Bats</th>\n",
              "      <td>85</td>\n",
              "      <td>52</td>\n",
              "      <td>95</td>\n",
              "      <td>30</td>\n",
              "      <td>50</td>\n",
              "    </tr>\n",
              "    <tr>\n",
              "      <th>XPR-50 RedTriangle</th>\n",
              "      <td>80</td>\n",
              "      <td>55</td>\n",
              "      <td>90</td>\n",
              "      <td>40</td>\n",
              "      <td>45</td>\n",
              "    </tr>\n",
              "    <tr>\n",
              "      <th>Arctic.50 RedTriangle</th>\n",
              "      <td>85</td>\n",
              "      <td>52</td>\n",
              "      <td>95</td>\n",
              "      <td>30</td>\n",
              "      <td>50</td>\n",
              "    </tr>\n",
              "    <tr>\n",
              "      <th>PDW-57 ZombieGene</th>\n",
              "      <td>90</td>\n",
              "      <td>40</td>\n",
              "      <td>25</td>\n",
              "      <td>60</td>\n",
              "      <td>75</td>\n",
              "    </tr>\n",
              "  </tbody>\n",
              "</table>\n",
              "</div>"
            ],
            "text/plain": [
              "                       Daño  Precisión  Alcance  Cadencia  Movilidad\n",
              "BY15 SnowFlakes          85         80       30        20         75\n",
              "XPR-50 April's Fool      80         55       90        40         45\n",
              "DLQ33 DeepShark          90         60       95        15         45\n",
              "Arctic.50 Bats           85         52       95        30         50\n",
              "XPR-50 RedTriangle       80         55       90        40         45\n",
              "Arctic.50 RedTriangle    85         52       95        30         50\n",
              "PDW-57 ZombieGene        90         40       25        60         75"
            ]
          },
          "metadata": {
            "tags": []
          },
          "execution_count": 50
        }
      ]
    },
    {
      "cell_type": "markdown",
      "metadata": {
        "id": "SXCiKES593xd",
        "colab_type": "text"
      },
      "source": [
        "Si queremos seleccionar solamente alguna de las columnas Y algunas de las filas, podemos especificarlas en el DataFrame resultado de la operación anterior."
      ]
    },
    {
      "cell_type": "code",
      "metadata": {
        "id": "qpd3SUrd93xk",
        "colab_type": "code",
        "colab": {
          "base_uri": "https://localhost:8080/",
          "height": 426
        },
        "outputId": "d55b372b-768e-4613-e673-3bb9fbb8c727"
      },
      "source": [
        "df3[df3['Precisión']>50][['Alcance', 'Cadencia']]"
      ],
      "execution_count": 51,
      "outputs": [
        {
          "output_type": "execute_result",
          "data": {
            "text/html": [
              "<div>\n",
              "<style scoped>\n",
              "    .dataframe tbody tr th:only-of-type {\n",
              "        vertical-align: middle;\n",
              "    }\n",
              "\n",
              "    .dataframe tbody tr th {\n",
              "        vertical-align: top;\n",
              "    }\n",
              "\n",
              "    .dataframe thead th {\n",
              "        text-align: right;\n",
              "    }\n",
              "</style>\n",
              "<table border=\"1\" class=\"dataframe\">\n",
              "  <thead>\n",
              "    <tr style=\"text-align: right;\">\n",
              "      <th></th>\n",
              "      <th>Alcance</th>\n",
              "      <th>Cadencia</th>\n",
              "    </tr>\n",
              "  </thead>\n",
              "  <tbody>\n",
              "    <tr>\n",
              "      <th>M16 Evil Clown</th>\n",
              "      <td>60</td>\n",
              "      <td>45</td>\n",
              "    </tr>\n",
              "    <tr>\n",
              "      <th>BY15 SnowFlakes</th>\n",
              "      <td>30</td>\n",
              "      <td>20</td>\n",
              "    </tr>\n",
              "    <tr>\n",
              "      <th>XPR-50 April's Fool</th>\n",
              "      <td>90</td>\n",
              "      <td>40</td>\n",
              "    </tr>\n",
              "    <tr>\n",
              "      <th>DLQ33 DeepShark</th>\n",
              "      <td>95</td>\n",
              "      <td>15</td>\n",
              "    </tr>\n",
              "    <tr>\n",
              "      <th>M4LMG RibbonExplosion</th>\n",
              "      <td>45</td>\n",
              "      <td>55</td>\n",
              "    </tr>\n",
              "    <tr>\n",
              "      <th>Arctic.50 Bats</th>\n",
              "      <td>95</td>\n",
              "      <td>30</td>\n",
              "    </tr>\n",
              "    <tr>\n",
              "      <th>XPR-50 RedTriangle</th>\n",
              "      <td>90</td>\n",
              "      <td>40</td>\n",
              "    </tr>\n",
              "    <tr>\n",
              "      <th>M16 NeonTiger</th>\n",
              "      <td>60</td>\n",
              "      <td>45</td>\n",
              "    </tr>\n",
              "    <tr>\n",
              "      <th>Arctic.50 RedTriangle</th>\n",
              "      <td>95</td>\n",
              "      <td>30</td>\n",
              "    </tr>\n",
              "    <tr>\n",
              "      <th>BK57 JackFrost</th>\n",
              "      <td>90</td>\n",
              "      <td>63</td>\n",
              "    </tr>\n",
              "    <tr>\n",
              "      <th>M4MLG RedTriangle</th>\n",
              "      <td>45</td>\n",
              "      <td>55</td>\n",
              "    </tr>\n",
              "    <tr>\n",
              "      <th>AKS-74U NeonTiger</th>\n",
              "      <td>32</td>\n",
              "      <td>60</td>\n",
              "    </tr>\n",
              "  </tbody>\n",
              "</table>\n",
              "</div>"
            ],
            "text/plain": [
              "                       Alcance  Cadencia\n",
              "M16 Evil Clown              60        45\n",
              "BY15 SnowFlakes             30        20\n",
              "XPR-50 April's Fool         90        40\n",
              "DLQ33 DeepShark             95        15\n",
              "M4LMG RibbonExplosion       45        55\n",
              "Arctic.50 Bats              95        30\n",
              "XPR-50 RedTriangle          90        40\n",
              "M16 NeonTiger               60        45\n",
              "Arctic.50 RedTriangle       95        30\n",
              "BK57 JackFrost              90        63\n",
              "M4MLG RedTriangle           45        55\n",
              "AKS-74U NeonTiger           32        60"
            ]
          },
          "metadata": {
            "tags": []
          },
          "execution_count": 51
        }
      ]
    },
    {
      "cell_type": "code",
      "metadata": {
        "id": "pT6NxL6793x6",
        "colab_type": "code",
        "colab": {
          "base_uri": "https://localhost:8080/",
          "height": 520
        },
        "outputId": "8fe54453-d850-465f-c8b4-ad436168e5dd"
      },
      "source": [
        "df3"
      ],
      "execution_count": 52,
      "outputs": [
        {
          "output_type": "execute_result",
          "data": {
            "text/html": [
              "<div>\n",
              "<style scoped>\n",
              "    .dataframe tbody tr th:only-of-type {\n",
              "        vertical-align: middle;\n",
              "    }\n",
              "\n",
              "    .dataframe tbody tr th {\n",
              "        vertical-align: top;\n",
              "    }\n",
              "\n",
              "    .dataframe thead th {\n",
              "        text-align: right;\n",
              "    }\n",
              "</style>\n",
              "<table border=\"1\" class=\"dataframe\">\n",
              "  <thead>\n",
              "    <tr style=\"text-align: right;\">\n",
              "      <th></th>\n",
              "      <th>Daño</th>\n",
              "      <th>Precisión</th>\n",
              "      <th>Alcance</th>\n",
              "      <th>Cadencia</th>\n",
              "      <th>Movilidad</th>\n",
              "    </tr>\n",
              "  </thead>\n",
              "  <tbody>\n",
              "    <tr>\n",
              "      <th>M16 Evil Clown</th>\n",
              "      <td>65</td>\n",
              "      <td>60</td>\n",
              "      <td>60</td>\n",
              "      <td>45</td>\n",
              "      <td>60</td>\n",
              "    </tr>\n",
              "    <tr>\n",
              "      <th>S36 Evil Clown</th>\n",
              "      <td>75</td>\n",
              "      <td>35</td>\n",
              "      <td>50</td>\n",
              "      <td>75</td>\n",
              "      <td>40</td>\n",
              "    </tr>\n",
              "    <tr>\n",
              "      <th>BY15 SnowFlakes</th>\n",
              "      <td>85</td>\n",
              "      <td>80</td>\n",
              "      <td>30</td>\n",
              "      <td>20</td>\n",
              "      <td>75</td>\n",
              "    </tr>\n",
              "    <tr>\n",
              "      <th>MSMC Ancient Runes</th>\n",
              "      <td>75</td>\n",
              "      <td>45</td>\n",
              "      <td>30</td>\n",
              "      <td>70</td>\n",
              "      <td>80</td>\n",
              "    </tr>\n",
              "    <tr>\n",
              "      <th>XPR-50 April's Fool</th>\n",
              "      <td>80</td>\n",
              "      <td>55</td>\n",
              "      <td>90</td>\n",
              "      <td>40</td>\n",
              "      <td>45</td>\n",
              "    </tr>\n",
              "    <tr>\n",
              "      <th>DLQ33 DeepShark</th>\n",
              "      <td>90</td>\n",
              "      <td>60</td>\n",
              "      <td>95</td>\n",
              "      <td>15</td>\n",
              "      <td>45</td>\n",
              "    </tr>\n",
              "    <tr>\n",
              "      <th>M4LMG RibbonExplosion</th>\n",
              "      <td>60</td>\n",
              "      <td>55</td>\n",
              "      <td>45</td>\n",
              "      <td>55</td>\n",
              "      <td>40</td>\n",
              "    </tr>\n",
              "    <tr>\n",
              "      <th>Arctic.50 Bats</th>\n",
              "      <td>85</td>\n",
              "      <td>52</td>\n",
              "      <td>95</td>\n",
              "      <td>30</td>\n",
              "      <td>50</td>\n",
              "    </tr>\n",
              "    <tr>\n",
              "      <th>XPR-50 RedTriangle</th>\n",
              "      <td>80</td>\n",
              "      <td>55</td>\n",
              "      <td>90</td>\n",
              "      <td>40</td>\n",
              "      <td>45</td>\n",
              "    </tr>\n",
              "    <tr>\n",
              "      <th>M16 NeonTiger</th>\n",
              "      <td>65</td>\n",
              "      <td>60</td>\n",
              "      <td>60</td>\n",
              "      <td>45</td>\n",
              "      <td>60</td>\n",
              "    </tr>\n",
              "    <tr>\n",
              "      <th>Arctic.50 RedTriangle</th>\n",
              "      <td>85</td>\n",
              "      <td>52</td>\n",
              "      <td>95</td>\n",
              "      <td>30</td>\n",
              "      <td>50</td>\n",
              "    </tr>\n",
              "    <tr>\n",
              "      <th>BK57 JackFrost</th>\n",
              "      <td>48</td>\n",
              "      <td>65</td>\n",
              "      <td>90</td>\n",
              "      <td>63</td>\n",
              "      <td>60</td>\n",
              "    </tr>\n",
              "    <tr>\n",
              "      <th>M4MLG RedTriangle</th>\n",
              "      <td>60</td>\n",
              "      <td>55</td>\n",
              "      <td>45</td>\n",
              "      <td>55</td>\n",
              "      <td>40</td>\n",
              "    </tr>\n",
              "    <tr>\n",
              "      <th>AKS-74U NeonTiger</th>\n",
              "      <td>78</td>\n",
              "      <td>55</td>\n",
              "      <td>32</td>\n",
              "      <td>60</td>\n",
              "      <td>75</td>\n",
              "    </tr>\n",
              "    <tr>\n",
              "      <th>PDW-57 ZombieGene</th>\n",
              "      <td>90</td>\n",
              "      <td>40</td>\n",
              "      <td>25</td>\n",
              "      <td>60</td>\n",
              "      <td>75</td>\n",
              "    </tr>\n",
              "  </tbody>\n",
              "</table>\n",
              "</div>"
            ],
            "text/plain": [
              "                       Daño  Precisión  Alcance  Cadencia  Movilidad\n",
              "M16 Evil Clown           65         60       60        45         60\n",
              "S36 Evil Clown           75         35       50        75         40\n",
              "BY15 SnowFlakes          85         80       30        20         75\n",
              "MSMC Ancient Runes       75         45       30        70         80\n",
              "XPR-50 April's Fool      80         55       90        40         45\n",
              "DLQ33 DeepShark          90         60       95        15         45\n",
              "M4LMG RibbonExplosion    60         55       45        55         40\n",
              "Arctic.50 Bats           85         52       95        30         50\n",
              "XPR-50 RedTriangle       80         55       90        40         45\n",
              "M16 NeonTiger            65         60       60        45         60\n",
              "Arctic.50 RedTriangle    85         52       95        30         50\n",
              "BK57 JackFrost           48         65       90        63         60\n",
              "M4MLG RedTriangle        60         55       45        55         40\n",
              "AKS-74U NeonTiger        78         55       32        60         75\n",
              "PDW-57 ZombieGene        90         40       25        60         75"
            ]
          },
          "metadata": {
            "tags": []
          },
          "execution_count": 52
        }
      ]
    },
    {
      "cell_type": "markdown",
      "metadata": {
        "id": "KndeDNlf93yJ",
        "colab_type": "text"
      },
      "source": [
        "Creemos un nuevo DataFrame que tenga, para cada arma, su tipo. Para eso, construimos una Series a partir de un diccionario (donde los índices coincidan con los que tenemos), y simplemente lo asignamos a nueva nueva columna del DataFrame ya construido."
      ]
    },
    {
      "cell_type": "code",
      "metadata": {
        "id": "Og3PtrOM93yp",
        "colab_type": "code",
        "colab": {
          "base_uri": "https://localhost:8080/",
          "height": 520
        },
        "outputId": "ac26e022-eec1-4887-f638-b351214edd97"
      },
      "source": [
        "d={ 'M16 Evil Clown':'Fusil de Asalto', \n",
        "    'S36 Evil Clown':'Ametralladora', \n",
        "    'BY15 SnowFlakes':'Escopeta',\n",
        "    'MSMC Ancient Runes':'Ametralladora Ligera', \n",
        "    'XPR-50 April\\'s Fool':'Fusil de Precisión',\n",
        "    'DLQ33 DeepShark':'Fusil de Precisión',\n",
        "    'M4LMG RibbonExplosion':'Ametralladora',\n",
        "    'Arctic.50 Bats':'Fusil de Precisión',\n",
        "    'XPR-50 RedTriangle':'Fusil de Precisión',\n",
        "    'M16 NeonTiger':'Fusil de Asalto', \n",
        "    'Arctic.50 RedTriangle':'Fusil de Precisión',\n",
        "    'BK57 JackFrost':'Fusil de Asalto',\n",
        "    'M4MLG RedTriangle':'Ametralladora Ligera', \n",
        "    'AKS-74U NeonTiger':'Subfusil',\n",
        "    'PDW-57 ZombieGene':'Subfusil'}\n",
        "\n",
        "df3['Tipo']=pd.Series(d)\n",
        "df3"
      ],
      "execution_count": 53,
      "outputs": [
        {
          "output_type": "execute_result",
          "data": {
            "text/html": [
              "<div>\n",
              "<style scoped>\n",
              "    .dataframe tbody tr th:only-of-type {\n",
              "        vertical-align: middle;\n",
              "    }\n",
              "\n",
              "    .dataframe tbody tr th {\n",
              "        vertical-align: top;\n",
              "    }\n",
              "\n",
              "    .dataframe thead th {\n",
              "        text-align: right;\n",
              "    }\n",
              "</style>\n",
              "<table border=\"1\" class=\"dataframe\">\n",
              "  <thead>\n",
              "    <tr style=\"text-align: right;\">\n",
              "      <th></th>\n",
              "      <th>Daño</th>\n",
              "      <th>Precisión</th>\n",
              "      <th>Alcance</th>\n",
              "      <th>Cadencia</th>\n",
              "      <th>Movilidad</th>\n",
              "      <th>Tipo</th>\n",
              "    </tr>\n",
              "  </thead>\n",
              "  <tbody>\n",
              "    <tr>\n",
              "      <th>M16 Evil Clown</th>\n",
              "      <td>65</td>\n",
              "      <td>60</td>\n",
              "      <td>60</td>\n",
              "      <td>45</td>\n",
              "      <td>60</td>\n",
              "      <td>Fusil de Asalto</td>\n",
              "    </tr>\n",
              "    <tr>\n",
              "      <th>S36 Evil Clown</th>\n",
              "      <td>75</td>\n",
              "      <td>35</td>\n",
              "      <td>50</td>\n",
              "      <td>75</td>\n",
              "      <td>40</td>\n",
              "      <td>Ametralladora</td>\n",
              "    </tr>\n",
              "    <tr>\n",
              "      <th>BY15 SnowFlakes</th>\n",
              "      <td>85</td>\n",
              "      <td>80</td>\n",
              "      <td>30</td>\n",
              "      <td>20</td>\n",
              "      <td>75</td>\n",
              "      <td>Escopeta</td>\n",
              "    </tr>\n",
              "    <tr>\n",
              "      <th>MSMC Ancient Runes</th>\n",
              "      <td>75</td>\n",
              "      <td>45</td>\n",
              "      <td>30</td>\n",
              "      <td>70</td>\n",
              "      <td>80</td>\n",
              "      <td>Ametralladora Ligera</td>\n",
              "    </tr>\n",
              "    <tr>\n",
              "      <th>XPR-50 April's Fool</th>\n",
              "      <td>80</td>\n",
              "      <td>55</td>\n",
              "      <td>90</td>\n",
              "      <td>40</td>\n",
              "      <td>45</td>\n",
              "      <td>Fusil de Precisión</td>\n",
              "    </tr>\n",
              "    <tr>\n",
              "      <th>DLQ33 DeepShark</th>\n",
              "      <td>90</td>\n",
              "      <td>60</td>\n",
              "      <td>95</td>\n",
              "      <td>15</td>\n",
              "      <td>45</td>\n",
              "      <td>Fusil de Precisión</td>\n",
              "    </tr>\n",
              "    <tr>\n",
              "      <th>M4LMG RibbonExplosion</th>\n",
              "      <td>60</td>\n",
              "      <td>55</td>\n",
              "      <td>45</td>\n",
              "      <td>55</td>\n",
              "      <td>40</td>\n",
              "      <td>Ametralladora</td>\n",
              "    </tr>\n",
              "    <tr>\n",
              "      <th>Arctic.50 Bats</th>\n",
              "      <td>85</td>\n",
              "      <td>52</td>\n",
              "      <td>95</td>\n",
              "      <td>30</td>\n",
              "      <td>50</td>\n",
              "      <td>Fusil de Precisión</td>\n",
              "    </tr>\n",
              "    <tr>\n",
              "      <th>XPR-50 RedTriangle</th>\n",
              "      <td>80</td>\n",
              "      <td>55</td>\n",
              "      <td>90</td>\n",
              "      <td>40</td>\n",
              "      <td>45</td>\n",
              "      <td>Fusil de Precisión</td>\n",
              "    </tr>\n",
              "    <tr>\n",
              "      <th>M16 NeonTiger</th>\n",
              "      <td>65</td>\n",
              "      <td>60</td>\n",
              "      <td>60</td>\n",
              "      <td>45</td>\n",
              "      <td>60</td>\n",
              "      <td>Fusil de Asalto</td>\n",
              "    </tr>\n",
              "    <tr>\n",
              "      <th>Arctic.50 RedTriangle</th>\n",
              "      <td>85</td>\n",
              "      <td>52</td>\n",
              "      <td>95</td>\n",
              "      <td>30</td>\n",
              "      <td>50</td>\n",
              "      <td>Fusil de Precisión</td>\n",
              "    </tr>\n",
              "    <tr>\n",
              "      <th>BK57 JackFrost</th>\n",
              "      <td>48</td>\n",
              "      <td>65</td>\n",
              "      <td>90</td>\n",
              "      <td>63</td>\n",
              "      <td>60</td>\n",
              "      <td>Fusil de Asalto</td>\n",
              "    </tr>\n",
              "    <tr>\n",
              "      <th>M4MLG RedTriangle</th>\n",
              "      <td>60</td>\n",
              "      <td>55</td>\n",
              "      <td>45</td>\n",
              "      <td>55</td>\n",
              "      <td>40</td>\n",
              "      <td>Ametralladora Ligera</td>\n",
              "    </tr>\n",
              "    <tr>\n",
              "      <th>AKS-74U NeonTiger</th>\n",
              "      <td>78</td>\n",
              "      <td>55</td>\n",
              "      <td>32</td>\n",
              "      <td>60</td>\n",
              "      <td>75</td>\n",
              "      <td>Subfusil</td>\n",
              "    </tr>\n",
              "    <tr>\n",
              "      <th>PDW-57 ZombieGene</th>\n",
              "      <td>90</td>\n",
              "      <td>40</td>\n",
              "      <td>25</td>\n",
              "      <td>60</td>\n",
              "      <td>75</td>\n",
              "      <td>Subfusil</td>\n",
              "    </tr>\n",
              "  </tbody>\n",
              "</table>\n",
              "</div>"
            ],
            "text/plain": [
              "                       Daño  Precisión  ...  Movilidad                  Tipo\n",
              "M16 Evil Clown           65         60  ...         60       Fusil de Asalto\n",
              "S36 Evil Clown           75         35  ...         40         Ametralladora\n",
              "BY15 SnowFlakes          85         80  ...         75              Escopeta\n",
              "MSMC Ancient Runes       75         45  ...         80  Ametralladora Ligera\n",
              "XPR-50 April's Fool      80         55  ...         45    Fusil de Precisión\n",
              "DLQ33 DeepShark          90         60  ...         45    Fusil de Precisión\n",
              "M4LMG RibbonExplosion    60         55  ...         40         Ametralladora\n",
              "Arctic.50 Bats           85         52  ...         50    Fusil de Precisión\n",
              "XPR-50 RedTriangle       80         55  ...         45    Fusil de Precisión\n",
              "M16 NeonTiger            65         60  ...         60       Fusil de Asalto\n",
              "Arctic.50 RedTriangle    85         52  ...         50    Fusil de Precisión\n",
              "BK57 JackFrost           48         65  ...         60       Fusil de Asalto\n",
              "M4MLG RedTriangle        60         55  ...         40  Ametralladora Ligera\n",
              "AKS-74U NeonTiger        78         55  ...         75              Subfusil\n",
              "PDW-57 ZombieGene        90         40  ...         75              Subfusil\n",
              "\n",
              "[15 rows x 6 columns]"
            ]
          },
          "metadata": {
            "tags": []
          },
          "execution_count": 53
        }
      ]
    },
    {
      "cell_type": "markdown",
      "metadata": {
        "id": "B15mGlZv93y-",
        "colab_type": "text"
      },
      "source": [
        "Listemos solamente los Fusiles de Precisión"
      ]
    },
    {
      "cell_type": "code",
      "metadata": {
        "id": "AkLwxlmp93zF",
        "colab_type": "code",
        "colab": {
          "base_uri": "https://localhost:8080/",
          "height": 206
        },
        "outputId": "45217e2f-fdf0-450d-83b7-cee83d23f60a"
      },
      "source": [
        "df3[df3['Tipo']=='Fusil de Precisión']"
      ],
      "execution_count": 54,
      "outputs": [
        {
          "output_type": "execute_result",
          "data": {
            "text/html": [
              "<div>\n",
              "<style scoped>\n",
              "    .dataframe tbody tr th:only-of-type {\n",
              "        vertical-align: middle;\n",
              "    }\n",
              "\n",
              "    .dataframe tbody tr th {\n",
              "        vertical-align: top;\n",
              "    }\n",
              "\n",
              "    .dataframe thead th {\n",
              "        text-align: right;\n",
              "    }\n",
              "</style>\n",
              "<table border=\"1\" class=\"dataframe\">\n",
              "  <thead>\n",
              "    <tr style=\"text-align: right;\">\n",
              "      <th></th>\n",
              "      <th>Daño</th>\n",
              "      <th>Precisión</th>\n",
              "      <th>Alcance</th>\n",
              "      <th>Cadencia</th>\n",
              "      <th>Movilidad</th>\n",
              "      <th>Tipo</th>\n",
              "    </tr>\n",
              "  </thead>\n",
              "  <tbody>\n",
              "    <tr>\n",
              "      <th>XPR-50 April's Fool</th>\n",
              "      <td>80</td>\n",
              "      <td>55</td>\n",
              "      <td>90</td>\n",
              "      <td>40</td>\n",
              "      <td>45</td>\n",
              "      <td>Fusil de Precisión</td>\n",
              "    </tr>\n",
              "    <tr>\n",
              "      <th>DLQ33 DeepShark</th>\n",
              "      <td>90</td>\n",
              "      <td>60</td>\n",
              "      <td>95</td>\n",
              "      <td>15</td>\n",
              "      <td>45</td>\n",
              "      <td>Fusil de Precisión</td>\n",
              "    </tr>\n",
              "    <tr>\n",
              "      <th>Arctic.50 Bats</th>\n",
              "      <td>85</td>\n",
              "      <td>52</td>\n",
              "      <td>95</td>\n",
              "      <td>30</td>\n",
              "      <td>50</td>\n",
              "      <td>Fusil de Precisión</td>\n",
              "    </tr>\n",
              "    <tr>\n",
              "      <th>XPR-50 RedTriangle</th>\n",
              "      <td>80</td>\n",
              "      <td>55</td>\n",
              "      <td>90</td>\n",
              "      <td>40</td>\n",
              "      <td>45</td>\n",
              "      <td>Fusil de Precisión</td>\n",
              "    </tr>\n",
              "    <tr>\n",
              "      <th>Arctic.50 RedTriangle</th>\n",
              "      <td>85</td>\n",
              "      <td>52</td>\n",
              "      <td>95</td>\n",
              "      <td>30</td>\n",
              "      <td>50</td>\n",
              "      <td>Fusil de Precisión</td>\n",
              "    </tr>\n",
              "  </tbody>\n",
              "</table>\n",
              "</div>"
            ],
            "text/plain": [
              "                       Daño  Precisión  ...  Movilidad                Tipo\n",
              "XPR-50 April's Fool      80         55  ...         45  Fusil de Precisión\n",
              "DLQ33 DeepShark          90         60  ...         45  Fusil de Precisión\n",
              "Arctic.50 Bats           85         52  ...         50  Fusil de Precisión\n",
              "XPR-50 RedTriangle       80         55  ...         45  Fusil de Precisión\n",
              "Arctic.50 RedTriangle    85         52  ...         50  Fusil de Precisión\n",
              "\n",
              "[5 rows x 6 columns]"
            ]
          },
          "metadata": {
            "tags": []
          },
          "execution_count": 54
        }
      ]
    },
    {
      "cell_type": "markdown",
      "metadata": {
        "id": "RYJSgGqV93zR",
        "colab_type": "text"
      },
      "source": [
        "Es posible ordenar los resultados de una consulta (que es siempre un DataFrame):"
      ]
    },
    {
      "cell_type": "code",
      "metadata": {
        "id": "Gm_RBLCe93zY",
        "colab_type": "code",
        "colab": {
          "base_uri": "https://localhost:8080/",
          "height": 206
        },
        "outputId": "f98297ed-fd75-429d-e274-2d40a1990e12"
      },
      "source": [
        "df3[df3['Tipo']=='Fusil de Precisión'].sort_values(['Daño', 'Precisión'])"
      ],
      "execution_count": 55,
      "outputs": [
        {
          "output_type": "execute_result",
          "data": {
            "text/html": [
              "<div>\n",
              "<style scoped>\n",
              "    .dataframe tbody tr th:only-of-type {\n",
              "        vertical-align: middle;\n",
              "    }\n",
              "\n",
              "    .dataframe tbody tr th {\n",
              "        vertical-align: top;\n",
              "    }\n",
              "\n",
              "    .dataframe thead th {\n",
              "        text-align: right;\n",
              "    }\n",
              "</style>\n",
              "<table border=\"1\" class=\"dataframe\">\n",
              "  <thead>\n",
              "    <tr style=\"text-align: right;\">\n",
              "      <th></th>\n",
              "      <th>Daño</th>\n",
              "      <th>Precisión</th>\n",
              "      <th>Alcance</th>\n",
              "      <th>Cadencia</th>\n",
              "      <th>Movilidad</th>\n",
              "      <th>Tipo</th>\n",
              "    </tr>\n",
              "  </thead>\n",
              "  <tbody>\n",
              "    <tr>\n",
              "      <th>XPR-50 April's Fool</th>\n",
              "      <td>80</td>\n",
              "      <td>55</td>\n",
              "      <td>90</td>\n",
              "      <td>40</td>\n",
              "      <td>45</td>\n",
              "      <td>Fusil de Precisión</td>\n",
              "    </tr>\n",
              "    <tr>\n",
              "      <th>XPR-50 RedTriangle</th>\n",
              "      <td>80</td>\n",
              "      <td>55</td>\n",
              "      <td>90</td>\n",
              "      <td>40</td>\n",
              "      <td>45</td>\n",
              "      <td>Fusil de Precisión</td>\n",
              "    </tr>\n",
              "    <tr>\n",
              "      <th>Arctic.50 Bats</th>\n",
              "      <td>85</td>\n",
              "      <td>52</td>\n",
              "      <td>95</td>\n",
              "      <td>30</td>\n",
              "      <td>50</td>\n",
              "      <td>Fusil de Precisión</td>\n",
              "    </tr>\n",
              "    <tr>\n",
              "      <th>Arctic.50 RedTriangle</th>\n",
              "      <td>85</td>\n",
              "      <td>52</td>\n",
              "      <td>95</td>\n",
              "      <td>30</td>\n",
              "      <td>50</td>\n",
              "      <td>Fusil de Precisión</td>\n",
              "    </tr>\n",
              "    <tr>\n",
              "      <th>DLQ33 DeepShark</th>\n",
              "      <td>90</td>\n",
              "      <td>60</td>\n",
              "      <td>95</td>\n",
              "      <td>15</td>\n",
              "      <td>45</td>\n",
              "      <td>Fusil de Precisión</td>\n",
              "    </tr>\n",
              "  </tbody>\n",
              "</table>\n",
              "</div>"
            ],
            "text/plain": [
              "                       Daño  Precisión  ...  Movilidad                Tipo\n",
              "XPR-50 April's Fool      80         55  ...         45  Fusil de Precisión\n",
              "XPR-50 RedTriangle       80         55  ...         45  Fusil de Precisión\n",
              "Arctic.50 Bats           85         52  ...         50  Fusil de Precisión\n",
              "Arctic.50 RedTriangle    85         52  ...         50  Fusil de Precisión\n",
              "DLQ33 DeepShark          90         60  ...         45  Fusil de Precisión\n",
              "\n",
              "[5 rows x 6 columns]"
            ]
          },
          "metadata": {
            "tags": []
          },
          "execution_count": 55
        }
      ]
    },
    {
      "cell_type": "markdown",
      "metadata": {
        "id": "DYIYH5WZ93zn",
        "colab_type": "text"
      },
      "source": [
        "#### 4.3 Operaciones sobre conjuntos de filas\n",
        "\n",
        "Si lo que queremos es agrupar las filas de acuerdo al valor de una o más columnas (u otro criterio), en forma similar a la operación GROUP BY de SQL, podemos utilizar el método `groupby`. Por ejemplo, si queremos conocer la precisión promedio según el tipo de arma, primero agrupamos por tipo, luego seleccionamos la Series que nos interesa, y finalmente le aplicamos la operación `mean`"
      ]
    },
    {
      "cell_type": "code",
      "metadata": {
        "id": "DZeB0vI493zp",
        "colab_type": "code",
        "colab": {
          "base_uri": "https://localhost:8080/",
          "height": 156
        },
        "outputId": "bf381431-9c9e-492d-fd09-1d8934496320"
      },
      "source": [
        "df3.groupby('Tipo')['Precisión'].mean()"
      ],
      "execution_count": 56,
      "outputs": [
        {
          "output_type": "execute_result",
          "data": {
            "text/plain": [
              "Tipo\n",
              "Ametralladora           45.000000\n",
              "Ametralladora Ligera    50.000000\n",
              "Escopeta                80.000000\n",
              "Fusil de Asalto         61.666667\n",
              "Fusil de Precisión      54.800000\n",
              "Subfusil                47.500000\n",
              "Name: Precisión, dtype: float64"
            ]
          },
          "metadata": {
            "tags": []
          },
          "execution_count": 56
        }
      ]
    },
    {
      "cell_type": "markdown",
      "metadata": {
        "id": "ygFl7RM093z4",
        "colab_type": "text"
      },
      "source": [
        "Si queremos obtener la medida de todas las columnas, usamos `agg` para indicarle que aplique el método `np.mean` a todas las columnas (el método permite más de una función, así que calcularemos también la desviación estándar). En nuestro ejemplo, estamos agrupando según el valor de una sola columna, pero puede agruparse por más de una."
      ]
    },
    {
      "cell_type": "code",
      "metadata": {
        "id": "JLmsiDyr93z9",
        "colab_type": "code",
        "colab": {
          "base_uri": "https://localhost:8080/",
          "height": 335
        },
        "outputId": "fe0ba03e-3187-4941-bdf6-08e1a5e326e2"
      },
      "source": [
        "df3.groupby('Tipo').agg([np.mean, np.std])"
      ],
      "execution_count": 57,
      "outputs": [
        {
          "output_type": "execute_result",
          "data": {
            "text/html": [
              "<div>\n",
              "<style scoped>\n",
              "    .dataframe tbody tr th:only-of-type {\n",
              "        vertical-align: middle;\n",
              "    }\n",
              "\n",
              "    .dataframe tbody tr th {\n",
              "        vertical-align: top;\n",
              "    }\n",
              "\n",
              "    .dataframe thead tr th {\n",
              "        text-align: left;\n",
              "    }\n",
              "\n",
              "    .dataframe thead tr:last-of-type th {\n",
              "        text-align: right;\n",
              "    }\n",
              "</style>\n",
              "<table border=\"1\" class=\"dataframe\">\n",
              "  <thead>\n",
              "    <tr>\n",
              "      <th></th>\n",
              "      <th colspan=\"2\" halign=\"left\">Daño</th>\n",
              "      <th colspan=\"2\" halign=\"left\">Precisión</th>\n",
              "      <th colspan=\"2\" halign=\"left\">Alcance</th>\n",
              "      <th colspan=\"2\" halign=\"left\">Cadencia</th>\n",
              "      <th colspan=\"2\" halign=\"left\">Movilidad</th>\n",
              "    </tr>\n",
              "    <tr>\n",
              "      <th></th>\n",
              "      <th>mean</th>\n",
              "      <th>std</th>\n",
              "      <th>mean</th>\n",
              "      <th>std</th>\n",
              "      <th>mean</th>\n",
              "      <th>std</th>\n",
              "      <th>mean</th>\n",
              "      <th>std</th>\n",
              "      <th>mean</th>\n",
              "      <th>std</th>\n",
              "    </tr>\n",
              "    <tr>\n",
              "      <th>Tipo</th>\n",
              "      <th></th>\n",
              "      <th></th>\n",
              "      <th></th>\n",
              "      <th></th>\n",
              "      <th></th>\n",
              "      <th></th>\n",
              "      <th></th>\n",
              "      <th></th>\n",
              "      <th></th>\n",
              "      <th></th>\n",
              "    </tr>\n",
              "  </thead>\n",
              "  <tbody>\n",
              "    <tr>\n",
              "      <th>Ametralladora</th>\n",
              "      <td>67.500000</td>\n",
              "      <td>10.606602</td>\n",
              "      <td>45.000000</td>\n",
              "      <td>14.142136</td>\n",
              "      <td>47.5</td>\n",
              "      <td>3.535534</td>\n",
              "      <td>65.0</td>\n",
              "      <td>14.142136</td>\n",
              "      <td>40</td>\n",
              "      <td>0.000000</td>\n",
              "    </tr>\n",
              "    <tr>\n",
              "      <th>Ametralladora Ligera</th>\n",
              "      <td>67.500000</td>\n",
              "      <td>10.606602</td>\n",
              "      <td>50.000000</td>\n",
              "      <td>7.071068</td>\n",
              "      <td>37.5</td>\n",
              "      <td>10.606602</td>\n",
              "      <td>62.5</td>\n",
              "      <td>10.606602</td>\n",
              "      <td>60</td>\n",
              "      <td>28.284271</td>\n",
              "    </tr>\n",
              "    <tr>\n",
              "      <th>Escopeta</th>\n",
              "      <td>85.000000</td>\n",
              "      <td>NaN</td>\n",
              "      <td>80.000000</td>\n",
              "      <td>NaN</td>\n",
              "      <td>30.0</td>\n",
              "      <td>NaN</td>\n",
              "      <td>20.0</td>\n",
              "      <td>NaN</td>\n",
              "      <td>75</td>\n",
              "      <td>NaN</td>\n",
              "    </tr>\n",
              "    <tr>\n",
              "      <th>Fusil de Asalto</th>\n",
              "      <td>59.333333</td>\n",
              "      <td>9.814955</td>\n",
              "      <td>61.666667</td>\n",
              "      <td>2.886751</td>\n",
              "      <td>70.0</td>\n",
              "      <td>17.320508</td>\n",
              "      <td>51.0</td>\n",
              "      <td>10.392305</td>\n",
              "      <td>60</td>\n",
              "      <td>0.000000</td>\n",
              "    </tr>\n",
              "    <tr>\n",
              "      <th>Fusil de Precisión</th>\n",
              "      <td>84.000000</td>\n",
              "      <td>4.183300</td>\n",
              "      <td>54.800000</td>\n",
              "      <td>3.271085</td>\n",
              "      <td>93.0</td>\n",
              "      <td>2.738613</td>\n",
              "      <td>31.0</td>\n",
              "      <td>10.246951</td>\n",
              "      <td>47</td>\n",
              "      <td>2.738613</td>\n",
              "    </tr>\n",
              "    <tr>\n",
              "      <th>Subfusil</th>\n",
              "      <td>84.000000</td>\n",
              "      <td>8.485281</td>\n",
              "      <td>47.500000</td>\n",
              "      <td>10.606602</td>\n",
              "      <td>28.5</td>\n",
              "      <td>4.949747</td>\n",
              "      <td>60.0</td>\n",
              "      <td>0.000000</td>\n",
              "      <td>75</td>\n",
              "      <td>0.000000</td>\n",
              "    </tr>\n",
              "  </tbody>\n",
              "</table>\n",
              "</div>"
            ],
            "text/plain": [
              "                           Daño             ... Movilidad           \n",
              "                           mean        std  ...      mean        std\n",
              "Tipo                                        ...                     \n",
              "Ametralladora         67.500000  10.606602  ...        40   0.000000\n",
              "Ametralladora Ligera  67.500000  10.606602  ...        60  28.284271\n",
              "Escopeta              85.000000        NaN  ...        75        NaN\n",
              "Fusil de Asalto       59.333333   9.814955  ...        60   0.000000\n",
              "Fusil de Precisión    84.000000   4.183300  ...        47   2.738613\n",
              "Subfusil              84.000000   8.485281  ...        75   0.000000\n",
              "\n",
              "[6 rows x 10 columns]"
            ]
          },
          "metadata": {
            "tags": []
          },
          "execution_count": 57
        }
      ]
    },
    {
      "cell_type": "markdown",
      "metadata": {
        "id": "nNpwPowo930O",
        "colab_type": "text"
      },
      "source": [
        "Podemos aplicar diferentes funciones a diferentes columnas..."
      ]
    },
    {
      "cell_type": "code",
      "metadata": {
        "id": "88UiVwr9930S",
        "colab_type": "code",
        "colab": {
          "base_uri": "https://localhost:8080/",
          "height": 300
        },
        "outputId": "bc0c9697-d0bb-49dd-c7fd-529cf29415b4"
      },
      "source": [
        "df3.groupby('Tipo').agg({'Daño':[np.mean, np.std], 'Alcance':[np.mean]})"
      ],
      "execution_count": 58,
      "outputs": [
        {
          "output_type": "execute_result",
          "data": {
            "text/html": [
              "<div>\n",
              "<style scoped>\n",
              "    .dataframe tbody tr th:only-of-type {\n",
              "        vertical-align: middle;\n",
              "    }\n",
              "\n",
              "    .dataframe tbody tr th {\n",
              "        vertical-align: top;\n",
              "    }\n",
              "\n",
              "    .dataframe thead tr th {\n",
              "        text-align: left;\n",
              "    }\n",
              "\n",
              "    .dataframe thead tr:last-of-type th {\n",
              "        text-align: right;\n",
              "    }\n",
              "</style>\n",
              "<table border=\"1\" class=\"dataframe\">\n",
              "  <thead>\n",
              "    <tr>\n",
              "      <th></th>\n",
              "      <th colspan=\"2\" halign=\"left\">Daño</th>\n",
              "      <th>Alcance</th>\n",
              "    </tr>\n",
              "    <tr>\n",
              "      <th></th>\n",
              "      <th>mean</th>\n",
              "      <th>std</th>\n",
              "      <th>mean</th>\n",
              "    </tr>\n",
              "    <tr>\n",
              "      <th>Tipo</th>\n",
              "      <th></th>\n",
              "      <th></th>\n",
              "      <th></th>\n",
              "    </tr>\n",
              "  </thead>\n",
              "  <tbody>\n",
              "    <tr>\n",
              "      <th>Ametralladora</th>\n",
              "      <td>67.500000</td>\n",
              "      <td>10.606602</td>\n",
              "      <td>47.5</td>\n",
              "    </tr>\n",
              "    <tr>\n",
              "      <th>Ametralladora Ligera</th>\n",
              "      <td>67.500000</td>\n",
              "      <td>10.606602</td>\n",
              "      <td>37.5</td>\n",
              "    </tr>\n",
              "    <tr>\n",
              "      <th>Escopeta</th>\n",
              "      <td>85.000000</td>\n",
              "      <td>NaN</td>\n",
              "      <td>30.0</td>\n",
              "    </tr>\n",
              "    <tr>\n",
              "      <th>Fusil de Asalto</th>\n",
              "      <td>59.333333</td>\n",
              "      <td>9.814955</td>\n",
              "      <td>70.0</td>\n",
              "    </tr>\n",
              "    <tr>\n",
              "      <th>Fusil de Precisión</th>\n",
              "      <td>84.000000</td>\n",
              "      <td>4.183300</td>\n",
              "      <td>93.0</td>\n",
              "    </tr>\n",
              "    <tr>\n",
              "      <th>Subfusil</th>\n",
              "      <td>84.000000</td>\n",
              "      <td>8.485281</td>\n",
              "      <td>28.5</td>\n",
              "    </tr>\n",
              "  </tbody>\n",
              "</table>\n",
              "</div>"
            ],
            "text/plain": [
              "                           Daño            Alcance\n",
              "                           mean        std    mean\n",
              "Tipo                                              \n",
              "Ametralladora         67.500000  10.606602    47.5\n",
              "Ametralladora Ligera  67.500000  10.606602    37.5\n",
              "Escopeta              85.000000        NaN    30.0\n",
              "Fusil de Asalto       59.333333   9.814955    70.0\n",
              "Fusil de Precisión    84.000000   4.183300    93.0\n",
              "Subfusil              84.000000   8.485281    28.5"
            ]
          },
          "metadata": {
            "tags": []
          },
          "execution_count": 58
        }
      ]
    },
    {
      "cell_type": "markdown",
      "metadata": {
        "id": "xTWYQaPP930b",
        "colab_type": "text"
      },
      "source": [
        "Y podemos también aplicarlo a todas las filas de nuestro DataFrame:"
      ]
    },
    {
      "cell_type": "code",
      "metadata": {
        "id": "W5rY0Pv0930e",
        "colab_type": "code",
        "colab": {
          "base_uri": "https://localhost:8080/",
          "height": 112
        },
        "outputId": "5a6cf0f5-8180-4426-da8b-396d61801a2b"
      },
      "source": [
        "df3.agg([np.mean, np.std])"
      ],
      "execution_count": 59,
      "outputs": [
        {
          "output_type": "execute_result",
          "data": {
            "text/html": [
              "<div>\n",
              "<style scoped>\n",
              "    .dataframe tbody tr th:only-of-type {\n",
              "        vertical-align: middle;\n",
              "    }\n",
              "\n",
              "    .dataframe tbody tr th {\n",
              "        vertical-align: top;\n",
              "    }\n",
              "\n",
              "    .dataframe thead th {\n",
              "        text-align: right;\n",
              "    }\n",
              "</style>\n",
              "<table border=\"1\" class=\"dataframe\">\n",
              "  <thead>\n",
              "    <tr style=\"text-align: right;\">\n",
              "      <th></th>\n",
              "      <th>Daño</th>\n",
              "      <th>Precisión</th>\n",
              "      <th>Alcance</th>\n",
              "      <th>Cadencia</th>\n",
              "      <th>Movilidad</th>\n",
              "    </tr>\n",
              "  </thead>\n",
              "  <tbody>\n",
              "    <tr>\n",
              "      <th>mean</th>\n",
              "      <td>74.733333</td>\n",
              "      <td>54.933333</td>\n",
              "      <td>62.133333</td>\n",
              "      <td>46.866667</td>\n",
              "      <td>56.000000</td>\n",
              "    </tr>\n",
              "    <tr>\n",
              "      <th>std</th>\n",
              "      <td>12.498381</td>\n",
              "      <td>10.498072</td>\n",
              "      <td>27.601415</td>\n",
              "      <td>17.872032</td>\n",
              "      <td>14.417252</td>\n",
              "    </tr>\n",
              "  </tbody>\n",
              "</table>\n",
              "</div>"
            ],
            "text/plain": [
              "           Daño  Precisión    Alcance   Cadencia  Movilidad\n",
              "mean  74.733333  54.933333  62.133333  46.866667  56.000000\n",
              "std   12.498381  10.498072  27.601415  17.872032  14.417252"
            ]
          },
          "metadata": {
            "tags": []
          },
          "execution_count": 59
        }
      ]
    },
    {
      "cell_type": "code",
      "metadata": {
        "id": "LTFqwMAV930w",
        "colab_type": "code",
        "colab": {
          "base_uri": "https://localhost:8080/",
          "height": 34
        },
        "outputId": "b3fd41d8-3f25-4f52-fa7f-497bb6fe2a82"
      },
      "source": [
        "df3['Precisión'].agg('mean')"
      ],
      "execution_count": 60,
      "outputs": [
        {
          "output_type": "execute_result",
          "data": {
            "text/plain": [
              "54.93333333333333"
            ]
          },
          "metadata": {
            "tags": []
          },
          "execution_count": 60
        }
      ]
    },
    {
      "cell_type": "markdown",
      "metadata": {
        "id": "YiFORBH-9305",
        "colab_type": "text"
      },
      "source": [
        "#### 4.4 Más selección de elementos:  `loc` e `iloc` revisados"
      ]
    },
    {
      "cell_type": "markdown",
      "metadata": {
        "id": "aCCACqbm9308",
        "colab_type": "text"
      },
      "source": [
        "El atributo `loc` (observar que no es un método!) permite seleccionar partes (slices) de un DataFrame, utilizando los indexes o las columnas. \n",
        "\n",
        "Por ejemplo, como vimos antes, podemos utilizarlo para seleccionar un arma (fila) si tenemos su nombre, y nos devuelve una Series con todos los valores de cada columna de esa fila."
      ]
    },
    {
      "cell_type": "code",
      "metadata": {
        "id": "cvh3Mmio931C",
        "colab_type": "code",
        "colab": {
          "base_uri": "https://localhost:8080/",
          "height": 139
        },
        "outputId": "c4eba095-6843-47ed-9fc3-8df4b7f51d25"
      },
      "source": [
        "df3.loc['PDW-57 ZombieGene']\n"
      ],
      "execution_count": 61,
      "outputs": [
        {
          "output_type": "execute_result",
          "data": {
            "text/plain": [
              "Daño               90\n",
              "Precisión          40\n",
              "Alcance            25\n",
              "Cadencia           60\n",
              "Movilidad          75\n",
              "Tipo         Subfusil\n",
              "Name: PDW-57 ZombieGene, dtype: object"
            ]
          },
          "metadata": {
            "tags": []
          },
          "execution_count": 61
        }
      ]
    },
    {
      "cell_type": "markdown",
      "metadata": {
        "id": "ixnaBdnX931c",
        "colab_type": "text"
      },
      "source": [
        "También podemos especificar más de una fila, utilizando una lista (nótese que es una lista dentro de otra)"
      ]
    },
    {
      "cell_type": "code",
      "metadata": {
        "id": "6R-7IlJd931m",
        "colab_type": "code",
        "colab": {
          "base_uri": "https://localhost:8080/",
          "height": 112
        },
        "outputId": "3c9aa657-842f-41df-dba7-af723a1796e7"
      },
      "source": [
        "df3.loc[['XPR-50 RedTriangle', 'PDW-57 ZombieGene']]\n",
        "\n"
      ],
      "execution_count": 62,
      "outputs": [
        {
          "output_type": "execute_result",
          "data": {
            "text/html": [
              "<div>\n",
              "<style scoped>\n",
              "    .dataframe tbody tr th:only-of-type {\n",
              "        vertical-align: middle;\n",
              "    }\n",
              "\n",
              "    .dataframe tbody tr th {\n",
              "        vertical-align: top;\n",
              "    }\n",
              "\n",
              "    .dataframe thead th {\n",
              "        text-align: right;\n",
              "    }\n",
              "</style>\n",
              "<table border=\"1\" class=\"dataframe\">\n",
              "  <thead>\n",
              "    <tr style=\"text-align: right;\">\n",
              "      <th></th>\n",
              "      <th>Daño</th>\n",
              "      <th>Precisión</th>\n",
              "      <th>Alcance</th>\n",
              "      <th>Cadencia</th>\n",
              "      <th>Movilidad</th>\n",
              "      <th>Tipo</th>\n",
              "    </tr>\n",
              "  </thead>\n",
              "  <tbody>\n",
              "    <tr>\n",
              "      <th>XPR-50 RedTriangle</th>\n",
              "      <td>80</td>\n",
              "      <td>55</td>\n",
              "      <td>90</td>\n",
              "      <td>40</td>\n",
              "      <td>45</td>\n",
              "      <td>Fusil de Precisión</td>\n",
              "    </tr>\n",
              "    <tr>\n",
              "      <th>PDW-57 ZombieGene</th>\n",
              "      <td>90</td>\n",
              "      <td>40</td>\n",
              "      <td>25</td>\n",
              "      <td>60</td>\n",
              "      <td>75</td>\n",
              "      <td>Subfusil</td>\n",
              "    </tr>\n",
              "  </tbody>\n",
              "</table>\n",
              "</div>"
            ],
            "text/plain": [
              "                    Daño  Precisión  ...  Movilidad                Tipo\n",
              "XPR-50 RedTriangle    80         55  ...         45  Fusil de Precisión\n",
              "PDW-57 ZombieGene     90         40  ...         75            Subfusil\n",
              "\n",
              "[2 rows x 6 columns]"
            ]
          },
          "metadata": {
            "tags": []
          },
          "execution_count": 62
        }
      ]
    },
    {
      "cell_type": "markdown",
      "metadata": {
        "id": "jgT7vwE89319",
        "colab_type": "text"
      },
      "source": [
        "Si queremos obtener una celda, el primer elemento de loc nos selecciona la fila, y el segundo la columna:"
      ]
    },
    {
      "cell_type": "code",
      "metadata": {
        "id": "uGowjvN_932B",
        "colab_type": "code",
        "colab": {
          "base_uri": "https://localhost:8080/",
          "height": 34
        },
        "outputId": "90ded7b6-de4a-47d5-9547-6a4f4dd80b1d"
      },
      "source": [
        "df3.loc['XPR-50 RedTriangle', 'Alcance']\n"
      ],
      "execution_count": 63,
      "outputs": [
        {
          "output_type": "execute_result",
          "data": {
            "text/plain": [
              "90"
            ]
          },
          "metadata": {
            "tags": []
          },
          "execution_count": 63
        }
      ]
    },
    {
      "cell_type": "markdown",
      "metadata": {
        "id": "bCTEyYF7932J",
        "colab_type": "text"
      },
      "source": [
        "Podemos setear el valor de una celda utilizando `loc`"
      ]
    },
    {
      "cell_type": "code",
      "metadata": {
        "id": "WDkAKOFz932K",
        "colab_type": "code",
        "colab": {
          "base_uri": "https://localhost:8080/",
          "height": 112
        },
        "outputId": "c269818b-99ae-47c3-f7b5-393bb4618398"
      },
      "source": [
        "df3.loc['XPR-50 RedTriangle', 'Alcance'] *=2\n",
        "df3.loc[['XPR-50 RedTriangle', 'PDW-57 ZombieGene']]\n"
      ],
      "execution_count": 64,
      "outputs": [
        {
          "output_type": "execute_result",
          "data": {
            "text/html": [
              "<div>\n",
              "<style scoped>\n",
              "    .dataframe tbody tr th:only-of-type {\n",
              "        vertical-align: middle;\n",
              "    }\n",
              "\n",
              "    .dataframe tbody tr th {\n",
              "        vertical-align: top;\n",
              "    }\n",
              "\n",
              "    .dataframe thead th {\n",
              "        text-align: right;\n",
              "    }\n",
              "</style>\n",
              "<table border=\"1\" class=\"dataframe\">\n",
              "  <thead>\n",
              "    <tr style=\"text-align: right;\">\n",
              "      <th></th>\n",
              "      <th>Daño</th>\n",
              "      <th>Precisión</th>\n",
              "      <th>Alcance</th>\n",
              "      <th>Cadencia</th>\n",
              "      <th>Movilidad</th>\n",
              "      <th>Tipo</th>\n",
              "    </tr>\n",
              "  </thead>\n",
              "  <tbody>\n",
              "    <tr>\n",
              "      <th>XPR-50 RedTriangle</th>\n",
              "      <td>80</td>\n",
              "      <td>55</td>\n",
              "      <td>180</td>\n",
              "      <td>40</td>\n",
              "      <td>45</td>\n",
              "      <td>Fusil de Precisión</td>\n",
              "    </tr>\n",
              "    <tr>\n",
              "      <th>PDW-57 ZombieGene</th>\n",
              "      <td>90</td>\n",
              "      <td>40</td>\n",
              "      <td>25</td>\n",
              "      <td>60</td>\n",
              "      <td>75</td>\n",
              "      <td>Subfusil</td>\n",
              "    </tr>\n",
              "  </tbody>\n",
              "</table>\n",
              "</div>"
            ],
            "text/plain": [
              "                    Daño  Precisión  ...  Movilidad                Tipo\n",
              "XPR-50 RedTriangle    80         55  ...         45  Fusil de Precisión\n",
              "PDW-57 ZombieGene     90         40  ...         75            Subfusil\n",
              "\n",
              "[2 rows x 6 columns]"
            ]
          },
          "metadata": {
            "tags": []
          },
          "execution_count": 64
        }
      ]
    },
    {
      "cell_type": "markdown",
      "metadata": {
        "id": "nSequBCV932Y",
        "colab_type": "text"
      },
      "source": [
        "Finalmente, podemos especificar slices, indicando, en cada axis, el primer y último elemento (que estarán incluidos). "
      ]
    },
    {
      "cell_type": "code",
      "metadata": {
        "id": "XHItweu4932e",
        "colab_type": "code",
        "colab": {
          "base_uri": "https://localhost:8080/",
          "height": 112
        },
        "outputId": "6e03ca61-086c-4e2d-dde4-825454716c76"
      },
      "source": [
        "df3.loc[['XPR-50 RedTriangle', 'PDW-57 ZombieGene'], 'Daño':'Alcance']\n"
      ],
      "execution_count": 65,
      "outputs": [
        {
          "output_type": "execute_result",
          "data": {
            "text/html": [
              "<div>\n",
              "<style scoped>\n",
              "    .dataframe tbody tr th:only-of-type {\n",
              "        vertical-align: middle;\n",
              "    }\n",
              "\n",
              "    .dataframe tbody tr th {\n",
              "        vertical-align: top;\n",
              "    }\n",
              "\n",
              "    .dataframe thead th {\n",
              "        text-align: right;\n",
              "    }\n",
              "</style>\n",
              "<table border=\"1\" class=\"dataframe\">\n",
              "  <thead>\n",
              "    <tr style=\"text-align: right;\">\n",
              "      <th></th>\n",
              "      <th>Daño</th>\n",
              "      <th>Precisión</th>\n",
              "      <th>Alcance</th>\n",
              "    </tr>\n",
              "  </thead>\n",
              "  <tbody>\n",
              "    <tr>\n",
              "      <th>XPR-50 RedTriangle</th>\n",
              "      <td>80</td>\n",
              "      <td>55</td>\n",
              "      <td>180</td>\n",
              "    </tr>\n",
              "    <tr>\n",
              "      <th>PDW-57 ZombieGene</th>\n",
              "      <td>90</td>\n",
              "      <td>40</td>\n",
              "      <td>25</td>\n",
              "    </tr>\n",
              "  </tbody>\n",
              "</table>\n",
              "</div>"
            ],
            "text/plain": [
              "                    Daño  Precisión  Alcance\n",
              "XPR-50 RedTriangle    80         55      180\n",
              "PDW-57 ZombieGene     90         40       25"
            ]
          },
          "metadata": {
            "tags": []
          },
          "execution_count": 65
        }
      ]
    },
    {
      "cell_type": "markdown",
      "metadata": {
        "id": "XBa7kipf932s",
        "colab_type": "text"
      },
      "source": [
        "Alternativamente, el método `iloc` permite hacer lo mismo, pero especifiando posiciones enteras, en lugar de labels (de forma similar a como lo hace NumPy)"
      ]
    },
    {
      "cell_type": "markdown",
      "metadata": {
        "id": "zb2jMDBR-i4j",
        "colab_type": "text"
      },
      "source": [
        "## 5. Importar datos desde archivos\n",
        "\n",
        "Por supuesto, en entornos de trabajo reales, donde hay miles o millones de instancias, no se cargan los dataframes \"a mano\"\", sino que se importan desde archivos (separados por comas, o en algúún tipo de XML, o en formato json). Pandas provee diferentes formas de importar. \n",
        "\n",
        "En nuestro caso, importaremos los datos de las armas desde un archivo csv.\n",
        "\n",
        "Primero, lo traemos a nuestro entorno (esto no es necesario si el archivo está local...), a través de `wget`. La opción `-N` permite que se traiga solamente si fue modificado."
      ]
    },
    {
      "cell_type": "code",
      "metadata": {
        "id": "SqXtfbiH_M0W",
        "colab_type": "code",
        "colab": {
          "base_uri": "https://localhost:8080/",
          "height": 245
        },
        "outputId": "a08eb2c3-d520-4f41-ff37-23e04afb5afd"
      },
      "source": [
        "!wget -N 'https://raw.githubusercontent.com/gmonce/datascience/master/data/call_of_duty.csv'"
      ],
      "execution_count": 95,
      "outputs": [
        {
          "output_type": "stream",
          "text": [
            "--2020-02-25 01:59:32--  https://raw.githubusercontent.com/gmonce/datascience/master/data/call_of_duty.csv\n",
            "Resolving raw.githubusercontent.com (raw.githubusercontent.com)... 151.101.0.133, 151.101.64.133, 151.101.128.133, ...\n",
            "Connecting to raw.githubusercontent.com (raw.githubusercontent.com)|151.101.0.133|:443... connected.\n",
            "HTTP request sent, awaiting response... 200 OK\n",
            "Length: 835 [text/plain]\n",
            "Saving to: ‘call_of_duty.csv’\n",
            "\n",
            "\rcall_of_duty.csv      0%[                    ]       0  --.-KB/s               \rcall_of_duty.csv    100%[===================>]     835  --.-KB/s    in 0s      \n",
            "\n",
            "Last-modified header missing -- time-stamps turned off.\n",
            "2020-02-25 01:59:32 (199 MB/s) - ‘call_of_duty.csv’ saved [835/835]\n",
            "\n"
          ],
          "name": "stdout"
        }
      ]
    },
    {
      "cell_type": "code",
      "metadata": {
        "id": "WTIBIjH3_1hg",
        "colab_type": "code",
        "colab": {}
      },
      "source": [
        "df4=pd.read_csv('call_of_duty.csv')"
      ],
      "execution_count": 0,
      "outputs": []
    },
    {
      "cell_type": "code",
      "metadata": {
        "id": "OhSF2HGXAGO5",
        "colab_type": "code",
        "colab": {
          "base_uri": "https://localhost:8080/",
          "height": 551
        },
        "outputId": "ccb3766d-e92a-463c-bacc-dbdf28c41618"
      },
      "source": [
        "df4"
      ],
      "execution_count": 97,
      "outputs": [
        {
          "output_type": "execute_result",
          "data": {
            "text/html": [
              "<div>\n",
              "<style scoped>\n",
              "    .dataframe tbody tr th:only-of-type {\n",
              "        vertical-align: middle;\n",
              "    }\n",
              "\n",
              "    .dataframe tbody tr th {\n",
              "        vertical-align: top;\n",
              "    }\n",
              "\n",
              "    .dataframe thead th {\n",
              "        text-align: right;\n",
              "    }\n",
              "</style>\n",
              "<table border=\"1\" class=\"dataframe\">\n",
              "  <thead>\n",
              "    <tr style=\"text-align: right;\">\n",
              "      <th></th>\n",
              "      <th>Arma</th>\n",
              "      <th>Daño</th>\n",
              "      <th>Precision</th>\n",
              "      <th>Alcance</th>\n",
              "      <th>Cadencia</th>\n",
              "      <th>Movilidad</th>\n",
              "      <th>Tipo</th>\n",
              "    </tr>\n",
              "  </thead>\n",
              "  <tbody>\n",
              "    <tr>\n",
              "      <th>0</th>\n",
              "      <td>M4</td>\n",
              "      <td>45</td>\n",
              "      <td>60</td>\n",
              "      <td>70</td>\n",
              "      <td>45</td>\n",
              "      <td>60</td>\n",
              "      <td>Fusil de Asalto</td>\n",
              "    </tr>\n",
              "    <tr>\n",
              "      <th>1</th>\n",
              "      <td>M16 Evil Clown</td>\n",
              "      <td>65</td>\n",
              "      <td>60</td>\n",
              "      <td>60</td>\n",
              "      <td>45</td>\n",
              "      <td>60</td>\n",
              "      <td>Fusil de Asalto</td>\n",
              "    </tr>\n",
              "    <tr>\n",
              "      <th>2</th>\n",
              "      <td>S3 Evil Clown</td>\n",
              "      <td>75</td>\n",
              "      <td>35</td>\n",
              "      <td>50</td>\n",
              "      <td>75</td>\n",
              "      <td>40</td>\n",
              "      <td>Ametralladora</td>\n",
              "    </tr>\n",
              "    <tr>\n",
              "      <th>3</th>\n",
              "      <td>BY15 SnowFlakes</td>\n",
              "      <td>85</td>\n",
              "      <td>80</td>\n",
              "      <td>30</td>\n",
              "      <td>20</td>\n",
              "      <td>75</td>\n",
              "      <td>Escopeta</td>\n",
              "    </tr>\n",
              "    <tr>\n",
              "      <th>4</th>\n",
              "      <td>MSMC Ancient Runes</td>\n",
              "      <td>75</td>\n",
              "      <td>45</td>\n",
              "      <td>30</td>\n",
              "      <td>70</td>\n",
              "      <td>80</td>\n",
              "      <td>Ametralladora Ligera</td>\n",
              "    </tr>\n",
              "    <tr>\n",
              "      <th>5</th>\n",
              "      <td>XPR-50 April's Fool</td>\n",
              "      <td>80</td>\n",
              "      <td>55</td>\n",
              "      <td>90</td>\n",
              "      <td>40</td>\n",
              "      <td>45</td>\n",
              "      <td>Fusil de Precisión</td>\n",
              "    </tr>\n",
              "    <tr>\n",
              "      <th>6</th>\n",
              "      <td>DLQ33 DeepShark</td>\n",
              "      <td>90</td>\n",
              "      <td>60</td>\n",
              "      <td>95</td>\n",
              "      <td>15</td>\n",
              "      <td>45</td>\n",
              "      <td>Fusil de Precisión</td>\n",
              "    </tr>\n",
              "    <tr>\n",
              "      <th>7</th>\n",
              "      <td>M4LMG RibbonExplosion</td>\n",
              "      <td>60</td>\n",
              "      <td>55</td>\n",
              "      <td>45</td>\n",
              "      <td>55</td>\n",
              "      <td>40</td>\n",
              "      <td>Ametralladora</td>\n",
              "    </tr>\n",
              "    <tr>\n",
              "      <th>8</th>\n",
              "      <td>Arctic.50 Bats</td>\n",
              "      <td>85</td>\n",
              "      <td>52</td>\n",
              "      <td>95</td>\n",
              "      <td>30</td>\n",
              "      <td>50</td>\n",
              "      <td>Fusil de Precisión</td>\n",
              "    </tr>\n",
              "    <tr>\n",
              "      <th>9</th>\n",
              "      <td>XPR-50 RedTriangle</td>\n",
              "      <td>80</td>\n",
              "      <td>55</td>\n",
              "      <td>90</td>\n",
              "      <td>40</td>\n",
              "      <td>45</td>\n",
              "      <td>Fusil de Precisión</td>\n",
              "    </tr>\n",
              "    <tr>\n",
              "      <th>10</th>\n",
              "      <td>M16 NeonTiger</td>\n",
              "      <td>65</td>\n",
              "      <td>60</td>\n",
              "      <td>60</td>\n",
              "      <td>45</td>\n",
              "      <td>60</td>\n",
              "      <td>Fusil de Asalto</td>\n",
              "    </tr>\n",
              "    <tr>\n",
              "      <th>11</th>\n",
              "      <td>Arctic.50 RedTriangle</td>\n",
              "      <td>85</td>\n",
              "      <td>52</td>\n",
              "      <td>95</td>\n",
              "      <td>30</td>\n",
              "      <td>50</td>\n",
              "      <td>Fusil de Precisión</td>\n",
              "    </tr>\n",
              "    <tr>\n",
              "      <th>12</th>\n",
              "      <td>BK57 JackFrost</td>\n",
              "      <td>48</td>\n",
              "      <td>65</td>\n",
              "      <td>90</td>\n",
              "      <td>63</td>\n",
              "      <td>60</td>\n",
              "      <td>Fusil de Asalto</td>\n",
              "    </tr>\n",
              "    <tr>\n",
              "      <th>13</th>\n",
              "      <td>M4MLG RedTriangle</td>\n",
              "      <td>60</td>\n",
              "      <td>55</td>\n",
              "      <td>45</td>\n",
              "      <td>55</td>\n",
              "      <td>40</td>\n",
              "      <td>Ametralladora Ligera</td>\n",
              "    </tr>\n",
              "    <tr>\n",
              "      <th>14</th>\n",
              "      <td>AKS-74U NeonTiger</td>\n",
              "      <td>78</td>\n",
              "      <td>55</td>\n",
              "      <td>32</td>\n",
              "      <td>60</td>\n",
              "      <td>75</td>\n",
              "      <td>Subfusil</td>\n",
              "    </tr>\n",
              "    <tr>\n",
              "      <th>15</th>\n",
              "      <td>PDW-57 ZombieGene</td>\n",
              "      <td>90</td>\n",
              "      <td>40</td>\n",
              "      <td>25</td>\n",
              "      <td>60</td>\n",
              "      <td>75</td>\n",
              "      <td>Subfusil</td>\n",
              "    </tr>\n",
              "  </tbody>\n",
              "</table>\n",
              "</div>"
            ],
            "text/plain": [
              "                     Arma  Daño  ...  Movilidad                  Tipo\n",
              "0                      M4    45  ...         60       Fusil de Asalto\n",
              "1          M16 Evil Clown    65  ...         60       Fusil de Asalto\n",
              "2           S3 Evil Clown    75  ...         40         Ametralladora\n",
              "3         BY15 SnowFlakes    85  ...         75              Escopeta\n",
              "4      MSMC Ancient Runes    75  ...         80  Ametralladora Ligera\n",
              "5     XPR-50 April's Fool    80  ...         45   Fusil de Precisión \n",
              "6         DLQ33 DeepShark    90  ...         45    Fusil de Precisión\n",
              "7   M4LMG RibbonExplosion    60  ...         40         Ametralladora\n",
              "8          Arctic.50 Bats    85  ...         50    Fusil de Precisión\n",
              "9      XPR-50 RedTriangle    80  ...         45    Fusil de Precisión\n",
              "10          M16 NeonTiger    65  ...         60       Fusil de Asalto\n",
              "11  Arctic.50 RedTriangle    85  ...         50    Fusil de Precisión\n",
              "12         BK57 JackFrost    48  ...         60       Fusil de Asalto\n",
              "13      M4MLG RedTriangle    60  ...         40  Ametralladora Ligera\n",
              "14      AKS-74U NeonTiger    78  ...         75              Subfusil\n",
              "15      PDW-57 ZombieGene    90  ...         75              Subfusil\n",
              "\n",
              "[16 rows x 7 columns]"
            ]
          },
          "metadata": {
            "tags": []
          },
          "execution_count": 97
        }
      ]
    },
    {
      "cell_type": "code",
      "metadata": {
        "id": "Ja3ytzVgAHuh",
        "colab_type": "code",
        "colab": {
          "base_uri": "https://localhost:8080/",
          "height": 583
        },
        "outputId": "8994e7d9-51bc-4fce-9f64-9d0358c0a99d"
      },
      "source": [
        "df4.set_index('Arma', inplace=True)\n",
        "df4"
      ],
      "execution_count": 98,
      "outputs": [
        {
          "output_type": "execute_result",
          "data": {
            "text/html": [
              "<div>\n",
              "<style scoped>\n",
              "    .dataframe tbody tr th:only-of-type {\n",
              "        vertical-align: middle;\n",
              "    }\n",
              "\n",
              "    .dataframe tbody tr th {\n",
              "        vertical-align: top;\n",
              "    }\n",
              "\n",
              "    .dataframe thead th {\n",
              "        text-align: right;\n",
              "    }\n",
              "</style>\n",
              "<table border=\"1\" class=\"dataframe\">\n",
              "  <thead>\n",
              "    <tr style=\"text-align: right;\">\n",
              "      <th></th>\n",
              "      <th>Daño</th>\n",
              "      <th>Precision</th>\n",
              "      <th>Alcance</th>\n",
              "      <th>Cadencia</th>\n",
              "      <th>Movilidad</th>\n",
              "      <th>Tipo</th>\n",
              "    </tr>\n",
              "    <tr>\n",
              "      <th>Arma</th>\n",
              "      <th></th>\n",
              "      <th></th>\n",
              "      <th></th>\n",
              "      <th></th>\n",
              "      <th></th>\n",
              "      <th></th>\n",
              "    </tr>\n",
              "  </thead>\n",
              "  <tbody>\n",
              "    <tr>\n",
              "      <th>M4</th>\n",
              "      <td>45</td>\n",
              "      <td>60</td>\n",
              "      <td>70</td>\n",
              "      <td>45</td>\n",
              "      <td>60</td>\n",
              "      <td>Fusil de Asalto</td>\n",
              "    </tr>\n",
              "    <tr>\n",
              "      <th>M16 Evil Clown</th>\n",
              "      <td>65</td>\n",
              "      <td>60</td>\n",
              "      <td>60</td>\n",
              "      <td>45</td>\n",
              "      <td>60</td>\n",
              "      <td>Fusil de Asalto</td>\n",
              "    </tr>\n",
              "    <tr>\n",
              "      <th>S3 Evil Clown</th>\n",
              "      <td>75</td>\n",
              "      <td>35</td>\n",
              "      <td>50</td>\n",
              "      <td>75</td>\n",
              "      <td>40</td>\n",
              "      <td>Ametralladora</td>\n",
              "    </tr>\n",
              "    <tr>\n",
              "      <th>BY15 SnowFlakes</th>\n",
              "      <td>85</td>\n",
              "      <td>80</td>\n",
              "      <td>30</td>\n",
              "      <td>20</td>\n",
              "      <td>75</td>\n",
              "      <td>Escopeta</td>\n",
              "    </tr>\n",
              "    <tr>\n",
              "      <th>MSMC Ancient Runes</th>\n",
              "      <td>75</td>\n",
              "      <td>45</td>\n",
              "      <td>30</td>\n",
              "      <td>70</td>\n",
              "      <td>80</td>\n",
              "      <td>Ametralladora Ligera</td>\n",
              "    </tr>\n",
              "    <tr>\n",
              "      <th>XPR-50 April's Fool</th>\n",
              "      <td>80</td>\n",
              "      <td>55</td>\n",
              "      <td>90</td>\n",
              "      <td>40</td>\n",
              "      <td>45</td>\n",
              "      <td>Fusil de Precisión</td>\n",
              "    </tr>\n",
              "    <tr>\n",
              "      <th>DLQ33 DeepShark</th>\n",
              "      <td>90</td>\n",
              "      <td>60</td>\n",
              "      <td>95</td>\n",
              "      <td>15</td>\n",
              "      <td>45</td>\n",
              "      <td>Fusil de Precisión</td>\n",
              "    </tr>\n",
              "    <tr>\n",
              "      <th>M4LMG RibbonExplosion</th>\n",
              "      <td>60</td>\n",
              "      <td>55</td>\n",
              "      <td>45</td>\n",
              "      <td>55</td>\n",
              "      <td>40</td>\n",
              "      <td>Ametralladora</td>\n",
              "    </tr>\n",
              "    <tr>\n",
              "      <th>Arctic.50 Bats</th>\n",
              "      <td>85</td>\n",
              "      <td>52</td>\n",
              "      <td>95</td>\n",
              "      <td>30</td>\n",
              "      <td>50</td>\n",
              "      <td>Fusil de Precisión</td>\n",
              "    </tr>\n",
              "    <tr>\n",
              "      <th>XPR-50 RedTriangle</th>\n",
              "      <td>80</td>\n",
              "      <td>55</td>\n",
              "      <td>90</td>\n",
              "      <td>40</td>\n",
              "      <td>45</td>\n",
              "      <td>Fusil de Precisión</td>\n",
              "    </tr>\n",
              "    <tr>\n",
              "      <th>M16 NeonTiger</th>\n",
              "      <td>65</td>\n",
              "      <td>60</td>\n",
              "      <td>60</td>\n",
              "      <td>45</td>\n",
              "      <td>60</td>\n",
              "      <td>Fusil de Asalto</td>\n",
              "    </tr>\n",
              "    <tr>\n",
              "      <th>Arctic.50 RedTriangle</th>\n",
              "      <td>85</td>\n",
              "      <td>52</td>\n",
              "      <td>95</td>\n",
              "      <td>30</td>\n",
              "      <td>50</td>\n",
              "      <td>Fusil de Precisión</td>\n",
              "    </tr>\n",
              "    <tr>\n",
              "      <th>BK57 JackFrost</th>\n",
              "      <td>48</td>\n",
              "      <td>65</td>\n",
              "      <td>90</td>\n",
              "      <td>63</td>\n",
              "      <td>60</td>\n",
              "      <td>Fusil de Asalto</td>\n",
              "    </tr>\n",
              "    <tr>\n",
              "      <th>M4MLG RedTriangle</th>\n",
              "      <td>60</td>\n",
              "      <td>55</td>\n",
              "      <td>45</td>\n",
              "      <td>55</td>\n",
              "      <td>40</td>\n",
              "      <td>Ametralladora Ligera</td>\n",
              "    </tr>\n",
              "    <tr>\n",
              "      <th>AKS-74U NeonTiger</th>\n",
              "      <td>78</td>\n",
              "      <td>55</td>\n",
              "      <td>32</td>\n",
              "      <td>60</td>\n",
              "      <td>75</td>\n",
              "      <td>Subfusil</td>\n",
              "    </tr>\n",
              "    <tr>\n",
              "      <th>PDW-57 ZombieGene</th>\n",
              "      <td>90</td>\n",
              "      <td>40</td>\n",
              "      <td>25</td>\n",
              "      <td>60</td>\n",
              "      <td>75</td>\n",
              "      <td>Subfusil</td>\n",
              "    </tr>\n",
              "  </tbody>\n",
              "</table>\n",
              "</div>"
            ],
            "text/plain": [
              "                       Daño  Precision  ...  Movilidad                  Tipo\n",
              "Arma                                    ...                                 \n",
              "M4                       45         60  ...         60       Fusil de Asalto\n",
              "M16 Evil Clown           65         60  ...         60       Fusil de Asalto\n",
              "S3 Evil Clown            75         35  ...         40         Ametralladora\n",
              "BY15 SnowFlakes          85         80  ...         75              Escopeta\n",
              "MSMC Ancient Runes       75         45  ...         80  Ametralladora Ligera\n",
              "XPR-50 April's Fool      80         55  ...         45   Fusil de Precisión \n",
              "DLQ33 DeepShark          90         60  ...         45    Fusil de Precisión\n",
              "M4LMG RibbonExplosion    60         55  ...         40         Ametralladora\n",
              "Arctic.50 Bats           85         52  ...         50    Fusil de Precisión\n",
              "XPR-50 RedTriangle       80         55  ...         45    Fusil de Precisión\n",
              "M16 NeonTiger            65         60  ...         60       Fusil de Asalto\n",
              "Arctic.50 RedTriangle    85         52  ...         50    Fusil de Precisión\n",
              "BK57 JackFrost           48         65  ...         60       Fusil de Asalto\n",
              "M4MLG RedTriangle        60         55  ...         40  Ametralladora Ligera\n",
              "AKS-74U NeonTiger        78         55  ...         75              Subfusil\n",
              "PDW-57 ZombieGene        90         40  ...         75              Subfusil\n",
              "\n",
              "[16 rows x 6 columns]"
            ]
          },
          "metadata": {
            "tags": []
          },
          "execution_count": 98
        }
      ]
    },
    {
      "cell_type": "markdown",
      "metadata": {
        "id": "jEMyKm0QDlId",
        "colab_type": "text"
      },
      "source": [
        "¿Cuál es la mejor arma para un francotirador? Ordenamos por el promedio entre alcance y precisión"
      ]
    },
    {
      "cell_type": "code",
      "metadata": {
        "id": "-gsPGcvfD-PG",
        "colab_type": "code",
        "colab": {
          "base_uri": "https://localhost:8080/",
          "height": 583
        },
        "outputId": "78806bd1-ac9e-400e-8e90-0d1bb9221725"
      },
      "source": [
        "df4['Alc&Prec']=(df4['Alcance']+ df4['Precision']+ df4['Daño'])/3\n",
        "df4.sort_values('Alc&Prec', ascending=False)\n"
      ],
      "execution_count": 109,
      "outputs": [
        {
          "output_type": "execute_result",
          "data": {
            "text/html": [
              "<div>\n",
              "<style scoped>\n",
              "    .dataframe tbody tr th:only-of-type {\n",
              "        vertical-align: middle;\n",
              "    }\n",
              "\n",
              "    .dataframe tbody tr th {\n",
              "        vertical-align: top;\n",
              "    }\n",
              "\n",
              "    .dataframe thead th {\n",
              "        text-align: right;\n",
              "    }\n",
              "</style>\n",
              "<table border=\"1\" class=\"dataframe\">\n",
              "  <thead>\n",
              "    <tr style=\"text-align: right;\">\n",
              "      <th></th>\n",
              "      <th>Daño</th>\n",
              "      <th>Precision</th>\n",
              "      <th>Alcance</th>\n",
              "      <th>Cadencia</th>\n",
              "      <th>Movilidad</th>\n",
              "      <th>Tipo</th>\n",
              "      <th>Alc&amp;Prec</th>\n",
              "    </tr>\n",
              "    <tr>\n",
              "      <th>Arma</th>\n",
              "      <th></th>\n",
              "      <th></th>\n",
              "      <th></th>\n",
              "      <th></th>\n",
              "      <th></th>\n",
              "      <th></th>\n",
              "      <th></th>\n",
              "    </tr>\n",
              "  </thead>\n",
              "  <tbody>\n",
              "    <tr>\n",
              "      <th>DLQ33 DeepShark</th>\n",
              "      <td>90</td>\n",
              "      <td>60</td>\n",
              "      <td>95</td>\n",
              "      <td>15</td>\n",
              "      <td>45</td>\n",
              "      <td>Fusil de Precisión</td>\n",
              "      <td>81.666667</td>\n",
              "    </tr>\n",
              "    <tr>\n",
              "      <th>Arctic.50 Bats</th>\n",
              "      <td>85</td>\n",
              "      <td>52</td>\n",
              "      <td>95</td>\n",
              "      <td>30</td>\n",
              "      <td>50</td>\n",
              "      <td>Fusil de Precisión</td>\n",
              "      <td>77.333333</td>\n",
              "    </tr>\n",
              "    <tr>\n",
              "      <th>Arctic.50 RedTriangle</th>\n",
              "      <td>85</td>\n",
              "      <td>52</td>\n",
              "      <td>95</td>\n",
              "      <td>30</td>\n",
              "      <td>50</td>\n",
              "      <td>Fusil de Precisión</td>\n",
              "      <td>77.333333</td>\n",
              "    </tr>\n",
              "    <tr>\n",
              "      <th>XPR-50 April's Fool</th>\n",
              "      <td>80</td>\n",
              "      <td>55</td>\n",
              "      <td>90</td>\n",
              "      <td>40</td>\n",
              "      <td>45</td>\n",
              "      <td>Fusil de Precisión</td>\n",
              "      <td>75.000000</td>\n",
              "    </tr>\n",
              "    <tr>\n",
              "      <th>XPR-50 RedTriangle</th>\n",
              "      <td>80</td>\n",
              "      <td>55</td>\n",
              "      <td>90</td>\n",
              "      <td>40</td>\n",
              "      <td>45</td>\n",
              "      <td>Fusil de Precisión</td>\n",
              "      <td>75.000000</td>\n",
              "    </tr>\n",
              "    <tr>\n",
              "      <th>BK57 JackFrost</th>\n",
              "      <td>48</td>\n",
              "      <td>65</td>\n",
              "      <td>90</td>\n",
              "      <td>63</td>\n",
              "      <td>60</td>\n",
              "      <td>Fusil de Asalto</td>\n",
              "      <td>67.666667</td>\n",
              "    </tr>\n",
              "    <tr>\n",
              "      <th>BY15 SnowFlakes</th>\n",
              "      <td>85</td>\n",
              "      <td>80</td>\n",
              "      <td>30</td>\n",
              "      <td>20</td>\n",
              "      <td>75</td>\n",
              "      <td>Escopeta</td>\n",
              "      <td>65.000000</td>\n",
              "    </tr>\n",
              "    <tr>\n",
              "      <th>M16 Evil Clown</th>\n",
              "      <td>65</td>\n",
              "      <td>60</td>\n",
              "      <td>60</td>\n",
              "      <td>45</td>\n",
              "      <td>60</td>\n",
              "      <td>Fusil de Asalto</td>\n",
              "      <td>61.666667</td>\n",
              "    </tr>\n",
              "    <tr>\n",
              "      <th>M16 NeonTiger</th>\n",
              "      <td>65</td>\n",
              "      <td>60</td>\n",
              "      <td>60</td>\n",
              "      <td>45</td>\n",
              "      <td>60</td>\n",
              "      <td>Fusil de Asalto</td>\n",
              "      <td>61.666667</td>\n",
              "    </tr>\n",
              "    <tr>\n",
              "      <th>M4</th>\n",
              "      <td>45</td>\n",
              "      <td>60</td>\n",
              "      <td>70</td>\n",
              "      <td>45</td>\n",
              "      <td>60</td>\n",
              "      <td>Fusil de Asalto</td>\n",
              "      <td>58.333333</td>\n",
              "    </tr>\n",
              "    <tr>\n",
              "      <th>AKS-74U NeonTiger</th>\n",
              "      <td>78</td>\n",
              "      <td>55</td>\n",
              "      <td>32</td>\n",
              "      <td>60</td>\n",
              "      <td>75</td>\n",
              "      <td>Subfusil</td>\n",
              "      <td>55.000000</td>\n",
              "    </tr>\n",
              "    <tr>\n",
              "      <th>S3 Evil Clown</th>\n",
              "      <td>75</td>\n",
              "      <td>35</td>\n",
              "      <td>50</td>\n",
              "      <td>75</td>\n",
              "      <td>40</td>\n",
              "      <td>Ametralladora</td>\n",
              "      <td>53.333333</td>\n",
              "    </tr>\n",
              "    <tr>\n",
              "      <th>M4LMG RibbonExplosion</th>\n",
              "      <td>60</td>\n",
              "      <td>55</td>\n",
              "      <td>45</td>\n",
              "      <td>55</td>\n",
              "      <td>40</td>\n",
              "      <td>Ametralladora</td>\n",
              "      <td>53.333333</td>\n",
              "    </tr>\n",
              "    <tr>\n",
              "      <th>M4MLG RedTriangle</th>\n",
              "      <td>60</td>\n",
              "      <td>55</td>\n",
              "      <td>45</td>\n",
              "      <td>55</td>\n",
              "      <td>40</td>\n",
              "      <td>Ametralladora Ligera</td>\n",
              "      <td>53.333333</td>\n",
              "    </tr>\n",
              "    <tr>\n",
              "      <th>PDW-57 ZombieGene</th>\n",
              "      <td>90</td>\n",
              "      <td>40</td>\n",
              "      <td>25</td>\n",
              "      <td>60</td>\n",
              "      <td>75</td>\n",
              "      <td>Subfusil</td>\n",
              "      <td>51.666667</td>\n",
              "    </tr>\n",
              "    <tr>\n",
              "      <th>MSMC Ancient Runes</th>\n",
              "      <td>75</td>\n",
              "      <td>45</td>\n",
              "      <td>30</td>\n",
              "      <td>70</td>\n",
              "      <td>80</td>\n",
              "      <td>Ametralladora Ligera</td>\n",
              "      <td>50.000000</td>\n",
              "    </tr>\n",
              "  </tbody>\n",
              "</table>\n",
              "</div>"
            ],
            "text/plain": [
              "                       Daño  Precision  ...                  Tipo   Alc&Prec\n",
              "Arma                                    ...                                 \n",
              "DLQ33 DeepShark          90         60  ...    Fusil de Precisión  81.666667\n",
              "Arctic.50 Bats           85         52  ...    Fusil de Precisión  77.333333\n",
              "Arctic.50 RedTriangle    85         52  ...    Fusil de Precisión  77.333333\n",
              "XPR-50 April's Fool      80         55  ...   Fusil de Precisión   75.000000\n",
              "XPR-50 RedTriangle       80         55  ...    Fusil de Precisión  75.000000\n",
              "BK57 JackFrost           48         65  ...       Fusil de Asalto  67.666667\n",
              "BY15 SnowFlakes          85         80  ...              Escopeta  65.000000\n",
              "M16 Evil Clown           65         60  ...       Fusil de Asalto  61.666667\n",
              "M16 NeonTiger            65         60  ...       Fusil de Asalto  61.666667\n",
              "M4                       45         60  ...       Fusil de Asalto  58.333333\n",
              "AKS-74U NeonTiger        78         55  ...              Subfusil  55.000000\n",
              "S3 Evil Clown            75         35  ...         Ametralladora  53.333333\n",
              "M4LMG RibbonExplosion    60         55  ...         Ametralladora  53.333333\n",
              "M4MLG RedTriangle        60         55  ...  Ametralladora Ligera  53.333333\n",
              "PDW-57 ZombieGene        90         40  ...              Subfusil  51.666667\n",
              "MSMC Ancient Runes       75         45  ...  Ametralladora Ligera  50.000000\n",
              "\n",
              "[16 rows x 7 columns]"
            ]
          },
          "metadata": {
            "tags": []
          },
          "execution_count": 109
        }
      ]
    }
  ]
}