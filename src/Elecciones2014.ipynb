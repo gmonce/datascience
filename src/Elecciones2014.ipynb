{
 "metadata": {
  "name": "",
  "signature": "sha256:bddf4a65fd269f77c70519cbf5ebae971b49d7baa20f95a04d368f6b09be2024"
 },
 "nbformat": 3,
 "nbformat_minor": 0,
 "worksheets": [
  {
   "cells": [
    {
     "cell_type": "code",
     "collapsed": false,
     "input": [
      "import numpy as np\n",
      "# Las features son las predicciones de la \u00faltima encuesta de Cifra, Equipos, Radar y Factum, en ese orden\n",
      "encuestas_X=np.array([[50.9,31.8,12.5,2.7,52.5,31.6,11.1,2.6,54.0,29.0,08.0,3.0,54.5,31.0,12.0,2.5],\n",
      "                      [45.0,31.0,12.0,2.0,44.0,30.0,10.0,2.0,45.0,29.0,14.0,3.0,46.0,34.0,10.0,3.0]])\n",
      "\n",
      "# Resultados reales en 2004 y 2009 para cada partido\n",
      "resultados_frente=np.array([50.54,48])\n",
      "resultados_blancos=np.array([34.3,29])\n",
      "resultados_colorados=np.array([10.36,17])\n",
      "resultados_independientes=np.array([1.84,2.5])\n",
      "from sklearn import linear_model\n",
      "\n",
      "# Predicciones de las encuestas para 2014\n",
      "encuestas_2014=np.array([43,32,18,3.3,43.6,33.4,15.1,3.1,45.6,31.3,15.2,3.3,44,34,15,3])\n",
      "\n",
      "# Usando regresi\u00f3n lineal\n",
      "print \"Predicciones utilizando Regresi\u00f3n Lineal\"\n",
      "clf=linear_model.LinearRegression()\n",
      "clf.fit(encuestas_X,resultados_frente)\n",
      "print \"Predicci\u00f3n para el Frente:\",clf.predict(encuestas_2014)\n",
      "clf.fit(encuestas_X,resultados_blancos)\n",
      "print \"Predicci\u00f3n para los blancos:\",clf.predict(encuestas_2014)\n",
      "clf.fit(encuestas_X,resultados_colorados)\n",
      "print \"Predicci\u00f3n para los colorados:\",clf.predict(encuestas_2014)\n",
      "clf.fit(encuestas_X,resultados_independientes)\n",
      "print \"Predicci\u00f3n para el PI:\",clf.predict(encuestas_2014)\n",
      "\n",
      "print \"Predicciones utilizando RegressRidge\"\n",
      "# Utilizo un alpha alto porque las features est\u00e1n correlacionadas\n",
      "clf=linear_model.Ridge(alpha=100.0)\n",
      "clf.fit(encuestas_X,resultados_frente)\n",
      "print \"Predicci\u00f3n para el Frente:\",clf.predict(encuestas_2014)\n",
      "clf.fit(encuestas_X,resultados_blancos)\n",
      "print \"Predicci\u00f3n para los blancos:\",clf.predict(encuestas_2014)\n",
      "clf.fit(encuestas_X,resultados_colorados)\n",
      "print \"Predicci\u00f3n para los colorados:\",clf.predict(encuestas_2014)\n",
      "clf.fit(encuestas_X,resultados_independientes)\n",
      "print \"Predicci\u00f3n para el PI:\",clf.predict(encuestas_2014)\n",
      "\n"
     ],
     "language": "python",
     "metadata": {},
     "outputs": [
      {
       "output_type": "stream",
       "stream": "stdout",
       "text": [
        "Predicciones utilizando Regresi\u00f3n Lineal\n",
        "Predicci\u00f3n para el Frente: 48.7419221373\n",
        "Predicci\u00f3n para los blancos: 29.0063301318\n",
        "Predicci\u00f3n para los colorados: 17.0928269359\n",
        "Predicci\u00f3n para el PI: 2.52424327027\n",
        "Predicciones utilizando Ridge\n",
        "Predicci\u00f3n para el Frente: 48.4557570816\n",
        "Predicci\u00f3n para los blancos: 29.9509891859\n",
        "Predicci\u00f3n para los colorados: 15.8085720388\n",
        "Predicci\u00f3n para el PI: 2.38157493156\n"
       ]
      }
     ],
     "prompt_number": 48
    }
   ],
   "metadata": {}
  }
 ]
}