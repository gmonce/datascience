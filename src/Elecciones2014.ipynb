{
  "nbformat": 4,
  "nbformat_minor": 0,
  "metadata": {
    "colab": {
      "name": "Elecciones2014.ipynb",
      "provenance": []
    },
    "kernelspec": {
      "name": "python3",
      "display_name": "Python 3"
    }
  },
  "cells": [
    {
      "cell_type": "code",
      "metadata": {
        "id": "I8nP9lXqSGnp",
        "colab_type": "code",
        "colab": {
          "base_uri": "https://localhost:8080/",
          "height": 135
        },
        "outputId": "aeef6ffe-47d2-47aa-e926-27f0a71daf6d"
      },
      "source": [
        "import numpy as np\n",
        "# Las features son las predicciones de la última encuesta de Cifra, Equipos, Radar y Factum, en ese orden\n",
        "encuestas_X=np.array([[50.9,31.8,12.5,2.7,52.5,31.6,11.1,2.6,54.0,29.0,08.0,3.0,54.5,31.0,12.0,2.5],\n",
        "                      [45.0,31.0,12.0,2.0,44.0,30.0,10.0,2.0,45.0,29.0,14.0,3.0,46.0,34.0,10.0,3.0]])\n",
        "\n",
        "# Resultados reales en 2004 y 2009 para cada partido\n",
        "resultados_frente=np.array([50.54,48])\n",
        "resultados_blancos=np.array([34.3,29])\n",
        "resultados_colorados=np.array([10.36,17])\n",
        "resultados_independientes=np.array([1.84,2.5])\n",
        "from sklearn import linear_model\n",
        "\n",
        "# Predicciones de las encuestas para 2014\n",
        "encuestas_2014=np.array([43,32,18,3.3,43.6,33.4,15.1,3.1,45.6,31.3,15.2,3.3,44,34,15,3])\n",
        "\n",
        "# Usando regresión lineal\n",
        "print (\"Predicciones utilizando Regresión Lineal\")\n",
        "clf=linear_model.LinearRegression()\n",
        "clf.fit(encuestas_X,resultados_frente)\n",
        "print \"Predicción para el Frente:\",clf.predict(encuestas_2014)\n",
        "clf.fit(encuestas_X,resultados_blancos)\n",
        "print \"Predicción para los blancos:\",clf.predict(encuestas_2014)\n",
        "clf.fit(encuestas_X,resultados_colorados)\n",
        "print \"Predicción para los colorados:\",clf.predict(encuestas_2014)\n",
        "clf.fit(encuestas_X,resultados_independientes)\n",
        "print \"Predicción para el PI:\",clf.predict(encuestas_2014)\n",
        "\n",
        "print \"Predicciones utilizando RegressRidge\"\n",
        "# Utilizo un alpha alto porque las features están correlacionadas\n",
        "clf=linear_model.Ridge(alpha=100.0)\n",
        "clf.fit(encuestas_X,resultados_frente)\n",
        "print \"Predicción para el Frente:\",clf.predict(encuestas_2014)\n",
        "clf.fit(encuestas_X,resultados_blancos)\n",
        "print \"Predicción para los blancos:\",clf.predict(encuestas_2014)\n",
        "clf.fit(encuestas_X,resultados_colorados)\n",
        "print \"Predicción para los colorados:\",clf.predict(encuestas_2014)\n",
        "clf.fit(encuestas_X,resultados_independientes)\n",
        "print \"Predicción para el PI:\",clf.predict(encuestas_2014)\n",
        "\n"
      ],
      "execution_count": 3,
      "outputs": [
        {
          "output_type": "error",
          "ename": "SyntaxError",
          "evalue": "ignored",
          "traceback": [
            "\u001b[0;36m  File \u001b[0;32m\"<ipython-input-3-bcb5e68d23d9>\"\u001b[0;36m, line \u001b[0;32m20\u001b[0m\n\u001b[0;31m    print \"Predicción para el Frente:\",clf.predict(encuestas_2014)\u001b[0m\n\u001b[0m                                     ^\u001b[0m\n\u001b[0;31mSyntaxError\u001b[0m\u001b[0;31m:\u001b[0m invalid syntax\n"
          ]
        }
      ]
    }
  ]
}