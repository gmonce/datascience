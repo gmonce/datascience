{
  "nbformat": 4,
  "nbformat_minor": 0,
  "metadata": {
    "kernelspec": {
      "display_name": "Python 3",
      "language": "python",
      "name": "python3"
    },
    "language_info": {
      "codemirror_mode": {
        "name": "ipython",
        "version": 3
      },
      "file_extension": ".py",
      "mimetype": "text/x-python",
      "name": "python",
      "nbconvert_exporter": "python",
      "pygments_lexer": "ipython3",
      "version": "3.6.9"
    },
    "colab": {
      "name": "Intro_NumPy.ipynb",
      "provenance": []
    }
  },
  "cells": [
    {
      "cell_type": "markdown",
      "metadata": {
        "id": "LZv6jPjKSkKm",
        "colab_type": "text"
      },
      "source": [
        "### Módulo 1: NumPy, computación científica con Python"
      ]
    },
    {
      "cell_type": "markdown",
      "metadata": {
        "id": "v3acP8euSkKs",
        "colab_type": "text"
      },
      "source": [
        "[![Open In Colab](https://colab.research.google.com/assets/colab-badge.svg)](https://colab.research.google.com/github/gmonce/datascience/blob/master/src/Intro_NumPy.ipynb)\n",
        "\n",
        "En este notebook veremos formas de trabajar con arrays multidimensionales (en especial vectores y matrices) en Python, utilizando la biblioteca fundamental para computación científica de Python: NumPy. Esta biblioteca es un componente imprescindible de prácticamente todas las bibliotecas de aprendizaje automático en Python, porque provee una forma eficiente de manipular matrices lo que, como veremos en el resto del curso, es clave para la gran mayoría de los métodos de aprendizaje automático modernos. \n",
        "\n",
        "**Referencias**\n",
        "\n",
        "- [Introduction to NumPy]((https://sebastianraschka.com/pdf/books/dlb/appendix_f_numpy-intro.pdf)) - Sebastian Raschka\n",
        "- [An introduction to NumPy and SciPy](https://sites.engineering.ucsb.edu/~shell/che210d/numpy.pdf) - M. Scott Shell\n",
        "\n",
        "- [100 numpy exercises](https://github.com/rougier/numpy-100) - Nicolas Rougier\n"
      ]
    },
    {
      "cell_type": "code",
      "metadata": {
        "id": "ezR5aNmDSkKx",
        "colab_type": "code",
        "colab": {
          "base_uri": "https://localhost:8080/",
          "height": 35
        },
        "outputId": "b6521e1f-1975-4dd4-b608-2edb856b03f7"
      },
      "source": [
        "import numpy as np\n",
        "\n",
        "## Este notebook fue elborado con la versión 1.15.1 de NumPy\n",
        "\n",
        "np.__version__"
      ],
      "execution_count": 1,
      "outputs": [
        {
          "output_type": "execute_result",
          "data": {
            "text/plain": [
              "'1.17.5'"
            ]
          },
          "metadata": {
            "tags": []
          },
          "execution_count": 1
        }
      ]
    },
    {
      "cell_type": "markdown",
      "metadata": {
        "id": "bPh3clSNSkK_",
        "colab_type": "text"
      },
      "source": [
        "### 0. Listas en Python\n",
        "\n",
        "La forma básica de implementar arrays en Python son las _listas_: "
      ]
    },
    {
      "cell_type": "code",
      "metadata": {
        "id": "ny1EqgxISkLC",
        "colab_type": "code",
        "colab": {
          "base_uri": "https://localhost:8080/",
          "height": 35
        },
        "outputId": "698baad4-059b-447b-8113-4c042569140b"
      },
      "source": [
        "lista = [0, 'a', 2, 3]\n",
        "print(lista)"
      ],
      "execution_count": 2,
      "outputs": [
        {
          "output_type": "stream",
          "text": [
            "[0, 'a', 2, 3]\n"
          ],
          "name": "stdout"
        }
      ]
    },
    {
      "cell_type": "markdown",
      "metadata": {
        "id": "cSvPvnGRSkLK",
        "colab_type": "text"
      },
      "source": [
        "Las listas son una estructura muy poderosa, porque permiten (como se vio en el ejemplo anterior) intercalar diferentes tipos de datos en la misma lista y no tienen una longitud fija. Existen operadores para seleccionar elementos, aplicar funciones a cada elemento, agregar y quitar elementos, etc. Por más información sobre listas, se puede consultar la documentación de python, o infinidad de tutoriales en Internet. El problema de las listas es que tanta flexibilidad se paga con eficiencia. NumPy surge como la forma de poder obtener esa eficiencia, aunque perdiendo flexibilidad. "
      ]
    },
    {
      "cell_type": "markdown",
      "metadata": {
        "id": "fhFrzD9BSkLM",
        "colab_type": "text"
      },
      "source": [
        "## 1. ndarrays"
      ]
    },
    {
      "cell_type": "markdown",
      "metadata": {
        "id": "11GGjUM6SkLP",
        "colab_type": "text"
      },
      "source": [
        "La estructura básica de NumPY es el array multidimensional (o `ndarray`).  Estos arrays están almacenados en secciones continuas de memoria, y por lo tanto pueden ser cacheados fácilmente. Pero, para que esto sea posible, los arrays deben cumplir dos restricciones: tener largo fijo, y tener elementos de un solo tipo. Esto permite que NumPy pueda utilizar los más eficientes loops escritos en C, evitando los chequeos de Python, haciendo que trabajar con ellos sea mucho más eficiente. \n",
        "\n",
        "Comencemos por crear un un array con 2 filas y 3 columnas (diremos que tiene dimensión 2x3, nombrando siempre primero las filas y luego las columnas): "
      ]
    },
    {
      "cell_type": "code",
      "metadata": {
        "id": "miHO3_KBSkLQ",
        "colab_type": "code",
        "colab": {
          "base_uri": "https://localhost:8080/",
          "height": 54
        },
        "outputId": "083fd383-e82c-4b7e-a1c1-fa6b698f44e9"
      },
      "source": [
        "a = np.array([[1,2,3],[4,5,6]])\n",
        "print(a)"
      ],
      "execution_count": 3,
      "outputs": [
        {
          "output_type": "stream",
          "text": [
            "[[1 2 3]\n",
            " [4 5 6]]\n"
          ],
          "name": "stdout"
        }
      ]
    },
    {
      "cell_type": "markdown",
      "metadata": {
        "id": "XmfBoUF7SkLY",
        "colab_type": "text"
      },
      "source": [
        "Los arrays son objetos, y tienen métodos asociados. Utilice el método `dtype` para conocer el tipo de los elementos de `a`"
      ]
    },
    {
      "cell_type": "code",
      "metadata": {
        "id": "tpn-kY4XSkLb",
        "colab_type": "code",
        "colab": {
          "base_uri": "https://localhost:8080/",
          "height": 35
        },
        "outputId": "b7c385cf-e7c1-43dc-9954-dc45cc56c58b"
      },
      "source": [
        "print(a.dtype)"
      ],
      "execution_count": 4,
      "outputs": [
        {
          "output_type": "stream",
          "text": [
            "int64\n"
          ],
          "name": "stdout"
        }
      ]
    },
    {
      "cell_type": "markdown",
      "metadata": {
        "id": "t0YuD6iKSkLh",
        "colab_type": "text"
      },
      "source": [
        "En el caso anterior, el constructor dedujo el tipo de los elementos, pero esto puede decirse explícitamente a través del parámetro `dtype`. Cree el mismo array que en el punto anterior, pero con tipo `float32`, y verifique el resultado."
      ]
    },
    {
      "cell_type": "code",
      "metadata": {
        "id": "D0j-IyzLSkLi",
        "colab_type": "code",
        "colab": {
          "base_uri": "https://localhost:8080/",
          "height": 127
        },
        "outputId": "c42b5b3f-d5dc-4708-fdb6-8cc65b20cfbb"
      },
      "source": [
        "a = np.array([[1,2,3],[4,5,6]], dtype=np.float32)\n",
        "print(a)\n",
        "\n",
        "b = np.array([[1,2],[3,4], [5,6],[7,8]], dtype=np.float32)\n",
        "print (b)\n"
      ],
      "execution_count": 5,
      "outputs": [
        {
          "output_type": "stream",
          "text": [
            "[[1. 2. 3.]\n",
            " [4. 5. 6.]]\n",
            "[[1. 2.]\n",
            " [3. 4.]\n",
            " [5. 6.]\n",
            " [7. 8.]]\n"
          ],
          "name": "stdout"
        }
      ]
    },
    {
      "cell_type": "markdown",
      "metadata": {
        "id": "4Bz0U60RSkLp",
        "colab_type": "text"
      },
      "source": [
        "La lista de tipos disponibles es muy grande. Consulte la [documentación](https://docs.scipy.org/doc/numpy/user/basics.types.html) de NumPy para la lista completa. \n",
        "\n",
        "Los arrays pueden tener hasta 32 dimensiones diferentes, pero aquí veremos solamente los que tienen dimensión 1 (vectores), y 2 (matrices). Todas las operaciones que veremos pueden extenderse a arrays de mayor dimensión (también conocidos como _tensores_). \n",
        "\n",
        "Si queremos conocer las dimensiones de una matriz, podemos utilizar el método `shape`, mientras que `ndim` nos dice el número de dimensiones, y `size` el número de elementos. Pruebe estos valores con los arrays que construimos previamente (como estamos utilizando Jupyter notebooks, simplemente escriba lo que quiere describir, sin utilizar `print`\n"
      ]
    },
    {
      "cell_type": "code",
      "metadata": {
        "id": "PIthHh5wSkLs",
        "colab_type": "code",
        "colab": {
          "base_uri": "https://localhost:8080/",
          "height": 35
        },
        "outputId": "bd081d06-2290-4950-96f7-6e4b5a699093"
      },
      "source": [
        "a.shape, b.shape"
      ],
      "execution_count": 6,
      "outputs": [
        {
          "output_type": "execute_result",
          "data": {
            "text/plain": [
              "((2, 3), (4, 2))"
            ]
          },
          "metadata": {
            "tags": []
          },
          "execution_count": 6
        }
      ]
    },
    {
      "cell_type": "code",
      "metadata": {
        "id": "__j-BdBjSkLx",
        "colab_type": "code",
        "colab": {
          "base_uri": "https://localhost:8080/",
          "height": 35
        },
        "outputId": "46fbabaf-e85b-4289-beb0-7d06ed5130a5"
      },
      "source": [
        "a.ndim, b.ndim"
      ],
      "execution_count": 7,
      "outputs": [
        {
          "output_type": "execute_result",
          "data": {
            "text/plain": [
              "(2, 2)"
            ]
          },
          "metadata": {
            "tags": []
          },
          "execution_count": 7
        }
      ]
    },
    {
      "cell_type": "code",
      "metadata": {
        "id": "liKsrVJpSkL3",
        "colab_type": "code",
        "colab": {
          "base_uri": "https://localhost:8080/",
          "height": 35
        },
        "outputId": "632ba1d3-89bf-45d0-cc4a-ab1ceda8fbc9"
      },
      "source": [
        "a.size, b.size"
      ],
      "execution_count": 8,
      "outputs": [
        {
          "output_type": "execute_result",
          "data": {
            "text/plain": [
              "(6, 8)"
            ]
          },
          "metadata": {
            "tags": []
          },
          "execution_count": 8
        }
      ]
    },
    {
      "cell_type": "markdown",
      "metadata": {
        "id": "Jtp-7-ETSkL-",
        "colab_type": "text"
      },
      "source": [
        "Podemos ver que los vectores son casos especiales de los arrays, con dimension 1. Incluso es posible definir arrays con dimensión 0 (¿cuáles son? ¿cómo los definiría?). Cree un caso de cada uno y verifique sus shapes. "
      ]
    },
    {
      "cell_type": "code",
      "metadata": {
        "id": "ppGYilWPSkMA",
        "colab_type": "code",
        "colab": {
          "base_uri": "https://localhost:8080/",
          "height": 35
        },
        "outputId": "9e285ac9-3f19-4c16-ad77-d030b62cea5e"
      },
      "source": [
        "c=np.array(['a','b','c','d','e'])\n",
        "scalar=np.array(42)\n",
        "c, scalar"
      ],
      "execution_count": 9,
      "outputs": [
        {
          "output_type": "execute_result",
          "data": {
            "text/plain": [
              "(array(['a', 'b', 'c', 'd', 'e'], dtype='<U1'), array(42))"
            ]
          },
          "metadata": {
            "tags": []
          },
          "execution_count": 9
        }
      ]
    },
    {
      "cell_type": "code",
      "metadata": {
        "id": "GcHf1aR9SkMH",
        "colab_type": "code",
        "colab": {
          "base_uri": "https://localhost:8080/",
          "height": 35
        },
        "outputId": "cbba0e43-0fde-405b-d8a6-0f11d6233232"
      },
      "source": [
        "c.shape, scalar.shape"
      ],
      "execution_count": 10,
      "outputs": [
        {
          "output_type": "execute_result",
          "data": {
            "text/plain": [
              "((5,), ())"
            ]
          },
          "metadata": {
            "tags": []
          },
          "execution_count": 10
        }
      ]
    },
    {
      "cell_type": "markdown",
      "metadata": {
        "id": "_FLGiY1JSkMM",
        "colab_type": "text"
      },
      "source": [
        "Hay diferentes formas para facilitar la creación de arrays: pruebe los métodos `np.ones`, `np.zeros`, `np.eye` y `np.diag`. ¿Puede ver qué hace cada uno?"
      ]
    },
    {
      "cell_type": "code",
      "metadata": {
        "id": "7i1ixkldSkMO",
        "colab_type": "code",
        "colab": {
          "base_uri": "https://localhost:8080/",
          "height": 72
        },
        "outputId": "8acb5665-6360-4ac3-d563-84e68491f206"
      },
      "source": [
        "np.ones((3,3))"
      ],
      "execution_count": 11,
      "outputs": [
        {
          "output_type": "execute_result",
          "data": {
            "text/plain": [
              "array([[1., 1., 1.],\n",
              "       [1., 1., 1.],\n",
              "       [1., 1., 1.]])"
            ]
          },
          "metadata": {
            "tags": []
          },
          "execution_count": 11
        }
      ]
    },
    {
      "cell_type": "code",
      "metadata": {
        "id": "1RASTsYMSkMU",
        "colab_type": "code",
        "colab": {
          "base_uri": "https://localhost:8080/",
          "height": 72
        },
        "outputId": "2f8234f9-381c-4cd7-f725-0314ff2a42d4"
      },
      "source": [
        "np.diag((3,3,3))"
      ],
      "execution_count": 12,
      "outputs": [
        {
          "output_type": "execute_result",
          "data": {
            "text/plain": [
              "array([[3, 0, 0],\n",
              "       [0, 3, 0],\n",
              "       [0, 0, 3]])"
            ]
          },
          "metadata": {
            "tags": []
          },
          "execution_count": 12
        }
      ]
    },
    {
      "cell_type": "markdown",
      "metadata": {
        "id": "W9rIbzCpSkMa",
        "colab_type": "text"
      },
      "source": [
        "Si queremos crear un array con un rango, usamos `np.arange`, y si queremos generar puntos equiespaciados usamos `np.linspace` (muy útiles para crear gráficas)"
      ]
    },
    {
      "cell_type": "code",
      "metadata": {
        "id": "ytEXigdDSkMc",
        "colab_type": "code",
        "colab": {
          "base_uri": "https://localhost:8080/",
          "height": 54
        },
        "outputId": "5ff4f200-8a52-452c-9a0c-80dbca7a92f6"
      },
      "source": [
        "np.linspace(0.,1.,num=10)"
      ],
      "execution_count": 13,
      "outputs": [
        {
          "output_type": "execute_result",
          "data": {
            "text/plain": [
              "array([0.        , 0.11111111, 0.22222222, 0.33333333, 0.44444444,\n",
              "       0.55555556, 0.66666667, 0.77777778, 0.88888889, 1.        ])"
            ]
          },
          "metadata": {
            "tags": []
          },
          "execution_count": 13
        }
      ]
    },
    {
      "cell_type": "code",
      "metadata": {
        "id": "HftHEeOfSkMh",
        "colab_type": "code",
        "colab": {
          "base_uri": "https://localhost:8080/",
          "height": 35
        },
        "outputId": "842b2123-dbac-455b-dceb-985949ce2ca6"
      },
      "source": [
        "np.arange(10,20,2)"
      ],
      "execution_count": 14,
      "outputs": [
        {
          "output_type": "execute_result",
          "data": {
            "text/plain": [
              "array([10, 12, 14, 16, 18])"
            ]
          },
          "metadata": {
            "tags": []
          },
          "execution_count": 14
        }
      ]
    },
    {
      "cell_type": "markdown",
      "metadata": {
        "id": "IzJRNmW_SkMk",
        "colab_type": "text"
      },
      "source": [
        "Ejercicio: cree un vector con los puntos entre 0 y 50, con intervalos de 0.5. Calcule su cuadrado. Muestre gráficamente el resultado"
      ]
    },
    {
      "cell_type": "code",
      "metadata": {
        "id": "W_4FLDd3SkMm",
        "colab_type": "code",
        "colab": {}
      },
      "source": [
        "import matplotlib.pyplot as plt"
      ],
      "execution_count": 0,
      "outputs": []
    },
    {
      "cell_type": "code",
      "metadata": {
        "id": "6IhY164eSkMr",
        "colab_type": "code",
        "colab": {
          "base_uri": "https://localhost:8080/",
          "height": 283
        },
        "outputId": "69dd99b6-235e-4913-efaf-2735853de1e7"
      },
      "source": [
        "x=np.linspace(0.,50.,num=101)\n",
        "y=x**2\n",
        "plt.plot(x,y)"
      ],
      "execution_count": 16,
      "outputs": [
        {
          "output_type": "execute_result",
          "data": {
            "text/plain": [
              "[<matplotlib.lines.Line2D at 0x7f7732746c88>]"
            ]
          },
          "metadata": {
            "tags": []
          },
          "execution_count": 16
        },
        {
          "output_type": "display_data",
          "data": {
            "image/png": "[encoded data removed]",
            "text/plain": [
              "<Figure size 432x288 with 1 Axes>"
            ]
          },
          "metadata": {
            "tags": []
          }
        }
      ]
    },
    {
      "cell_type": "markdown",
      "metadata": {
        "id": "rnCynGhySkMw",
        "colab_type": "text"
      },
      "source": [
        "### 2.  Array indexing"
      ]
    },
    {
      "cell_type": "markdown",
      "metadata": {
        "id": "UVK2xojzSkMx",
        "colab_type": "text"
      },
      "source": [
        "Los arrays tienen \"axis\" (dimensiones). La primera dimensión son las filas, y la segunda las columnas (y así sucesivamente con nuevas dimensiones). Entonces, para conocer el elemento de un array de dos dimensiones (i.e. una matriz) a, debe referenciarse como `a[fila, columna]`. Los elementos se numeran (siguiendo el estándar de Python), comenzando en 0.\n",
        "\n",
        "Construya una matriz de 4x4 con 1s en la diagonal y 0 en el resto. Asigne el valor 2 a la primer columna y segunda fila. Asigne el valor 3 a la columna 2, fila 1. "
      ]
    },
    {
      "cell_type": "code",
      "metadata": {
        "id": "d_CZSWu6SkMz",
        "colab_type": "code",
        "colab": {
          "base_uri": "https://localhost:8080/",
          "height": 90
        },
        "outputId": "61f21c21-d270-4512-be4d-35b0dd367adf"
      },
      "source": [
        "z=np.eye(4)\n",
        "z"
      ],
      "execution_count": 17,
      "outputs": [
        {
          "output_type": "execute_result",
          "data": {
            "text/plain": [
              "array([[1., 0., 0., 0.],\n",
              "       [0., 1., 0., 0.],\n",
              "       [0., 0., 1., 0.],\n",
              "       [0., 0., 0., 1.]])"
            ]
          },
          "metadata": {
            "tags": []
          },
          "execution_count": 17
        }
      ]
    },
    {
      "cell_type": "code",
      "metadata": {
        "id": "-BQFSMaHSkM4",
        "colab_type": "code",
        "colab": {
          "base_uri": "https://localhost:8080/",
          "height": 90
        },
        "outputId": "c48aee26-dd47-4180-ed9c-95cc2c7a5e55"
      },
      "source": [
        "z[1,0]=2\n",
        "z[1,2]=3\n",
        "z"
      ],
      "execution_count": 18,
      "outputs": [
        {
          "output_type": "execute_result",
          "data": {
            "text/plain": [
              "array([[1., 0., 0., 0.],\n",
              "       [2., 1., 3., 0.],\n",
              "       [0., 0., 1., 0.],\n",
              "       [0., 0., 0., 1.]])"
            ]
          },
          "metadata": {
            "tags": []
          },
          "execution_count": 18
        }
      ]
    },
    {
      "cell_type": "markdown",
      "metadata": {
        "id": "CghlNAa3SkM9",
        "colab_type": "text"
      },
      "source": [
        "Igual que en las listas de Python, pueden seleccionarse rangos de elementos, además de elementos individuales. La forma básica es i:j:k, donde i es el índice de inicio, j el de fin (no incluido), y k es el paso.\n",
        "\n",
        "Por ejemplo, para seleccionar los elementos de las tres primeras filas, y de las columnas 1 y 2, utilizamos:"
      ]
    },
    {
      "cell_type": "code",
      "metadata": {
        "id": "yq-qYxMLSkM_",
        "colab_type": "code",
        "colab": {
          "base_uri": "https://localhost:8080/",
          "height": 72
        },
        "outputId": "7a7abbc5-aac5-4de4-909f-7c8d2038c133"
      },
      "source": [
        "z[0:3,1:3]"
      ],
      "execution_count": 19,
      "outputs": [
        {
          "output_type": "execute_result",
          "data": {
            "text/plain": [
              "array([[0., 0.],\n",
              "       [1., 3.],\n",
              "       [0., 1.]])"
            ]
          },
          "metadata": {
            "tags": []
          },
          "execution_count": 19
        }
      ]
    },
    {
      "cell_type": "markdown",
      "metadata": {
        "id": "hx1BeZ4uSkND",
        "colab_type": "text"
      },
      "source": [
        "El indexing en Numpy permite seleccionar desde el final hacia atrás (utilizando índices negativos), y especificar un axis completa, utilizando la notación ':' (esto es, se seleccionan todos los elementos del axis). Por lo tanto, para seleccionar la última fila, basta poner: "
      ]
    },
    {
      "cell_type": "code",
      "metadata": {
        "id": "SLbXvlVESkNF",
        "colab_type": "code",
        "colab": {
          "base_uri": "https://localhost:8080/",
          "height": 35
        },
        "outputId": "6cb20727-2aa1-4407-e86b-6ce7d82bea26"
      },
      "source": [
        "z[-1,:]"
      ],
      "execution_count": 20,
      "outputs": [
        {
          "output_type": "execute_result",
          "data": {
            "text/plain": [
              "array([0., 0., 0., 1.])"
            ]
          },
          "metadata": {
            "tags": []
          },
          "execution_count": 20
        }
      ]
    },
    {
      "cell_type": "markdown",
      "metadata": {
        "id": "CjoBx2JYSkNI",
        "colab_type": "text"
      },
      "source": [
        "### 3. Funciones universales y broadcasting"
      ]
    },
    {
      "cell_type": "markdown",
      "metadata": {
        "id": "EFkeF9zJSkNK",
        "colab_type": "text"
      },
      "source": [
        "Las funciones matemáticas en NumPy tienen un comportamiento muy informe: se aplican a todos los elementos del array. Esto hace que prácticamente nunca sea necesario iterar por los arrays. Por ejemplo, si queremos saber la raíz cuadrada de cada elemento de z, simplemente hacemos:"
      ]
    },
    {
      "cell_type": "code",
      "metadata": {
        "id": "89nLciLdSkNL",
        "colab_type": "code",
        "colab": {
          "base_uri": "https://localhost:8080/",
          "height": 90
        },
        "outputId": "b8a26085-5e1f-45ff-a282-fd061b2210ea"
      },
      "source": [
        "np.sqrt(z)"
      ],
      "execution_count": 21,
      "outputs": [
        {
          "output_type": "execute_result",
          "data": {
            "text/plain": [
              "array([[1.        , 0.        , 0.        , 0.        ],\n",
              "       [1.41421356, 1.        , 1.73205081, 0.        ],\n",
              "       [0.        , 0.        , 1.        , 0.        ],\n",
              "       [0.        , 0.        , 0.        , 1.        ]])"
            ]
          },
          "metadata": {
            "tags": []
          },
          "execution_count": 21
        }
      ]
    },
    {
      "cell_type": "markdown",
      "metadata": {
        "id": "PTbkL1D8SkNS",
        "colab_type": "text"
      },
      "source": [
        "Si queremos sumarle 1 a todos los elementos de z, ¿qué tendríamos que hacer?"
      ]
    },
    {
      "cell_type": "code",
      "metadata": {
        "id": "vpdhs5-CSkNS",
        "colab_type": "code",
        "colab": {
          "base_uri": "https://localhost:8080/",
          "height": 90
        },
        "outputId": "f3dd8fcd-ba1f-4db7-ca42-e987fa7d06cc"
      },
      "source": [
        "z+1"
      ],
      "execution_count": 22,
      "outputs": [
        {
          "output_type": "execute_result",
          "data": {
            "text/plain": [
              "array([[2., 1., 1., 1.],\n",
              "       [3., 2., 4., 1.],\n",
              "       [1., 1., 2., 1.],\n",
              "       [1., 1., 1., 2.]])"
            ]
          },
          "metadata": {
            "tags": []
          },
          "execution_count": 22
        }
      ]
    },
    {
      "cell_type": "markdown",
      "metadata": {
        "id": "ZQFACChQSkNZ",
        "colab_type": "text"
      },
      "source": [
        "En el paso anterior, intervino uno de los aspectos más interesantes de NumPy: el _broadcasting_. Cuando una operación involucra dos elementos con diferentes dimensiones (en el caso anterior, una matriz y un escalar), NumPy intenta \"completar\" las dimensiones de forma inteligente (en el caso anterior, transformando el escalar 1 en una matriz de 3x3 con 1s. \n",
        "\n",
        "Pruebe sumar una matriz con dos filas y una columnas y una con tres filas y dos columnas y analice el resultado. ¿Qué pasa si sumo una matriz con tres filas y dos columnas a la anterior?"
      ]
    },
    {
      "cell_type": "code",
      "metadata": {
        "id": "HeISDW0GSkNc",
        "colab_type": "code",
        "colab": {
          "base_uri": "https://localhost:8080/",
          "height": 54
        },
        "outputId": "bb2f638f-ff24-4e92-b91d-02b4423a814a"
      },
      "source": [
        "a=np.ones((2,1))\n",
        "b=np.ones((2,2))\n",
        "\n",
        "a+b"
      ],
      "execution_count": 23,
      "outputs": [
        {
          "output_type": "execute_result",
          "data": {
            "text/plain": [
              "array([[2., 2.],\n",
              "       [2., 2.]])"
            ]
          },
          "metadata": {
            "tags": []
          },
          "execution_count": 23
        }
      ]
    },
    {
      "cell_type": "code",
      "metadata": {
        "id": "KrNd_HYtSkNg",
        "colab_type": "code",
        "colab": {}
      },
      "source": [
        "# c=np.ones((3,2)) Esto no funciona!\n",
        "# a+b+c"
      ],
      "execution_count": 0,
      "outputs": []
    },
    {
      "cell_type": "markdown",
      "metadata": {
        "id": "O15Tb3SjSkNk",
        "colab_type": "text"
      },
      "source": [
        "Siempre que se aplica una función universal, se aplica por defecto a todos los elementos del array. Por ejemplo, la siguiente función suma todos los elementos de la matriz z"
      ]
    },
    {
      "cell_type": "code",
      "metadata": {
        "id": "xU4j1XI8SkNl",
        "colab_type": "code",
        "colab": {
          "base_uri": "https://localhost:8080/",
          "height": 35
        },
        "outputId": "66e82a64-8052-4f6c-d15e-c0a65c9a5517"
      },
      "source": [
        "np.sum(z)"
      ],
      "execution_count": 25,
      "outputs": [
        {
          "output_type": "execute_result",
          "data": {
            "text/plain": [
              "9.0"
            ]
          },
          "metadata": {
            "tags": []
          },
          "execution_count": 25
        }
      ]
    },
    {
      "cell_type": "markdown",
      "metadata": {
        "id": "vReV3WhpSkNp",
        "colab_type": "text"
      },
      "source": [
        "Si lo que queremos es sumar los elementos de cada columna, agregamos el parámetro axis=0 al método, para indicarle que se quiere sumar, en cada columna, el elemento de cada fila (recordamos que el axis 0 es el que se mueve por las filas)."
      ]
    },
    {
      "cell_type": "code",
      "metadata": {
        "id": "TrTEP6mBSkNq",
        "colab_type": "code",
        "colab": {
          "base_uri": "https://localhost:8080/",
          "height": 109
        },
        "outputId": "52e54759-0178-4aee-909f-2c9a3b6340a9"
      },
      "source": [
        "print(z)\n",
        "np.sum(z, axis=0)"
      ],
      "execution_count": 26,
      "outputs": [
        {
          "output_type": "stream",
          "text": [
            "[[1. 0. 0. 0.]\n",
            " [2. 1. 3. 0.]\n",
            " [0. 0. 1. 0.]\n",
            " [0. 0. 0. 1.]]\n"
          ],
          "name": "stdout"
        },
        {
          "output_type": "execute_result",
          "data": {
            "text/plain": [
              "array([3., 1., 4., 1.])"
            ]
          },
          "metadata": {
            "tags": []
          },
          "execution_count": 26
        }
      ]
    },
    {
      "cell_type": "markdown",
      "metadata": {
        "id": "Pv5vZsvFSkNv",
        "colab_type": "text"
      },
      "source": [
        "Por supuesto, para sumar en cada filas, indicamos la segunda axis. Utilizaremos una sintaxis alternativa en este caso: cada array es un objeto con sus propios métodos. Existen muchas funciones universales en NumPy, pruebe varias de ellas y verifique que su funcionamiento es homogéneo."
      ]
    },
    {
      "cell_type": "code",
      "metadata": {
        "id": "mHiXsJB8SkNw",
        "colab_type": "code",
        "colab": {
          "base_uri": "https://localhost:8080/",
          "height": 35
        },
        "outputId": "63ee392d-6edb-43e8-cb55-a2901a6c03c0"
      },
      "source": [
        "z.sum(axis=1)"
      ],
      "execution_count": 27,
      "outputs": [
        {
          "output_type": "execute_result",
          "data": {
            "text/plain": [
              "array([1., 6., 1., 1.])"
            ]
          },
          "metadata": {
            "tags": []
          },
          "execution_count": 27
        }
      ]
    },
    {
      "cell_type": "markdown",
      "metadata": {
        "id": "msAAXzwDSkN1",
        "colab_type": "text"
      },
      "source": [
        "### 4. Operaciones de Comparación y Máscaras"
      ]
    },
    {
      "cell_type": "markdown",
      "metadata": {
        "id": "4ebbpEsOSkN3",
        "colab_type": "text"
      },
      "source": [
        "Una forma adicional de indexar un array es a través de una _máscara_: un vector Booleano que indica qué elementos del array elegir y cuáles descartar."
      ]
    },
    {
      "cell_type": "code",
      "metadata": {
        "id": "zksHQn3mSkN4",
        "colab_type": "code",
        "colab": {
          "base_uri": "https://localhost:8080/",
          "height": 35
        },
        "outputId": "4507b244-ebd1-48dc-90d8-aea11e600327"
      },
      "source": [
        "# Especifico el vector original\n",
        "a=np.array([1,2,3,4,5,6,7,8])\n",
        "mask=np.array([True, False, True, True, True, False, False, False])\n",
        "\n",
        "a[mask]\n"
      ],
      "execution_count": 28,
      "outputs": [
        {
          "output_type": "execute_result",
          "data": {
            "text/plain": [
              "array([1, 3, 4, 5])"
            ]
          },
          "metadata": {
            "tags": []
          },
          "execution_count": 28
        }
      ]
    },
    {
      "cell_type": "markdown",
      "metadata": {
        "id": "M0sgDaBCSkN9",
        "colab_type": "text"
      },
      "source": [
        "Esto no parece muy interesante, pero se vuelve muy potente cuando vemos que existen operaciones de comparación que devuelven vectores booleanos para los elementos que cumplen una cierta condición:"
      ]
    },
    {
      "cell_type": "code",
      "metadata": {
        "id": "UhlJfhCpSkN-",
        "colab_type": "code",
        "colab": {
          "base_uri": "https://localhost:8080/",
          "height": 35
        },
        "outputId": "730dcd5a-70b7-4e9a-decf-e69a4a3ff65e"
      },
      "source": [
        "a>4"
      ],
      "execution_count": 29,
      "outputs": [
        {
          "output_type": "execute_result",
          "data": {
            "text/plain": [
              "array([False, False, False, False,  True,  True,  True,  True])"
            ]
          },
          "metadata": {
            "tags": []
          },
          "execution_count": 29
        }
      ]
    },
    {
      "cell_type": "code",
      "metadata": {
        "id": "JYcommRUSkOC",
        "colab_type": "code",
        "colab": {
          "base_uri": "https://localhost:8080/",
          "height": 35
        },
        "outputId": "80154a36-daad-4bcd-cf96-91c77b5601c8"
      },
      "source": [
        "a[a>4]"
      ],
      "execution_count": 30,
      "outputs": [
        {
          "output_type": "execute_result",
          "data": {
            "text/plain": [
              "array([5, 6, 7, 8])"
            ]
          },
          "metadata": {
            "tags": []
          },
          "execution_count": 30
        }
      ]
    },
    {
      "cell_type": "markdown",
      "metadata": {
        "id": "G71GwMF2SkOI",
        "colab_type": "text"
      },
      "source": [
        "Es posible combinar condiciones on operaciones booleanas & (and) y | (or):"
      ]
    },
    {
      "cell_type": "code",
      "metadata": {
        "id": "FxQC2LZtSkOJ",
        "colab_type": "code",
        "colab": {
          "base_uri": "https://localhost:8080/",
          "height": 35
        },
        "outputId": "639b2d60-f4d9-42b2-bac6-7a68c3049836"
      },
      "source": [
        "a[(a>4) & (a%3==0)]"
      ],
      "execution_count": 31,
      "outputs": [
        {
          "output_type": "execute_result",
          "data": {
            "text/plain": [
              "array([6])"
            ]
          },
          "metadata": {
            "tags": []
          },
          "execution_count": 31
        }
      ]
    },
    {
      "cell_type": "markdown",
      "metadata": {
        "id": "OwrIVGE8SkON",
        "colab_type": "text"
      },
      "source": [
        "Se puede utilizar también la función `np.where` para indicar: si se cumple una condición del elemento, devolver x, y, en caso contrario devolver y:"
      ]
    },
    {
      "cell_type": "code",
      "metadata": {
        "id": "G17NNRheSkOP",
        "colab_type": "code",
        "colab": {
          "base_uri": "https://localhost:8080/",
          "height": 90
        },
        "outputId": "42176e21-08bc-4fe9-cc65-673afb7d0bd5"
      },
      "source": [
        "np.where(z>1,1,0)"
      ],
      "execution_count": 32,
      "outputs": [
        {
          "output_type": "execute_result",
          "data": {
            "text/plain": [
              "array([[0, 0, 0, 0],\n",
              "       [1, 0, 1, 0],\n",
              "       [0, 0, 0, 0],\n",
              "       [0, 0, 0, 0]])"
            ]
          },
          "metadata": {
            "tags": []
          },
          "execution_count": 32
        }
      ]
    },
    {
      "cell_type": "markdown",
      "metadata": {
        "id": "MQl_S03eSkOT",
        "colab_type": "text"
      },
      "source": [
        "### 5. Reshaping y concatenación"
      ]
    },
    {
      "cell_type": "markdown",
      "metadata": {
        "id": "XDyOdMaxSkOU",
        "colab_type": "text"
      },
      "source": [
        "NumPy provee formas de cambiar la forma a un array. Esto es muy importante porque, aunque los arrays tienen tamaño fijo, su forma puede cambiar sin necesidad de tener que copiar a un nuevo espacio de memoria los valores (algo que podría ser muy costoso en el caso de arrays muy grandes)."
      ]
    },
    {
      "cell_type": "code",
      "metadata": {
        "id": "vc2J9QO1SkOW",
        "colab_type": "code",
        "colab": {
          "base_uri": "https://localhost:8080/",
          "height": 164
        },
        "outputId": "3f04e473-53d5-4872-bb79-d29b52f3e06b"
      },
      "source": [
        "zprima=z.reshape((8,2))\n",
        "zprima"
      ],
      "execution_count": 33,
      "outputs": [
        {
          "output_type": "execute_result",
          "data": {
            "text/plain": [
              "array([[1., 0.],\n",
              "       [0., 0.],\n",
              "       [2., 1.],\n",
              "       [3., 0.],\n",
              "       [0., 0.],\n",
              "       [1., 0.],\n",
              "       [0., 0.],\n",
              "       [0., 1.]])"
            ]
          },
          "metadata": {
            "tags": []
          },
          "execution_count": 33
        }
      ]
    },
    {
      "cell_type": "markdown",
      "metadata": {
        "id": "u5Cf7Yz4SkOZ",
        "colab_type": "text"
      },
      "source": [
        "Tenga en cuenta que las operaciones sobre arrays en NumPy generalmente devuelven una _vista_ nueva (es decir, no se hace una copia). En el ejemplo anterior, verificamos la forma de z."
      ]
    },
    {
      "cell_type": "code",
      "metadata": {
        "id": "J-6oQjfuSkOa",
        "colab_type": "code",
        "colab": {
          "base_uri": "https://localhost:8080/",
          "height": 90
        },
        "outputId": "0638793f-4aa5-409a-a080-53b3db86a3aa"
      },
      "source": [
        "z"
      ],
      "execution_count": 34,
      "outputs": [
        {
          "output_type": "execute_result",
          "data": {
            "text/plain": [
              "array([[1., 0., 0., 0.],\n",
              "       [2., 1., 3., 0.],\n",
              "       [0., 0., 1., 0.],\n",
              "       [0., 0., 0., 1.]])"
            ]
          },
          "metadata": {
            "tags": []
          },
          "execution_count": 34
        }
      ]
    },
    {
      "cell_type": "code",
      "metadata": {
        "id": "vcZzN8GpSkOf",
        "colab_type": "code",
        "colab": {
          "base_uri": "https://localhost:8080/",
          "height": 35
        },
        "outputId": "0ac54455-9e1a-4d38-e2a7-76b53dfbf11e"
      },
      "source": [
        "np.may_share_memory(z,zprima)"
      ],
      "execution_count": 35,
      "outputs": [
        {
          "output_type": "execute_result",
          "data": {
            "text/plain": [
              "True"
            ]
          },
          "metadata": {
            "tags": []
          },
          "execution_count": 35
        }
      ]
    },
    {
      "cell_type": "markdown",
      "metadata": {
        "id": "z_ZybrHfSkO5",
        "colab_type": "text"
      },
      "source": [
        "z y zprima son diferentes vistas sobre la misma zona de memoria.  Esto es muy importante desde el punto de vista de la eficiencia. "
      ]
    },
    {
      "cell_type": "markdown",
      "metadata": {
        "id": "lCi6vzfsSkO7",
        "colab_type": "text"
      },
      "source": [
        "¿Qué pasa si queremos agregar una nueva dimensión a las que tiene z? Por ejemplo, hacer reshape a (2,2,2,2)."
      ]
    },
    {
      "cell_type": "code",
      "metadata": {
        "id": "pP1d7UJESkO8",
        "colab_type": "code",
        "colab": {
          "base_uri": "https://localhost:8080/",
          "height": 237
        },
        "outputId": "0493818f-7851-4ee7-98f4-eb335505d27b"
      },
      "source": [
        "zsegunda=z.reshape((2,2,2,2))\n",
        "zsegunda"
      ],
      "execution_count": 36,
      "outputs": [
        {
          "output_type": "execute_result",
          "data": {
            "text/plain": [
              "array([[[[1., 0.],\n",
              "         [0., 0.]],\n",
              "\n",
              "        [[2., 1.],\n",
              "         [3., 0.]]],\n",
              "\n",
              "\n",
              "       [[[0., 0.],\n",
              "         [1., 0.]],\n",
              "\n",
              "        [[0., 0.],\n",
              "         [0., 1.]]]])"
            ]
          },
          "metadata": {
            "tags": []
          },
          "execution_count": 36
        }
      ]
    },
    {
      "cell_type": "markdown",
      "metadata": {
        "id": "9pjfXBYtSkPB",
        "colab_type": "text"
      },
      "source": [
        "Podemos utilizar -1 en un axis para que NumPy asegure que el número total de elementos se mantenga:"
      ]
    },
    {
      "cell_type": "code",
      "metadata": {
        "id": "d-NKechnSkPD",
        "colab_type": "code",
        "colab": {
          "base_uri": "https://localhost:8080/",
          "height": 109
        },
        "outputId": "98d54e0c-a5ad-483e-965f-c762b744e2c9"
      },
      "source": [
        "ztercera=z.reshape((2,2,-1))\n",
        "ztercera"
      ],
      "execution_count": 37,
      "outputs": [
        {
          "output_type": "execute_result",
          "data": {
            "text/plain": [
              "array([[[1., 0., 0., 0.],\n",
              "        [2., 1., 3., 0.]],\n",
              "\n",
              "       [[0., 0., 1., 0.],\n",
              "        [0., 0., 0., 1.]]])"
            ]
          },
          "metadata": {
            "tags": []
          },
          "execution_count": 37
        }
      ]
    },
    {
      "cell_type": "markdown",
      "metadata": {
        "id": "3ikt3SMKSkPI",
        "colab_type": "text"
      },
      "source": [
        "Si queremos concatenar dos arrays, usamos `np.concatenate`. Ojo: esto puede ser ineficiente, porque devuelve una copia (ya que cambia el tamaño total). Como antes, el parámetro `axis` permite especificar por qué dimensión deben \"pegarse\" los arrays. "
      ]
    },
    {
      "cell_type": "code",
      "metadata": {
        "id": "PTEWIh7sSkPJ",
        "colab_type": "code",
        "colab": {
          "base_uri": "https://localhost:8080/",
          "height": 164
        },
        "outputId": "548ab385-aa8b-4b60-d76b-6413ca3812dd"
      },
      "source": [
        "# Por defecto, se pega por axis=0, es decir por las filas\n",
        "np.concatenate((z,z))"
      ],
      "execution_count": 38,
      "outputs": [
        {
          "output_type": "execute_result",
          "data": {
            "text/plain": [
              "array([[1., 0., 0., 0.],\n",
              "       [2., 1., 3., 0.],\n",
              "       [0., 0., 1., 0.],\n",
              "       [0., 0., 0., 1.],\n",
              "       [1., 0., 0., 0.],\n",
              "       [2., 1., 3., 0.],\n",
              "       [0., 0., 1., 0.],\n",
              "       [0., 0., 0., 1.]])"
            ]
          },
          "metadata": {
            "tags": []
          },
          "execution_count": 38
        }
      ]
    },
    {
      "cell_type": "code",
      "metadata": {
        "id": "p59d6-cNSkPO",
        "colab_type": "code",
        "colab": {
          "base_uri": "https://localhost:8080/",
          "height": 90
        },
        "outputId": "855d5952-2a6e-4f22-d3a7-ac4457efbbcf"
      },
      "source": [
        "np.concatenate((z,z), axis=1)"
      ],
      "execution_count": 39,
      "outputs": [
        {
          "output_type": "execute_result",
          "data": {
            "text/plain": [
              "array([[1., 0., 0., 0., 1., 0., 0., 0.],\n",
              "       [2., 1., 3., 0., 2., 1., 3., 0.],\n",
              "       [0., 0., 1., 0., 0., 0., 1., 0.],\n",
              "       [0., 0., 0., 1., 0., 0., 0., 1.]])"
            ]
          },
          "metadata": {
            "tags": []
          },
          "execution_count": 39
        }
      ]
    },
    {
      "cell_type": "markdown",
      "metadata": {
        "id": "p5nDcyS9SkPS",
        "colab_type": "text"
      },
      "source": [
        "### 6. Álgebra lineal"
      ]
    },
    {
      "cell_type": "markdown",
      "metadata": {
        "id": "W7uwOuTuSkPT",
        "colab_type": "text"
      },
      "source": [
        "NumPy provee funciones básicas de álgebra lineal. Hasta ahora hemos visto cómo crear y manipular vectores y matrices. Veamos algunas operaciones algebraicas que podemos aplicar. \n",
        "\n",
        "Tengamos primero en cuenta que los arrays unidimensionales en Python pueden verse como matrices 1xn (es decir, con una fila y n columnas): "
      ]
    },
    {
      "cell_type": "code",
      "metadata": {
        "id": "wIGwtbJzSkPU",
        "colab_type": "code",
        "colab": {
          "base_uri": "https://localhost:8080/",
          "height": 35
        },
        "outputId": "a44cac5f-68ae-4a9d-93a2-cd8b1eae7ead"
      },
      "source": [
        "a=np.array([1,2,3,4])\n",
        "a.shape"
      ],
      "execution_count": 40,
      "outputs": [
        {
          "output_type": "execute_result",
          "data": {
            "text/plain": [
              "(4,)"
            ]
          },
          "metadata": {
            "tags": []
          },
          "execution_count": 40
        }
      ]
    },
    {
      "cell_type": "code",
      "metadata": {
        "id": "kmhGBNSKSkPa",
        "colab_type": "code",
        "colab": {
          "base_uri": "https://localhost:8080/",
          "height": 72
        },
        "outputId": "7f4345ff-8e72-489c-c41c-0204d4f1e25a"
      },
      "source": [
        "w=z[:3,:]\n",
        "w"
      ],
      "execution_count": 41,
      "outputs": [
        {
          "output_type": "execute_result",
          "data": {
            "text/plain": [
              "array([[1., 0., 0., 0.],\n",
              "       [2., 1., 3., 0.],\n",
              "       [0., 0., 1., 0.]])"
            ]
          },
          "metadata": {
            "tags": []
          },
          "execution_count": 41
        }
      ]
    },
    {
      "cell_type": "markdown",
      "metadata": {
        "id": "soQnxJC8SkPd",
        "colab_type": "text"
      },
      "source": [
        "Para sumar dos matrices, sus tamaños deben ser compatibles, o permitir hacer broadcasting. Y luego, la operación se hace elemento a elemento"
      ]
    },
    {
      "cell_type": "code",
      "metadata": {
        "id": "YgGnkyUwSkPe",
        "colab_type": "code",
        "colab": {
          "base_uri": "https://localhost:8080/",
          "height": 72
        },
        "outputId": "24934b50-03dc-4f26-ac43-7b5048c7eeb5"
      },
      "source": [
        "w+a"
      ],
      "execution_count": 42,
      "outputs": [
        {
          "output_type": "execute_result",
          "data": {
            "text/plain": [
              "array([[2., 2., 3., 4.],\n",
              "       [3., 3., 6., 4.],\n",
              "       [1., 2., 4., 4.]])"
            ]
          },
          "metadata": {
            "tags": []
          },
          "execution_count": 42
        }
      ]
    },
    {
      "cell_type": "code",
      "metadata": {
        "id": "jeRs8Ed3SkPi",
        "colab_type": "code",
        "colab": {
          "base_uri": "https://localhost:8080/",
          "height": 35
        },
        "outputId": "e5dfc2ce-425e-4360-e5f6-70437703f3d7"
      },
      "source": [
        "w.shape, a.shape, (w+a).shape"
      ],
      "execution_count": 43,
      "outputs": [
        {
          "output_type": "execute_result",
          "data": {
            "text/plain": [
              "((3, 4), (4,), (3, 4))"
            ]
          },
          "metadata": {
            "tags": []
          },
          "execution_count": 43
        }
      ]
    },
    {
      "cell_type": "code",
      "metadata": {
        "id": "0CUVEBBgSkPm",
        "colab_type": "code",
        "colab": {
          "base_uri": "https://localhost:8080/",
          "height": 35
        },
        "outputId": "afa03633-6098-43b1-dd4b-69e39f44c0c0"
      },
      "source": [
        "np.sum(w+a) #Oops.}, ¿qué pasó?"
      ],
      "execution_count": 44,
      "outputs": [
        {
          "output_type": "execute_result",
          "data": {
            "text/plain": [
              "38.0"
            ]
          },
          "metadata": {
            "tags": []
          },
          "execution_count": 44
        }
      ]
    },
    {
      "cell_type": "code",
      "metadata": {
        "id": "mox9qgFOSkPq",
        "colab_type": "code",
        "colab": {
          "base_uri": "https://localhost:8080/",
          "height": 72
        },
        "outputId": "ffd9dfa6-7e92-48e0-96c9-fcab758af2b0"
      },
      "source": [
        "#Es posible multiplicar un escalar por una matriz\n",
        "w*8"
      ],
      "execution_count": 45,
      "outputs": [
        {
          "output_type": "execute_result",
          "data": {
            "text/plain": [
              "array([[ 8.,  0.,  0.,  0.],\n",
              "       [16.,  8., 24.,  0.],\n",
              "       [ 0.,  0.,  8.,  0.]])"
            ]
          },
          "metadata": {
            "tags": []
          },
          "execution_count": 45
        }
      ]
    },
    {
      "cell_type": "markdown",
      "metadata": {
        "id": "npJgwfabSkP0",
        "colab_type": "text"
      },
      "source": [
        "Una operación muy importante es el producto  entre matrices. Dado $A(n,p)$ y $B(p,m)$, $A.B=C$, donde $C=((c_{ij}))$ and $c_{ij}=\\Sigma_{h=1}^p a_{ih}b_{hj}$"
      ]
    },
    {
      "cell_type": "code",
      "metadata": {
        "id": "PAmaeGxhSkP1",
        "colab_type": "code",
        "colab": {}
      },
      "source": [
        "# np.dot(a,w) # No funciona"
      ],
      "execution_count": 0,
      "outputs": []
    },
    {
      "cell_type": "code",
      "metadata": {
        "id": "J9R9Z_5NSkP4",
        "colab_type": "code",
        "colab": {
          "base_uri": "https://localhost:8080/",
          "height": 35
        },
        "outputId": "dba424a3-c725-4065-9f71-c5460251923c"
      },
      "source": [
        "np.dot(w,a) # funciona... pero, ¿está bien?"
      ],
      "execution_count": 47,
      "outputs": [
        {
          "output_type": "execute_result",
          "data": {
            "text/plain": [
              "array([ 1., 13.,  3.])"
            ]
          },
          "metadata": {
            "tags": []
          },
          "execution_count": 47
        }
      ]
    },
    {
      "cell_type": "markdown",
      "metadata": {
        "id": "33Mne4ttSkP7",
        "colab_type": "text"
      },
      "source": [
        "Para entender por qué ambos casos funcionan, recordemos que los array 1D de NumPy pueden _verse_ como matrices de una sola fila, pero, en realidad, NumPy es más \"inteligente\" y lo rota para que coincida con la última _axis_ de la matriz de entrada (en este caso, 4). Veamos cómo luce `a.transpose()`"
      ]
    },
    {
      "cell_type": "code",
      "metadata": {
        "id": "KpnuacIXSkP7",
        "colab_type": "code",
        "colab": {
          "base_uri": "https://localhost:8080/",
          "height": 35
        },
        "outputId": "9d6c2a28-77db-4f61-a5b6-573727b23f27"
      },
      "source": [
        "a.transpose()"
      ],
      "execution_count": 48,
      "outputs": [
        {
          "output_type": "execute_result",
          "data": {
            "text/plain": [
              "array([1, 2, 3, 4])"
            ]
          },
          "metadata": {
            "tags": []
          },
          "execution_count": 48
        }
      ]
    },
    {
      "cell_type": "markdown",
      "metadata": {
        "id": "Uj3M03QuSkQA",
        "colab_type": "text"
      },
      "source": [
        "Tal vez esperábamos un \"array columna\", pero tal concepto no existe. Debemos para eso aumentar una dimensión, para tener una matrix (4,1). El operador `np.newaxis` nos permite hacerlo:"
      ]
    },
    {
      "cell_type": "code",
      "metadata": {
        "id": "poCDqRilSkQB",
        "colab_type": "code",
        "colab": {
          "base_uri": "https://localhost:8080/",
          "height": 90
        },
        "outputId": "7edf8085-328b-437b-cf79-3fde1fefffe1"
      },
      "source": [
        "a[:,np.newaxis]"
      ],
      "execution_count": 49,
      "outputs": [
        {
          "output_type": "execute_result",
          "data": {
            "text/plain": [
              "array([[1],\n",
              "       [2],\n",
              "       [3],\n",
              "       [4]])"
            ]
          },
          "metadata": {
            "tags": []
          },
          "execution_count": 49
        }
      ]
    },
    {
      "cell_type": "markdown",
      "metadata": {
        "id": "9hCo1XVRSkQE",
        "colab_type": "text"
      },
      "source": [
        "Observemos que, si la nueva dimensión la creamos en las filas, en realidad obtenemos una matrix de dimensión (1,4) (que no es lo mismo que el array original, aunque lo parezca)"
      ]
    },
    {
      "cell_type": "code",
      "metadata": {
        "id": "MZ0bhYxJSkQF",
        "colab_type": "code",
        "colab": {
          "base_uri": "https://localhost:8080/",
          "height": 35
        },
        "outputId": "a5df2c69-903c-43ca-e16b-bd4ea26ff443"
      },
      "source": [
        "a[np.newaxis,:].shape,a[np.newaxis,:]\n"
      ],
      "execution_count": 50,
      "outputs": [
        {
          "output_type": "execute_result",
          "data": {
            "text/plain": [
              "((1, 4), array([[1, 2, 3, 4]]))"
            ]
          },
          "metadata": {
            "tags": []
          },
          "execution_count": 50
        }
      ]
    },
    {
      "cell_type": "markdown",
      "metadata": {
        "id": "gs6zej3ISkQJ",
        "colab_type": "text"
      },
      "source": [
        "Si multiplicamos dos vectores, obtenemos simplemente su producto interno:"
      ]
    },
    {
      "cell_type": "code",
      "metadata": {
        "id": "LeEgrb_ZSkQK",
        "colab_type": "code",
        "colab": {
          "base_uri": "https://localhost:8080/",
          "height": 35
        },
        "outputId": "fbc9e274-d022-4f33-c9d8-acf94506c81f"
      },
      "source": [
        "a=[1,2,3,4]\n",
        "b=[-1,1,2,1]\n",
        "np.dot(a,b)"
      ],
      "execution_count": 51,
      "outputs": [
        {
          "output_type": "execute_result",
          "data": {
            "text/plain": [
              "11"
            ]
          },
          "metadata": {
            "tags": []
          },
          "execution_count": 51
        }
      ]
    },
    {
      "cell_type": "markdown",
      "metadata": {
        "id": "gL0mDUglSkQN",
        "colab_type": "text"
      },
      "source": [
        "### 7. Polinomios"
      ]
    },
    {
      "cell_type": "markdown",
      "metadata": {
        "id": "dqgXAUddSkQO",
        "colab_type": "text"
      },
      "source": [
        "NumPy permite trabajar directamente con polinomios. Un polinomio puede definirse como un vector y, por ejemplo, obtener su raíces utilizando el método `np.roots`. Por ejemplo, para obtener las raices (complejas) del polinomio $x^2 + 1$. "
      ]
    },
    {
      "cell_type": "code",
      "metadata": {
        "id": "w-k96aipSkQO",
        "colab_type": "code",
        "colab": {
          "base_uri": "https://localhost:8080/",
          "height": 35
        },
        "outputId": "53456e50-adca-454b-8827-0db938de4c96"
      },
      "source": [
        "np.roots([1,0,1])"
      ],
      "execution_count": 52,
      "outputs": [
        {
          "output_type": "execute_result",
          "data": {
            "text/plain": [
              "array([-0.+1.j,  0.-1.j])"
            ]
          },
          "metadata": {
            "tags": []
          },
          "execution_count": 52
        }
      ]
    },
    {
      "cell_type": "markdown",
      "metadata": {
        "id": "fFlN6f-ySkQT",
        "colab_type": "text"
      },
      "source": [
        "A la inversa, podemos obtener, a partir de las raíces polinomiales, los coeficientes del polinomio"
      ]
    },
    {
      "cell_type": "code",
      "metadata": {
        "id": "Nzse3p_FSkQU",
        "colab_type": "code",
        "colab": {
          "base_uri": "https://localhost:8080/",
          "height": 35
        },
        "outputId": "cb498157-a675-4b7e-9858-d973d39d74ce"
      },
      "source": [
        "np.poly([0,2,4])"
      ],
      "execution_count": 53,
      "outputs": [
        {
          "output_type": "execute_result",
          "data": {
            "text/plain": [
              "array([ 1., -6.,  8.,  0.])"
            ]
          },
          "metadata": {
            "tags": []
          },
          "execution_count": 53
        }
      ]
    },
    {
      "cell_type": "markdown",
      "metadata": {
        "id": "PGrSZOtpSkQZ",
        "colab_type": "text"
      },
      "source": [
        "En este caso, el resultado es $x^3 -6x^2 + 8x$"
      ]
    },
    {
      "cell_type": "markdown",
      "metadata": {
        "id": "PaB90xhlSkQZ",
        "colab_type": "text"
      },
      "source": [
        "Podemos también evaluar un polinomio en un punto dado. Verifiquemos que, efectivamente, 2 es una raíz del polinomio obtenido en el paso anterior."
      ]
    },
    {
      "cell_type": "code",
      "metadata": {
        "id": "U6v1AuBeSkQa",
        "colab_type": "code",
        "colab": {
          "base_uri": "https://localhost:8080/",
          "height": 35
        },
        "outputId": "9504928a-cf69-4478-e784-981d60c533fd"
      },
      "source": [
        "np.polyval([1,-6,8,0], 2)"
      ],
      "execution_count": 54,
      "outputs": [
        {
          "output_type": "execute_result",
          "data": {
            "text/plain": [
              "0"
            ]
          },
          "metadata": {
            "tags": []
          },
          "execution_count": 54
        }
      ]
    },
    {
      "cell_type": "markdown",
      "metadata": {
        "id": "448sixKWSkQc",
        "colab_type": "text"
      },
      "source": [
        "Solo utilizando NumPy es posible ajustar un polinomio de cualquier orden espeficiado a un conjunto de valores dados (utilizando el método de mínimos cuadrados). Para ello, utilizamos el método `np.polyfit`, especificando las coordenadas x e y de cada punto a interpolar. Por ejemplo, para interpolar los puntos (0,0), (1,1.2), (2.1,4.1) con un polinomio de orden 2:"
      ]
    },
    {
      "cell_type": "code",
      "metadata": {
        "id": "kk1kJlwdSkQd",
        "colab_type": "code",
        "colab": {
          "base_uri": "https://localhost:8080/",
          "height": 35
        },
        "outputId": "f61df19d-ec84-4e69-bcaf-501307265493"
      },
      "source": [
        "fit=np.polyfit([0,1,2.1],[0,1.2,4.1],2)\n",
        "print(fit)"
      ],
      "execution_count": 55,
      "outputs": [
        {
          "output_type": "stream",
          "text": [
            "[ 6.83982684e-01  5.16017316e-01 -5.12790050e-16]\n"
          ],
          "name": "stdout"
        }
      ]
    },
    {
      "cell_type": "markdown",
      "metadata": {
        "id": "LlTlmWEiSkQh",
        "colab_type": "text"
      },
      "source": [
        "### 8. Números aleatorios"
      ]
    },
    {
      "cell_type": "markdown",
      "metadata": {
        "id": "Hzf3IYjFSkQi",
        "colab_type": "text"
      },
      "source": [
        "NumPy incluye rutinas para la generación de números pseudoaleatorios, que se generan en forma determinista a partir de una semilla, pero que tienen propiedades similares a una secuencia realmente aleatoria. El módulo `random` permite acceder a las rutinas adecuadas. \n",
        "\n",
        "Lo primero que debemos hacer es setear la semilla (al menos, si queremos que el proceso sea reproducible)"
      ]
    },
    {
      "cell_type": "code",
      "metadata": {
        "id": "nacSuwYGSkQj",
        "colab_type": "code",
        "colab": {}
      },
      "source": [
        "np.random.seed(42)"
      ],
      "execution_count": 0,
      "outputs": []
    },
    {
      "cell_type": "markdown",
      "metadata": {
        "id": "d5wg8vRrSkQm",
        "colab_type": "text"
      },
      "source": [
        "Con esto, podemos, por ejemplo, generar una array de números aleatorios con distribución U\\[0,1) (uniforme entre 0 y 1), o una matriz,... o un escalar"
      ]
    },
    {
      "cell_type": "code",
      "metadata": {
        "id": "pnsYDzO5SkQn",
        "colab_type": "code",
        "colab": {
          "base_uri": "https://localhost:8080/",
          "height": 35
        },
        "outputId": "a7b570b2-a41f-4689-87fc-d6ad04422858"
      },
      "source": [
        "np.random.rand(5)"
      ],
      "execution_count": 57,
      "outputs": [
        {
          "output_type": "execute_result",
          "data": {
            "text/plain": [
              "array([0.37454012, 0.95071431, 0.73199394, 0.59865848, 0.15601864])"
            ]
          },
          "metadata": {
            "tags": []
          },
          "execution_count": 57
        }
      ]
    },
    {
      "cell_type": "code",
      "metadata": {
        "id": "S8V6u5XrSkQq",
        "colab_type": "code",
        "colab": {
          "base_uri": "https://localhost:8080/",
          "height": 54
        },
        "outputId": "52b0736a-ead3-48b5-f582-3640a310f1de"
      },
      "source": [
        "np.random.rand(2,2)\n"
      ],
      "execution_count": 58,
      "outputs": [
        {
          "output_type": "execute_result",
          "data": {
            "text/plain": [
              "array([[0.15599452, 0.05808361],\n",
              "       [0.86617615, 0.60111501]])"
            ]
          },
          "metadata": {
            "tags": []
          },
          "execution_count": 58
        }
      ]
    },
    {
      "cell_type": "code",
      "metadata": {
        "id": "d28upMatSkQt",
        "colab_type": "code",
        "colab": {
          "base_uri": "https://localhost:8080/",
          "height": 35
        },
        "outputId": "15e3e57f-36af-4627-9236-1552bbddd3ff"
      },
      "source": [
        "np.random.rand()"
      ],
      "execution_count": 59,
      "outputs": [
        {
          "output_type": "execute_result",
          "data": {
            "text/plain": [
              "0.7080725777960455"
            ]
          },
          "metadata": {
            "tags": []
          },
          "execution_count": 59
        }
      ]
    },
    {
      "cell_type": "markdown",
      "metadata": {
        "id": "5ypLhXgUSkQw",
        "colab_type": "text"
      },
      "source": [
        "Si queremos especificar el rango, usamos `randint` (con mínimo y máximo del rango como argumentos)"
      ]
    },
    {
      "cell_type": "code",
      "metadata": {
        "id": "8L3SZ_FISkQy",
        "colab_type": "code",
        "colab": {
          "base_uri": "https://localhost:8080/",
          "height": 35
        },
        "outputId": "f46fa316-ccae-42fe-922c-d7769b28b729"
      },
      "source": [
        "np.random.randint(5)"
      ],
      "execution_count": 60,
      "outputs": [
        {
          "output_type": "execute_result",
          "data": {
            "text/plain": [
              "4"
            ]
          },
          "metadata": {
            "tags": []
          },
          "execution_count": 60
        }
      ]
    },
    {
      "cell_type": "markdown",
      "metadata": {
        "id": "gGXaZ06vSkQ4",
        "colab_type": "text"
      },
      "source": [
        "Si queremos especificar otras distribuciones, en el módulo hay disponibles muchos generadores diferentes. Por ejemplo: "
      ]
    },
    {
      "cell_type": "code",
      "metadata": {
        "id": "ylmQU2ffSkQ6",
        "colab_type": "code",
        "colab": {
          "base_uri": "https://localhost:8080/",
          "height": 35
        },
        "outputId": "3fa9c309-505f-468f-cb1c-f9ade49f051a"
      },
      "source": [
        "np.random.normal(0, 1)"
      ],
      "execution_count": 61,
      "outputs": [
        {
          "output_type": "execute_result",
          "data": {
            "text/plain": [
              "-0.580878134023515"
            ]
          },
          "metadata": {
            "tags": []
          },
          "execution_count": 61
        }
      ]
    },
    {
      "cell_type": "markdown",
      "metadata": {
        "id": "IBKT_o4nSkQ-",
        "colab_type": "text"
      },
      "source": [
        "Genera un número extraído de una distribución gaussiana con media 0 y desviación estándar 1.\n",
        "\n",
        "Si queremos más de un número, utilizamos el parámetro `size`:"
      ]
    },
    {
      "cell_type": "code",
      "metadata": {
        "id": "p8depDZzSkQ_",
        "colab_type": "code",
        "colab": {
          "base_uri": "https://localhost:8080/",
          "height": 54
        },
        "outputId": "d22f4644-4886-4a5f-e87d-05c2928d23b0"
      },
      "source": [
        "np.random.normal(0,1,size=10)"
      ],
      "execution_count": 62,
      "outputs": [
        {
          "output_type": "execute_result",
          "data": {
            "text/plain": [
              "array([-0.52516981, -0.57138017, -0.92408284, -2.61254901,  0.95036968,\n",
              "        0.81644508, -1.523876  , -0.42804606, -0.74240684, -0.7033438 ])"
            ]
          },
          "metadata": {
            "tags": []
          },
          "execution_count": 62
        }
      ]
    },
    {
      "cell_type": "markdown",
      "metadata": {
        "id": "yLhCithiSkRC",
        "colab_type": "text"
      },
      "source": [
        "Una función interesante del módulo es `shuffle`, que permite permutar aleatoriamente una lista"
      ]
    },
    {
      "cell_type": "markdown",
      "metadata": {
        "id": "PGYJYMkHSkRD",
        "colab_type": "text"
      },
      "source": [
        "### 9. Màs NumPy"
      ]
    },
    {
      "cell_type": "markdown",
      "metadata": {
        "id": "XAo6pB6FSkRF",
        "colab_type": "text"
      },
      "source": [
        "NumPy provee muchas funciones para álgebra lineal (`np.linalg`), ordenamiento y búsqueda (`np.sort`), estadísticas básicas, entre muchas otras. Todas utilizan los arrays aquí presentados, y la misma lógica de utilizar funciones universales como las que se presentaron.  Es sin duda la biblioteca más importante del ecosistema de Python para ciencia de datos, y entender sus fundamentos facilita muchìsimo el trabajo posterior, especialmente para las técnicas de aprendizaje automático. La biblioteca SciPy se apoya en NumPy para proveer funciones de computación científica más complicadas. Otras bibliotecas, Matplotlib, Pandas, Scikit-learn, Tensorflow, Keras, también utilizan en NumPy para sus computaciones básicas. "
      ]
    }
  ]
}