{
  "cells": [
    {
      "cell_type": "markdown",
      "id": "1ea1e8a7",
      "metadata": {
        "id": "1ea1e8a7"
      },
      "source": [
        "### Exercise 1\n",
        "\n",
        "\n",
        "$$ Y = \\sum_{i=1}^{i=n} X_i \\ , \\;\\; X_i \\sim Bernoulli(1/2) $$\n",
        "$$ E(Y) = \\sum_{i=1}^{i=n} E(X_i) = n/2 $$\n",
        "\n",
        "$$ Z = c (Y - (n - Y)) = c(2Y -n) $$\n",
        "\n",
        "$$ E(Z) = c (2E(Y) -n) = 2cE(Y) - cn = cn - cn = 0$$\n",
        "\n"
      ]
    },
    {
      "cell_type": "code",
      "execution_count": 1,
      "id": "3cd8bd48",
      "metadata": {
        "colab": {
          "base_uri": "https://localhost:8080/"
        },
        "id": "3cd8bd48",
        "outputId": "0e0d13b4-751d-466f-fc87-e34e376a870d"
      },
      "outputs": [
        {
          "output_type": "stream",
          "name": "stdout",
          "text": [
            "0.03125\n"
          ]
        }
      ],
      "source": [
        "import numpy as np\n",
        "from functools import reduce\n",
        "\n",
        "np.random.seed(42)\n",
        "# Valor inicial de de c\n",
        "c=2\n",
        "\n",
        "# Genero una muestra de tamaño n de variables de Bernoulli(0.5)\n",
        "muestra = np.random.binomial(1,0.5,1000)\n",
        "\n",
        "\n",
        "# dup_or_halve\n",
        "def dup_or_halve(c,x):\n",
        "    if (x==1):\n",
        "        return 2*c\n",
        "    else:\n",
        "        return c/2\n",
        "    \n",
        "res=reduce(dup_or_halve,muestra,c)\n",
        "print (res)"
      ]
    },
    {
      "cell_type": "markdown",
      "id": "a8021268-dfa6-4ab4-bde1-d97f97b9f3db",
      "metadata": {
        "id": "a8021268-dfa6-4ab4-bde1-d97f97b9f3db"
      },
      "source": [
        "### Exercise 2\n",
        "\n",
        "$(\\Rightarrow)$\n",
        "\n",
        "\n",
        "If $Var(X)=0$ then\n",
        "\n",
        "$$ E[(X - \\mu)^2] = \\int (x - \\mu)^2 dF_X(x) = 0 $$\n",
        "\n",
        "If $X$ is discrete, then \n",
        "\n",
        "$$ \\sum_x (X  - \\mu)^2 P(X=x) = 0 $$\n",
        "\n",
        "If $P(X=x) \\neq 0$ then $X=\\mu$\n",
        "\n",
        "If $X$ is continuos, then\n",
        "\n",
        "$$ \\int (x-\\mu)^2 f(x)d(x) = 0$$\n",
        "\n",
        "If $f(x)\\neq 0$ then  $(x - \\mu)^2 = 0$, so $X=\\mu$\n",
        "\n",
        "$(\\Leftarrow)$\n",
        "\n",
        "There is a constant such that $P(X=c) = 1$. \n",
        "\n",
        "$$Var(X) = E(X^2) - \\mu^2 = c^2 - c^2 = 0 $$ "
      ]
    },
    {
      "cell_type": "markdown",
      "id": "f8001263",
      "metadata": {
        "id": "f8001263"
      },
      "source": [
        "### Excercise 3 (Media y varianza de máximo de n uniformes)\n",
        "\n",
        "Dado que cada $X_i \\sim \\text{Uniform}(0,1)$\n",
        "\n",
        "$$ F_{Y_n}(x) = P(Y_n \\leq x ) = P(X_1 \\leq x)P(X_2 \\leq x)\\ldots P(X_n \\leq x)  = x^n$$\n",
        "\n",
        "\n",
        "$$ E(Y_n) = \\int_0^1 x dF_X(x) = n \\int_0^1  xx^{n-1}dx = n \\int_0^1 x^n = \\frac{n}{n+1} $$\n",
        " "
      ]
    },
    {
      "cell_type": "code",
      "execution_count": 2,
      "id": "fac34f1c",
      "metadata": {
        "colab": {
          "base_uri": "https://localhost:8080/"
        },
        "id": "fac34f1c",
        "outputId": "c413d5ed-1d5a-4097-bb47-380adb97dbfa"
      },
      "outputs": [
        {
          "output_type": "execute_result",
          "data": {
            "text/plain": [
              "0.9901329898955256"
            ]
          },
          "metadata": {},
          "execution_count": 2
        }
      ],
      "source": [
        "# Genero una muestra de tamaño n de variables de Uniform(0,1)\n",
        "\n",
        "s=0\n",
        "pruebas=100000\n",
        "\n",
        "for i in range(pruebas):\n",
        "    muestra = np.random.uniform(0,1,100)\n",
        "    s +=np.amax(muestra)\n",
        "\n",
        "s/pruebas\n",
        "\n"
      ]
    },
    {
      "cell_type": "markdown",
      "id": "0fe82d3d-145a-4907-b01d-896d6ca79fe2",
      "metadata": {
        "id": "0fe82d3d-145a-4907-b01d-896d6ca79fe2"
      },
      "source": [
        "### Exercise 4 (Media y varianza de un random walk)\n",
        "\n",
        "$$ E(Y_n) = E(\\sum_{i=1}^{n} X_i )= \\sum E(X_i)$$\n",
        "\n",
        "$$ E(X_i) = (1 - p) - p = 1 -2p $$\n",
        "\n",
        "$$ E(Y_n) = n(1-2p) $$\n",
        "\n",
        "$$ Var(X_i) = E(X_i^2) - \\mu^2 = 1 - \\mu^2 =  1 - (1- 2p)^2 = 4p(1 - p) $$\n",
        "\n",
        "$$ Var(Y_n) = 4np(1-p) $$\n"
      ]
    },
    {
      "cell_type": "code",
      "execution_count": 3,
      "id": "3de44be1-3d37-43c0-b82f-620bced5955a",
      "metadata": {
        "colab": {
          "base_uri": "https://localhost:8080/"
        },
        "id": "3de44be1-3d37-43c0-b82f-620bced5955a",
        "outputId": "6b560773-0cfb-475f-da56-d0cfc923c7d9"
      },
      "outputs": [
        {
          "output_type": "stream",
          "name": "stdout",
          "text": [
            "La media calculada es: 4000.0\n",
            "La varianza calculada es: 8400.0\n",
            "4002.0092\n",
            "8248.83591536\n"
          ]
        }
      ],
      "source": [
        "# Muestra de n bernoulli\n",
        "\n",
        "n=10000\n",
        "p=0.3\n",
        "\n",
        "print(\"La media calculada es:\", n*(1-2*p))\n",
        "print(\"La varianza calculada es:\", 4*n*p*(1-p))\n",
        "\n",
        "# left_or_right\n",
        "def left_or_right(c,x):\n",
        "    if (x==1):\n",
        "        return c-1\n",
        "    else:\n",
        "        return c+1\n",
        "    \n",
        "\n",
        "def experimento(veces):\n",
        "    resultados = np.zeros(veces)\n",
        "    for i in range(veces): \n",
        "        muestra = np.random.binomial(1,p,10000)\n",
        "        res=reduce(left_or_right,muestra,0)\n",
        "        resultados[i]=res\n",
        "        \n",
        "    print(np.mean(resultados))\n",
        "    print(np.var(resultados))\n",
        "experimento(10000)\n",
        "        \n",
        "    "
      ]
    },
    {
      "cell_type": "markdown",
      "source": [
        "### Exercise 5 (Distribución Geométrica)\n",
        "\n",
        "$$ E(X) = \\sum_{x=1}^\\infty xP(X=x) = \\sum_{x=1}^\\infty p(1-p)^{x-1} xP(X=x)$$ \n",
        "\n",
        "\n",
        "Hacemos $r=1-p$ para facilitar las cuentas\n",
        "\n",
        "$$ E(X) = (1-r)  \\sum_{x=1}^\\infty xr^{x-1} = (1-r)  \\sum_{x=1}^\\infty \\frac{d}{dr}r^{x} =  (1-r) \\frac{d}{dr}  \\sum_{x=1}^\\infty r^{x} = (1-r)  \\frac{1}{(1-r)^2} = \\frac{1}{1-r} = \\frac{1}{p}  $$ \n",
        "\n",
        "\n",
        "(\n",
        "Usamos la propiedad siguiente: \n",
        "\n",
        "$$\\sum_{x=1}^\\infty r^{x} = \\frac{1}{1-r}$$\n",
        ")\n",
        "\n",
        "\n",
        "La varianza es un poco más complicada, la solución está [aquí](https://math.stackexchange.com/questions/1299465/proof-variance-of-geometric-distribution), y vale $(1-p)/p^2$\n",
        "\n"
      ],
      "metadata": {
        "id": "8bmDudvrT5xj"
      },
      "id": "8bmDudvrT5xj"
    },
    {
      "cell_type": "code",
      "source": [
        "# Muestra de n Geométricas\n",
        "p=0.3\n",
        "\n",
        "# Calculadas\n",
        "print ('Media calculada: ', 1/p)\n",
        "print ('Varianza calculada, ', (1-p)/p**2 )\n",
        "\n",
        "muestra = np.random.geometric(p,10000)\n",
        "print(np.mean(muestra))\n",
        "print(np.var(muestra))\n"
      ],
      "metadata": {
        "colab": {
          "base_uri": "https://localhost:8080/"
        },
        "id": "q2g5eLDhXUA3",
        "outputId": "cabe7945-13a8-4c89-8bb2-43ea8efbde9e"
      },
      "id": "q2g5eLDhXUA3",
      "execution_count": 13,
      "outputs": [
        {
          "output_type": "stream",
          "name": "stdout",
          "text": [
            "Media calculada:  3.3333333333333335\n",
            "Varianza calculada,  7.777777777777778\n",
            "3.3405\n",
            "7.77015975\n"
          ]
        }
      ]
    },
    {
      "cell_type": "markdown",
      "source": [
        "### Exercise 6 (Demostración de la Law of the lazy stat para el caso discreo)\n",
        "\n",
        "[Wikipedia](https://en.wikipedia.org/wiki/Law_of_the_unconscious_statistician)"
      ],
      "metadata": {
        "id": "eN-jIRx6bDaa"
      },
      "id": "eN-jIRx6bDaa"
    },
    {
      "cell_type": "markdown",
      "source": [
        "### Exercise 9 (Computer Experiment)\n",
        "\n"
      ],
      "metadata": {
        "id": "XcIj4MkJbhdc"
      },
      "id": "XcIj4MkJbhdc"
    },
    {
      "cell_type": "code",
      "source": [
        "import matplotlib.pyplot as plt\n",
        "\n",
        "def nnormal(n):\n",
        "  muestra = np.random.normal(0,1,n)\n",
        "  return np.mean(muestra)\n",
        "\n",
        "def ncauchy(n):\n",
        "  muestra = np.random.standard_cauchy(n)\n",
        "  return np.mean(muestra)\n",
        "\n",
        "\n",
        "x = np.arange(1,1000)\n",
        "y = np.vectorize(nnormal)(x)\n",
        "y1 = np.vectorize(ncauchy)(x)\n",
        "\n",
        "\n",
        "plt.plot(x,y)\n"
      ],
      "metadata": {
        "id": "bdEBIVsZblXA",
        "outputId": "55a72b6c-be76-4055-bdc0-17172616488f",
        "colab": {
          "base_uri": "https://localhost:8080/",
          "height": 282
        }
      },
      "id": "bdEBIVsZblXA",
      "execution_count": 22,
      "outputs": [
        {
          "output_type": "execute_result",
          "data": {
            "text/plain": [
              "[<matplotlib.lines.Line2D at 0x7fa35473d690>]"
            ]
          },
          "metadata": {},
          "execution_count": 22
        },
        {
          "output_type": "display_data",
          "data": {
            "image/png": "[encoded data removed]",
            "text/plain": [
              "<Figure size 432x288 with 1 Axes>"
            ]
          },
          "metadata": {
            "needs_background": "light"
          }
        }
      ]
    },
    {
      "cell_type": "code",
      "source": [
        "plt.plot(x,y1)\n"
      ],
      "metadata": {
        "id": "IiF7Z1m4eecK",
        "outputId": "2b8af78b-a117-4d01-fcda-7db12f0552d1",
        "colab": {
          "base_uri": "https://localhost:8080/",
          "height": 282
        }
      },
      "id": "IiF7Z1m4eecK",
      "execution_count": 21,
      "outputs": [
        {
          "output_type": "execute_result",
          "data": {
            "text/plain": [
              "[<matplotlib.lines.Line2D at 0x7fa35474c2d0>]"
            ]
          },
          "metadata": {},
          "execution_count": 21
        },
        {
          "output_type": "display_data",
          "data": {
            "image/png": "[encoded data removed]",
            "text/plain": [
              "<Figure size 432x288 with 1 Axes>"
            ]
          },
          "metadata": {
            "needs_background": "light"
          }
        }
      ]
    }
  ],
  "metadata": {
    "kernelspec": {
      "display_name": "Python 3",
      "language": "python",
      "name": "python3"
    },
    "language_info": {
      "codemirror_mode": {
        "name": "ipython",
        "version": 3
      },
      "file_extension": ".py",
      "mimetype": "text/x-python",
      "name": "python",
      "nbconvert_exporter": "python",
      "pygments_lexer": "ipython3",
      "version": "3.7.4"
    },
    "colab": {
      "name": "All of Statistics - Chapter 4.ipynb",
      "provenance": []
    }
  },
  "nbformat": 4,
  "nbformat_minor": 5
}