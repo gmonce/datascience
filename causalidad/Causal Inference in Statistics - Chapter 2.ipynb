{
  "cells": [
    {
      "cell_type": "markdown",
      "id": "5ef96776-aadb-489b-8dc8-1d22e9866123",
      "metadata": {
        "id": "5ef96776-aadb-489b-8dc8-1d22e9866123"
      },
      "source": [
        "# Causal Inference in Statistics \n",
        "(Pearl, Glymour, Jewell)\n",
        "\n"
      ]
    },
    {
      "cell_type": "markdown",
      "id": "2ca0a01f-ed05-4ad5-a766-47bb29bb70d7",
      "metadata": {
        "id": "2ca0a01f-ed05-4ad5-a766-47bb29bb70d7"
      },
      "source": [
        "## **Chapter 2 - Graphical Models and Their Applications**"
      ]
    },
    {
      "cell_type": "markdown",
      "source": [
        "**Rule 1 (Conditional  Independence in Chains)**: Two variables, $X$ and $Y$, are conditionally independent given $Z$, if there is only one unidirectional path between $X$ and $Y$ and $Z$ is any set of variables that intercepts that path. \n",
        "\n",
        "**Rule 2 (Conditional Independence in Forks)**: If a variable $X$ is a common cause of variables $Y$ and $Z$, and there is only one path between $Y$ and $Z$, then $Y$ and $Z$ are independent conditional on $X$\n",
        "\n",
        "**Rule 3 (Conditional Independnce in Colliders)**: If a variable $Z$ is the collision node between two variables $X$ and $Y$, and there is only one path between $X$ and $Y$, then $X$ and $Y$ are unconditionally independent but are dependent conditional on $Z$ and any descendant of $Z$. "
      ],
      "metadata": {
        "id": "uqIbixY0jrUN"
      },
      "id": "uqIbixY0jrUN"
    },
    {
      "cell_type": "markdown",
      "id": "549ba21b-c910-4ea8-a3fb-b90173c00431",
      "metadata": {
        "id": "549ba21b-c910-4ea8-a3fb-b90173c00431"
      },
      "source": [
        "### **2.1 Connecting Models to Data**\n",
        "\n",
        "\n",
        "\n",
        "\n",
        "\n"
      ]
    },
    {
      "cell_type": "markdown",
      "source": [
        "### **2.2 Chains and Forks**\n"
      ],
      "metadata": {
        "id": "bUxufEQRPfoF"
      },
      "id": "bUxufEQRPfoF"
    },
    {
      "cell_type": "markdown",
      "source": [
        "### **2.3 Colliders**\n"
      ],
      "metadata": {
        "id": "5qiuiQS8Ps5J"
      },
      "id": "5qiuiQS8Ps5J"
    },
    {
      "cell_type": "markdown",
      "source": [
        "#### **(*) Study question 2.3.1**\n",
        "_(a) List all pairs of variables in Figure 2.5 that are independent conditional on the set $Z={R,V}$._\n",
        "\n",
        "\n",
        "<img src=\"https://github.com/gmonce/datascience/blob/master/causalidad/img/figure_2_5.png?raw=1\" alt=\"Drawing\" width=\"300\"/>\n",
        "\n",
        "\n",
        "$\\langle X,S \\rangle$  : The $X \\to R \\to S$ chain is the only unidirectional path between  $X$ and  $S$, and  $R \\in Z$ (Rule 1)\n",
        "\n",
        "$\\langle X,T \\rangle$: same case as before\n",
        "\n",
        "$\\langle U,Y \\rangle$: there is only one path between U and Y,  V is a common cause of U and Y, and $V \\in Z$ (Rule 2)\n",
        "\n",
        "$\\langle T,Y \\rangle$: same case as before\n",
        "\n",
        "$\\langle S,U \\rangle$: there is only one path between $S$ and $U$, $Y$ is a collider, and $T \\notin Z$ (Rule 3)\n",
        "\n",
        "All the cases where there are  no chains, no common causes, and they are not conditioned on colliders or descendants of colliders, are independent. For example: $\\langle X,Y \\rangle$\n",
        "___\n",
        "\n",
        "_(b) For each pair of nonadjacent variables in Figure 2.5, give a set of variables that, when conditioned on, renders that pair independent._\n",
        "\n",
        "| Pair of Variables | Conditioned on      | Cause |\n",
        "| :---- | :-------: | :------|\n",
        "| $\\langle X,S \\rangle$ | $\\{R\\}$ | Chain Rule |    \n",
        "| $\\langle X,T \\rangle$ | $\\{R\\}$ | Chain Rule |    \n",
        "| $\\langle X,U \\rangle$ | $∅$ |  |    \n",
        "| $\\langle X,V \\rangle$ | $∅$ |  |    \n",
        "| $\\langle X,Y \\rangle$ | $∅$ |  |    \n",
        "| $\\langle R,T \\rangle$ | $\\{S\\}$ | Chain Rule |    \n",
        "| $\\langle R,U \\rangle$ | $∅$ |  |    \n",
        "| $\\langle R,V \\rangle$ | $∅$ |  |    \n",
        "| $\\langle R,Y \\rangle$ | $∅$ |  |    \n",
        "| $\\langle S,U \\rangle$ | $∅$ | Collider Rule |    \n",
        "| $\\langle S,V \\rangle$ | $∅$ |  |    \n",
        "| $\\langle S,Y \\rangle$ | $∅$ |  |    \n",
        "| $\\langle T,V \\rangle$ | $\\{U\\}$ | Chain Rule |    \n",
        "| $\\langle T,Y \\rangle$ | $\\{V\\}$ | Fork Rule |    \n",
        "| $\\langle U,Y \\rangle$ | $\\{V\\}$ | Fork Rule |    \n",
        "\n",
        "___\n",
        "\n",
        "_(c) List all pairs of variables in Figure 2.6 that are independent conditional on the set $Z= \\{R,P\\}$._\n",
        "\n",
        "<img src=\"https://github.com/gmonce/datascience/blob/master/causalidad/img/figure_2_6.png?raw=1\" alt=\"Drawing\" width=\"300\"/>\n",
        "\n",
        "\n",
        "$\\langle X,S \\rangle$  : The $X \\to R \\to S$ chain is the only unidirectional path between  $X$ and  $S$, and  $R \\in Z$ (Rule 1)\n",
        "\n",
        "$\\langle X,T \\rangle$: same case as before\n",
        "\n",
        "$\\langle X,P \\rangle$: same case as before\n",
        "\n",
        "$\\langle U,Y \\rangle$: there is only one path between U and Y,  V is a common cause of U and Y, and $V \\in Z$ (Rule 2)\n",
        "\n",
        "$\\langle T,Y \\rangle$: same case as before\n",
        "\n",
        "All the cases where there are  no chains, no common causes, and they are not conditioned on colliders or descendants of colliders, are independent. For example: $\\langle X,Y \\rangle$\n",
        "___\n",
        "\n",
        "_(d) For each pair of nonadjacent variables in Figure 2.6, give a set of variables taht, when conditioned on, renders that pair independent_ \n",
        "\n",
        "| Pair of Variables | Conditioned on      | Cause |\n",
        "| :---- | :-------: | :------|\n",
        "| $\\langle X,S \\rangle$ | $\\{R\\}$ | Chain Rule |    \n",
        "| $\\langle X,T \\rangle$ | $\\{R\\}$ | Chain Rule |    \n",
        "| $\\langle X,U \\rangle$ | $∅$ |  |    \n",
        "| $\\langle X,V \\rangle$ | $∅$ |  |    \n",
        "| $\\langle X,Y \\rangle$ | $∅$ |  |    \n",
        "| $\\langle X,P \\rangle$ | $\\{R\\}$ | Chain Rule |    \n",
        "| $\\langle R,T \\rangle$ | $\\{S\\}$ | Chain Rule |    \n",
        "| $\\langle R,P \\rangle$ | $\\{S\\}$ | Chain Rule |    \n",
        "| $\\langle R,U \\rangle$ | $∅$ |  |    \n",
        "| $\\langle R,V \\rangle$ | $∅$ |  |    \n",
        "| $\\langle R,Y \\rangle$ | $∅$ |  |    \n",
        "| $\\langle S,U \\rangle$ | $∅$ | Collider Rule |    \n",
        "| $\\langle S,P \\rangle$ | $\\{T\\}$ | Chain Rule |    \n",
        "| $\\langle S,V \\rangle$ | $∅$ |  |    \n",
        "| $\\langle S,Y \\rangle$ | $∅$ |  |    \n",
        "| $\\langle P,U \\rangle$ | $\\{T\\}$ | Chain Rule |    \n",
        "| $\\langle P,V \\rangle$ | $\\{T\\}$ | Chain Rule |    \n",
        "| $\\langle P,Y \\rangle$ | $∅$ |  |    \n",
        "| $\\langle T,V \\rangle$ | $\\{U\\}$ | Chain Rule |    \n",
        "| $\\langle T,Y \\rangle$ | $\\{V\\}$ | Fork Rule |    \n",
        "| $\\langle U,Y \\rangle$ | $\\{V\\}$ | Fork Rule |    \n",
        "\n",
        "___\n",
        "**(TODO)** _(e) Suppose we generate data by the model described in Figure 2.6 and we fit them with the linear equation $Y = a + bX +cZ$. Which of the variables in the model may be chosen for $Z$ so as to guarantee that the slope of $b$ would be equal to zero? [Hint: Recall, a non zero slope implies that $Y$ and $X$ are dependent given $Z$.]_ \n",
        "\n",
        "___\n",
        "**(TODO)**  _(f) Continuing question (e), suppose we fit the data with the equation:_ \n",
        "\n",
        "$$ Y = a + bX + cR + dS + eT + fP $$\n",
        "\n",
        "_which of the coefficients would be zero?_\n",
        "\n",
        "\n",
        "\n"
      ],
      "metadata": {
        "id": "xqz3FzIr2Di7"
      },
      "id": "xqz3FzIr2Di7"
    },
    {
      "cell_type": "markdown",
      "source": [
        "### **2.4 d-Separation**\n"
      ],
      "metadata": {
        "id": "MmXj1LJfP6WL"
      },
      "id": "MmXj1LJfP6WL"
    },
    {
      "cell_type": "markdown",
      "id": "53dd69f2-212f-4102-8f46-2ec9991b5bb5",
      "metadata": {
        "id": "53dd69f2-212f-4102-8f46-2ec9991b5bb5"
      },
      "source": [
        "\n",
        "### **2.5 Model Testing and Causal Search**\n"
      ]
    }
  ],
  "metadata": {
    "kernelspec": {
      "display_name": "Python 3",
      "language": "python",
      "name": "python3"
    },
    "language_info": {
      "codemirror_mode": {
        "name": "ipython",
        "version": 3
      },
      "file_extension": ".py",
      "mimetype": "text/x-python",
      "name": "python",
      "nbconvert_exporter": "python",
      "pygments_lexer": "ipython3",
      "version": "3.7.4"
    },
    "colab": {
      "name": "Causal Inference in Statistics - Chapter 1.ipynb",
      "provenance": [],
      "toc_visible": true
    }
  },
  "nbformat": 4,
  "nbformat_minor": 5
}