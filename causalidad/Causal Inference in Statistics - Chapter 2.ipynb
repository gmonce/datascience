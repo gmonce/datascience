{
  "cells": [
    {
      "cell_type": "markdown",
      "id": "5ef96776-aadb-489b-8dc8-1d22e9866123",
      "metadata": {
        "id": "5ef96776-aadb-489b-8dc8-1d22e9866123"
      },
      "source": [
        "# Causal Inference in Statistics \n",
        "(Pearl, Glymour, Jewell)\n",
        "\n"
      ]
    },
    {
      "cell_type": "markdown",
      "id": "2ca0a01f-ed05-4ad5-a766-47bb29bb70d7",
      "metadata": {
        "id": "2ca0a01f-ed05-4ad5-a766-47bb29bb70d7"
      },
      "source": [
        "## **Chapter 2 - Graphical Models and Their Applications**"
      ]
    },
    {
      "cell_type": "markdown",
      "source": [
        "**Rule 1 (Conditional  Independence in Chains)**: Two variables, $X$ and $Y$, are conditionally independent given $Z$, if there is only one unidirectional path between $X$ and $Y$ and $Z$ is any set of variables that intercepts that path. \n",
        "\n",
        "**Rule 2 (Conditional Independence in Forks)**: If a variable $X$ is a common cause of variables $Y$ and $Z$, and there is only one path between $Y$ and $Z$, then $Y$ and $Z$ are independent conditional on $X$\n",
        "\n",
        "**Rule 3 (Conditional Independnce in Colliders)**: If a variable $Z$ is the collision node between two variables $X$ and $Y$, and there is only one path between $X$ and $Y$, then $X$ and $Y$ are unconditionally independent but are dependent conditional on $Z$ and any descendant of $Z$. \n",
        "\n",
        "Two nodes $X$ and $Y$ are d-separated if every path between them is _blocked_.  If even one path between $X$ and $Y$ is unblocked, $X$ and $Y$ are d-connected.\n",
        "\n",
        "When we say that a pair of nodes are d-separated, we mean that the variables they represent are definitely independent. \n",
        "\n",
        "**(_d_-separation)** A path is blocked by a set of nodes $Z$ iff\n",
        "\n",
        "1. $p$ contains a chain of nodes $A \\to B \\to C$ or a fork $A \\leftarrow B \\to C$ such tat the middle node $B$ is in $Z$ (i.e. $B$ is conditioned on), or\n",
        "2. $p$ contains a collider $A \\to B \\leftarrow C$ such that the collision node $B$ is not in $Z$, and no descendant of $B$ is in $Z$.\n",
        "\n"
      ],
      "metadata": {
        "id": "uqIbixY0jrUN"
      },
      "id": "uqIbixY0jrUN"
    },
    {
      "cell_type": "markdown",
      "id": "549ba21b-c910-4ea8-a3fb-b90173c00431",
      "metadata": {
        "id": "549ba21b-c910-4ea8-a3fb-b90173c00431"
      },
      "source": [
        "### **2.1 Connecting Models to Data**\n",
        "\n",
        "\n",
        "\n",
        "\n",
        "\n"
      ]
    },
    {
      "cell_type": "markdown",
      "source": [
        "### **2.2 Chains and Forks**\n"
      ],
      "metadata": {
        "id": "bUxufEQRPfoF"
      },
      "id": "bUxufEQRPfoF"
    },
    {
      "cell_type": "markdown",
      "source": [
        "### **2.3 Colliders**\n"
      ],
      "metadata": {
        "id": "5qiuiQS8Ps5J"
      },
      "id": "5qiuiQS8Ps5J"
    },
    {
      "cell_type": "markdown",
      "source": [
        "#### **Study question 2.3.1**\n",
        "_(a) List all pairs of variables in Figure 2.5 that are independent conditional on the set $Z={R,V}$._\n",
        "\n",
        "\n",
        "<img src=\"https://github.com/gmonce/datascience/blob/master/causalidad/img/figure_2_5.png?raw=1\" alt=\"Drawing\" width=\"300\"/>\n",
        "\n",
        "\n",
        "$\\langle X,S \\rangle$  : The $X \\to R \\to S$ chain is the only unidirectional path between  $X$ and  $S$, and  $R \\in Z$ (Rule 1)\n",
        "\n",
        "$\\langle X,T \\rangle$: same case as before\n",
        "\n",
        "$\\langle U,Y \\rangle$: there is only one path between U and Y,  V is a common cause of U and Y, and $V \\in Z$ (Rule 2)\n",
        "\n",
        "$\\langle T,Y \\rangle$: same case as before\n",
        "\n",
        "$\\langle S,U \\rangle$: there is only one path between $S$ and $U$, $Y$ is a collider, and $T \\notin Z$ (Rule 3)\n",
        "\n",
        "All the cases where there are  no chains, no common causes, and they are not conditioned on colliders or descendants of colliders, are independent. For example: $\\langle X,Y \\rangle$\n",
        "___\n",
        "\n",
        "_(b) For each pair of nonadjacent variables in Figure 2.5, give a set of variables that, when conditioned on, renders that pair independent._\n",
        "\n",
        "| Pair of Variables | Conditioned on      | Cause |\n",
        "| :---- | :-------: | :------|\n",
        "| $\\langle X,S \\rangle$ | $\\{R\\}$ | Chain Rule |    \n",
        "| $\\langle X,T \\rangle$ | $\\{R\\}$ | Chain Rule |    \n",
        "| $\\langle X,U \\rangle$ | $∅$ |  |    \n",
        "| $\\langle X,V \\rangle$ | $∅$ |  |    \n",
        "| $\\langle X,Y \\rangle$ | $∅$ |  |    \n",
        "| $\\langle R,T \\rangle$ | $\\{S\\}$ | Chain Rule |    \n",
        "| $\\langle R,U \\rangle$ | $∅$ |  |    \n",
        "| $\\langle R,V \\rangle$ | $∅$ |  |    \n",
        "| $\\langle R,Y \\rangle$ | $∅$ |  |    \n",
        "| $\\langle S,U \\rangle$ | $∅$ | Collider Rule |    \n",
        "| $\\langle S,V \\rangle$ | $∅$ |  |    \n",
        "| $\\langle S,Y \\rangle$ | $∅$ |  |    \n",
        "| $\\langle T,V \\rangle$ | $\\{U\\}$ | Chain Rule |    \n",
        "| $\\langle T,Y \\rangle$ | $\\{V\\}$ | Fork Rule |    \n",
        "| $\\langle U,Y \\rangle$ | $\\{V\\}$ | Fork Rule |    \n",
        "\n",
        "___\n",
        "\n",
        "_(c) List all pairs of variables in Figure 2.6 that are independent conditional on the set $Z= \\{R,P\\}$._\n",
        "\n",
        "<img src=\"https://github.com/gmonce/datascience/blob/master/causalidad/img/figure_2_6.png?raw=1\" alt=\"Drawing\" width=\"200\"/>\n",
        "\n",
        "\n",
        "$\\langle X,S \\rangle$  : The $X \\to R \\to S$ chain is the only unidirectional path between  $X$ and  $S$, and  $R \\in Z$ (Rule 1)\n",
        "\n",
        "$\\langle X,T \\rangle$: same case as before\n",
        "\n",
        "$\\langle X,P \\rangle$: same case as before\n",
        "\n",
        "$\\langle U,Y \\rangle$: there is only one path between U and Y,  V is a common cause of U and Y, and $V \\in Z$ (Rule 2)\n",
        "\n",
        "$\\langle T,Y \\rangle$: same case as before\n",
        "\n",
        "All the cases where there are  no chains, no common causes, and they are not conditioned on colliders or descendants of colliders, are independent. For example: $\\langle X,Y \\rangle$\n",
        "___\n",
        "\n",
        "_(d) For each pair of nonadjacent variables in Figure 2.6, give a set of variables taht, when conditioned on, renders that pair independent_ \n",
        "\n",
        "| Pair of Variables | Conditioned on      | Cause |\n",
        "| :---- | :-------: | :------|\n",
        "| $\\langle X,S \\rangle$ | $\\{R\\}$ | Chain Rule |    \n",
        "| $\\langle X,T \\rangle$ | $\\{R\\}$ | Chain Rule |    \n",
        "| $\\langle X,U \\rangle$ | $∅$ |  |    \n",
        "| $\\langle X,V \\rangle$ | $∅$ |  |    \n",
        "| $\\langle X,Y \\rangle$ | $∅$ |  |    \n",
        "| $\\langle X,P \\rangle$ | $\\{R\\}$ | Chain Rule |    \n",
        "| $\\langle R,T \\rangle$ | $\\{S\\}$ | Chain Rule |    \n",
        "| $\\langle R,P \\rangle$ | $\\{S\\}$ | Chain Rule |    \n",
        "| $\\langle R,U \\rangle$ | $∅$ |  |    \n",
        "| $\\langle R,V \\rangle$ | $∅$ |  |    \n",
        "| $\\langle R,Y \\rangle$ | $∅$ |  |    \n",
        "| $\\langle S,U \\rangle$ | $∅$ | Collider Rule |    \n",
        "| $\\langle S,P \\rangle$ | $\\{T\\}$ | Chain Rule |    \n",
        "| $\\langle S,V \\rangle$ | $∅$ |  |    \n",
        "| $\\langle S,Y \\rangle$ | $∅$ |  |    \n",
        "| $\\langle P,U \\rangle$ | $\\{T\\}$ | Chain Rule |    \n",
        "| $\\langle P,V \\rangle$ | $\\{T\\}$ | Chain Rule |    \n",
        "| $\\langle P,Y \\rangle$ | $∅$ |  |    \n",
        "| $\\langle T,V \\rangle$ | $\\{U\\}$ | Chain Rule |    \n",
        "| $\\langle T,Y \\rangle$ | $\\{V\\}$ | Fork Rule |    \n",
        "| $\\langle U,Y \\rangle$ | $\\{V\\}$ | Fork Rule |    \n",
        "\n",
        "___\n",
        "_(e) Suppose we generate data by the model described in Figure 2.6 and we fit them with the linear equation $Y = a + bX +cZ$. Which of the variables in the model may be chosen for $Z$ so as to guarantee that the slope of $b$ would be equal to zero? [Hint: Recall, a non zero slope implies that $Y$ and $X$ are dependent given $Z$.]_ \n",
        "\n",
        "If $b = 0$ then $Y$ is indepdendent of $X$ given $Z$. So, we have\n",
        "\n",
        "| Z | Y indep of X?       | Cause |\n",
        "| :---- | :-------: | :------|\n",
        "| $R$ | Yes | Chain Rule |\n",
        "| $S$ | Yes | Chain Rule |\n",
        "| $T$ | No | Cond. on collider |\n",
        "| $P$ | No | Cond. on desc. of collider |\n",
        "| $U$ | Yes | Chain Rule |\n",
        "| $V$ | Yes | Fork rule |\n",
        "\n",
        "___\n",
        "_(f) Continuing question (e), suppose we fit the data with the equation:_ \n",
        "\n",
        "$$ Y = a + bX + cR + dS + eT + fP $$\n",
        "\n",
        "_which of the coefficients would be zero?_\n",
        "\n",
        "\n",
        "If $b = 0$, then $Y \\perp \\!\\!\\! \\perp X$ given $R,S,T,P$\n",
        "(Yes: Chain rule)\n",
        "\n",
        "If $c = 0$, then $Y \\perp \\!\\!\\! \\perp R$ given $S,T,P$\n",
        "(Yes: Chain rule)\n",
        "\n",
        "If $d = 0$, then $Y \\perp \\!\\!\\! \\perp S$ given $T,P$\n",
        "(No: Collider rule)\n",
        "\n",
        "If $e = 0$, then $Y \\perp \\!\\!\\! \\perp T$ given $S,P$\n",
        "(No: Collider rule)\n",
        "\n",
        "If $f = 0$, then $Y \\perp \\!\\!\\! \\perp P$ given $S,T$\n",
        "(Yes: Chain rule)\n",
        "\n",
        "\n",
        "\n"
      ],
      "metadata": {
        "id": "xqz3FzIr2Di7"
      },
      "id": "xqz3FzIr2Di7"
    },
    {
      "cell_type": "markdown",
      "source": [
        "### **2.4 d-Separation**\n"
      ],
      "metadata": {
        "id": "MmXj1LJfP6WL"
      },
      "id": "MmXj1LJfP6WL"
    },
    {
      "cell_type": "markdown",
      "source": [
        "#### **Study question 2.4.1**\n",
        "\n",
        "_Figure 2.9 below represents a causal graph from which the error terms have been deleted. Assume that all those errors are mutually independent._\n",
        "\n",
        "_(a) For each pair of nonadjacent nodes in this graph, find a set of variables that d-separates that pair. What do this list tell us about independencies in the data?_\n",
        "\n",
        "<img src=\"https://github.com/gmonce/datascience/blob/master/causalidad/img/figure_2_9.png?raw=1\" alt=\"Drawing\" width=\"200\"/>\n",
        "\n",
        "\n",
        "| Pair of Variables | Conditioned on      | Explanation |\n",
        "| :---- | :-------: | :------------------| \n",
        "| $\\langle Z_1,Z_2 \\rangle$ | $∅$ | Every path contains a collider |    \n",
        "| $\\langle Z_1,W \\rangle$ | $\\{X\\}$ | We need to block $Z_1 → X → W$ and $Z_1 → Z_3 → X → W$, every other path contains colliders not conditioned on     \n",
        "| $\\langle Z_1,Y \\rangle$ | $\\{X,Z_3,Z_2\\}$ | Block $Z_1 → X → W →Y$ cond on $X$, block $Z_1 → X ← Z_3 → Y$  cond on $Z_3$, etc.\n",
        "| $\\langle Z_2,X \\rangle$ | $\\{Z_3,Z_1\\}$ |    \n",
        "| $\\langle Z_2,W \\rangle$ | $\\{X\\}$ |  |    \n",
        "| $\\langle Z_3,W \\rangle$ | $\\{X\\}$ |  |    \n",
        "| $\\langle X,Y \\rangle$ | $\\{W,Z_3,Z_2\\}$ |  |    \n",
        "\n",
        "___\n",
        "_(b) Repeat question (a) assuming that only variables in the set $\\{Z_3,W,X,Z_1\\}$ can be measured_ \n",
        "\n",
        "| Pair of Variables | Conditioned on      | \n",
        "| :---- | :------- | \n",
        "| $\\langle Z_1,Z_2 \\rangle$ | $∅$ |    \n",
        "| $\\langle Z_1,W \\rangle$ | $\\{X\\}$ |    \n",
        "| $\\langle Z_1,Y \\rangle$ | Not possible.|    \n",
        "| $\\langle Z_2,X \\rangle$ | $\\{Z_3,Z_1\\}$ |    \n",
        "| $\\langle Z_2,W \\rangle$ | $\\{X\\}$ |  |    \n",
        "| $\\langle Z_3,W \\rangle$ | $\\{X\\}$ |  |    \n",
        "| $\\langle X,Y \\rangle$ | $\\{W,Z_1,Z_3\\}$ |  |  \n",
        "\n",
        "____\n",
        "\n",
        "_(c) For each pair of nonadjacent nodes in the graph, determine whether they are independent conditional on all other variables in the graph_ \n",
        "\n",
        "| Pair of Variables | Independent?     |         Unblocked path for | \n",
        "| :---------------- | :------- | :-------------------- |\n",
        "| $\\langle Z_1,Z_2 \\rangle$ | No|   $Z_1 \\to Z_3 \\leftarrow Z_2$ |\n",
        "| $\\langle Z_1,W \\rangle$ |   Yes |   |\n",
        "| $\\langle Z_1,Y \\rangle$ |   Yes |   |\n",
        "| $\\langle Z_2,X \\rangle$ |   Yes |   |\n",
        "| $\\langle Z_2,W \\rangle$ |   No | $Z_2 \\to Y \\leftarrow W$ |    \n",
        "| $\\langle Z_3,W \\rangle$ |   No | $Z_3 \\to Y \\leftarrow W$ |    \n",
        "| $\\langle X,Y \\rangle$   |   Yes |  |  \n",
        "\n",
        "____\n",
        "\n",
        "_(d) For every variable $V$ in the graph, find a minimal set of nodes that renders $V$ independent of all the other variables in the graph_\n",
        "\n",
        "| Variable          | Set    of variables that renders $V$ independent                 |\n",
        "| :---------------- | :--------------------- :| \n",
        "| $Z_1$ | $\\{X,Z_2,Z_3\\}$ |\n",
        "| $Z_2$ |   Not possible.  If we block $ Z_2 → Z_3 → X$ cond on $Z_3$, then the path $Z_2 → Z_3 → Z_1$ gets unblocked   |\n",
        "| $Z_3$ |   $\\{X\\}$  |\n",
        "| $X$ |   $\\{W,Z_2,Z_1\\}$|\n",
        "| $W$ |   $\\{X\\}$ |    \n",
        "| $Y$ |   $\\{W,Z_2,Z_3\\}$ |    \n",
        "\n",
        "____\n",
        "_(e) Suppose we wish to estimate the value of $Y$ from measurements taken on all other variables in the model. Find the smallest set of variables that would yield as good an estimate of $Y$ as when measured all variables_\n",
        "\n",
        "From _(d)_ we know that the set $\\{W,Z_2,Z_3\\}$ renders $Y$ independent of all the other variables in the graph. From this, estimating $Y$ based on this set yields as good an estimate as when measured all variables in the graph.\n",
        "___\n",
        "\n",
        "_(f) Repeat question (e) assuming that we wish to estimate the value of $Z_2$._\n",
        "\n",
        "It is not possible.\n",
        "\n",
        "____\n",
        "_(g) Suppose we wish to predict the value of $Z_2$ from measurements of $Z_3$. Would the quality of our prediction improve if we add measurement of $W$? Explain._\n",
        "\n",
        "Suppose we have $Z_2 = aZ_3 + cW + b$. We want to know if $c \\neq 0$, i.e. if $Z_2$ is dependent of $W$ given $Z_3$. This is equivalent to say that $Z_2$ and $W$ are d-connected in the graph.\n",
        "\n",
        "If we condition on $Z_3$ every path is blocked... except for the path $Z_2 → Z_3 → Z_1 → X → W$, wich is not blocked, since we are only conditioning on a collider ($Z_3$). So, $Z_2$ and $W$ are d-connected, and so they are most likely dependent given $Z_3$. So, the quality  of our prediction will actually improve if we add measurement of $W$.  \n",
        "\n",
        "\n",
        "\n",
        "\n",
        "\n",
        "\n"
      ],
      "metadata": {
        "id": "7aicjL1wwcc3"
      },
      "id": "7aicjL1wwcc3"
    },
    {
      "cell_type": "markdown",
      "id": "53dd69f2-212f-4102-8f46-2ec9991b5bb5",
      "metadata": {
        "id": "53dd69f2-212f-4102-8f46-2ec9991b5bb5"
      },
      "source": [
        "\n",
        "### **2.5 Model Testing and Causal Search**\n"
      ]
    }
  ],
  "metadata": {
    "kernelspec": {
      "display_name": "Python 3",
      "language": "python",
      "name": "python3"
    },
    "language_info": {
      "codemirror_mode": {
        "name": "ipython",
        "version": 3
      },
      "file_extension": ".py",
      "mimetype": "text/x-python",
      "name": "python",
      "nbconvert_exporter": "python",
      "pygments_lexer": "ipython3",
      "version": "3.7.4"
    },
    "colab": {
      "name": "Causal Inference in Statistics - Chapter 1.ipynb",
      "provenance": [],
      "toc_visible": true
    }
  },
  "nbformat": 4,
  "nbformat_minor": 5
}