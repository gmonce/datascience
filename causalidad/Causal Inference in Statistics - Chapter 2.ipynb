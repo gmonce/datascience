{
  "cells": [
    {
      "cell_type": "markdown",
      "id": "5ef96776-aadb-489b-8dc8-1d22e9866123",
      "metadata": {
        "id": "5ef96776-aadb-489b-8dc8-1d22e9866123"
      },
      "source": [
        "# Causal Inference in Statistics \n",
        "(Pearl, Glymour, Jewell)\n",
        "\n"
      ]
    },
    {
      "cell_type": "markdown",
      "id": "2ca0a01f-ed05-4ad5-a766-47bb29bb70d7",
      "metadata": {
        "id": "2ca0a01f-ed05-4ad5-a766-47bb29bb70d7"
      },
      "source": [
        "## **Chapter 2 - Graphical Models and Their Applications**"
      ]
    },
    {
      "cell_type": "markdown",
      "id": "549ba21b-c910-4ea8-a3fb-b90173c00431",
      "metadata": {
        "id": "549ba21b-c910-4ea8-a3fb-b90173c00431"
      },
      "source": [
        "### **2.1 Connecting Models to Data**\n",
        "\n",
        "\n",
        "\n",
        "\n",
        "\n"
      ]
    },
    {
      "cell_type": "markdown",
      "source": [
        "### **2.2 Chains and Forks**\n"
      ],
      "metadata": {
        "id": "bUxufEQRPfoF"
      },
      "id": "bUxufEQRPfoF"
    },
    {
      "cell_type": "markdown",
      "source": [
        "### **2.3 Colliders**\n"
      ],
      "metadata": {
        "id": "5qiuiQS8Ps5J"
      },
      "id": "5qiuiQS8Ps5J"
    },
    {
      "cell_type": "markdown",
      "source": [
        "#### **Study question 2.3.1**\n",
        "_(a) List all pairs of variables in Figure 2.5 that are independent conditional on the set $Z={R,V}$.\n",
        "\n",
        "\n",
        "<img src=\"https://github.com/gmonce/datascience/blob/master/causalidad/img/figure_2_5.png?raw=1\" alt=\"Drawing\" width=\"300\"/>\n",
        "\n",
        "\n",
        "$\\langle X,S \\rangle$  : The $X \\to R \\to S$ chain is the only unidirectional path between  $X$ and  $S$, and  $R \\in Z$ (Rule 1)\n",
        "\n",
        "$\\langle X,T \\rangle$: same case as before\n",
        "\n",
        "$\\langle U,Y \\rangle$: there is only one path between U and Y,  V is a common cause of U and Y, and $V \\in Z$ (Rule 2)\n",
        "\n",
        "$\\langle T,Y \\rangle$: same case as before\n",
        "\n",
        "$\\langle S,U \\rangle$: there is only one path between $S$ and $U$, $Y$ is a collider, and $T \\notin Z$ (Rule 3)\n",
        "\n",
        "All the cases where there are  no chains, no common causes, and they are not conditioned on colliders or descendants of colliders, are independent. For example: $\\langle X,Y \\rangle$\n",
        "___\n",
        "\n",
        "_(b) For each pair of nonadjacent variables in Figure 2.5, give a set of variables that, when conditioned on, renders that pair independent._\n",
        "\n",
        "| Pair of Variables | Conditioned on      | Cause |\n",
        "| :---- | :-------: | :------|\n",
        "| $\\langle X,S \\rangle$ | $\\{R\\}$ | Chain Rule |    \n",
        "| $\\langle X,T \\rangle$ | $\\{R\\}$ | Chain Rule |    \n",
        "| $\\langle X,U \\rangle$ | $∅$ | Collider Rule |    \n",
        "\n"
      ],
      "metadata": {
        "id": "xqz3FzIr2Di7"
      },
      "id": "xqz3FzIr2Di7"
    },
    {
      "cell_type": "markdown",
      "source": [
        "### **2.4 d-Separation**\n"
      ],
      "metadata": {
        "id": "MmXj1LJfP6WL"
      },
      "id": "MmXj1LJfP6WL"
    },
    {
      "cell_type": "markdown",
      "id": "53dd69f2-212f-4102-8f46-2ec9991b5bb5",
      "metadata": {
        "id": "53dd69f2-212f-4102-8f46-2ec9991b5bb5"
      },
      "source": [
        "\n",
        "### **2.5 Model Testing and Causal Search**\n"
      ]
    }
  ],
  "metadata": {
    "kernelspec": {
      "display_name": "Python 3",
      "language": "python",
      "name": "python3"
    },
    "language_info": {
      "codemirror_mode": {
        "name": "ipython",
        "version": 3
      },
      "file_extension": ".py",
      "mimetype": "text/x-python",
      "name": "python",
      "nbconvert_exporter": "python",
      "pygments_lexer": "ipython3",
      "version": "3.7.4"
    },
    "colab": {
      "name": "Causal Inference in Statistics - Chapter 1.ipynb",
      "provenance": [],
      "toc_visible": true
    }
  },
  "nbformat": 4,
  "nbformat_minor": 5
}