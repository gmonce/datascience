{
  "cells": [
    {
      "cell_type": "markdown",
      "id": "5ef96776-aadb-489b-8dc8-1d22e9866123",
      "metadata": {
        "id": "5ef96776-aadb-489b-8dc8-1d22e9866123"
      },
      "source": [
        "# Causal Inference in Statistics \n",
        "(Pearl, Glymour, Jewell)\n",
        "\n"
      ]
    },
    {
      "cell_type": "markdown",
      "id": "2ca0a01f-ed05-4ad5-a766-47bb29bb70d7",
      "metadata": {
        "id": "2ca0a01f-ed05-4ad5-a766-47bb29bb70d7"
      },
      "source": [
        "## **Chapter 2 - Graphical Models and Their Applications**"
      ]
    },
    {
      "cell_type": "markdown",
      "id": "549ba21b-c910-4ea8-a3fb-b90173c00431",
      "metadata": {
        "id": "549ba21b-c910-4ea8-a3fb-b90173c00431"
      },
      "source": [
        "### **2.1 Connecting Models to Data**\n",
        "\n",
        "\n"
      ]
    },
    {
      "cell_type": "markdown",
      "source": [
        "### **2.2 Chains and Forks**\n"
      ],
      "metadata": {
        "id": "bUxufEQRPfoF"
      },
      "id": "bUxufEQRPfoF"
    },
    {
      "cell_type": "markdown",
      "source": [
        "### **2.3 Colliders**\n"
      ],
      "metadata": {
        "id": "5qiuiQS8Ps5J"
      },
      "id": "5qiuiQS8Ps5J"
    },
    {
      "cell_type": "markdown",
      "source": [
        "### **2.4 d-Separation**\n"
      ],
      "metadata": {
        "id": "MmXj1LJfP6WL"
      },
      "id": "MmXj1LJfP6WL"
    },
    {
      "cell_type": "markdown",
      "id": "53dd69f2-212f-4102-8f46-2ec9991b5bb5",
      "metadata": {
        "id": "53dd69f2-212f-4102-8f46-2ec9991b5bb5"
      },
      "source": [
        "\n",
        "### **2.5 Model Testing and Causal Search**\n"
      ]
    }
  ],
  "metadata": {
    "kernelspec": {
      "display_name": "Python 3",
      "language": "python",
      "name": "python3"
    },
    "language_info": {
      "codemirror_mode": {
        "name": "ipython",
        "version": 3
      },
      "file_extension": ".py",
      "mimetype": "text/x-python",
      "name": "python",
      "nbconvert_exporter": "python",
      "pygments_lexer": "ipython3",
      "version": "3.7.4"
    },
    "colab": {
      "name": "Causal Inference in Statistics - Chapter 1.ipynb",
      "provenance": [],
      "toc_visible": true
    }
  },
  "nbformat": 4,
  "nbformat_minor": 5
}